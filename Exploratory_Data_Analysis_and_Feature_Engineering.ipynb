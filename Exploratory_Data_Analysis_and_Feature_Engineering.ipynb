{
  "nbformat": 4,
  "nbformat_minor": 0,
  "metadata": {
    "colab": {
      "name": "Exploratory Data Analysis and Feature Engineering",
      "provenance": [],
      "collapsed_sections": []
    },
    "kernelspec": {
      "name": "python3",
      "display_name": "Python 3"
    }
  },
  "cells": [
    {
      "cell_type": "code",
      "metadata": {
        "id": "w_bacCQtobNb",
        "colab_type": "code",
        "colab": {
          "base_uri": "https://localhost:8080/",
          "height": 659
        },
        "outputId": "f6e12e7b-9b9f-40a3-f979-574376d1662e"
      },
      "source": [
        "!apt-get update\n",
        "!apt-get install openjdk-8-jdk-headless -qq > /dev/null\n",
        "!wget -q http://archive.apache.org/dist/spark/spark-2.3.1/spark-2.3.1-bin-hadoop2.7.tgz\n",
        "!tar xf spark-2.3.1-bin-hadoop2.7.tgz\n",
        "!pip install -q findspark\n",
        "import os\n",
        "os.environ[\"JAVA_HOME\"] = \"/usr/lib/jvm/java-8-openjdk-amd64\"\n",
        "os.environ[\"SPARK_HOME\"] = \"/content/spark-2.3.1-bin-hadoop2.7\"\n",
        "import findspark\n",
        "findspark.init()\n",
        "from pyspark.sql import SparkSession\n",
        "spark=SparkSession.builder.getOrCreate()\n",
        "!wget https://data.cityofchicago.org/api/views/ijzp-q8t2/rows.csv?accessType=DOWNLOAD\n",
        "!mv rows.csv\\?accessType\\=DOWNLOAD reported_crimes.csv\n",
        "import os\n",
        "os.environ[\"JAVA_HOME\"] = \"/usr/lib/jvm/java-8-openjdk-amd64\"\n",
        "os.environ[\"SPARK_HOME\"] = \"/content/spark-2.3.1-bin-hadoop2.7\"\n",
        "import findspark\n",
        "findspark.init()\n"
      ],
      "execution_count": 1,
      "outputs": [
        {
          "output_type": "stream",
          "text": [
            "\r0% [Working]\r            \rIgn:1 https://developer.download.nvidia.com/compute/cuda/repos/ubuntu1804/x86_64  InRelease\n",
            "\r0% [Connecting to archive.ubuntu.com (91.189.88.162)] [Connecting to security.u\r                                                                               \rIgn:2 https://developer.download.nvidia.com/compute/machine-learning/repos/ubuntu1804/x86_64  InRelease\n",
            "\r0% [Connecting to archive.ubuntu.com (91.189.88.162)] [Connecting to security.u\r                                                                               \rHit:3 https://developer.download.nvidia.com/compute/cuda/repos/ubuntu1804/x86_64  Release\n",
            "\r0% [Waiting for headers] [Waiting for headers] [Connected to cloud.r-project.or\r0% [Release.gpg gpgv 564 B] [Waiting for headers] [Waiting for headers] [Waitin\r                                                                               \rHit:4 https://developer.download.nvidia.com/compute/machine-learning/repos/ubuntu1804/x86_64  Release\n",
            "\r0% [Release.gpg gpgv 564 B] [Waiting for headers] [Waiting for headers] [Waitin\r                                                                               \rGet:5 https://cloud.r-project.org/bin/linux/ubuntu bionic-cran35/ InRelease [3,626 B]\n",
            "\r0% [Release.gpg gpgv 564 B] [Waiting for headers] [Waiting for headers] [5 InRe\r0% [Release.gpg gpgv 564 B] [Waiting for headers] [Waiting for headers] [Waitin\r                                                                               \rGet:6 http://security.ubuntu.com/ubuntu bionic-security InRelease [88.7 kB]\n",
            "\r0% [Release.gpg gpgv 564 B] [Waiting for headers] [6 InRelease 14.2 kB/88.7 kB \r                                                                               \rHit:7 http://archive.ubuntu.com/ubuntu bionic InRelease\n",
            "\r0% [Release.gpg gpgv 564 B] [Waiting for headers] [6 InRelease 14.2 kB/88.7 kB \r                                                                               \rGet:8 http://ppa.launchpad.net/graphics-drivers/ppa/ubuntu bionic InRelease [21.3 kB]\n",
            "\r0% [Release.gpg gpgv 564 B] [Waiting for headers] [6 InRelease 14.2 kB/88.7 kB \r                                                                               \rGet:9 http://archive.ubuntu.com/ubuntu bionic-updates InRelease [88.7 kB]\n",
            "\r0% [Release.gpg gpgv 564 B] [9 InRelease 8,396 B/88.7 kB 9%] [6 InRelease 25.8 \r0% [9 InRelease 8,396 B/88.7 kB 9%] [6 InRelease 31.5 kB/88.7 kB 36%] [8 InRele\r0% [9 InRelease 8,396 B/88.7 kB 9%] [6 InRelease 31.5 kB/88.7 kB 36%] [Connecti\r0% [Release.gpg gpgv 564 B] [9 InRelease 8,396 B/88.7 kB 9%] [6 InRelease 31.5 \r0% [9 InRelease 25.8 kB/88.7 kB 29%] [6 InRelease 83.7 kB/88.7 kB 94%] [Waiting\r0% [5 InRelease gpgv 3,626 B] [9 InRelease 25.8 kB/88.7 kB 29%] [6 InRelease 83\r0% [5 InRelease gpgv 3,626 B] [9 InRelease 28.7 kB/88.7 kB 32%] [Waiting for he\r                                                                               \rGet:12 http://ppa.launchpad.net/marutter/c2d4u3.5/ubuntu bionic InRelease [15.4 kB]\n",
            "\r0% [5 InRelease gpgv 3,626 B] [9 InRelease 38.8 kB/88.7 kB 44%] [12 InRelease 1\r                                                                               \r0% [5 InRelease gpgv 3,626 B] [9 InRelease 38.8 kB/88.7 kB 44%]\r                                                               \r0% [9 InRelease 66.3 kB/88.7 kB 75%]\r0% [7 InRelease gpgv 242 kB] [9 InRelease 66.3 kB/88.7 kB 75%] [Waiting for hea\r                                                                               \rGet:13 https://cloud.r-project.org/bin/linux/ubuntu bionic-cran35/ Packages [83.1 kB]\n",
            "\r0% [7 InRelease gpgv 242 kB] [9 InRelease 80.8 kB/88.7 kB 91%] [13 Packages 0 B\r0% [7 InRelease gpgv 242 kB] [Waiting for headers] [13 Packages 16.4 kB/83.1 kB\r                                                                               \r0% [7 InRelease gpgv 242 kB] [Waiting for headers]\r0% [13 Packages store 0 B] [7 InRelease gpgv 242 kB] [Waiting for headers]\r                                                                          \r0% [7 InRelease gpgv 242 kB] [Waiting for headers]\r                                                  \rGet:14 http://archive.ubuntu.com/ubuntu bionic-backports InRelease [74.6 kB]\n",
            "\r0% [7 InRelease gpgv 242 kB] [14 InRelease 2,604 B/74.6 kB 3%]\r                                                              \r0% [14 InRelease 22.9 kB/74.6 kB 31%]\r0% [8 InRelease gpgv 21.3 kB] [14 InRelease 25.8 kB/74.6 kB 35%]\r                                                                \r0% [8 InRelease gpgv 21.3 kB]\r                             \r0% [Working]\r0% [6 InRelease gpgv 88.7 kB] [Connecting to ppa.launchpad.net (91.189.95.83)]\r                                                                              \r0% [Waiting for headers]\r0% [12 InRelease gpgv 15.4 kB] [Waiting for headers] [Waiting for headers]\r                                                                          \rGet:15 http://ppa.launchpad.net/graphics-drivers/ppa/ubuntu bionic/main amd64 Packages [36.9 kB]\n",
            "\r0% [12 InRelease gpgv 15.4 kB] [Waiting for headers] [15 Packages 14.3 kB/36.9 \r                                                                               \rGet:16 http://security.ubuntu.com/ubuntu bionic-security/restricted amd64 Packages [27.5 kB]\n",
            "\r0% [12 InRelease gpgv 15.4 kB] [16 Packages 2,689 B/27.5 kB 10%] [15 Packages 1\r                                                                               \r0% [12 InRelease gpgv 15.4 kB] [15 Packages 14.3 kB/36.9 kB 39%]\r0% [16 Packages store 0 B] [12 InRelease gpgv 15.4 kB] [Waiting for headers] [1\r0% [12 InRelease gpgv 15.4 kB] [Waiting for headers] [15 Packages 14.3 kB/36.9 \r                                                                               \r0% [Waiting for headers] [15 Packages 14.3 kB/36.9 kB 39%]\r0% [9 InRelease gpgv 88.7 kB] [Waiting for headers] [15 Packages 14.3 kB/36.9 k\r                                                                               \r0% [9 InRelease gpgv 88.7 kB] [Waiting for headers]\r0% [15 Packages store 0 B] [9 InRelease gpgv 88.7 kB] [Waiting for headers] [Co\r                                                                               \rGet:17 http://security.ubuntu.com/ubuntu bionic-security/main amd64 Packages [817 kB]\n",
            "\r0% [15 Packages store 0 B] [9 InRelease gpgv 88.7 kB] [17 Packages 14.1 kB/817 \r0% [9 InRelease gpgv 88.7 kB] [17 Packages 14.3 kB/817 kB 2%] [Connecting to pp\r0% [17 Packages 79.4 kB/817 kB 10%] [Connecting to ppa.launchpad.net (91.189.95\r0% [14 InRelease gpgv 74.6 kB] [17 Packages 81.9 kB/817 kB 10%] [Connecting to \r                                                                               \rGet:18 http://archive.ubuntu.com/ubuntu bionic-updates/main amd64 Packages [1,104 kB]\n",
            "Get:19 http://ppa.launchpad.net/marutter/c2d4u3.5/ubuntu bionic/main Sources [1,765 kB]\n",
            "Get:20 http://security.ubuntu.com/ubuntu bionic-security/multiverse amd64 Packages [7,064 B]\n",
            "Get:21 http://security.ubuntu.com/ubuntu bionic-security/universe amd64 Packages [817 kB]\n",
            "Get:22 http://archive.ubuntu.com/ubuntu bionic-updates/universe amd64 Packages [1,344 kB]\n",
            "Get:23 http://archive.ubuntu.com/ubuntu bionic-updates/restricted amd64 Packages [41.2 kB]\n",
            "Get:24 http://archive.ubuntu.com/ubuntu bionic-updates/multiverse amd64 Packages [11.1 kB]\n",
            "Get:25 http://archive.ubuntu.com/ubuntu bionic-backports/universe amd64 Packages [4,252 B]\n",
            "Get:26 http://ppa.launchpad.net/marutter/c2d4u3.5/ubuntu bionic/main amd64 Packages [852 kB]\n",
            "Fetched 7,202 kB in 4s (1,639 kB/s)\n",
            "Reading package lists... Done\n",
            "--2020-02-12 04:31:59--  https://data.cityofchicago.org/api/views/ijzp-q8t2/rows.csv?accessType=DOWNLOAD\n",
            "Resolving data.cityofchicago.org (data.cityofchicago.org)... 52.206.140.205, 52.206.140.199, 52.206.68.26\n",
            "Connecting to data.cityofchicago.org (data.cityofchicago.org)|52.206.140.205|:443... connected.\n",
            "HTTP request sent, awaiting response... 200 OK\n",
            "Length: unspecified [text/csv]\n",
            "Saving to: ‘rows.csv?accessType=DOWNLOAD’\n",
            "\n",
            "rows.csv?accessType     [          <=>       ]   1.55G  3.23MB/s    in 8m 32s  \n",
            "\n",
            "2020-02-12 04:40:31 (3.11 MB/s) - ‘rows.csv?accessType=DOWNLOAD’ saved [1666293473]\n",
            "\n"
          ],
          "name": "stdout"
        }
      ]
    },
    {
      "cell_type": "code",
      "metadata": {
        "id": "OCCaIxOGqhB-",
        "colab_type": "code",
        "colab": {
          "base_uri": "https://localhost:8080/",
          "height": 159
        },
        "outputId": "2b02552b-471c-4bd8-8180-8ade3d9e56e5"
      },
      "source": [
        "df=spark.read.csv('reported_crimes.csv',header=True)\n",
        "df.show(1,truncate=False)"
      ],
      "execution_count": 4,
      "outputs": [
        {
          "output_type": "stream",
          "text": [
            "+--------+-----------+----------------------+---------------+----+------------------+-----------------------------------+--------------------+------+--------+----+--------+----+--------------+--------+------------+------------+----+----------------------+--------+---------+--------+\n",
            "|ID      |Case Number|Date                  |Block          |IUCR|Primary Type      |Description                        |Location Description|Arrest|Domestic|Beat|District|Ward|Community Area|FBI Code|X Coordinate|Y Coordinate|Year|Updated On            |Latitude|Longitude|Location|\n",
            "+--------+-----------+----------------------+---------------+----+------------------+-----------------------------------+--------------------+------+--------+----+--------+----+--------------+--------+------------+------------+----+----------------------+--------+---------+--------+\n",
            "|11034701|JA366925   |01/01/2001 11:00:00 AM|016XX E 86TH PL|1153|DECEPTIVE PRACTICE|FINANCIAL IDENTITY THEFT OVER $ 300|RESIDENCE           |false |false   |0412|004     |8   |45            |11      |null        |null        |2001|08/05/2017 03:50:08 PM|null    |null     |null    |\n",
            "+--------+-----------+----------------------+---------------+----+------------------+-----------------------------------+--------------------+------+--------+----+--------+----+--------------+--------+------------+------------+----+----------------------+--------+---------+--------+\n",
            "only showing top 1 row\n",
            "\n"
          ],
          "name": "stdout"
        }
      ]
    },
    {
      "cell_type": "code",
      "metadata": {
        "id": "NNQmASCjre9g",
        "colab_type": "code",
        "colab": {}
      },
      "source": [
        "import pyspark.sql.functions as F\n",
        "from pyspark.sql.types import *\n",
        "df=df.withColumn('Date',F.to_date('Date',format='MM/dd/yyyy hh:mm:ss a'))"
      ],
      "execution_count": 0,
      "outputs": []
    },
    {
      "cell_type": "code",
      "metadata": {
        "id": "EWoxiMQXtMKa",
        "colab_type": "code",
        "colab": {
          "base_uri": "https://localhost:8080/",
          "height": 176
        },
        "outputId": "4fbc5206-a7fb-4345-a68b-a02fa6e85523"
      },
      "source": [
        "df.show(2)"
      ],
      "execution_count": 6,
      "outputs": [
        {
          "output_type": "stream",
          "text": [
            "+--------+-----------+----------+------------------+----+-------------------+--------------------+--------------------+------+--------+----+--------+----+--------------+--------+------------+------------+----+--------------------+--------+---------+--------+\n",
            "|      ID|Case Number|      Date|             Block|IUCR|       Primary Type|         Description|Location Description|Arrest|Domestic|Beat|District|Ward|Community Area|FBI Code|X Coordinate|Y Coordinate|Year|          Updated On|Latitude|Longitude|Location|\n",
            "+--------+-----------+----------+------------------+----+-------------------+--------------------+--------------------+------+--------+----+--------+----+--------------+--------+------------+------------+----+--------------------+--------+---------+--------+\n",
            "|11034701|   JA366925|2001-01-01|   016XX E 86TH PL|1153| DECEPTIVE PRACTICE|FINANCIAL IDENTIT...|           RESIDENCE| false|   false|0412|     004|   8|            45|      11|        null|        null|2001|08/05/2017 03:50:...|    null|     null|    null|\n",
            "|11227287|   JB147188|2017-10-08|092XX S RACINE AVE|0281|CRIM SEXUAL ASSAULT|      NON-AGGRAVATED|           RESIDENCE| false|   false|2222|     022|  21|            73|      02|        null|        null|2017|02/11/2018 03:57:...|    null|     null|    null|\n",
            "+--------+-----------+----------+------------------+----+-------------------+--------------------+--------------------+------+--------+----+--------+----+--------------+--------+------------+------------+----+--------------------+--------+---------+--------+\n",
            "only showing top 2 rows\n",
            "\n"
          ],
          "name": "stdout"
        }
      ]
    },
    {
      "cell_type": "code",
      "metadata": {
        "id": "xIhv-nWJtNX6",
        "colab_type": "code",
        "colab": {}
      },
      "source": [
        "df=df.drop('Case Number')"
      ],
      "execution_count": 0,
      "outputs": []
    },
    {
      "cell_type": "code",
      "metadata": {
        "id": "24h8WlLAu2Fj",
        "colab_type": "code",
        "colab": {
          "base_uri": "https://localhost:8080/",
          "height": 159
        },
        "outputId": "c01c4ccc-ae3f-46ba-ff20-7a444bc5a80f"
      },
      "source": [
        "df.show(1)"
      ],
      "execution_count": 9,
      "outputs": [
        {
          "output_type": "stream",
          "text": [
            "+--------+----------+---------------+----+------------------+--------------------+--------------------+------+--------+----+--------+----+--------------+--------+------------+------------+----+--------------------+--------+---------+--------+\n",
            "|      ID|      Date|          Block|IUCR|      Primary Type|         Description|Location Description|Arrest|Domestic|Beat|District|Ward|Community Area|FBI Code|X Coordinate|Y Coordinate|Year|          Updated On|Latitude|Longitude|Location|\n",
            "+--------+----------+---------------+----+------------------+--------------------+--------------------+------+--------+----+--------+----+--------------+--------+------------+------------+----+--------------------+--------+---------+--------+\n",
            "|11034701|2001-01-01|016XX E 86TH PL|1153|DECEPTIVE PRACTICE|FINANCIAL IDENTIT...|           RESIDENCE| false|   false|0412|     004|   8|            45|      11|        null|        null|2001|08/05/2017 03:50:...|    null|     null|    null|\n",
            "+--------+----------+---------------+----+------------------+--------------------+--------------------+------+--------+----+--------+----+--------------+--------+------------+------------+----+--------------------+--------+---------+--------+\n",
            "only showing top 1 row\n",
            "\n"
          ],
          "name": "stdout"
        }
      ]
    },
    {
      "cell_type": "code",
      "metadata": {
        "id": "XaJfJMhzu3cC",
        "colab_type": "code",
        "colab": {}
      },
      "source": [
        "def renameCol(df,someCol):\n",
        "  if ' ' in someCol:\n",
        "    words=[l.lower() for l in someCol.split(' ')]\n",
        "    newCol='_'.join(words)\n",
        "    \n",
        "  else:\n",
        "    return someCol.lower()\n"
      ],
      "execution_count": 0,
      "outputs": []
    },
    {
      "cell_type": "code",
      "metadata": {
        "id": "ZW0P77jztF32",
        "colab_type": "code",
        "colab": {}
      },
      "source": [
        "for col in df.columns:\n",
        "  newName=renameCol(col)\n",
        "  df=df.withColumnRenamed(col,newName)"
      ],
      "execution_count": 0,
      "outputs": []
    },
    {
      "cell_type": "code",
      "metadata": {
        "id": "ryxRD0OSxGEP",
        "colab_type": "code",
        "colab": {
          "base_uri": "https://localhost:8080/",
          "height": 488
        },
        "outputId": "2be3bcb3-22f4-4bf6-c2b7-edb37626d7a3"
      },
      "source": [
        "df.show()"
      ],
      "execution_count": 38,
      "outputs": [
        {
          "output_type": "stream",
          "text": [
            "+--------+----------+--------------------+----+--------------------+--------------------+--------------------+------+--------+----+--------+----+--------------+--------+------------+------------+----+--------------------+--------+---------+--------+\n",
            "|      id|      date|               block|iucr|        primary_type|         description|location_description|arrest|domestic|beat|district|ward|community_area|fbi_code|x_coordinate|y_coordinate|year|          updated_on|latitude|longitude|location|\n",
            "+--------+----------+--------------------+----+--------------------+--------------------+--------------------+------+--------+----+--------+----+--------------+--------+------------+------------+----+--------------------+--------+---------+--------+\n",
            "|11034701|2001-01-01|     016XX E 86TH PL|1153|  DECEPTIVE PRACTICE|FINANCIAL IDENTIT...|           RESIDENCE| false|   false|0412|     004|   8|            45|      11|        null|        null|2001|08/05/2017 03:50:...|    null|     null|    null|\n",
            "|11227287|2017-10-08|  092XX S RACINE AVE|0281| CRIM SEXUAL ASSAULT|      NON-AGGRAVATED|           RESIDENCE| false|   false|2222|     022|  21|            73|      02|        null|        null|2017|02/11/2018 03:57:...|    null|     null|    null|\n",
            "|11227583|2017-03-28|     026XX W 79TH ST|0620|            BURGLARY|      UNLAWFUL ENTRY|               OTHER| false|   false|0835|     008|  18|            70|      05|        null|        null|2017|02/11/2018 03:57:...|    null|     null|    null|\n",
            "|11227293|2017-09-09|060XX S EBERHART AVE|0810|               THEFT|           OVER $500|           RESIDENCE| false|   false|0313|     003|  20|            42|      06|        null|        null|2017|02/11/2018 03:57:...|    null|     null|    null|\n",
            "|11227634|2017-08-26| 001XX W RANDOLPH ST|0281| CRIM SEXUAL ASSAULT|      NON-AGGRAVATED|         HOTEL/MOTEL| false|   false|0122|     001|  42|            32|      02|        null|        null|2017|02/11/2018 03:57:...|    null|     null|    null|\n",
            "|11227517|2013-02-10|071XX S LAFAYETTE...|0266| CRIM SEXUAL ASSAULT|           PREDATORY|           RESIDENCE| false|   false|0731|     007|   6|            69|      02|        null|        null|2013|02/11/2018 03:57:...|    null|     null|    null|\n",
            "|11227503|2015-01-01|061XX S KILBOURN AVE|1751|OFFENSE INVOLVING...|CRIM SEX ABUSE BY...|           RESIDENCE| false|    true|0813|     008|  13|            65|      17|        null|        null|2015|04/12/2019 04:00:...|    null|     null|    null|\n",
            "|11227508|2017-01-01|  027XX S WHIPPLE ST|1754|OFFENSE INVOLVING...|AGG SEX ASSLT OF ...|           RESIDENCE| false|   false|1033|     010|  12|            30|      02|        null|        null|2017|02/11/2018 03:57:...|    null|     null|    null|\n",
            "|11022695|2017-07-17| 021XX W MC LEAN AVE|0810|               THEFT|           OVER $500|           RESIDENCE| false|   false|1432|     014|  32|            22|      06|        null|        null|2017|07/24/2017 03:54:...|    null|     null|    null|\n",
            "|11227633|2017-12-28|011XX S MICHIGAN AVE|1153|  DECEPTIVE PRACTICE|FINANCIAL IDENTIT...|                null| false|   false|0123|     001|   2|            32|      11|        null|        null|2017|02/11/2018 03:57:...|    null|     null|    null|\n",
            "|11227586|2017-02-10|089XX S COTTAGE G...|1310|     CRIMINAL DAMAGE|         TO PROPERTY|           APARTMENT| false|   false|0633|     006|   8|            44|      14|        null|        null|2017|02/11/2018 03:57:...|    null|     null|    null|\n",
            "|11227475|2017-11-22|056XX N CHRISTIAN...|2826|       OTHER OFFENSE|HARASSMENT BY ELE...|           APARTMENT| false|    true|1711|     017|  39|            13|      26|        null|        null|2017|02/11/2018 03:57:...|    null|     null|    null|\n",
            "|11227247|2012-01-01|105XX S INDIANAPO...|1153|  DECEPTIVE PRACTICE|FINANCIAL IDENTIT...|           RESIDENCE| false|   false|0432|     004|  10|            52|      11|        null|        null|2012|02/11/2018 03:57:...|    null|     null|    null|\n",
            "|11036284|2017-07-29|   014XX W Devon Ave|0820|               THEFT|      $500 AND UNDER|            SIDEWALK| false|   false|2432|     024|  40|             1|      06|        null|        null|2017|08/05/2017 03:50:...|    null|     null|    null|\n",
            "|11227509|2017-01-22|079XX S JEFFERY BLVD|1752|OFFENSE INVOLVING...|AGG CRIM SEX ABUS...|           APARTMENT| false|   false|0414|     004|   8|            46|      20|        null|        null|2017|02/11/2018 03:57:...|    null|     null|    null|\n",
            "|11227407|2017-10-14|037XX N SOUTHPORT...|1150|  DECEPTIVE PRACTICE|   CREDIT CARD FRAUD|               OTHER| false|   false|1922|     019|  44|             6|      11|        null|        null|2017|02/22/2018 03:56:...|    null|     null|    null|\n",
            "|11028056|2014-10-15|  047XX S PULASKI RD|1153|  DECEPTIVE PRACTICE|FINANCIAL IDENTIT...|PARKING LOT/GARAG...| false|   false|0821|     008|  14|            57|      11|        null|        null|2014|07/24/2017 03:54:...|    null|     null|    null|\n",
            "|11028299|2015-05-30| 074XX S HARVARD AVE|1753|OFFENSE INVOLVING...|SEX ASSLT OF CHIL...|           RESIDENCE| false|    true|0731|     007|  17|            69|      02|        null|        null|2015|05/15/2018 03:52:...|    null|     null|    null|\n",
            "|11028290|2015-05-30| 074XX S HARVARD AVE|1753|OFFENSE INVOLVING...|SEX ASSLT OF CHIL...|           RESIDENCE| false|    true|0731|     007|  17|            69|      02|        null|        null|2015|05/22/2018 04:05:...|    null|     null|    null|\n",
            "|11041422|2017-07-29|022XX W WINNEMAC AVE|0810|               THEFT|           OVER $500|    RESIDENCE-GARAGE| false|   false|2031|     020|  47|             4|      06|        null|        null|2017|08/05/2017 03:50:...|    null|     null|    null|\n",
            "+--------+----------+--------------------+----+--------------------+--------------------+--------------------+------+--------+----+--------+----+--------------+--------+------------+------------+----+--------------------+--------+---------+--------+\n",
            "only showing top 20 rows\n",
            "\n"
          ],
          "name": "stdout"
        }
      ]
    },
    {
      "cell_type": "code",
      "metadata": {
        "id": "AUoyR7L-xgwO",
        "colab_type": "code",
        "colab": {}
      },
      "source": [
        "df.write.parquet('reported_crimes.parquet')"
      ],
      "execution_count": 0,
      "outputs": []
    },
    {
      "cell_type": "code",
      "metadata": {
        "id": "Ya5npk2oxnY1",
        "colab_type": "code",
        "colab": {
          "base_uri": "https://localhost:8080/",
          "height": 35
        },
        "outputId": "bcec1747-c222-4fb5-9e8b-ba2d7ff6e63a"
      },
      "source": [
        "import os\n",
        "os.path.abspath(os.curdir)"
      ],
      "execution_count": 40,
      "outputs": [
        {
          "output_type": "execute_result",
          "data": {
            "text/plain": [
              "'/content'"
            ]
          },
          "metadata": {
            "tags": []
          },
          "execution_count": 40
        }
      ]
    },
    {
      "cell_type": "code",
      "metadata": {
        "id": "inpey8VByga4",
        "colab_type": "code",
        "colab": {
          "base_uri": "https://localhost:8080/",
          "height": 35
        },
        "outputId": "52b6fa64-789d-4772-af02-da1de39ab44c"
      },
      "source": [
        "import sys\n",
        "sys.version"
      ],
      "execution_count": 41,
      "outputs": [
        {
          "output_type": "execute_result",
          "data": {
            "text/plain": [
              "'3.6.9 (default, Nov  7 2019, 10:44:02) \\n[GCC 8.3.0]'"
            ]
          },
          "metadata": {
            "tags": []
          },
          "execution_count": 41
        }
      ]
    },
    {
      "cell_type": "code",
      "metadata": {
        "id": "e2XVehv1zBy2",
        "colab_type": "code",
        "colab": {}
      },
      "source": [
        "df=spark.read.parquet('reported_crimes.parquet')"
      ],
      "execution_count": 0,
      "outputs": []
    },
    {
      "cell_type": "code",
      "metadata": {
        "id": "DFfc8RvEzgNd",
        "colab_type": "code",
        "colab": {}
      },
      "source": [
        "from google.colab import drive\n",
        "drive.mount('/content/drive')"
      ],
      "execution_count": 0,
      "outputs": []
    },
    {
      "cell_type": "code",
      "metadata": {
        "id": "1Z5q_cMZzTzU",
        "colab_type": "code",
        "colab": {
          "base_uri": "https://localhost:8080/",
          "height": 193
        },
        "outputId": "70e55ecd-6b8d-4be3-c71d-842dc5413995"
      },
      "source": [
        "df.show(3)"
      ],
      "execution_count": 44,
      "outputs": [
        {
          "output_type": "stream",
          "text": [
            "+--------+----------+--------------------+----+-------------------+------------+--------------------+------+--------+----+--------+----+--------------+--------+------------+------------+----+--------------------+------------+-------------+--------------------+\n",
            "|      id|      date|               block|iucr|       primary_type| description|location_description|arrest|domestic|beat|district|ward|community_area|fbi_code|x_coordinate|y_coordinate|year|          updated_on|    latitude|    longitude|            location|\n",
            "+--------+----------+--------------------+----+-------------------+------------+--------------------+------+--------+----+--------+----+--------------+--------+------------+------------+----+--------------------+------------+-------------+--------------------+\n",
            "|11379979|2018-07-10| 012XX W OAKDALE AVE|1320|    CRIMINAL DAMAGE|  TO VEHICLE|              STREET| false|   false|1933|     019|  32|             6|      14|     1167489|     1919719|2018|07/18/2018 03:53:...|41.935261915|-87.659880298|(41.935261915, -8...|\n",
            "|11379980|2018-07-08|045XX N CHRISTIAN...|0910|MOTOR VEHICLE THEFT|  AUTOMOBILE|              STREET| false|   false|1724|     017|  33|            14|      07|     1153232|     1930028|2018|07/18/2018 03:53:...|41.963845907|-87.712000886|(41.963845907, -8...|\n",
            "|11379981|2018-07-14|   010XX W NORTH AVE|0860|              THEFT|RETAIL THEFT|    DEPARTMENT STORE| false|   false|1811|     018|  32|             7|      06|     1169336|     1910832|2018|07/21/2018 03:49:...|41.910835515|-87.653351515|(41.910835515, -8...|\n",
            "+--------+----------+--------------------+----+-------------------+------------+--------------------+------+--------+----+--------+----+--------------+--------+------------+------------+----+--------------------+------------+-------------+--------------------+\n",
            "only showing top 3 rows\n",
            "\n"
          ],
          "name": "stdout"
        }
      ]
    },
    {
      "cell_type": "code",
      "metadata": {
        "id": "hWM1BQZGzUsT",
        "colab_type": "code",
        "colab": {
          "base_uri": "https://localhost:8080/",
          "height": 416
        },
        "outputId": "91f4329a-fb65-4d9b-d8ad-81046ef8f8a3"
      },
      "source": [
        "df.printSchema()"
      ],
      "execution_count": 45,
      "outputs": [
        {
          "output_type": "stream",
          "text": [
            "root\n",
            " |-- id: string (nullable = true)\n",
            " |-- date: date (nullable = true)\n",
            " |-- block: string (nullable = true)\n",
            " |-- iucr: string (nullable = true)\n",
            " |-- primary_type: string (nullable = true)\n",
            " |-- description: string (nullable = true)\n",
            " |-- location_description: string (nullable = true)\n",
            " |-- arrest: string (nullable = true)\n",
            " |-- domestic: string (nullable = true)\n",
            " |-- beat: string (nullable = true)\n",
            " |-- district: string (nullable = true)\n",
            " |-- ward: string (nullable = true)\n",
            " |-- community_area: string (nullable = true)\n",
            " |-- fbi_code: string (nullable = true)\n",
            " |-- x_coordinate: string (nullable = true)\n",
            " |-- y_coordinate: string (nullable = true)\n",
            " |-- year: string (nullable = true)\n",
            " |-- updated_on: string (nullable = true)\n",
            " |-- latitude: string (nullable = true)\n",
            " |-- longitude: string (nullable = true)\n",
            " |-- location: string (nullable = true)\n",
            "\n"
          ],
          "name": "stdout"
        }
      ]
    },
    {
      "cell_type": "markdown",
      "metadata": {
        "id": "EKyXYMdq5baT",
        "colab_type": "text"
      },
      "source": [
        "# Exploratory Data Analysis\n"
      ]
    },
    {
      "cell_type": "code",
      "metadata": {
        "id": "aX_-ayL0zWiq",
        "colab_type": "code",
        "colab": {}
      },
      "source": [
        "import seaborn as sns# requires conversion to pandas dataframe\n",
        "import pandas as pd"
      ],
      "execution_count": 0,
      "outputs": []
    },
    {
      "cell_type": "code",
      "metadata": {
        "id": "Skn1KdtSzRkV",
        "colab_type": "code",
        "colab": {}
      },
      "source": [
        "sample=df.sample(False,0.25,666)"
      ],
      "execution_count": 0,
      "outputs": []
    },
    {
      "cell_type": "code",
      "metadata": {
        "id": "FtS5k_Io7M-N",
        "colab_type": "code",
        "colab": {
          "base_uri": "https://localhost:8080/",
          "height": 35
        },
        "outputId": "58663aa4-fc68-4a4b-8bd1-77eaf95782e7"
      },
      "source": [
        "sample.count()"
      ],
      "execution_count": 49,
      "outputs": [
        {
          "output_type": "execute_result",
          "data": {
            "text/plain": [
              "1767767"
            ]
          },
          "metadata": {
            "tags": []
          },
          "execution_count": 49
        }
      ]
    },
    {
      "cell_type": "code",
      "metadata": {
        "id": "t4KsBLoj7OTh",
        "colab_type": "code",
        "colab": {
          "base_uri": "https://localhost:8080/",
          "height": 176
        },
        "outputId": "d7318ae9-40f7-4c31-f913-c75662f7fa58"
      },
      "source": [
        "sample.show(2)"
      ],
      "execution_count": 50,
      "outputs": [
        {
          "output_type": "stream",
          "text": [
            "+--------+----------+-------------------+----+---------------+------------+--------------------+------+--------+----+--------+----+--------------+--------+------------+------------+----+--------------------+------------+-------------+--------------------+\n",
            "|      id|      date|              block|iucr|   primary_type| description|location_description|arrest|domestic|beat|district|ward|community_area|fbi_code|x_coordinate|y_coordinate|year|          updated_on|    latitude|    longitude|            location|\n",
            "+--------+----------+-------------------+----+---------------+------------+--------------------+------+--------+----+--------+----+--------------+--------+------------+------------+----+--------------------+------------+-------------+--------------------+\n",
            "|11379979|2018-07-10|012XX W OAKDALE AVE|1320|CRIMINAL DAMAGE|  TO VEHICLE|              STREET| false|   false|1933|     019|  32|             6|      14|     1167489|     1919719|2018|07/18/2018 03:53:...|41.935261915|-87.659880298|(41.935261915, -8...|\n",
            "|11379981|2018-07-14|  010XX W NORTH AVE|0860|          THEFT|RETAIL THEFT|    DEPARTMENT STORE| false|   false|1811|     018|  32|             7|      06|     1169336|     1910832|2018|07/21/2018 03:49:...|41.910835515|-87.653351515|(41.910835515, -8...|\n",
            "+--------+----------+-------------------+----+---------------+------------+--------------------+------+--------+----+--------+----+--------------+--------+------------+------------+----+--------------------+------------+-------------+--------------------+\n",
            "only showing top 2 rows\n",
            "\n"
          ],
          "name": "stdout"
        }
      ]
    },
    {
      "cell_type": "code",
      "metadata": {
        "id": "RoLZcXAi7PFp",
        "colab_type": "code",
        "colab": {
          "base_uri": "https://localhost:8080/",
          "height": 35
        },
        "outputId": "12ad5ee2-a3fc-454c-b7b1-0649d97c259d"
      },
      "source": [
        "sample.cache().count()\n",
        "print(sample.is_cached)"
      ],
      "execution_count": 51,
      "outputs": [
        {
          "output_type": "stream",
          "text": [
            "True\n"
          ],
          "name": "stdout"
        }
      ]
    },
    {
      "cell_type": "code",
      "metadata": {
        "id": "ic42_MuI7TP5",
        "colab_type": "code",
        "colab": {}
      },
      "source": [
        "crimes=sample.groupBy('primary_type').count()"
      ],
      "execution_count": 0,
      "outputs": []
    },
    {
      "cell_type": "code",
      "metadata": {
        "id": "UYyes3Jh8RKZ",
        "colab_type": "code",
        "colab": {
          "base_uri": "https://localhost:8080/",
          "height": 1000
        },
        "outputId": "7c232965-f4de-4363-abff-2a3e46f91ff3"
      },
      "source": [
        "pivot.plot(kind='area',figsize=(30,20),stacked=False)"
      ],
      "execution_count": 131,
      "outputs": [
        {
          "output_type": "execute_result",
          "data": {
            "text/plain": [
              "<matplotlib.axes._subplots.AxesSubplot at 0x7fb5f6cad358>"
            ]
          },
          "metadata": {
            "tags": []
          },
          "execution_count": 131
        },
        {
          "output_type": "display_data",
          "data": {
            "image/png": "[encoded data removed]",
            "text/plain": [
              "<Figure size 2160x1440 with 1 Axes>"
            ]
          },
          "metadata": {
            "tags": []
          }
        }
      ]
    },
    {
      "cell_type": "code",
      "metadata": {
        "id": "Z92uLWI-8UQ5",
        "colab_type": "code",
        "colab": {}
      },
      "source": [
        "crimes=crimes.withColumnRenamed('count','crimes')"
      ],
      "execution_count": 0,
      "outputs": []
    },
    {
      "cell_type": "code",
      "metadata": {
        "id": "uq2_gxUc8fli",
        "colab_type": "code",
        "colab": {}
      },
      "source": [
        "crimes=crimes.orderBy('crimes',ascending=False)"
      ],
      "execution_count": 0,
      "outputs": []
    },
    {
      "cell_type": "code",
      "metadata": {
        "id": "2Mg4_p9f8ks1",
        "colab_type": "code",
        "colab": {
          "base_uri": "https://localhost:8080/",
          "height": 277
        },
        "outputId": "06b63ab6-ee6a-4438-885e-2933e0ad3d91"
      },
      "source": [
        "crimes.limit(10).show()"
      ],
      "execution_count": 61,
      "outputs": [
        {
          "output_type": "stream",
          "text": [
            "+-------------------+------+\n",
            "|       primary_type|crimes|\n",
            "+-------------------+------+\n",
            "|              THEFT|373611|\n",
            "|            BATTERY|323988|\n",
            "|    CRIMINAL DAMAGE|200529|\n",
            "|          NARCOTICS|181950|\n",
            "|            ASSAULT|110942|\n",
            "|      OTHER OFFENSE|109669|\n",
            "|           BURGLARY|100239|\n",
            "|MOTOR VEHICLE THEFT| 81198|\n",
            "| DECEPTIVE PRACTICE| 71836|\n",
            "|            ROBBERY| 66400|\n",
            "+-------------------+------+\n",
            "\n"
          ],
          "name": "stdout"
        }
      ]
    },
    {
      "cell_type": "code",
      "metadata": {
        "id": "l3r1Xu6w8oXc",
        "colab_type": "code",
        "colab": {}
      },
      "source": [
        "top10=crimes.limit(10).toPandas()"
      ],
      "execution_count": 0,
      "outputs": []
    },
    {
      "cell_type": "code",
      "metadata": {
        "id": "h5vAs6nW8udt",
        "colab_type": "code",
        "colab": {
          "base_uri": "https://localhost:8080/",
          "height": 202
        },
        "outputId": "ed71c6de-0722-40ef-c05b-354f02a2b6fc"
      },
      "source": [
        "top10.head()"
      ],
      "execution_count": 63,
      "outputs": [
        {
          "output_type": "execute_result",
          "data": {
            "text/html": [
              "<div>\n",
              "<style scoped>\n",
              "    .dataframe tbody tr th:only-of-type {\n",
              "        vertical-align: middle;\n",
              "    }\n",
              "\n",
              "    .dataframe tbody tr th {\n",
              "        vertical-align: top;\n",
              "    }\n",
              "\n",
              "    .dataframe thead th {\n",
              "        text-align: right;\n",
              "    }\n",
              "</style>\n",
              "<table border=\"1\" class=\"dataframe\">\n",
              "  <thead>\n",
              "    <tr style=\"text-align: right;\">\n",
              "      <th></th>\n",
              "      <th>primary_type</th>\n",
              "      <th>crimes</th>\n",
              "    </tr>\n",
              "  </thead>\n",
              "  <tbody>\n",
              "    <tr>\n",
              "      <th>0</th>\n",
              "      <td>THEFT</td>\n",
              "      <td>373611</td>\n",
              "    </tr>\n",
              "    <tr>\n",
              "      <th>1</th>\n",
              "      <td>BATTERY</td>\n",
              "      <td>323988</td>\n",
              "    </tr>\n",
              "    <tr>\n",
              "      <th>2</th>\n",
              "      <td>CRIMINAL DAMAGE</td>\n",
              "      <td>200529</td>\n",
              "    </tr>\n",
              "    <tr>\n",
              "      <th>3</th>\n",
              "      <td>NARCOTICS</td>\n",
              "      <td>181950</td>\n",
              "    </tr>\n",
              "    <tr>\n",
              "      <th>4</th>\n",
              "      <td>ASSAULT</td>\n",
              "      <td>110942</td>\n",
              "    </tr>\n",
              "  </tbody>\n",
              "</table>\n",
              "</div>"
            ],
            "text/plain": [
              "      primary_type  crimes\n",
              "0            THEFT  373611\n",
              "1          BATTERY  323988\n",
              "2  CRIMINAL DAMAGE  200529\n",
              "3        NARCOTICS  181950\n",
              "4          ASSAULT  110942"
            ]
          },
          "metadata": {
            "tags": []
          },
          "execution_count": 63
        }
      ]
    },
    {
      "cell_type": "code",
      "metadata": {
        "id": "0lRDTcze8v58",
        "colab_type": "code",
        "colab": {
          "base_uri": "https://localhost:8080/",
          "height": 659
        },
        "outputId": "28fc4374-e6ca-493b-915c-c72d662878ba"
      },
      "source": [
        "import matplotlib.pyplot as plt\n",
        "%matplotlib inline\n",
        "plt.figure(figsize=(20,10))\n",
        "plt.title('Top 10 Crimes')\n",
        "sns.barplot(x=top10.primary_type,y=top10.crimes)"
      ],
      "execution_count": 68,
      "outputs": [
        {
          "output_type": "execute_result",
          "data": {
            "text/plain": [
              "<matplotlib.axes._subplots.AxesSubplot at 0x7fb5fa562cc0>"
            ]
          },
          "metadata": {
            "tags": []
          },
          "execution_count": 68
        },
        {
          "output_type": "display_data",
          "data": {
            "image/png": "[encoded data removed]",
            "text/plain": [
              "<Figure size 1440x720 with 1 Axes>"
            ]
          },
          "metadata": {
            "tags": []
          }
        }
      ]
    },
    {
      "cell_type": "code",
      "metadata": {
        "id": "6TcM-n5t8-aW",
        "colab_type": "code",
        "colab": {
          "base_uri": "https://localhost:8080/",
          "height": 488
        },
        "outputId": "d3f56f14-1c8c-42e2-d0f8-36385e39d6a2"
      },
      "source": [
        "sample.show(20)"
      ],
      "execution_count": 69,
      "outputs": [
        {
          "output_type": "stream",
          "text": [
            "+--------+----------+--------------------+----+--------------------+--------------------+--------------------+------+--------+----+--------+----+--------------+--------+------------+------------+----+--------------------+------------+-------------+--------------------+\n",
            "|      id|      date|               block|iucr|        primary_type|         description|location_description|arrest|domestic|beat|district|ward|community_area|fbi_code|x_coordinate|y_coordinate|year|          updated_on|    latitude|    longitude|            location|\n",
            "+--------+----------+--------------------+----+--------------------+--------------------+--------------------+------+--------+----+--------+----+--------------+--------+------------+------------+----+--------------------+------------+-------------+--------------------+\n",
            "|11379979|2018-07-10| 012XX W OAKDALE AVE|1320|     CRIMINAL DAMAGE|          TO VEHICLE|              STREET| false|   false|1933|     019|  32|             6|      14|     1167489|     1919719|2018|07/18/2018 03:53:...|41.935261915|-87.659880298|(41.935261915, -8...|\n",
            "|11379981|2018-07-14|   010XX W NORTH AVE|0860|               THEFT|        RETAIL THEFT|    DEPARTMENT STORE| false|   false|1811|     018|  32|             7|      06|     1169336|     1910832|2018|07/21/2018 03:49:...|41.910835515|-87.653351515|(41.910835515, -8...|\n",
            "|11379983|2018-07-14| 077XX S CORNELL AVE|1360|   CRIMINAL TRESPASS|          TO VEHICLE|              STREET| false|   false|0414|     004|   8|            43|      26|     1188582|     1853911|2018|07/21/2018 03:49:...|41.754200808|-87.584472674|(41.754200808, -8...|\n",
            "|11379992|2018-07-14| 111XX S LONGWOOD DR|0820|               THEFT|      $500 AND UNDER|           APARTMENT| false|   false|2212|     022|  19|            75|      06|     1164866|     1830858|2018|07/21/2018 03:49:...|41.691473341|-87.672032967|(41.691473341, -8...|\n",
            "|11380001|2018-07-14|038XX W AUGUSTA BLVD|2024|           NARCOTICS| POSS: HEROIN(WHITE)|            SIDEWALK|  true|   false|1112|     011|  27|            23|      18|     1150429|     1906395|2018|07/21/2018 03:49:...| 41.89905026|-87.722925332|(41.89905026, -87...|\n",
            "|11380003|2018-07-14| 070XX S SANGAMON ST|143A|   WEAPONS VIOLATION|UNLAWFUL POSS OF ...|           RESIDENCE| false|   false|0733|     007|  17|            68|      15|     1171191|     1858124|2018|07/21/2018 03:49:...|41.766159533|-87.648081733|(41.766159533, -8...|\n",
            "|11380004|2018-07-14|     0000X E OHIO ST|0890|               THEFT|       FROM BUILDING|               OTHER| false|   false|1834|     018|  42|             8|      06|     1176753|     1904212|2018|07/21/2018 03:49:...|41.892505345|-87.626304822|(41.892505345, -8...|\n",
            "|11380010|2018-07-14| 011XX S RICHMOND ST|1310|     CRIMINAL DAMAGE|         TO PROPERTY|           APARTMENT| false|   false|1135|     011|  28|            29|      14|     1156864|     1894979|2018|07/21/2018 03:49:...|41.867595589| -87.69959933|(41.867595589, -8...|\n",
            "|11380015|2018-07-13|006XX W ARLINGTON PL|0910| MOTOR VEHICLE THEFT|          AUTOMOBILE|              STREET| false|   false|1935|     019|  43|             7|      07|     1171675|     1916638|2018|07/20/2018 03:52:...|41.926716257|-87.644587631|(41.926716257, -8...|\n",
            "|11380018|2018-07-12|   049XX N NAGLE AVE|0820|               THEFT|      $500 AND UNDER|RESIDENCE PORCH/H...|  true|   false|1613|     016|  41|            10|      06|     1132555|     1932483|2018|09/11/2018 03:57:...|41.970968943|-87.787967443|(41.970968943, -8...|\n",
            "|11380019|2018-07-14|079XX S EXCHANGE AVE|2210|LIQUOR LAW VIOLATION|SELL/GIVE/DEL LIQ...| TAVERN/LIQUOR STORE|  true|   false|0422|     004|   7|            46|      22|     1197209|     1852961|2018|07/21/2018 03:49:...|41.751383531|-87.552889749|(41.751383531, -8...|\n",
            "|11380027|2018-07-04|   069XX S PEORIA ST|0610|            BURGLARY|      FORCIBLE ENTRY|           RESIDENCE| false|   false|0733|     007|  17|            68|      05|     1171503|     1858829|2018|07/18/2018 03:53:...|41.768087313|-87.646917522|(41.768087313, -8...|\n",
            "|11380033|2018-07-14|   009XX W KINZIE ST|0810|               THEFT|           OVER $500|              STREET| false|   false|1214|     012|  27|            24|      06|     1170259|     1902888|2018|07/21/2018 03:49:...|41.889016567|-87.650193151|(41.889016567, -8...|\n",
            "|11380036|2018-07-14| 053XX S KIMBARK AVE|0486|             BATTERY|DOMESTIC BATTERY ...|           APARTMENT| false|    true|0234|     002|   4|            41|     08B|     1185567|     1870157|2018|07/21/2018 03:49:...|41.798852734|-87.595010373|(41.798852734, -8...|\n",
            "|11380037|2018-07-14|009XX N MICHIGAN AVE|1150|  DECEPTIVE PRACTICE|   CREDIT CARD FRAUD|  SMALL RETAIL STORE| false|   false|1833|     018|  42|             8|      11|     1177324|     1906733|2018|07/21/2018 03:49:...|41.899410159|-87.624131266|(41.899410159, -8...|\n",
            "|11380039|2018-07-14|    100XX W OHARE ST|1150|  DECEPTIVE PRACTICE|   CREDIT CARD FRAUD|AIRPORT BUILDING ...| false|   false|1651|     016|  41|            76|      11|     1100658|     1934241|2018|07/21/2018 03:49:...|41.976290414|-87.905227221|(41.976290414, -8...|\n",
            "|11380040|2018-06-21|   039XX W WILCOX ST|0910| MOTOR VEHICLE THEFT|          AUTOMOBILE|              STREET| false|   false|1122|     011|  28|            26|      07|     1149917|     1899040|2018|07/18/2018 03:53:...|41.878877337|-87.724997426|(41.878877337, -8...|\n",
            "|11380044|2018-07-11| 131XX S BUFFALO AVE|0610|            BURGLARY|      FORCIBLE ENTRY|    RESIDENCE-GARAGE| false|   false|0433|     004|  10|            55|      05|     1200085|     1818394|2018|07/18/2018 03:56:...|41.656456548|-87.543512592|(41.656456548, -8...|\n",
            "|11380049|2018-07-14|089XX S COMMERCIA...|2210|LIQUOR LAW VIOLATION|SELL/GIVE/DEL LIQ...| TAVERN/LIQUOR STORE|  true|   false|0423|     004|  10|            46|      22|     1197693|     1846366|2018|07/21/2018 03:49:...| 41.73327429| -87.55133578|(41.73327429, -87...|\n",
            "|11380053|2018-07-14|019XX S ST LOUIS AVE|1811|           NARCOTICS|POSS: CANNABIS 30...|            SIDEWALK|  true|   false|1024|     010|  24|            29|      18|     1153404|     1890280|2018|07/21/2018 03:49:...|41.854770391|-87.712426385|(41.854770391, -8...|\n",
            "+--------+----------+--------------------+----+--------------------+--------------------+--------------------+------+--------+----+--------+----+--------------+--------+------------+------------+----+--------------------+------------+-------------+--------------------+\n",
            "only showing top 20 rows\n",
            "\n"
          ],
          "name": "stdout"
        }
      ]
    },
    {
      "cell_type": "code",
      "metadata": {
        "id": "He7p25RCCbZb",
        "colab_type": "code",
        "colab": {
          "base_uri": "https://localhost:8080/",
          "height": 156
        },
        "outputId": "3d335dda-d4df-487d-cec3-463ec1c32b1b"
      },
      "source": [
        "sample.select('primary_type','description').show(2)"
      ],
      "execution_count": 70,
      "outputs": [
        {
          "output_type": "stream",
          "text": [
            "+---------------+------------+\n",
            "|   primary_type| description|\n",
            "+---------------+------------+\n",
            "|CRIMINAL DAMAGE|  TO VEHICLE|\n",
            "|          THEFT|RETAIL THEFT|\n",
            "+---------------+------------+\n",
            "only showing top 2 rows\n",
            "\n"
          ],
          "name": "stdout"
        }
      ]
    },
    {
      "cell_type": "markdown",
      "metadata": {
        "id": "EhkpuVXNUAQV",
        "colab_type": "text"
      },
      "source": [
        "# Pandas Pivot Table"
      ]
    },
    {
      "cell_type": "code",
      "metadata": {
        "id": "ZOavOjCzC60o",
        "colab_type": "code",
        "colab": {}
      },
      "source": [
        "crimes=sample.select('id','date','primary_type','description','location_description')"
      ],
      "execution_count": 0,
      "outputs": []
    },
    {
      "cell_type": "code",
      "metadata": {
        "id": "H3SRDItiDGId",
        "colab_type": "code",
        "colab": {}
      },
      "source": [
        "crimes=crimes.toPandas()"
      ],
      "execution_count": 0,
      "outputs": []
    },
    {
      "cell_type": "code",
      "metadata": {
        "id": "GjoLeFkvDIr8",
        "colab_type": "code",
        "colab": {
          "base_uri": "https://localhost:8080/",
          "height": 202
        },
        "outputId": "b3ae353b-c30e-46dd-a2a0-d283da6a5b4a"
      },
      "source": [
        "crimes.head()"
      ],
      "execution_count": 77,
      "outputs": [
        {
          "output_type": "execute_result",
          "data": {
            "text/html": [
              "<div>\n",
              "<style scoped>\n",
              "    .dataframe tbody tr th:only-of-type {\n",
              "        vertical-align: middle;\n",
              "    }\n",
              "\n",
              "    .dataframe tbody tr th {\n",
              "        vertical-align: top;\n",
              "    }\n",
              "\n",
              "    .dataframe thead th {\n",
              "        text-align: right;\n",
              "    }\n",
              "</style>\n",
              "<table border=\"1\" class=\"dataframe\">\n",
              "  <thead>\n",
              "    <tr style=\"text-align: right;\">\n",
              "      <th></th>\n",
              "      <th>id</th>\n",
              "      <th>date</th>\n",
              "      <th>primary_type</th>\n",
              "      <th>description</th>\n",
              "      <th>location_description</th>\n",
              "    </tr>\n",
              "  </thead>\n",
              "  <tbody>\n",
              "    <tr>\n",
              "      <th>0</th>\n",
              "      <td>11379979</td>\n",
              "      <td>2018-07-10</td>\n",
              "      <td>CRIMINAL DAMAGE</td>\n",
              "      <td>TO VEHICLE</td>\n",
              "      <td>STREET</td>\n",
              "    </tr>\n",
              "    <tr>\n",
              "      <th>1</th>\n",
              "      <td>11379981</td>\n",
              "      <td>2018-07-14</td>\n",
              "      <td>THEFT</td>\n",
              "      <td>RETAIL THEFT</td>\n",
              "      <td>DEPARTMENT STORE</td>\n",
              "    </tr>\n",
              "    <tr>\n",
              "      <th>2</th>\n",
              "      <td>11379983</td>\n",
              "      <td>2018-07-14</td>\n",
              "      <td>CRIMINAL TRESPASS</td>\n",
              "      <td>TO VEHICLE</td>\n",
              "      <td>STREET</td>\n",
              "    </tr>\n",
              "    <tr>\n",
              "      <th>3</th>\n",
              "      <td>11379992</td>\n",
              "      <td>2018-07-14</td>\n",
              "      <td>THEFT</td>\n",
              "      <td>$500 AND UNDER</td>\n",
              "      <td>APARTMENT</td>\n",
              "    </tr>\n",
              "    <tr>\n",
              "      <th>4</th>\n",
              "      <td>11380001</td>\n",
              "      <td>2018-07-14</td>\n",
              "      <td>NARCOTICS</td>\n",
              "      <td>POSS: HEROIN(WHITE)</td>\n",
              "      <td>SIDEWALK</td>\n",
              "    </tr>\n",
              "  </tbody>\n",
              "</table>\n",
              "</div>"
            ],
            "text/plain": [
              "         id        date  ...          description location_description\n",
              "0  11379979  2018-07-10  ...           TO VEHICLE               STREET\n",
              "1  11379981  2018-07-14  ...         RETAIL THEFT     DEPARTMENT STORE\n",
              "2  11379983  2018-07-14  ...           TO VEHICLE               STREET\n",
              "3  11379992  2018-07-14  ...       $500 AND UNDER            APARTMENT\n",
              "4  11380001  2018-07-14  ...  POSS: HEROIN(WHITE)             SIDEWALK\n",
              "\n",
              "[5 rows x 5 columns]"
            ]
          },
          "metadata": {
            "tags": []
          },
          "execution_count": 77
        }
      ]
    },
    {
      "cell_type": "code",
      "metadata": {
        "id": "rdPK7ri-JgnD",
        "colab_type": "code",
        "colab": {}
      },
      "source": [
        "pd.set_option('display.max_rows',None)\n",
        "pd.set_option('display.max_columns',None)"
      ],
      "execution_count": 0,
      "outputs": []
    },
    {
      "cell_type": "code",
      "metadata": {
        "id": "iuIYvy7w8203",
        "colab_type": "code",
        "colab": {}
      },
      "source": [
        "pivot=pd.pivot_table(index='location_description',columns='primary_type',values='id',aggfunc='count',data=crimes)"
      ],
      "execution_count": 0,
      "outputs": []
    },
    {
      "cell_type": "code",
      "metadata": {
        "id": "rZypcdutNuqH",
        "colab_type": "code",
        "colab": {}
      },
      "source": [
        "pivot.fillna(0,inplace=True)"
      ],
      "execution_count": 0,
      "outputs": []
    },
    {
      "cell_type": "code",
      "metadata": {
        "id": "dTOI_9kmN5gE",
        "colab_type": "code",
        "colab": {
          "base_uri": "https://localhost:8080/",
          "height": 391
        },
        "outputId": "e1f46361-6e41-497c-a2ec-5305ba00a014"
      },
      "source": [
        "pivot.head()"
      ],
      "execution_count": 147,
      "outputs": [
        {
          "output_type": "execute_result",
          "data": {
            "text/html": [
              "<div>\n",
              "<style scoped>\n",
              "    .dataframe tbody tr th:only-of-type {\n",
              "        vertical-align: middle;\n",
              "    }\n",
              "\n",
              "    .dataframe tbody tr th {\n",
              "        vertical-align: top;\n",
              "    }\n",
              "\n",
              "    .dataframe thead th {\n",
              "        text-align: right;\n",
              "    }\n",
              "</style>\n",
              "<table border=\"1\" class=\"dataframe\">\n",
              "  <thead>\n",
              "    <tr style=\"text-align: right;\">\n",
              "      <th>primary_type</th>\n",
              "      <th>ARSON</th>\n",
              "      <th>ASSAULT</th>\n",
              "      <th>BATTERY</th>\n",
              "      <th>BURGLARY</th>\n",
              "      <th>CONCEALED CARRY LICENSE VIOLATION</th>\n",
              "      <th>CRIM SEXUAL ASSAULT</th>\n",
              "      <th>CRIMINAL DAMAGE</th>\n",
              "      <th>CRIMINAL TRESPASS</th>\n",
              "      <th>DECEPTIVE PRACTICE</th>\n",
              "      <th>GAMBLING</th>\n",
              "      <th>HOMICIDE</th>\n",
              "      <th>HUMAN TRAFFICKING</th>\n",
              "      <th>INTERFERENCE WITH PUBLIC OFFICER</th>\n",
              "      <th>INTIMIDATION</th>\n",
              "      <th>KIDNAPPING</th>\n",
              "      <th>LIQUOR LAW VIOLATION</th>\n",
              "      <th>MOTOR VEHICLE THEFT</th>\n",
              "      <th>NARCOTICS</th>\n",
              "      <th>NON - CRIMINAL</th>\n",
              "      <th>NON-CRIMINAL</th>\n",
              "      <th>NON-CRIMINAL (SUBJECT SPECIFIED)</th>\n",
              "      <th>OBSCENITY</th>\n",
              "      <th>OFFENSE INVOLVING CHILDREN</th>\n",
              "      <th>OTHER NARCOTIC VIOLATION</th>\n",
              "      <th>OTHER OFFENSE</th>\n",
              "      <th>PROSTITUTION</th>\n",
              "      <th>PUBLIC INDECENCY</th>\n",
              "      <th>PUBLIC PEACE VIOLATION</th>\n",
              "      <th>RITUALISM</th>\n",
              "      <th>ROBBERY</th>\n",
              "      <th>SEX OFFENSE</th>\n",
              "      <th>STALKING</th>\n",
              "      <th>THEFT</th>\n",
              "      <th>WEAPONS VIOLATION</th>\n",
              "    </tr>\n",
              "    <tr>\n",
              "      <th>location_description</th>\n",
              "      <th></th>\n",
              "      <th></th>\n",
              "      <th></th>\n",
              "      <th></th>\n",
              "      <th></th>\n",
              "      <th></th>\n",
              "      <th></th>\n",
              "      <th></th>\n",
              "      <th></th>\n",
              "      <th></th>\n",
              "      <th></th>\n",
              "      <th></th>\n",
              "      <th></th>\n",
              "      <th></th>\n",
              "      <th></th>\n",
              "      <th></th>\n",
              "      <th></th>\n",
              "      <th></th>\n",
              "      <th></th>\n",
              "      <th></th>\n",
              "      <th></th>\n",
              "      <th></th>\n",
              "      <th></th>\n",
              "      <th></th>\n",
              "      <th></th>\n",
              "      <th></th>\n",
              "      <th></th>\n",
              "      <th></th>\n",
              "      <th></th>\n",
              "      <th></th>\n",
              "      <th></th>\n",
              "      <th></th>\n",
              "      <th></th>\n",
              "      <th></th>\n",
              "    </tr>\n",
              "  </thead>\n",
              "  <tbody>\n",
              "    <tr>\n",
              "      <th>\"CTA \"\"L\"\" TRAIN\"</th>\n",
              "      <td>0.0</td>\n",
              "      <td>0.0</td>\n",
              "      <td>0.0</td>\n",
              "      <td>0.0</td>\n",
              "      <td>0.0</td>\n",
              "      <td>0.0</td>\n",
              "      <td>0.0</td>\n",
              "      <td>0.0</td>\n",
              "      <td>0.0</td>\n",
              "      <td>0.0</td>\n",
              "      <td>1.0</td>\n",
              "      <td>0.0</td>\n",
              "      <td>0.0</td>\n",
              "      <td>0.0</td>\n",
              "      <td>0.0</td>\n",
              "      <td>0.0</td>\n",
              "      <td>0.0</td>\n",
              "      <td>0.0</td>\n",
              "      <td>0.0</td>\n",
              "      <td>0.0</td>\n",
              "      <td>0.0</td>\n",
              "      <td>0.0</td>\n",
              "      <td>0.0</td>\n",
              "      <td>0.0</td>\n",
              "      <td>0.0</td>\n",
              "      <td>0.0</td>\n",
              "      <td>0.0</td>\n",
              "      <td>0.0</td>\n",
              "      <td>0.0</td>\n",
              "      <td>0.0</td>\n",
              "      <td>0.0</td>\n",
              "      <td>0.0</td>\n",
              "      <td>0.0</td>\n",
              "      <td>0.0</td>\n",
              "    </tr>\n",
              "    <tr>\n",
              "      <th>ABANDONED BUILDING</th>\n",
              "      <td>58.0</td>\n",
              "      <td>17.0</td>\n",
              "      <td>93.0</td>\n",
              "      <td>417.0</td>\n",
              "      <td>1.0</td>\n",
              "      <td>87.0</td>\n",
              "      <td>265.0</td>\n",
              "      <td>420.0</td>\n",
              "      <td>25.0</td>\n",
              "      <td>26.0</td>\n",
              "      <td>11.0</td>\n",
              "      <td>0.0</td>\n",
              "      <td>13.0</td>\n",
              "      <td>0.0</td>\n",
              "      <td>2.0</td>\n",
              "      <td>5.0</td>\n",
              "      <td>5.0</td>\n",
              "      <td>756.0</td>\n",
              "      <td>0.0</td>\n",
              "      <td>0.0</td>\n",
              "      <td>0.0</td>\n",
              "      <td>0.0</td>\n",
              "      <td>9.0</td>\n",
              "      <td>0.0</td>\n",
              "      <td>112.0</td>\n",
              "      <td>3.0</td>\n",
              "      <td>0.0</td>\n",
              "      <td>31.0</td>\n",
              "      <td>0.0</td>\n",
              "      <td>38.0</td>\n",
              "      <td>17.0</td>\n",
              "      <td>0.0</td>\n",
              "      <td>359.0</td>\n",
              "      <td>65.0</td>\n",
              "    </tr>\n",
              "    <tr>\n",
              "      <th>AIRCRAFT</th>\n",
              "      <td>0.0</td>\n",
              "      <td>10.0</td>\n",
              "      <td>31.0</td>\n",
              "      <td>0.0</td>\n",
              "      <td>0.0</td>\n",
              "      <td>0.0</td>\n",
              "      <td>1.0</td>\n",
              "      <td>0.0</td>\n",
              "      <td>4.0</td>\n",
              "      <td>0.0</td>\n",
              "      <td>0.0</td>\n",
              "      <td>0.0</td>\n",
              "      <td>0.0</td>\n",
              "      <td>0.0</td>\n",
              "      <td>0.0</td>\n",
              "      <td>0.0</td>\n",
              "      <td>0.0</td>\n",
              "      <td>4.0</td>\n",
              "      <td>0.0</td>\n",
              "      <td>1.0</td>\n",
              "      <td>0.0</td>\n",
              "      <td>0.0</td>\n",
              "      <td>0.0</td>\n",
              "      <td>0.0</td>\n",
              "      <td>11.0</td>\n",
              "      <td>0.0</td>\n",
              "      <td>0.0</td>\n",
              "      <td>30.0</td>\n",
              "      <td>0.0</td>\n",
              "      <td>0.0</td>\n",
              "      <td>3.0</td>\n",
              "      <td>0.0</td>\n",
              "      <td>78.0</td>\n",
              "      <td>0.0</td>\n",
              "    </tr>\n",
              "    <tr>\n",
              "      <th>AIRPORT BUILDING NON-TERMINAL - NON-SECURE AREA</th>\n",
              "      <td>0.0</td>\n",
              "      <td>8.0</td>\n",
              "      <td>13.0</td>\n",
              "      <td>0.0</td>\n",
              "      <td>2.0</td>\n",
              "      <td>0.0</td>\n",
              "      <td>13.0</td>\n",
              "      <td>16.0</td>\n",
              "      <td>48.0</td>\n",
              "      <td>0.0</td>\n",
              "      <td>0.0</td>\n",
              "      <td>0.0</td>\n",
              "      <td>0.0</td>\n",
              "      <td>0.0</td>\n",
              "      <td>0.0</td>\n",
              "      <td>0.0</td>\n",
              "      <td>12.0</td>\n",
              "      <td>4.0</td>\n",
              "      <td>0.0</td>\n",
              "      <td>2.0</td>\n",
              "      <td>0.0</td>\n",
              "      <td>0.0</td>\n",
              "      <td>0.0</td>\n",
              "      <td>0.0</td>\n",
              "      <td>12.0</td>\n",
              "      <td>0.0</td>\n",
              "      <td>0.0</td>\n",
              "      <td>3.0</td>\n",
              "      <td>0.0</td>\n",
              "      <td>0.0</td>\n",
              "      <td>0.0</td>\n",
              "      <td>0.0</td>\n",
              "      <td>94.0</td>\n",
              "      <td>1.0</td>\n",
              "    </tr>\n",
              "    <tr>\n",
              "      <th>AIRPORT BUILDING NON-TERMINAL - SECURE AREA</th>\n",
              "      <td>0.0</td>\n",
              "      <td>7.0</td>\n",
              "      <td>14.0</td>\n",
              "      <td>0.0</td>\n",
              "      <td>2.0</td>\n",
              "      <td>0.0</td>\n",
              "      <td>2.0</td>\n",
              "      <td>0.0</td>\n",
              "      <td>9.0</td>\n",
              "      <td>0.0</td>\n",
              "      <td>0.0</td>\n",
              "      <td>0.0</td>\n",
              "      <td>0.0</td>\n",
              "      <td>0.0</td>\n",
              "      <td>0.0</td>\n",
              "      <td>0.0</td>\n",
              "      <td>1.0</td>\n",
              "      <td>5.0</td>\n",
              "      <td>0.0</td>\n",
              "      <td>0.0</td>\n",
              "      <td>0.0</td>\n",
              "      <td>0.0</td>\n",
              "      <td>0.0</td>\n",
              "      <td>0.0</td>\n",
              "      <td>9.0</td>\n",
              "      <td>0.0</td>\n",
              "      <td>0.0</td>\n",
              "      <td>3.0</td>\n",
              "      <td>0.0</td>\n",
              "      <td>0.0</td>\n",
              "      <td>0.0</td>\n",
              "      <td>0.0</td>\n",
              "      <td>94.0</td>\n",
              "      <td>2.0</td>\n",
              "    </tr>\n",
              "  </tbody>\n",
              "</table>\n",
              "</div>"
            ],
            "text/plain": [
              "primary_type                                     ARSON  ASSAULT  BATTERY  \\\n",
              "location_description                                                       \n",
              "\"CTA \"\"L\"\" TRAIN\"                                  0.0      0.0      0.0   \n",
              "ABANDONED BUILDING                                58.0     17.0     93.0   \n",
              "AIRCRAFT                                           0.0     10.0     31.0   \n",
              "AIRPORT BUILDING NON-TERMINAL - NON-SECURE AREA    0.0      8.0     13.0   \n",
              "AIRPORT BUILDING NON-TERMINAL - SECURE AREA        0.0      7.0     14.0   \n",
              "\n",
              "primary_type                                     BURGLARY  \\\n",
              "location_description                                        \n",
              "\"CTA \"\"L\"\" TRAIN\"                                     0.0   \n",
              "ABANDONED BUILDING                                  417.0   \n",
              "AIRCRAFT                                              0.0   \n",
              "AIRPORT BUILDING NON-TERMINAL - NON-SECURE AREA       0.0   \n",
              "AIRPORT BUILDING NON-TERMINAL - SECURE AREA           0.0   \n",
              "\n",
              "primary_type                                     CONCEALED CARRY LICENSE VIOLATION  \\\n",
              "location_description                                                                 \n",
              "\"CTA \"\"L\"\" TRAIN\"                                                              0.0   \n",
              "ABANDONED BUILDING                                                             1.0   \n",
              "AIRCRAFT                                                                       0.0   \n",
              "AIRPORT BUILDING NON-TERMINAL - NON-SECURE AREA                                2.0   \n",
              "AIRPORT BUILDING NON-TERMINAL - SECURE AREA                                    2.0   \n",
              "\n",
              "primary_type                                     CRIM SEXUAL ASSAULT  \\\n",
              "location_description                                                   \n",
              "\"CTA \"\"L\"\" TRAIN\"                                                0.0   \n",
              "ABANDONED BUILDING                                              87.0   \n",
              "AIRCRAFT                                                         0.0   \n",
              "AIRPORT BUILDING NON-TERMINAL - NON-SECURE AREA                  0.0   \n",
              "AIRPORT BUILDING NON-TERMINAL - SECURE AREA                      0.0   \n",
              "\n",
              "primary_type                                     CRIMINAL DAMAGE  \\\n",
              "location_description                                               \n",
              "\"CTA \"\"L\"\" TRAIN\"                                            0.0   \n",
              "ABANDONED BUILDING                                         265.0   \n",
              "AIRCRAFT                                                     1.0   \n",
              "AIRPORT BUILDING NON-TERMINAL - NON-SECURE AREA             13.0   \n",
              "AIRPORT BUILDING NON-TERMINAL - SECURE AREA                  2.0   \n",
              "\n",
              "primary_type                                     CRIMINAL TRESPASS  \\\n",
              "location_description                                                 \n",
              "\"CTA \"\"L\"\" TRAIN\"                                              0.0   \n",
              "ABANDONED BUILDING                                           420.0   \n",
              "AIRCRAFT                                                       0.0   \n",
              "AIRPORT BUILDING NON-TERMINAL - NON-SECURE AREA               16.0   \n",
              "AIRPORT BUILDING NON-TERMINAL - SECURE AREA                    0.0   \n",
              "\n",
              "primary_type                                     DECEPTIVE PRACTICE  GAMBLING  \\\n",
              "location_description                                                            \n",
              "\"CTA \"\"L\"\" TRAIN\"                                               0.0       0.0   \n",
              "ABANDONED BUILDING                                             25.0      26.0   \n",
              "AIRCRAFT                                                        4.0       0.0   \n",
              "AIRPORT BUILDING NON-TERMINAL - NON-SECURE AREA                48.0       0.0   \n",
              "AIRPORT BUILDING NON-TERMINAL - SECURE AREA                     9.0       0.0   \n",
              "\n",
              "primary_type                                     HOMICIDE  HUMAN TRAFFICKING  \\\n",
              "location_description                                                           \n",
              "\"CTA \"\"L\"\" TRAIN\"                                     1.0                0.0   \n",
              "ABANDONED BUILDING                                   11.0                0.0   \n",
              "AIRCRAFT                                              0.0                0.0   \n",
              "AIRPORT BUILDING NON-TERMINAL - NON-SECURE AREA       0.0                0.0   \n",
              "AIRPORT BUILDING NON-TERMINAL - SECURE AREA           0.0                0.0   \n",
              "\n",
              "primary_type                                     INTERFERENCE WITH PUBLIC OFFICER  \\\n",
              "location_description                                                                \n",
              "\"CTA \"\"L\"\" TRAIN\"                                                             0.0   \n",
              "ABANDONED BUILDING                                                           13.0   \n",
              "AIRCRAFT                                                                      0.0   \n",
              "AIRPORT BUILDING NON-TERMINAL - NON-SECURE AREA                               0.0   \n",
              "AIRPORT BUILDING NON-TERMINAL - SECURE AREA                                   0.0   \n",
              "\n",
              "primary_type                                     INTIMIDATION  KIDNAPPING  \\\n",
              "location_description                                                        \n",
              "\"CTA \"\"L\"\" TRAIN\"                                         0.0         0.0   \n",
              "ABANDONED BUILDING                                        0.0         2.0   \n",
              "AIRCRAFT                                                  0.0         0.0   \n",
              "AIRPORT BUILDING NON-TERMINAL - NON-SECURE AREA           0.0         0.0   \n",
              "AIRPORT BUILDING NON-TERMINAL - SECURE AREA               0.0         0.0   \n",
              "\n",
              "primary_type                                     LIQUOR LAW VIOLATION  \\\n",
              "location_description                                                    \n",
              "\"CTA \"\"L\"\" TRAIN\"                                                 0.0   \n",
              "ABANDONED BUILDING                                                5.0   \n",
              "AIRCRAFT                                                          0.0   \n",
              "AIRPORT BUILDING NON-TERMINAL - NON-SECURE AREA                   0.0   \n",
              "AIRPORT BUILDING NON-TERMINAL - SECURE AREA                       0.0   \n",
              "\n",
              "primary_type                                     MOTOR VEHICLE THEFT  \\\n",
              "location_description                                                   \n",
              "\"CTA \"\"L\"\" TRAIN\"                                                0.0   \n",
              "ABANDONED BUILDING                                               5.0   \n",
              "AIRCRAFT                                                         0.0   \n",
              "AIRPORT BUILDING NON-TERMINAL - NON-SECURE AREA                 12.0   \n",
              "AIRPORT BUILDING NON-TERMINAL - SECURE AREA                      1.0   \n",
              "\n",
              "primary_type                                     NARCOTICS  NON - CRIMINAL  \\\n",
              "location_description                                                         \n",
              "\"CTA \"\"L\"\" TRAIN\"                                      0.0             0.0   \n",
              "ABANDONED BUILDING                                   756.0             0.0   \n",
              "AIRCRAFT                                               4.0             0.0   \n",
              "AIRPORT BUILDING NON-TERMINAL - NON-SECURE AREA        4.0             0.0   \n",
              "AIRPORT BUILDING NON-TERMINAL - SECURE AREA            5.0             0.0   \n",
              "\n",
              "primary_type                                     NON-CRIMINAL  \\\n",
              "location_description                                            \n",
              "\"CTA \"\"L\"\" TRAIN\"                                         0.0   \n",
              "ABANDONED BUILDING                                        0.0   \n",
              "AIRCRAFT                                                  1.0   \n",
              "AIRPORT BUILDING NON-TERMINAL - NON-SECURE AREA           2.0   \n",
              "AIRPORT BUILDING NON-TERMINAL - SECURE AREA               0.0   \n",
              "\n",
              "primary_type                                     NON-CRIMINAL (SUBJECT SPECIFIED)  \\\n",
              "location_description                                                                \n",
              "\"CTA \"\"L\"\" TRAIN\"                                                             0.0   \n",
              "ABANDONED BUILDING                                                            0.0   \n",
              "AIRCRAFT                                                                      0.0   \n",
              "AIRPORT BUILDING NON-TERMINAL - NON-SECURE AREA                               0.0   \n",
              "AIRPORT BUILDING NON-TERMINAL - SECURE AREA                                   0.0   \n",
              "\n",
              "primary_type                                     OBSCENITY  \\\n",
              "location_description                                         \n",
              "\"CTA \"\"L\"\" TRAIN\"                                      0.0   \n",
              "ABANDONED BUILDING                                     0.0   \n",
              "AIRCRAFT                                               0.0   \n",
              "AIRPORT BUILDING NON-TERMINAL - NON-SECURE AREA        0.0   \n",
              "AIRPORT BUILDING NON-TERMINAL - SECURE AREA            0.0   \n",
              "\n",
              "primary_type                                     OFFENSE INVOLVING CHILDREN  \\\n",
              "location_description                                                          \n",
              "\"CTA \"\"L\"\" TRAIN\"                                                       0.0   \n",
              "ABANDONED BUILDING                                                      9.0   \n",
              "AIRCRAFT                                                                0.0   \n",
              "AIRPORT BUILDING NON-TERMINAL - NON-SECURE AREA                         0.0   \n",
              "AIRPORT BUILDING NON-TERMINAL - SECURE AREA                             0.0   \n",
              "\n",
              "primary_type                                     OTHER NARCOTIC VIOLATION  \\\n",
              "location_description                                                        \n",
              "\"CTA \"\"L\"\" TRAIN\"                                                     0.0   \n",
              "ABANDONED BUILDING                                                    0.0   \n",
              "AIRCRAFT                                                              0.0   \n",
              "AIRPORT BUILDING NON-TERMINAL - NON-SECURE AREA                       0.0   \n",
              "AIRPORT BUILDING NON-TERMINAL - SECURE AREA                           0.0   \n",
              "\n",
              "primary_type                                     OTHER OFFENSE  PROSTITUTION  \\\n",
              "location_description                                                           \n",
              "\"CTA \"\"L\"\" TRAIN\"                                          0.0           0.0   \n",
              "ABANDONED BUILDING                                       112.0           3.0   \n",
              "AIRCRAFT                                                  11.0           0.0   \n",
              "AIRPORT BUILDING NON-TERMINAL - NON-SECURE AREA           12.0           0.0   \n",
              "AIRPORT BUILDING NON-TERMINAL - SECURE AREA                9.0           0.0   \n",
              "\n",
              "primary_type                                     PUBLIC INDECENCY  \\\n",
              "location_description                                                \n",
              "\"CTA \"\"L\"\" TRAIN\"                                             0.0   \n",
              "ABANDONED BUILDING                                            0.0   \n",
              "AIRCRAFT                                                      0.0   \n",
              "AIRPORT BUILDING NON-TERMINAL - NON-SECURE AREA               0.0   \n",
              "AIRPORT BUILDING NON-TERMINAL - SECURE AREA                   0.0   \n",
              "\n",
              "primary_type                                     PUBLIC PEACE VIOLATION  \\\n",
              "location_description                                                      \n",
              "\"CTA \"\"L\"\" TRAIN\"                                                   0.0   \n",
              "ABANDONED BUILDING                                                 31.0   \n",
              "AIRCRAFT                                                           30.0   \n",
              "AIRPORT BUILDING NON-TERMINAL - NON-SECURE AREA                     3.0   \n",
              "AIRPORT BUILDING NON-TERMINAL - SECURE AREA                         3.0   \n",
              "\n",
              "primary_type                                     RITUALISM  ROBBERY  \\\n",
              "location_description                                                  \n",
              "\"CTA \"\"L\"\" TRAIN\"                                      0.0      0.0   \n",
              "ABANDONED BUILDING                                     0.0     38.0   \n",
              "AIRCRAFT                                               0.0      0.0   \n",
              "AIRPORT BUILDING NON-TERMINAL - NON-SECURE AREA        0.0      0.0   \n",
              "AIRPORT BUILDING NON-TERMINAL - SECURE AREA            0.0      0.0   \n",
              "\n",
              "primary_type                                     SEX OFFENSE  STALKING  THEFT  \\\n",
              "location_description                                                            \n",
              "\"CTA \"\"L\"\" TRAIN\"                                        0.0       0.0    0.0   \n",
              "ABANDONED BUILDING                                      17.0       0.0  359.0   \n",
              "AIRCRAFT                                                 3.0       0.0   78.0   \n",
              "AIRPORT BUILDING NON-TERMINAL - NON-SECURE AREA          0.0       0.0   94.0   \n",
              "AIRPORT BUILDING NON-TERMINAL - SECURE AREA              0.0       0.0   94.0   \n",
              "\n",
              "primary_type                                     WEAPONS VIOLATION  \n",
              "location_description                                                \n",
              "\"CTA \"\"L\"\" TRAIN\"                                              0.0  \n",
              "ABANDONED BUILDING                                            65.0  \n",
              "AIRCRAFT                                                       0.0  \n",
              "AIRPORT BUILDING NON-TERMINAL - NON-SECURE AREA                1.0  \n",
              "AIRPORT BUILDING NON-TERMINAL - SECURE AREA                    2.0  "
            ]
          },
          "metadata": {
            "tags": []
          },
          "execution_count": 147
        }
      ]
    },
    {
      "cell_type": "code",
      "metadata": {
        "id": "JDGGnP5wNvvn",
        "colab_type": "code",
        "colab": {
          "base_uri": "https://localhost:8080/",
          "height": 225
        },
        "outputId": "72b0d910-6bb9-452c-d2b7-a7fc914cbfbe"
      },
      "source": [
        "pivot.columns"
      ],
      "execution_count": 148,
      "outputs": [
        {
          "output_type": "execute_result",
          "data": {
            "text/plain": [
              "Index(['ARSON', 'ASSAULT', 'BATTERY', 'BURGLARY',\n",
              "       'CONCEALED CARRY LICENSE VIOLATION', 'CRIM SEXUAL ASSAULT',\n",
              "       'CRIMINAL DAMAGE', 'CRIMINAL TRESPASS', 'DECEPTIVE PRACTICE',\n",
              "       'GAMBLING', 'HOMICIDE', 'HUMAN TRAFFICKING',\n",
              "       'INTERFERENCE WITH PUBLIC OFFICER', 'INTIMIDATION', 'KIDNAPPING',\n",
              "       'LIQUOR LAW VIOLATION', 'MOTOR VEHICLE THEFT', 'NARCOTICS',\n",
              "       'NON - CRIMINAL', 'NON-CRIMINAL', 'NON-CRIMINAL (SUBJECT SPECIFIED)',\n",
              "       'OBSCENITY', 'OFFENSE INVOLVING CHILDREN', 'OTHER NARCOTIC VIOLATION',\n",
              "       'OTHER OFFENSE', 'PROSTITUTION', 'PUBLIC INDECENCY',\n",
              "       'PUBLIC PEACE VIOLATION', 'RITUALISM', 'ROBBERY', 'SEX OFFENSE',\n",
              "       'STALKING', 'THEFT', 'WEAPONS VIOLATION'],\n",
              "      dtype='object', name='primary_type')"
            ]
          },
          "metadata": {
            "tags": []
          },
          "execution_count": 148
        }
      ]
    },
    {
      "cell_type": "code",
      "metadata": {
        "id": "UKKsV7YDQok_",
        "colab_type": "code",
        "colab": {
          "base_uri": "https://localhost:8080/",
          "height": 797
        },
        "outputId": "efb02bac-0d02-420e-984f-db35661f086a"
      },
      "source": [
        "pivot[pivot.ARSON!=0]['ARSON'].plot(kind='bar',figsize=(30,10),rot=70,fontsize=8,colormap='autumn')"
      ],
      "execution_count": 163,
      "outputs": [
        {
          "output_type": "execute_result",
          "data": {
            "text/plain": [
              "<matplotlib.axes._subplots.AxesSubplot at 0x7fb5b6fd2f28>"
            ]
          },
          "metadata": {
            "tags": []
          },
          "execution_count": 163
        },
        {
          "output_type": "display_data",
          "data": {
            "image/png": "[encoded data removed]",
            "text/plain": [
              "<Figure size 2160x720 with 1 Axes>"
            ]
          },
          "metadata": {
            "tags": []
          }
        }
      ]
    },
    {
      "cell_type": "code",
      "metadata": {
        "id": "e_bJBKfQRjM9",
        "colab_type": "code",
        "colab": {
          "base_uri": "https://localhost:8080/",
          "height": 225
        },
        "outputId": "17f47b5a-dc64-47bd-f569-d6346fcdbe5a"
      },
      "source": [
        "pivot.columns"
      ],
      "execution_count": 164,
      "outputs": [
        {
          "output_type": "execute_result",
          "data": {
            "text/plain": [
              "Index(['ARSON', 'ASSAULT', 'BATTERY', 'BURGLARY',\n",
              "       'CONCEALED CARRY LICENSE VIOLATION', 'CRIM SEXUAL ASSAULT',\n",
              "       'CRIMINAL DAMAGE', 'CRIMINAL TRESPASS', 'DECEPTIVE PRACTICE',\n",
              "       'GAMBLING', 'HOMICIDE', 'HUMAN TRAFFICKING',\n",
              "       'INTERFERENCE WITH PUBLIC OFFICER', 'INTIMIDATION', 'KIDNAPPING',\n",
              "       'LIQUOR LAW VIOLATION', 'MOTOR VEHICLE THEFT', 'NARCOTICS',\n",
              "       'NON - CRIMINAL', 'NON-CRIMINAL', 'NON-CRIMINAL (SUBJECT SPECIFIED)',\n",
              "       'OBSCENITY', 'OFFENSE INVOLVING CHILDREN', 'OTHER NARCOTIC VIOLATION',\n",
              "       'OTHER OFFENSE', 'PROSTITUTION', 'PUBLIC INDECENCY',\n",
              "       'PUBLIC PEACE VIOLATION', 'RITUALISM', 'ROBBERY', 'SEX OFFENSE',\n",
              "       'STALKING', 'THEFT', 'WEAPONS VIOLATION'],\n",
              "      dtype='object', name='primary_type')"
            ]
          },
          "metadata": {
            "tags": []
          },
          "execution_count": 164
        }
      ]
    },
    {
      "cell_type": "code",
      "metadata": {
        "id": "s16FeJc2R81Y",
        "colab_type": "code",
        "colab": {
          "base_uri": "https://localhost:8080/",
          "height": 391
        },
        "outputId": "6887df39-831d-485a-aa31-a05bc3a2bd88"
      },
      "source": [
        "pivot.head()"
      ],
      "execution_count": 165,
      "outputs": [
        {
          "output_type": "execute_result",
          "data": {
            "text/html": [
              "<div>\n",
              "<style scoped>\n",
              "    .dataframe tbody tr th:only-of-type {\n",
              "        vertical-align: middle;\n",
              "    }\n",
              "\n",
              "    .dataframe tbody tr th {\n",
              "        vertical-align: top;\n",
              "    }\n",
              "\n",
              "    .dataframe thead th {\n",
              "        text-align: right;\n",
              "    }\n",
              "</style>\n",
              "<table border=\"1\" class=\"dataframe\">\n",
              "  <thead>\n",
              "    <tr style=\"text-align: right;\">\n",
              "      <th>primary_type</th>\n",
              "      <th>ARSON</th>\n",
              "      <th>ASSAULT</th>\n",
              "      <th>BATTERY</th>\n",
              "      <th>BURGLARY</th>\n",
              "      <th>CONCEALED CARRY LICENSE VIOLATION</th>\n",
              "      <th>CRIM SEXUAL ASSAULT</th>\n",
              "      <th>CRIMINAL DAMAGE</th>\n",
              "      <th>CRIMINAL TRESPASS</th>\n",
              "      <th>DECEPTIVE PRACTICE</th>\n",
              "      <th>GAMBLING</th>\n",
              "      <th>HOMICIDE</th>\n",
              "      <th>HUMAN TRAFFICKING</th>\n",
              "      <th>INTERFERENCE WITH PUBLIC OFFICER</th>\n",
              "      <th>INTIMIDATION</th>\n",
              "      <th>KIDNAPPING</th>\n",
              "      <th>LIQUOR LAW VIOLATION</th>\n",
              "      <th>MOTOR VEHICLE THEFT</th>\n",
              "      <th>NARCOTICS</th>\n",
              "      <th>NON - CRIMINAL</th>\n",
              "      <th>NON-CRIMINAL</th>\n",
              "      <th>NON-CRIMINAL (SUBJECT SPECIFIED)</th>\n",
              "      <th>OBSCENITY</th>\n",
              "      <th>OFFENSE INVOLVING CHILDREN</th>\n",
              "      <th>OTHER NARCOTIC VIOLATION</th>\n",
              "      <th>OTHER OFFENSE</th>\n",
              "      <th>PROSTITUTION</th>\n",
              "      <th>PUBLIC INDECENCY</th>\n",
              "      <th>PUBLIC PEACE VIOLATION</th>\n",
              "      <th>RITUALISM</th>\n",
              "      <th>ROBBERY</th>\n",
              "      <th>SEX OFFENSE</th>\n",
              "      <th>STALKING</th>\n",
              "      <th>THEFT</th>\n",
              "      <th>WEAPONS VIOLATION</th>\n",
              "    </tr>\n",
              "    <tr>\n",
              "      <th>location_description</th>\n",
              "      <th></th>\n",
              "      <th></th>\n",
              "      <th></th>\n",
              "      <th></th>\n",
              "      <th></th>\n",
              "      <th></th>\n",
              "      <th></th>\n",
              "      <th></th>\n",
              "      <th></th>\n",
              "      <th></th>\n",
              "      <th></th>\n",
              "      <th></th>\n",
              "      <th></th>\n",
              "      <th></th>\n",
              "      <th></th>\n",
              "      <th></th>\n",
              "      <th></th>\n",
              "      <th></th>\n",
              "      <th></th>\n",
              "      <th></th>\n",
              "      <th></th>\n",
              "      <th></th>\n",
              "      <th></th>\n",
              "      <th></th>\n",
              "      <th></th>\n",
              "      <th></th>\n",
              "      <th></th>\n",
              "      <th></th>\n",
              "      <th></th>\n",
              "      <th></th>\n",
              "      <th></th>\n",
              "      <th></th>\n",
              "      <th></th>\n",
              "      <th></th>\n",
              "    </tr>\n",
              "  </thead>\n",
              "  <tbody>\n",
              "    <tr>\n",
              "      <th>\"CTA \"\"L\"\" TRAIN\"</th>\n",
              "      <td>0.0</td>\n",
              "      <td>0.0</td>\n",
              "      <td>0.0</td>\n",
              "      <td>0.0</td>\n",
              "      <td>0.0</td>\n",
              "      <td>0.0</td>\n",
              "      <td>0.0</td>\n",
              "      <td>0.0</td>\n",
              "      <td>0.0</td>\n",
              "      <td>0.0</td>\n",
              "      <td>1.0</td>\n",
              "      <td>0.0</td>\n",
              "      <td>0.0</td>\n",
              "      <td>0.0</td>\n",
              "      <td>0.0</td>\n",
              "      <td>0.0</td>\n",
              "      <td>0.0</td>\n",
              "      <td>0.0</td>\n",
              "      <td>0.0</td>\n",
              "      <td>0.0</td>\n",
              "      <td>0.0</td>\n",
              "      <td>0.0</td>\n",
              "      <td>0.0</td>\n",
              "      <td>0.0</td>\n",
              "      <td>0.0</td>\n",
              "      <td>0.0</td>\n",
              "      <td>0.0</td>\n",
              "      <td>0.0</td>\n",
              "      <td>0.0</td>\n",
              "      <td>0.0</td>\n",
              "      <td>0.0</td>\n",
              "      <td>0.0</td>\n",
              "      <td>0.0</td>\n",
              "      <td>0.0</td>\n",
              "    </tr>\n",
              "    <tr>\n",
              "      <th>ABANDONED BUILDING</th>\n",
              "      <td>58.0</td>\n",
              "      <td>17.0</td>\n",
              "      <td>93.0</td>\n",
              "      <td>417.0</td>\n",
              "      <td>1.0</td>\n",
              "      <td>87.0</td>\n",
              "      <td>265.0</td>\n",
              "      <td>420.0</td>\n",
              "      <td>25.0</td>\n",
              "      <td>26.0</td>\n",
              "      <td>11.0</td>\n",
              "      <td>0.0</td>\n",
              "      <td>13.0</td>\n",
              "      <td>0.0</td>\n",
              "      <td>2.0</td>\n",
              "      <td>5.0</td>\n",
              "      <td>5.0</td>\n",
              "      <td>756.0</td>\n",
              "      <td>0.0</td>\n",
              "      <td>0.0</td>\n",
              "      <td>0.0</td>\n",
              "      <td>0.0</td>\n",
              "      <td>9.0</td>\n",
              "      <td>0.0</td>\n",
              "      <td>112.0</td>\n",
              "      <td>3.0</td>\n",
              "      <td>0.0</td>\n",
              "      <td>31.0</td>\n",
              "      <td>0.0</td>\n",
              "      <td>38.0</td>\n",
              "      <td>17.0</td>\n",
              "      <td>0.0</td>\n",
              "      <td>359.0</td>\n",
              "      <td>65.0</td>\n",
              "    </tr>\n",
              "    <tr>\n",
              "      <th>AIRCRAFT</th>\n",
              "      <td>0.0</td>\n",
              "      <td>10.0</td>\n",
              "      <td>31.0</td>\n",
              "      <td>0.0</td>\n",
              "      <td>0.0</td>\n",
              "      <td>0.0</td>\n",
              "      <td>1.0</td>\n",
              "      <td>0.0</td>\n",
              "      <td>4.0</td>\n",
              "      <td>0.0</td>\n",
              "      <td>0.0</td>\n",
              "      <td>0.0</td>\n",
              "      <td>0.0</td>\n",
              "      <td>0.0</td>\n",
              "      <td>0.0</td>\n",
              "      <td>0.0</td>\n",
              "      <td>0.0</td>\n",
              "      <td>4.0</td>\n",
              "      <td>0.0</td>\n",
              "      <td>1.0</td>\n",
              "      <td>0.0</td>\n",
              "      <td>0.0</td>\n",
              "      <td>0.0</td>\n",
              "      <td>0.0</td>\n",
              "      <td>11.0</td>\n",
              "      <td>0.0</td>\n",
              "      <td>0.0</td>\n",
              "      <td>30.0</td>\n",
              "      <td>0.0</td>\n",
              "      <td>0.0</td>\n",
              "      <td>3.0</td>\n",
              "      <td>0.0</td>\n",
              "      <td>78.0</td>\n",
              "      <td>0.0</td>\n",
              "    </tr>\n",
              "    <tr>\n",
              "      <th>AIRPORT BUILDING NON-TERMINAL - NON-SECURE AREA</th>\n",
              "      <td>0.0</td>\n",
              "      <td>8.0</td>\n",
              "      <td>13.0</td>\n",
              "      <td>0.0</td>\n",
              "      <td>2.0</td>\n",
              "      <td>0.0</td>\n",
              "      <td>13.0</td>\n",
              "      <td>16.0</td>\n",
              "      <td>48.0</td>\n",
              "      <td>0.0</td>\n",
              "      <td>0.0</td>\n",
              "      <td>0.0</td>\n",
              "      <td>0.0</td>\n",
              "      <td>0.0</td>\n",
              "      <td>0.0</td>\n",
              "      <td>0.0</td>\n",
              "      <td>12.0</td>\n",
              "      <td>4.0</td>\n",
              "      <td>0.0</td>\n",
              "      <td>2.0</td>\n",
              "      <td>0.0</td>\n",
              "      <td>0.0</td>\n",
              "      <td>0.0</td>\n",
              "      <td>0.0</td>\n",
              "      <td>12.0</td>\n",
              "      <td>0.0</td>\n",
              "      <td>0.0</td>\n",
              "      <td>3.0</td>\n",
              "      <td>0.0</td>\n",
              "      <td>0.0</td>\n",
              "      <td>0.0</td>\n",
              "      <td>0.0</td>\n",
              "      <td>94.0</td>\n",
              "      <td>1.0</td>\n",
              "    </tr>\n",
              "    <tr>\n",
              "      <th>AIRPORT BUILDING NON-TERMINAL - SECURE AREA</th>\n",
              "      <td>0.0</td>\n",
              "      <td>7.0</td>\n",
              "      <td>14.0</td>\n",
              "      <td>0.0</td>\n",
              "      <td>2.0</td>\n",
              "      <td>0.0</td>\n",
              "      <td>2.0</td>\n",
              "      <td>0.0</td>\n",
              "      <td>9.0</td>\n",
              "      <td>0.0</td>\n",
              "      <td>0.0</td>\n",
              "      <td>0.0</td>\n",
              "      <td>0.0</td>\n",
              "      <td>0.0</td>\n",
              "      <td>0.0</td>\n",
              "      <td>0.0</td>\n",
              "      <td>1.0</td>\n",
              "      <td>5.0</td>\n",
              "      <td>0.0</td>\n",
              "      <td>0.0</td>\n",
              "      <td>0.0</td>\n",
              "      <td>0.0</td>\n",
              "      <td>0.0</td>\n",
              "      <td>0.0</td>\n",
              "      <td>9.0</td>\n",
              "      <td>0.0</td>\n",
              "      <td>0.0</td>\n",
              "      <td>3.0</td>\n",
              "      <td>0.0</td>\n",
              "      <td>0.0</td>\n",
              "      <td>0.0</td>\n",
              "      <td>0.0</td>\n",
              "      <td>94.0</td>\n",
              "      <td>2.0</td>\n",
              "    </tr>\n",
              "  </tbody>\n",
              "</table>\n",
              "</div>"
            ],
            "text/plain": [
              "primary_type                                     ARSON  ASSAULT  BATTERY  \\\n",
              "location_description                                                       \n",
              "\"CTA \"\"L\"\" TRAIN\"                                  0.0      0.0      0.0   \n",
              "ABANDONED BUILDING                                58.0     17.0     93.0   \n",
              "AIRCRAFT                                           0.0     10.0     31.0   \n",
              "AIRPORT BUILDING NON-TERMINAL - NON-SECURE AREA    0.0      8.0     13.0   \n",
              "AIRPORT BUILDING NON-TERMINAL - SECURE AREA        0.0      7.0     14.0   \n",
              "\n",
              "primary_type                                     BURGLARY  \\\n",
              "location_description                                        \n",
              "\"CTA \"\"L\"\" TRAIN\"                                     0.0   \n",
              "ABANDONED BUILDING                                  417.0   \n",
              "AIRCRAFT                                              0.0   \n",
              "AIRPORT BUILDING NON-TERMINAL - NON-SECURE AREA       0.0   \n",
              "AIRPORT BUILDING NON-TERMINAL - SECURE AREA           0.0   \n",
              "\n",
              "primary_type                                     CONCEALED CARRY LICENSE VIOLATION  \\\n",
              "location_description                                                                 \n",
              "\"CTA \"\"L\"\" TRAIN\"                                                              0.0   \n",
              "ABANDONED BUILDING                                                             1.0   \n",
              "AIRCRAFT                                                                       0.0   \n",
              "AIRPORT BUILDING NON-TERMINAL - NON-SECURE AREA                                2.0   \n",
              "AIRPORT BUILDING NON-TERMINAL - SECURE AREA                                    2.0   \n",
              "\n",
              "primary_type                                     CRIM SEXUAL ASSAULT  \\\n",
              "location_description                                                   \n",
              "\"CTA \"\"L\"\" TRAIN\"                                                0.0   \n",
              "ABANDONED BUILDING                                              87.0   \n",
              "AIRCRAFT                                                         0.0   \n",
              "AIRPORT BUILDING NON-TERMINAL - NON-SECURE AREA                  0.0   \n",
              "AIRPORT BUILDING NON-TERMINAL - SECURE AREA                      0.0   \n",
              "\n",
              "primary_type                                     CRIMINAL DAMAGE  \\\n",
              "location_description                                               \n",
              "\"CTA \"\"L\"\" TRAIN\"                                            0.0   \n",
              "ABANDONED BUILDING                                         265.0   \n",
              "AIRCRAFT                                                     1.0   \n",
              "AIRPORT BUILDING NON-TERMINAL - NON-SECURE AREA             13.0   \n",
              "AIRPORT BUILDING NON-TERMINAL - SECURE AREA                  2.0   \n",
              "\n",
              "primary_type                                     CRIMINAL TRESPASS  \\\n",
              "location_description                                                 \n",
              "\"CTA \"\"L\"\" TRAIN\"                                              0.0   \n",
              "ABANDONED BUILDING                                           420.0   \n",
              "AIRCRAFT                                                       0.0   \n",
              "AIRPORT BUILDING NON-TERMINAL - NON-SECURE AREA               16.0   \n",
              "AIRPORT BUILDING NON-TERMINAL - SECURE AREA                    0.0   \n",
              "\n",
              "primary_type                                     DECEPTIVE PRACTICE  GAMBLING  \\\n",
              "location_description                                                            \n",
              "\"CTA \"\"L\"\" TRAIN\"                                               0.0       0.0   \n",
              "ABANDONED BUILDING                                             25.0      26.0   \n",
              "AIRCRAFT                                                        4.0       0.0   \n",
              "AIRPORT BUILDING NON-TERMINAL - NON-SECURE AREA                48.0       0.0   \n",
              "AIRPORT BUILDING NON-TERMINAL - SECURE AREA                     9.0       0.0   \n",
              "\n",
              "primary_type                                     HOMICIDE  HUMAN TRAFFICKING  \\\n",
              "location_description                                                           \n",
              "\"CTA \"\"L\"\" TRAIN\"                                     1.0                0.0   \n",
              "ABANDONED BUILDING                                   11.0                0.0   \n",
              "AIRCRAFT                                              0.0                0.0   \n",
              "AIRPORT BUILDING NON-TERMINAL - NON-SECURE AREA       0.0                0.0   \n",
              "AIRPORT BUILDING NON-TERMINAL - SECURE AREA           0.0                0.0   \n",
              "\n",
              "primary_type                                     INTERFERENCE WITH PUBLIC OFFICER  \\\n",
              "location_description                                                                \n",
              "\"CTA \"\"L\"\" TRAIN\"                                                             0.0   \n",
              "ABANDONED BUILDING                                                           13.0   \n",
              "AIRCRAFT                                                                      0.0   \n",
              "AIRPORT BUILDING NON-TERMINAL - NON-SECURE AREA                               0.0   \n",
              "AIRPORT BUILDING NON-TERMINAL - SECURE AREA                                   0.0   \n",
              "\n",
              "primary_type                                     INTIMIDATION  KIDNAPPING  \\\n",
              "location_description                                                        \n",
              "\"CTA \"\"L\"\" TRAIN\"                                         0.0         0.0   \n",
              "ABANDONED BUILDING                                        0.0         2.0   \n",
              "AIRCRAFT                                                  0.0         0.0   \n",
              "AIRPORT BUILDING NON-TERMINAL - NON-SECURE AREA           0.0         0.0   \n",
              "AIRPORT BUILDING NON-TERMINAL - SECURE AREA               0.0         0.0   \n",
              "\n",
              "primary_type                                     LIQUOR LAW VIOLATION  \\\n",
              "location_description                                                    \n",
              "\"CTA \"\"L\"\" TRAIN\"                                                 0.0   \n",
              "ABANDONED BUILDING                                                5.0   \n",
              "AIRCRAFT                                                          0.0   \n",
              "AIRPORT BUILDING NON-TERMINAL - NON-SECURE AREA                   0.0   \n",
              "AIRPORT BUILDING NON-TERMINAL - SECURE AREA                       0.0   \n",
              "\n",
              "primary_type                                     MOTOR VEHICLE THEFT  \\\n",
              "location_description                                                   \n",
              "\"CTA \"\"L\"\" TRAIN\"                                                0.0   \n",
              "ABANDONED BUILDING                                               5.0   \n",
              "AIRCRAFT                                                         0.0   \n",
              "AIRPORT BUILDING NON-TERMINAL - NON-SECURE AREA                 12.0   \n",
              "AIRPORT BUILDING NON-TERMINAL - SECURE AREA                      1.0   \n",
              "\n",
              "primary_type                                     NARCOTICS  NON - CRIMINAL  \\\n",
              "location_description                                                         \n",
              "\"CTA \"\"L\"\" TRAIN\"                                      0.0             0.0   \n",
              "ABANDONED BUILDING                                   756.0             0.0   \n",
              "AIRCRAFT                                               4.0             0.0   \n",
              "AIRPORT BUILDING NON-TERMINAL - NON-SECURE AREA        4.0             0.0   \n",
              "AIRPORT BUILDING NON-TERMINAL - SECURE AREA            5.0             0.0   \n",
              "\n",
              "primary_type                                     NON-CRIMINAL  \\\n",
              "location_description                                            \n",
              "\"CTA \"\"L\"\" TRAIN\"                                         0.0   \n",
              "ABANDONED BUILDING                                        0.0   \n",
              "AIRCRAFT                                                  1.0   \n",
              "AIRPORT BUILDING NON-TERMINAL - NON-SECURE AREA           2.0   \n",
              "AIRPORT BUILDING NON-TERMINAL - SECURE AREA               0.0   \n",
              "\n",
              "primary_type                                     NON-CRIMINAL (SUBJECT SPECIFIED)  \\\n",
              "location_description                                                                \n",
              "\"CTA \"\"L\"\" TRAIN\"                                                             0.0   \n",
              "ABANDONED BUILDING                                                            0.0   \n",
              "AIRCRAFT                                                                      0.0   \n",
              "AIRPORT BUILDING NON-TERMINAL - NON-SECURE AREA                               0.0   \n",
              "AIRPORT BUILDING NON-TERMINAL - SECURE AREA                                   0.0   \n",
              "\n",
              "primary_type                                     OBSCENITY  \\\n",
              "location_description                                         \n",
              "\"CTA \"\"L\"\" TRAIN\"                                      0.0   \n",
              "ABANDONED BUILDING                                     0.0   \n",
              "AIRCRAFT                                               0.0   \n",
              "AIRPORT BUILDING NON-TERMINAL - NON-SECURE AREA        0.0   \n",
              "AIRPORT BUILDING NON-TERMINAL - SECURE AREA            0.0   \n",
              "\n",
              "primary_type                                     OFFENSE INVOLVING CHILDREN  \\\n",
              "location_description                                                          \n",
              "\"CTA \"\"L\"\" TRAIN\"                                                       0.0   \n",
              "ABANDONED BUILDING                                                      9.0   \n",
              "AIRCRAFT                                                                0.0   \n",
              "AIRPORT BUILDING NON-TERMINAL - NON-SECURE AREA                         0.0   \n",
              "AIRPORT BUILDING NON-TERMINAL - SECURE AREA                             0.0   \n",
              "\n",
              "primary_type                                     OTHER NARCOTIC VIOLATION  \\\n",
              "location_description                                                        \n",
              "\"CTA \"\"L\"\" TRAIN\"                                                     0.0   \n",
              "ABANDONED BUILDING                                                    0.0   \n",
              "AIRCRAFT                                                              0.0   \n",
              "AIRPORT BUILDING NON-TERMINAL - NON-SECURE AREA                       0.0   \n",
              "AIRPORT BUILDING NON-TERMINAL - SECURE AREA                           0.0   \n",
              "\n",
              "primary_type                                     OTHER OFFENSE  PROSTITUTION  \\\n",
              "location_description                                                           \n",
              "\"CTA \"\"L\"\" TRAIN\"                                          0.0           0.0   \n",
              "ABANDONED BUILDING                                       112.0           3.0   \n",
              "AIRCRAFT                                                  11.0           0.0   \n",
              "AIRPORT BUILDING NON-TERMINAL - NON-SECURE AREA           12.0           0.0   \n",
              "AIRPORT BUILDING NON-TERMINAL - SECURE AREA                9.0           0.0   \n",
              "\n",
              "primary_type                                     PUBLIC INDECENCY  \\\n",
              "location_description                                                \n",
              "\"CTA \"\"L\"\" TRAIN\"                                             0.0   \n",
              "ABANDONED BUILDING                                            0.0   \n",
              "AIRCRAFT                                                      0.0   \n",
              "AIRPORT BUILDING NON-TERMINAL - NON-SECURE AREA               0.0   \n",
              "AIRPORT BUILDING NON-TERMINAL - SECURE AREA                   0.0   \n",
              "\n",
              "primary_type                                     PUBLIC PEACE VIOLATION  \\\n",
              "location_description                                                      \n",
              "\"CTA \"\"L\"\" TRAIN\"                                                   0.0   \n",
              "ABANDONED BUILDING                                                 31.0   \n",
              "AIRCRAFT                                                           30.0   \n",
              "AIRPORT BUILDING NON-TERMINAL - NON-SECURE AREA                     3.0   \n",
              "AIRPORT BUILDING NON-TERMINAL - SECURE AREA                         3.0   \n",
              "\n",
              "primary_type                                     RITUALISM  ROBBERY  \\\n",
              "location_description                                                  \n",
              "\"CTA \"\"L\"\" TRAIN\"                                      0.0      0.0   \n",
              "ABANDONED BUILDING                                     0.0     38.0   \n",
              "AIRCRAFT                                               0.0      0.0   \n",
              "AIRPORT BUILDING NON-TERMINAL - NON-SECURE AREA        0.0      0.0   \n",
              "AIRPORT BUILDING NON-TERMINAL - SECURE AREA            0.0      0.0   \n",
              "\n",
              "primary_type                                     SEX OFFENSE  STALKING  THEFT  \\\n",
              "location_description                                                            \n",
              "\"CTA \"\"L\"\" TRAIN\"                                        0.0       0.0    0.0   \n",
              "ABANDONED BUILDING                                      17.0       0.0  359.0   \n",
              "AIRCRAFT                                                 3.0       0.0   78.0   \n",
              "AIRPORT BUILDING NON-TERMINAL - NON-SECURE AREA          0.0       0.0   94.0   \n",
              "AIRPORT BUILDING NON-TERMINAL - SECURE AREA              0.0       0.0   94.0   \n",
              "\n",
              "primary_type                                     WEAPONS VIOLATION  \n",
              "location_description                                                \n",
              "\"CTA \"\"L\"\" TRAIN\"                                              0.0  \n",
              "ABANDONED BUILDING                                            65.0  \n",
              "AIRCRAFT                                                       0.0  \n",
              "AIRPORT BUILDING NON-TERMINAL - NON-SECURE AREA                1.0  \n",
              "AIRPORT BUILDING NON-TERMINAL - SECURE AREA                    2.0  "
            ]
          },
          "metadata": {
            "tags": []
          },
          "execution_count": 165
        }
      ]
    },
    {
      "cell_type": "code",
      "metadata": {
        "id": "AZuBHertSHLS",
        "colab_type": "code",
        "colab": {
          "base_uri": "https://localhost:8080/",
          "height": 659
        },
        "outputId": "2828858b-3411-401b-a562-d18f8993b715"
      },
      "source": [
        "plt.figure(figsize=(20,10))\n",
        "sns.heatmap(pivot[(pivot.ARSON!=0) & (pivot.HOMICIDE!=0)][['ARSON','HOMICIDE']],annot=True)\n",
        "plt.xlabel('Crime')\n",
        "plt.ylabel('Location')\n",
        "plt.title('Analysis of Arson v.s. Homicide Locations')"
      ],
      "execution_count": 186,
      "outputs": [
        {
          "output_type": "execute_result",
          "data": {
            "text/plain": [
              "Text(0.5, 1, 'Analysis of Arson v.s. Homicide Locations')"
            ]
          },
          "metadata": {
            "tags": []
          },
          "execution_count": 186
        },
        {
          "output_type": "display_data",
          "data": {
            "image/png": "[encoded data removed]",
            "text/plain": [
              "<Figure size 1440x720 with 2 Axes>"
            ]
          },
          "metadata": {
            "tags": []
          }
        }
      ]
    },
    {
      "cell_type": "code",
      "metadata": {
        "id": "J1wBq-35Tcuw",
        "colab_type": "code",
        "colab": {
          "base_uri": "https://localhost:8080/",
          "height": 141
        },
        "outputId": "9cbc6b75-bb47-41a1-fbfc-b6b8a1aec846"
      },
      "source": [
        "pivot[(pivot.ARSON!=0) & (pivot.HOMICIDE!=0)][['ARSON','HOMICIDE']].loc[['APARTMENT','STREET']]"
      ],
      "execution_count": 181,
      "outputs": [
        {
          "output_type": "execute_result",
          "data": {
            "text/html": [
              "<div>\n",
              "<style scoped>\n",
              "    .dataframe tbody tr th:only-of-type {\n",
              "        vertical-align: middle;\n",
              "    }\n",
              "\n",
              "    .dataframe tbody tr th {\n",
              "        vertical-align: top;\n",
              "    }\n",
              "\n",
              "    .dataframe thead th {\n",
              "        text-align: right;\n",
              "    }\n",
              "</style>\n",
              "<table border=\"1\" class=\"dataframe\">\n",
              "  <thead>\n",
              "    <tr style=\"text-align: right;\">\n",
              "      <th>primary_type</th>\n",
              "      <th>ARSON</th>\n",
              "      <th>HOMICIDE</th>\n",
              "    </tr>\n",
              "    <tr>\n",
              "      <th>location_description</th>\n",
              "      <th></th>\n",
              "      <th></th>\n",
              "    </tr>\n",
              "  </thead>\n",
              "  <tbody>\n",
              "    <tr>\n",
              "      <th>APARTMENT</th>\n",
              "      <td>241.0</td>\n",
              "      <td>213.0</td>\n",
              "    </tr>\n",
              "    <tr>\n",
              "      <th>STREET</th>\n",
              "      <td>187.0</td>\n",
              "      <td>1293.0</td>\n",
              "    </tr>\n",
              "  </tbody>\n",
              "</table>\n",
              "</div>"
            ],
            "text/plain": [
              "primary_type          ARSON  HOMICIDE\n",
              "location_description                 \n",
              "APARTMENT             241.0     213.0\n",
              "STREET                187.0    1293.0"
            ]
          },
          "metadata": {
            "tags": []
          },
          "execution_count": 181
        }
      ]
    },
    {
      "cell_type": "markdown",
      "metadata": {
        "id": "L1urV3ViUEbu",
        "colab_type": "text"
      },
      "source": [
        "# SQL Pivot Table"
      ]
    },
    {
      "cell_type": "code",
      "metadata": {
        "id": "dQ5N0QbhUDm5",
        "colab_type": "code",
        "colab": {}
      },
      "source": [
        "crimes=sample.select('id','date','primary_type','description','location_description')"
      ],
      "execution_count": 0,
      "outputs": []
    },
    {
      "cell_type": "code",
      "metadata": {
        "id": "51cWnXcqUKm1",
        "colab_type": "code",
        "colab": {
          "base_uri": "https://localhost:8080/",
          "height": 468
        },
        "outputId": "faa865b7-2fba-48bc-c160-90f4529393c3"
      },
      "source": [
        "crimes.show(20)"
      ],
      "execution_count": 183,
      "outputs": [
        {
          "output_type": "stream",
          "text": [
            "+--------+----------+--------------------+--------------------+--------------------+\n",
            "|      id|      date|        primary_type|         description|location_description|\n",
            "+--------+----------+--------------------+--------------------+--------------------+\n",
            "|11379979|2018-07-10|     CRIMINAL DAMAGE|          TO VEHICLE|              STREET|\n",
            "|11379981|2018-07-14|               THEFT|        RETAIL THEFT|    DEPARTMENT STORE|\n",
            "|11379983|2018-07-14|   CRIMINAL TRESPASS|          TO VEHICLE|              STREET|\n",
            "|11379992|2018-07-14|               THEFT|      $500 AND UNDER|           APARTMENT|\n",
            "|11380001|2018-07-14|           NARCOTICS| POSS: HEROIN(WHITE)|            SIDEWALK|\n",
            "|11380003|2018-07-14|   WEAPONS VIOLATION|UNLAWFUL POSS OF ...|           RESIDENCE|\n",
            "|11380004|2018-07-14|               THEFT|       FROM BUILDING|               OTHER|\n",
            "|11380010|2018-07-14|     CRIMINAL DAMAGE|         TO PROPERTY|           APARTMENT|\n",
            "|11380015|2018-07-13| MOTOR VEHICLE THEFT|          AUTOMOBILE|              STREET|\n",
            "|11380018|2018-07-12|               THEFT|      $500 AND UNDER|RESIDENCE PORCH/H...|\n",
            "|11380019|2018-07-14|LIQUOR LAW VIOLATION|SELL/GIVE/DEL LIQ...| TAVERN/LIQUOR STORE|\n",
            "|11380027|2018-07-04|            BURGLARY|      FORCIBLE ENTRY|           RESIDENCE|\n",
            "|11380033|2018-07-14|               THEFT|           OVER $500|              STREET|\n",
            "|11380036|2018-07-14|             BATTERY|DOMESTIC BATTERY ...|           APARTMENT|\n",
            "|11380037|2018-07-14|  DECEPTIVE PRACTICE|   CREDIT CARD FRAUD|  SMALL RETAIL STORE|\n",
            "|11380039|2018-07-14|  DECEPTIVE PRACTICE|   CREDIT CARD FRAUD|AIRPORT BUILDING ...|\n",
            "|11380040|2018-06-21| MOTOR VEHICLE THEFT|          AUTOMOBILE|              STREET|\n",
            "|11380044|2018-07-11|            BURGLARY|      FORCIBLE ENTRY|    RESIDENCE-GARAGE|\n",
            "|11380049|2018-07-14|LIQUOR LAW VIOLATION|SELL/GIVE/DEL LIQ...| TAVERN/LIQUOR STORE|\n",
            "|11380053|2018-07-14|           NARCOTICS|POSS: CANNABIS 30...|            SIDEWALK|\n",
            "+--------+----------+--------------------+--------------------+--------------------+\n",
            "only showing top 20 rows\n",
            "\n"
          ],
          "name": "stdout"
        }
      ]
    },
    {
      "cell_type": "code",
      "metadata": {
        "id": "ijxRjK6fULnG",
        "colab_type": "code",
        "colab": {
          "base_uri": "https://localhost:8080/",
          "height": 35
        },
        "outputId": "993e5bf7-2dab-4979-bc20-dd25273d3dc2"
      },
      "source": [
        "spark.catalog.listTables()"
      ],
      "execution_count": 187,
      "outputs": [
        {
          "output_type": "execute_result",
          "data": {
            "text/plain": [
              "[]"
            ]
          },
          "metadata": {
            "tags": []
          },
          "execution_count": 187
        }
      ]
    },
    {
      "cell_type": "code",
      "metadata": {
        "id": "eyAAVXCUVa5L",
        "colab_type": "code",
        "colab": {}
      },
      "source": [
        "crimes.createOrReplaceTempView(name='crimes')"
      ],
      "execution_count": 0,
      "outputs": []
    },
    {
      "cell_type": "code",
      "metadata": {
        "id": "-U_e3_2gWDHG",
        "colab_type": "code",
        "colab": {
          "base_uri": "https://localhost:8080/",
          "height": 156
        },
        "outputId": "37c069b2-03f3-48e8-d986-7f8fbfa8026e"
      },
      "source": [
        "crimes.show(2)"
      ],
      "execution_count": 190,
      "outputs": [
        {
          "output_type": "stream",
          "text": [
            "+--------+----------+---------------+------------+--------------------+\n",
            "|      id|      date|   primary_type| description|location_description|\n",
            "+--------+----------+---------------+------------+--------------------+\n",
            "|11379979|2018-07-10|CRIMINAL DAMAGE|  TO VEHICLE|              STREET|\n",
            "|11379981|2018-07-14|          THEFT|RETAIL THEFT|    DEPARTMENT STORE|\n",
            "+--------+----------+---------------+------------+--------------------+\n",
            "only showing top 2 rows\n",
            "\n"
          ],
          "name": "stdout"
        }
      ]
    },
    {
      "cell_type": "code",
      "metadata": {
        "id": "DUWOPH4dWE4d",
        "colab_type": "code",
        "colab": {
          "base_uri": "https://localhost:8080/",
          "height": 391
        },
        "outputId": "de963d26-e9f1-4160-ea30-d9f2fa340c09"
      },
      "source": [
        "pivot.head()"
      ],
      "execution_count": 200,
      "outputs": [
        {
          "output_type": "execute_result",
          "data": {
            "text/html": [
              "<div>\n",
              "<style scoped>\n",
              "    .dataframe tbody tr th:only-of-type {\n",
              "        vertical-align: middle;\n",
              "    }\n",
              "\n",
              "    .dataframe tbody tr th {\n",
              "        vertical-align: top;\n",
              "    }\n",
              "\n",
              "    .dataframe thead th {\n",
              "        text-align: right;\n",
              "    }\n",
              "</style>\n",
              "<table border=\"1\" class=\"dataframe\">\n",
              "  <thead>\n",
              "    <tr style=\"text-align: right;\">\n",
              "      <th>primary_type</th>\n",
              "      <th>ARSON</th>\n",
              "      <th>ASSAULT</th>\n",
              "      <th>BATTERY</th>\n",
              "      <th>BURGLARY</th>\n",
              "      <th>CONCEALED CARRY LICENSE VIOLATION</th>\n",
              "      <th>CRIM SEXUAL ASSAULT</th>\n",
              "      <th>CRIMINAL DAMAGE</th>\n",
              "      <th>CRIMINAL TRESPASS</th>\n",
              "      <th>DECEPTIVE PRACTICE</th>\n",
              "      <th>GAMBLING</th>\n",
              "      <th>HOMICIDE</th>\n",
              "      <th>HUMAN TRAFFICKING</th>\n",
              "      <th>INTERFERENCE WITH PUBLIC OFFICER</th>\n",
              "      <th>INTIMIDATION</th>\n",
              "      <th>KIDNAPPING</th>\n",
              "      <th>LIQUOR LAW VIOLATION</th>\n",
              "      <th>MOTOR VEHICLE THEFT</th>\n",
              "      <th>NARCOTICS</th>\n",
              "      <th>NON - CRIMINAL</th>\n",
              "      <th>NON-CRIMINAL</th>\n",
              "      <th>NON-CRIMINAL (SUBJECT SPECIFIED)</th>\n",
              "      <th>OBSCENITY</th>\n",
              "      <th>OFFENSE INVOLVING CHILDREN</th>\n",
              "      <th>OTHER NARCOTIC VIOLATION</th>\n",
              "      <th>OTHER OFFENSE</th>\n",
              "      <th>PROSTITUTION</th>\n",
              "      <th>PUBLIC INDECENCY</th>\n",
              "      <th>PUBLIC PEACE VIOLATION</th>\n",
              "      <th>RITUALISM</th>\n",
              "      <th>ROBBERY</th>\n",
              "      <th>SEX OFFENSE</th>\n",
              "      <th>STALKING</th>\n",
              "      <th>THEFT</th>\n",
              "      <th>WEAPONS VIOLATION</th>\n",
              "    </tr>\n",
              "    <tr>\n",
              "      <th>location_description</th>\n",
              "      <th></th>\n",
              "      <th></th>\n",
              "      <th></th>\n",
              "      <th></th>\n",
              "      <th></th>\n",
              "      <th></th>\n",
              "      <th></th>\n",
              "      <th></th>\n",
              "      <th></th>\n",
              "      <th></th>\n",
              "      <th></th>\n",
              "      <th></th>\n",
              "      <th></th>\n",
              "      <th></th>\n",
              "      <th></th>\n",
              "      <th></th>\n",
              "      <th></th>\n",
              "      <th></th>\n",
              "      <th></th>\n",
              "      <th></th>\n",
              "      <th></th>\n",
              "      <th></th>\n",
              "      <th></th>\n",
              "      <th></th>\n",
              "      <th></th>\n",
              "      <th></th>\n",
              "      <th></th>\n",
              "      <th></th>\n",
              "      <th></th>\n",
              "      <th></th>\n",
              "      <th></th>\n",
              "      <th></th>\n",
              "      <th></th>\n",
              "      <th></th>\n",
              "    </tr>\n",
              "  </thead>\n",
              "  <tbody>\n",
              "    <tr>\n",
              "      <th>\"CTA \"\"L\"\" TRAIN\"</th>\n",
              "      <td>0.0</td>\n",
              "      <td>0.0</td>\n",
              "      <td>0.0</td>\n",
              "      <td>0.0</td>\n",
              "      <td>0.0</td>\n",
              "      <td>0.0</td>\n",
              "      <td>0.0</td>\n",
              "      <td>0.0</td>\n",
              "      <td>0.0</td>\n",
              "      <td>0.0</td>\n",
              "      <td>1.0</td>\n",
              "      <td>0.0</td>\n",
              "      <td>0.0</td>\n",
              "      <td>0.0</td>\n",
              "      <td>0.0</td>\n",
              "      <td>0.0</td>\n",
              "      <td>0.0</td>\n",
              "      <td>0.0</td>\n",
              "      <td>0.0</td>\n",
              "      <td>0.0</td>\n",
              "      <td>0.0</td>\n",
              "      <td>0.0</td>\n",
              "      <td>0.0</td>\n",
              "      <td>0.0</td>\n",
              "      <td>0.0</td>\n",
              "      <td>0.0</td>\n",
              "      <td>0.0</td>\n",
              "      <td>0.0</td>\n",
              "      <td>0.0</td>\n",
              "      <td>0.0</td>\n",
              "      <td>0.0</td>\n",
              "      <td>0.0</td>\n",
              "      <td>0.0</td>\n",
              "      <td>0.0</td>\n",
              "    </tr>\n",
              "    <tr>\n",
              "      <th>ABANDONED BUILDING</th>\n",
              "      <td>58.0</td>\n",
              "      <td>17.0</td>\n",
              "      <td>93.0</td>\n",
              "      <td>417.0</td>\n",
              "      <td>1.0</td>\n",
              "      <td>87.0</td>\n",
              "      <td>265.0</td>\n",
              "      <td>420.0</td>\n",
              "      <td>25.0</td>\n",
              "      <td>26.0</td>\n",
              "      <td>11.0</td>\n",
              "      <td>0.0</td>\n",
              "      <td>13.0</td>\n",
              "      <td>0.0</td>\n",
              "      <td>2.0</td>\n",
              "      <td>5.0</td>\n",
              "      <td>5.0</td>\n",
              "      <td>756.0</td>\n",
              "      <td>0.0</td>\n",
              "      <td>0.0</td>\n",
              "      <td>0.0</td>\n",
              "      <td>0.0</td>\n",
              "      <td>9.0</td>\n",
              "      <td>0.0</td>\n",
              "      <td>112.0</td>\n",
              "      <td>3.0</td>\n",
              "      <td>0.0</td>\n",
              "      <td>31.0</td>\n",
              "      <td>0.0</td>\n",
              "      <td>38.0</td>\n",
              "      <td>17.0</td>\n",
              "      <td>0.0</td>\n",
              "      <td>359.0</td>\n",
              "      <td>65.0</td>\n",
              "    </tr>\n",
              "    <tr>\n",
              "      <th>AIRCRAFT</th>\n",
              "      <td>0.0</td>\n",
              "      <td>10.0</td>\n",
              "      <td>31.0</td>\n",
              "      <td>0.0</td>\n",
              "      <td>0.0</td>\n",
              "      <td>0.0</td>\n",
              "      <td>1.0</td>\n",
              "      <td>0.0</td>\n",
              "      <td>4.0</td>\n",
              "      <td>0.0</td>\n",
              "      <td>0.0</td>\n",
              "      <td>0.0</td>\n",
              "      <td>0.0</td>\n",
              "      <td>0.0</td>\n",
              "      <td>0.0</td>\n",
              "      <td>0.0</td>\n",
              "      <td>0.0</td>\n",
              "      <td>4.0</td>\n",
              "      <td>0.0</td>\n",
              "      <td>1.0</td>\n",
              "      <td>0.0</td>\n",
              "      <td>0.0</td>\n",
              "      <td>0.0</td>\n",
              "      <td>0.0</td>\n",
              "      <td>11.0</td>\n",
              "      <td>0.0</td>\n",
              "      <td>0.0</td>\n",
              "      <td>30.0</td>\n",
              "      <td>0.0</td>\n",
              "      <td>0.0</td>\n",
              "      <td>3.0</td>\n",
              "      <td>0.0</td>\n",
              "      <td>78.0</td>\n",
              "      <td>0.0</td>\n",
              "    </tr>\n",
              "    <tr>\n",
              "      <th>AIRPORT BUILDING NON-TERMINAL - NON-SECURE AREA</th>\n",
              "      <td>0.0</td>\n",
              "      <td>8.0</td>\n",
              "      <td>13.0</td>\n",
              "      <td>0.0</td>\n",
              "      <td>2.0</td>\n",
              "      <td>0.0</td>\n",
              "      <td>13.0</td>\n",
              "      <td>16.0</td>\n",
              "      <td>48.0</td>\n",
              "      <td>0.0</td>\n",
              "      <td>0.0</td>\n",
              "      <td>0.0</td>\n",
              "      <td>0.0</td>\n",
              "      <td>0.0</td>\n",
              "      <td>0.0</td>\n",
              "      <td>0.0</td>\n",
              "      <td>12.0</td>\n",
              "      <td>4.0</td>\n",
              "      <td>0.0</td>\n",
              "      <td>2.0</td>\n",
              "      <td>0.0</td>\n",
              "      <td>0.0</td>\n",
              "      <td>0.0</td>\n",
              "      <td>0.0</td>\n",
              "      <td>12.0</td>\n",
              "      <td>0.0</td>\n",
              "      <td>0.0</td>\n",
              "      <td>3.0</td>\n",
              "      <td>0.0</td>\n",
              "      <td>0.0</td>\n",
              "      <td>0.0</td>\n",
              "      <td>0.0</td>\n",
              "      <td>94.0</td>\n",
              "      <td>1.0</td>\n",
              "    </tr>\n",
              "    <tr>\n",
              "      <th>AIRPORT BUILDING NON-TERMINAL - SECURE AREA</th>\n",
              "      <td>0.0</td>\n",
              "      <td>7.0</td>\n",
              "      <td>14.0</td>\n",
              "      <td>0.0</td>\n",
              "      <td>2.0</td>\n",
              "      <td>0.0</td>\n",
              "      <td>2.0</td>\n",
              "      <td>0.0</td>\n",
              "      <td>9.0</td>\n",
              "      <td>0.0</td>\n",
              "      <td>0.0</td>\n",
              "      <td>0.0</td>\n",
              "      <td>0.0</td>\n",
              "      <td>0.0</td>\n",
              "      <td>0.0</td>\n",
              "      <td>0.0</td>\n",
              "      <td>1.0</td>\n",
              "      <td>5.0</td>\n",
              "      <td>0.0</td>\n",
              "      <td>0.0</td>\n",
              "      <td>0.0</td>\n",
              "      <td>0.0</td>\n",
              "      <td>0.0</td>\n",
              "      <td>0.0</td>\n",
              "      <td>9.0</td>\n",
              "      <td>0.0</td>\n",
              "      <td>0.0</td>\n",
              "      <td>3.0</td>\n",
              "      <td>0.0</td>\n",
              "      <td>0.0</td>\n",
              "      <td>0.0</td>\n",
              "      <td>0.0</td>\n",
              "      <td>94.0</td>\n",
              "      <td>2.0</td>\n",
              "    </tr>\n",
              "  </tbody>\n",
              "</table>\n",
              "</div>"
            ],
            "text/plain": [
              "primary_type                                     ARSON  ASSAULT  BATTERY  \\\n",
              "location_description                                                       \n",
              "\"CTA \"\"L\"\" TRAIN\"                                  0.0      0.0      0.0   \n",
              "ABANDONED BUILDING                                58.0     17.0     93.0   \n",
              "AIRCRAFT                                           0.0     10.0     31.0   \n",
              "AIRPORT BUILDING NON-TERMINAL - NON-SECURE AREA    0.0      8.0     13.0   \n",
              "AIRPORT BUILDING NON-TERMINAL - SECURE AREA        0.0      7.0     14.0   \n",
              "\n",
              "primary_type                                     BURGLARY  \\\n",
              "location_description                                        \n",
              "\"CTA \"\"L\"\" TRAIN\"                                     0.0   \n",
              "ABANDONED BUILDING                                  417.0   \n",
              "AIRCRAFT                                              0.0   \n",
              "AIRPORT BUILDING NON-TERMINAL - NON-SECURE AREA       0.0   \n",
              "AIRPORT BUILDING NON-TERMINAL - SECURE AREA           0.0   \n",
              "\n",
              "primary_type                                     CONCEALED CARRY LICENSE VIOLATION  \\\n",
              "location_description                                                                 \n",
              "\"CTA \"\"L\"\" TRAIN\"                                                              0.0   \n",
              "ABANDONED BUILDING                                                             1.0   \n",
              "AIRCRAFT                                                                       0.0   \n",
              "AIRPORT BUILDING NON-TERMINAL - NON-SECURE AREA                                2.0   \n",
              "AIRPORT BUILDING NON-TERMINAL - SECURE AREA                                    2.0   \n",
              "\n",
              "primary_type                                     CRIM SEXUAL ASSAULT  \\\n",
              "location_description                                                   \n",
              "\"CTA \"\"L\"\" TRAIN\"                                                0.0   \n",
              "ABANDONED BUILDING                                              87.0   \n",
              "AIRCRAFT                                                         0.0   \n",
              "AIRPORT BUILDING NON-TERMINAL - NON-SECURE AREA                  0.0   \n",
              "AIRPORT BUILDING NON-TERMINAL - SECURE AREA                      0.0   \n",
              "\n",
              "primary_type                                     CRIMINAL DAMAGE  \\\n",
              "location_description                                               \n",
              "\"CTA \"\"L\"\" TRAIN\"                                            0.0   \n",
              "ABANDONED BUILDING                                         265.0   \n",
              "AIRCRAFT                                                     1.0   \n",
              "AIRPORT BUILDING NON-TERMINAL - NON-SECURE AREA             13.0   \n",
              "AIRPORT BUILDING NON-TERMINAL - SECURE AREA                  2.0   \n",
              "\n",
              "primary_type                                     CRIMINAL TRESPASS  \\\n",
              "location_description                                                 \n",
              "\"CTA \"\"L\"\" TRAIN\"                                              0.0   \n",
              "ABANDONED BUILDING                                           420.0   \n",
              "AIRCRAFT                                                       0.0   \n",
              "AIRPORT BUILDING NON-TERMINAL - NON-SECURE AREA               16.0   \n",
              "AIRPORT BUILDING NON-TERMINAL - SECURE AREA                    0.0   \n",
              "\n",
              "primary_type                                     DECEPTIVE PRACTICE  GAMBLING  \\\n",
              "location_description                                                            \n",
              "\"CTA \"\"L\"\" TRAIN\"                                               0.0       0.0   \n",
              "ABANDONED BUILDING                                             25.0      26.0   \n",
              "AIRCRAFT                                                        4.0       0.0   \n",
              "AIRPORT BUILDING NON-TERMINAL - NON-SECURE AREA                48.0       0.0   \n",
              "AIRPORT BUILDING NON-TERMINAL - SECURE AREA                     9.0       0.0   \n",
              "\n",
              "primary_type                                     HOMICIDE  HUMAN TRAFFICKING  \\\n",
              "location_description                                                           \n",
              "\"CTA \"\"L\"\" TRAIN\"                                     1.0                0.0   \n",
              "ABANDONED BUILDING                                   11.0                0.0   \n",
              "AIRCRAFT                                              0.0                0.0   \n",
              "AIRPORT BUILDING NON-TERMINAL - NON-SECURE AREA       0.0                0.0   \n",
              "AIRPORT BUILDING NON-TERMINAL - SECURE AREA           0.0                0.0   \n",
              "\n",
              "primary_type                                     INTERFERENCE WITH PUBLIC OFFICER  \\\n",
              "location_description                                                                \n",
              "\"CTA \"\"L\"\" TRAIN\"                                                             0.0   \n",
              "ABANDONED BUILDING                                                           13.0   \n",
              "AIRCRAFT                                                                      0.0   \n",
              "AIRPORT BUILDING NON-TERMINAL - NON-SECURE AREA                               0.0   \n",
              "AIRPORT BUILDING NON-TERMINAL - SECURE AREA                                   0.0   \n",
              "\n",
              "primary_type                                     INTIMIDATION  KIDNAPPING  \\\n",
              "location_description                                                        \n",
              "\"CTA \"\"L\"\" TRAIN\"                                         0.0         0.0   \n",
              "ABANDONED BUILDING                                        0.0         2.0   \n",
              "AIRCRAFT                                                  0.0         0.0   \n",
              "AIRPORT BUILDING NON-TERMINAL - NON-SECURE AREA           0.0         0.0   \n",
              "AIRPORT BUILDING NON-TERMINAL - SECURE AREA               0.0         0.0   \n",
              "\n",
              "primary_type                                     LIQUOR LAW VIOLATION  \\\n",
              "location_description                                                    \n",
              "\"CTA \"\"L\"\" TRAIN\"                                                 0.0   \n",
              "ABANDONED BUILDING                                                5.0   \n",
              "AIRCRAFT                                                          0.0   \n",
              "AIRPORT BUILDING NON-TERMINAL - NON-SECURE AREA                   0.0   \n",
              "AIRPORT BUILDING NON-TERMINAL - SECURE AREA                       0.0   \n",
              "\n",
              "primary_type                                     MOTOR VEHICLE THEFT  \\\n",
              "location_description                                                   \n",
              "\"CTA \"\"L\"\" TRAIN\"                                                0.0   \n",
              "ABANDONED BUILDING                                               5.0   \n",
              "AIRCRAFT                                                         0.0   \n",
              "AIRPORT BUILDING NON-TERMINAL - NON-SECURE AREA                 12.0   \n",
              "AIRPORT BUILDING NON-TERMINAL - SECURE AREA                      1.0   \n",
              "\n",
              "primary_type                                     NARCOTICS  NON - CRIMINAL  \\\n",
              "location_description                                                         \n",
              "\"CTA \"\"L\"\" TRAIN\"                                      0.0             0.0   \n",
              "ABANDONED BUILDING                                   756.0             0.0   \n",
              "AIRCRAFT                                               4.0             0.0   \n",
              "AIRPORT BUILDING NON-TERMINAL - NON-SECURE AREA        4.0             0.0   \n",
              "AIRPORT BUILDING NON-TERMINAL - SECURE AREA            5.0             0.0   \n",
              "\n",
              "primary_type                                     NON-CRIMINAL  \\\n",
              "location_description                                            \n",
              "\"CTA \"\"L\"\" TRAIN\"                                         0.0   \n",
              "ABANDONED BUILDING                                        0.0   \n",
              "AIRCRAFT                                                  1.0   \n",
              "AIRPORT BUILDING NON-TERMINAL - NON-SECURE AREA           2.0   \n",
              "AIRPORT BUILDING NON-TERMINAL - SECURE AREA               0.0   \n",
              "\n",
              "primary_type                                     NON-CRIMINAL (SUBJECT SPECIFIED)  \\\n",
              "location_description                                                                \n",
              "\"CTA \"\"L\"\" TRAIN\"                                                             0.0   \n",
              "ABANDONED BUILDING                                                            0.0   \n",
              "AIRCRAFT                                                                      0.0   \n",
              "AIRPORT BUILDING NON-TERMINAL - NON-SECURE AREA                               0.0   \n",
              "AIRPORT BUILDING NON-TERMINAL - SECURE AREA                                   0.0   \n",
              "\n",
              "primary_type                                     OBSCENITY  \\\n",
              "location_description                                         \n",
              "\"CTA \"\"L\"\" TRAIN\"                                      0.0   \n",
              "ABANDONED BUILDING                                     0.0   \n",
              "AIRCRAFT                                               0.0   \n",
              "AIRPORT BUILDING NON-TERMINAL - NON-SECURE AREA        0.0   \n",
              "AIRPORT BUILDING NON-TERMINAL - SECURE AREA            0.0   \n",
              "\n",
              "primary_type                                     OFFENSE INVOLVING CHILDREN  \\\n",
              "location_description                                                          \n",
              "\"CTA \"\"L\"\" TRAIN\"                                                       0.0   \n",
              "ABANDONED BUILDING                                                      9.0   \n",
              "AIRCRAFT                                                                0.0   \n",
              "AIRPORT BUILDING NON-TERMINAL - NON-SECURE AREA                         0.0   \n",
              "AIRPORT BUILDING NON-TERMINAL - SECURE AREA                             0.0   \n",
              "\n",
              "primary_type                                     OTHER NARCOTIC VIOLATION  \\\n",
              "location_description                                                        \n",
              "\"CTA \"\"L\"\" TRAIN\"                                                     0.0   \n",
              "ABANDONED BUILDING                                                    0.0   \n",
              "AIRCRAFT                                                              0.0   \n",
              "AIRPORT BUILDING NON-TERMINAL - NON-SECURE AREA                       0.0   \n",
              "AIRPORT BUILDING NON-TERMINAL - SECURE AREA                           0.0   \n",
              "\n",
              "primary_type                                     OTHER OFFENSE  PROSTITUTION  \\\n",
              "location_description                                                           \n",
              "\"CTA \"\"L\"\" TRAIN\"                                          0.0           0.0   \n",
              "ABANDONED BUILDING                                       112.0           3.0   \n",
              "AIRCRAFT                                                  11.0           0.0   \n",
              "AIRPORT BUILDING NON-TERMINAL - NON-SECURE AREA           12.0           0.0   \n",
              "AIRPORT BUILDING NON-TERMINAL - SECURE AREA                9.0           0.0   \n",
              "\n",
              "primary_type                                     PUBLIC INDECENCY  \\\n",
              "location_description                                                \n",
              "\"CTA \"\"L\"\" TRAIN\"                                             0.0   \n",
              "ABANDONED BUILDING                                            0.0   \n",
              "AIRCRAFT                                                      0.0   \n",
              "AIRPORT BUILDING NON-TERMINAL - NON-SECURE AREA               0.0   \n",
              "AIRPORT BUILDING NON-TERMINAL - SECURE AREA                   0.0   \n",
              "\n",
              "primary_type                                     PUBLIC PEACE VIOLATION  \\\n",
              "location_description                                                      \n",
              "\"CTA \"\"L\"\" TRAIN\"                                                   0.0   \n",
              "ABANDONED BUILDING                                                 31.0   \n",
              "AIRCRAFT                                                           30.0   \n",
              "AIRPORT BUILDING NON-TERMINAL - NON-SECURE AREA                     3.0   \n",
              "AIRPORT BUILDING NON-TERMINAL - SECURE AREA                         3.0   \n",
              "\n",
              "primary_type                                     RITUALISM  ROBBERY  \\\n",
              "location_description                                                  \n",
              "\"CTA \"\"L\"\" TRAIN\"                                      0.0      0.0   \n",
              "ABANDONED BUILDING                                     0.0     38.0   \n",
              "AIRCRAFT                                               0.0      0.0   \n",
              "AIRPORT BUILDING NON-TERMINAL - NON-SECURE AREA        0.0      0.0   \n",
              "AIRPORT BUILDING NON-TERMINAL - SECURE AREA            0.0      0.0   \n",
              "\n",
              "primary_type                                     SEX OFFENSE  STALKING  THEFT  \\\n",
              "location_description                                                            \n",
              "\"CTA \"\"L\"\" TRAIN\"                                        0.0       0.0    0.0   \n",
              "ABANDONED BUILDING                                      17.0       0.0  359.0   \n",
              "AIRCRAFT                                                 3.0       0.0   78.0   \n",
              "AIRPORT BUILDING NON-TERMINAL - NON-SECURE AREA          0.0       0.0   94.0   \n",
              "AIRPORT BUILDING NON-TERMINAL - SECURE AREA              0.0       0.0   94.0   \n",
              "\n",
              "primary_type                                     WEAPONS VIOLATION  \n",
              "location_description                                                \n",
              "\"CTA \"\"L\"\" TRAIN\"                                              0.0  \n",
              "ABANDONED BUILDING                                            65.0  \n",
              "AIRCRAFT                                                       0.0  \n",
              "AIRPORT BUILDING NON-TERMINAL - NON-SECURE AREA                1.0  \n",
              "AIRPORT BUILDING NON-TERMINAL - SECURE AREA                    2.0  "
            ]
          },
          "metadata": {
            "tags": []
          },
          "execution_count": 200
        }
      ]
    },
    {
      "cell_type": "code",
      "metadata": {
        "id": "-HJrN2BMZFMS",
        "colab_type": "code",
        "colab": {
          "base_uri": "https://localhost:8080/",
          "height": 488
        },
        "outputId": "97905148-cec7-4c29-eff5-050c072c1ea3"
      },
      "source": [
        "crimes.groupBy('location_description').pivot('primary_type').count().show()"
      ],
      "execution_count": 252,
      "outputs": [
        {
          "output_type": "stream",
          "text": [
            "+--------------------+-----+-------+-------+--------+---------------------------------+-------------------+---------------+-----------------+------------------+--------+--------+-----------------+--------------------------------+------------+----------+--------------------+-------------------+---------+--------------+------------+--------------------------------+---------+--------------------------+------------------------+-------------+------------+----------------+----------------------+---------+-------+-----------+--------+-----+-----------------+\n",
            "|location_description|ARSON|ASSAULT|BATTERY|BURGLARY|CONCEALED CARRY LICENSE VIOLATION|CRIM SEXUAL ASSAULT|CRIMINAL DAMAGE|CRIMINAL TRESPASS|DECEPTIVE PRACTICE|GAMBLING|HOMICIDE|HUMAN TRAFFICKING|INTERFERENCE WITH PUBLIC OFFICER|INTIMIDATION|KIDNAPPING|LIQUOR LAW VIOLATION|MOTOR VEHICLE THEFT|NARCOTICS|NON - CRIMINAL|NON-CRIMINAL|NON-CRIMINAL (SUBJECT SPECIFIED)|OBSCENITY|OFFENSE INVOLVING CHILDREN|OTHER NARCOTIC VIOLATION|OTHER OFFENSE|PROSTITUTION|PUBLIC INDECENCY|PUBLIC PEACE VIOLATION|RITUALISM|ROBBERY|SEX OFFENSE|STALKING|THEFT|WEAPONS VIOLATION|\n",
            "+--------------------+-----+-------+-------+--------+---------------------------------+-------------------+---------------+-----------------+------------------+--------+--------+-----------------+--------------------------------+------------+----------+--------------------+-------------------+---------+--------------+------------+--------------------------------+---------+--------------------------+------------------------+-------------+------------+----------------+----------------------+---------+-------+-----------+--------+-----+-----------------+\n",
            "|   RAILROAD PROPERTY| null|   null|   null|    null|                             null|               null|           null|             null|              null|    null|       3|             null|                            null|        null|      null|                null|               null|     null|          null|        null|                            null|     null|                      null|                    null|         null|        null|            null|                  null|     null|   null|       null|    null| null|             null|\n",
            "|AIRPORT TERMINAL ...| null|     21|     34|    null|                                1|               null|              7|              207|                20|    null|    null|             null|                            null|        null|      null|                null|               null|        2|          null|        null|                            null|     null|                      null|                    null|            6|        null|            null|                  null|     null|   null|       null|       1|  140|             null|\n",
            "|POLICE FACILITY/V...|    2|    245|    446|      11|                             null|                  3|            424|              492|               141|       1|    null|             null|                             112|          20|        23|                null|                112|     1508|             2|           2|                            null|     null|                       220|                    null|          376|           2|            null|                   141|     null|     19|          9|       5|  308|               23|\n",
            "|               MOTEL| null|   null|   null|    null|                             null|               null|           null|             null|              null|    null|       1|             null|                            null|        null|      null|                null|               null|     null|          null|        null|                            null|     null|                      null|                    null|         null|        null|            null|                  null|     null|   null|       null|    null| null|             null|\n",
            "|            SIDEWALK|   13|  14801|  47655|      50|                               11|                193|           2534|              733|              1429|    2096|       1|                2|                             934|          98|       317|                 852|                256|    56937|          null|           6|                            null|        5|                       304|                       5|         2866|        1671|               4|                  2312|     null|  20362|        633|      72|11941|             3522|\n",
            "|AIRPORT TERMINAL ...| null|      1|   null|    null|                             null|               null|              2|             null|                 3|    null|    null|             null|                            null|        null|      null|                null|               null|     null|          null|        null|                            null|     null|                      null|                    null|         null|        null|            null|                  null|     null|   null|       null|    null|   18|             null|\n",
            "|CTA GARAGE / OTHE...|    1|    108|    171|      21|                             null|                  5|            477|              215|               521|       1|    null|             null|                               4|        null|         2|                   3|                 66|      192|          null|        null|                            null|     null|                         1|                    null|           29|           4|            null|                    12|     null|    106|         10|       2|  673|                5|\n",
            "|            CAR WASH|    1|     58|     76|      84|                             null|                  1|             62|               41|                22|       2|       2|             null|                            null|           1|      null|                   1|                 24|       28|          null|        null|                            null|     null|                      null|                    null|           27|        null|            null|                     2|     null|     64|          3|    null|  200|                2|\n",
            "|    AIRPORT/AIRCRAFT| null|    113|    269|      11|                             null|                  1|            206|              453|               348|    null|    null|             null|                               6|        null|      null|                null|                128|      283|          null|        null|                            null|     null|                         4|                    null|          692|           1|            null|                    55|     null|      4|         11|       1| 1365|               95|\n",
            "|            HOSPITAL| null|   null|   null|    null|                             null|               null|           null|             null|              null|    null|       2|             null|                            null|        null|      null|                null|               null|     null|          null|        null|                            null|     null|                      null|                    null|         null|        null|            null|                  null|     null|   null|       null|    null| null|             null|\n",
            "|MEDICAL/DENTAL OF...|    2|    190|    156|     144|                             null|                  5|            286|               44|               113|       1|    null|             null|                               1|           1|         1|                null|               null|       40|          null|        null|                            null|     null|                        10|                    null|          138|        null|               1|                    17|     null|     10|         21|    null|  600|             null|\n",
            "|    FEDERAL BUILDING|    1|     35|     27|       2|                             null|               null|              9|               22|                25|    null|    null|             null|                               1|           3|      null|                null|               null|       11|          null|        null|                            null|     null|                      null|                    null|           34|        null|            null|                    12|     null|      2|          1|    null|   37|                3|\n",
            "|SCHOOL, PUBLIC, G...|    8|   1019|   2787|      43|                                1|                 18|            723|              516|                28|      26|    null|             null|                               9|           6|        33|                  28|                 91|      361|          null|        null|                            null|        2|                        90|                    null|          148|           2|            null|                   132|        1|    172|         63|       9|  936|              148|\n",
            "|         CTA STATION| null|    120|    211|       1|                             null|                  2|             56|              153|               240|       1|    null|             null|                              12|        null|         1|                null|                  2|       55|          null|        null|                            null|     null|                      null|                    null|            8|        null|            null|                    17|     null|     88|         10|       4|  349|                3|\n",
            "|SPORTS ARENA/STADIUM|    1|     50|    294|       5|                                1|                  1|            120|              207|                54|    null|    null|             null|                               3|        null|      null|                   1|                103|       40|          null|        null|                            null|     null|                         2|                    null|           34|           2|               1|                    14|     null|     14|          3|       1|  385|                4|\n",
            "|                FARM| null|   null|   null|    null|                             null|               null|              2|             null|              null|    null|    null|             null|                            null|        null|      null|                null|               null|     null|          null|        null|                            null|     null|                      null|                    null|         null|        null|            null|                  null|     null|   null|       null|    null| null|             null|\n",
            "|VEHICLE - OTHER R...| null|     11|     27|    null|                             null|                  5|              1|             null|                 9|    null|    null|             null|                            null|        null|      null|                null|                  3|        1|          null|        null|                            null|     null|                      null|                    null|         null|        null|            null|                  null|     null|      5|          8|    null|   46|             null|\n",
            "|            CEMETARY| null|      8|      4|       3|                             null|               null|             33|               13|                 1|    null|    null|             null|                               1|        null|      null|                null|                  1|        1|          null|        null|                            null|     null|                      null|                    null|            2|        null|            null|                     1|     null|      1|       null|    null|   40|             null|\n",
            "|               HOUSE| null|   null|   null|    null|                             null|               null|           null|             null|              null|    null|     150|             null|                            null|        null|      null|                null|               null|     null|          null|        null|                            null|     null|                      null|                    null|         null|        null|            null|                  null|     null|   null|       null|    null| null|             null|\n",
            "|       ROOMING HOUSE| null|   null|   null|    null|                             null|               null|           null|             null|              null|    null|       1|             null|                            null|        null|      null|                null|               null|     null|          null|        null|                            null|     null|                      null|                    null|         null|        null|            null|                  null|     null|   null|       null|    null| null|             null|\n",
            "+--------------------+-----+-------+-------+--------+---------------------------------+-------------------+---------------+-----------------+------------------+--------+--------+-----------------+--------------------------------+------------+----------+--------------------+-------------------+---------+--------------+------------+--------------------------------+---------+--------------------------+------------------------+-------------+------------+----------------+----------------------+---------+-------+-----------+--------+-----+-----------------+\n",
            "only showing top 20 rows\n",
            "\n"
          ],
          "name": "stdout"
        }
      ]
    },
    {
      "cell_type": "code",
      "metadata": {
        "id": "eVn33GHOZ9_L",
        "colab_type": "code",
        "colab": {}
      },
      "source": [
        "def simplePivot(df,index=None,column=None,aggfunc=None,value=None):\n",
        "  resultant=df.groupBy(index).pivot(columns)\n",
        "  functions={\n",
        "      'count':lambda x:x.count(),\n",
        "      'sum':lambda x,y:x.sum(y),\n",
        "      'avg':lambda x,y:x.avg(y),\n",
        "  }\n",
        "  action=functions[aggfunc]\n",
        "  return action(resultant,value) if value else action(resultant)"
      ],
      "execution_count": 0,
      "outputs": []
    },
    {
      "cell_type": "code",
      "metadata": {
        "id": "tJhq-Uc6BnZ1",
        "colab_type": "code",
        "colab": {}
      },
      "source": [
        ""
      ],
      "execution_count": 0,
      "outputs": []
    },
    {
      "cell_type": "code",
      "metadata": {
        "id": "9_oALjykm2zn",
        "colab_type": "code",
        "colab": {}
      },
      "source": [
        "def transformiter(group_by=None,pivot_by=None,aggfunc='count'):\n",
        "  transforms=[lambda x,y:x.groupBy(y),lambda x,y:x.pivot(y),lambda x:x.count()]#transformation pipeline\n",
        "  params=[group_by,pivot_by,0]\n",
        "\n",
        "  aggfuncs={'count':lambda x:x.append(lambda x:x.count())}#appends a transformation based on aggfunc argument\n",
        "  aggfuncs[aggfunc](transforms)#adding new transformation to pipeline\n",
        "  trans_index=0\n",
        "  params_index=0\n",
        "\n",
        "  def nextTransformAndParameter():#this is an iterator for transforms in the transformation pipeline and their paramters if any\n",
        "    nonlocal trans_index,transforms,params,params_index\n",
        "    param=None\n",
        "    if params[params_index]!=0:\n",
        "      param=params[trans_index]      \n",
        "    transform=transforms[trans_index]\n",
        "    trans_index+=1\n",
        "    params_index+=1\n",
        "    return [transform,param]\n",
        "\n",
        "  return nextTransformAndParameter\n",
        "\n",
        "nextTransformAndParameter=transformiter(group_by='location_description',pivot_by='primary_type')\n",
        "for i in range(3):\n",
        "  param=None\n",
        "  transform=nextTransformAndParameter()\n",
        "  if transform[1]:\n",
        "    crimes=transform[0](crimes,transform[1])\n",
        "  else:\n",
        "    crimes=transform[0](crimes)"
      ],
      "execution_count": 0,
      "outputs": []
    },
    {
      "cell_type": "code",
      "metadata": {
        "id": "XTQDht3q4fm2",
        "colab_type": "code",
        "colab": {
          "base_uri": "https://localhost:8080/",
          "height": 35
        },
        "outputId": "1a102ffd-3f33-4473-cf59-520eaea45ed7"
      },
      "source": [
        "type(crimes)"
      ],
      "execution_count": 327,
      "outputs": [
        {
          "output_type": "execute_result",
          "data": {
            "text/plain": [
              "pyspark.sql.dataframe.DataFrame"
            ]
          },
          "metadata": {
            "tags": []
          },
          "execution_count": 327
        }
      ]
    },
    {
      "cell_type": "code",
      "metadata": {
        "id": "2b7pjhPD42Q5",
        "colab_type": "code",
        "colab": {
          "base_uri": "https://localhost:8080/",
          "height": 488
        },
        "outputId": "fe87f641-24fb-46bf-cd3d-57a4a41cb01f"
      },
      "source": [
        "crimes.show()"
      ],
      "execution_count": 357,
      "outputs": [
        {
          "output_type": "stream",
          "text": [
            "+--------------------+-----+-------+-------+--------+---------------------------------+-------------------+---------------+-----------------+------------------+--------+--------+-----------------+--------------------------------+------------+----------+--------------------+-------------------+---------+--------------+------------+--------------------------------+---------+--------------------------+------------------------+-------------+------------+----------------+----------------------+---------+-------+-----------+--------+-----+-----------------+\n",
            "|location_description|ARSON|ASSAULT|BATTERY|BURGLARY|CONCEALED CARRY LICENSE VIOLATION|CRIM SEXUAL ASSAULT|CRIMINAL DAMAGE|CRIMINAL TRESPASS|DECEPTIVE PRACTICE|GAMBLING|HOMICIDE|HUMAN TRAFFICKING|INTERFERENCE WITH PUBLIC OFFICER|INTIMIDATION|KIDNAPPING|LIQUOR LAW VIOLATION|MOTOR VEHICLE THEFT|NARCOTICS|NON - CRIMINAL|NON-CRIMINAL|NON-CRIMINAL (SUBJECT SPECIFIED)|OBSCENITY|OFFENSE INVOLVING CHILDREN|OTHER NARCOTIC VIOLATION|OTHER OFFENSE|PROSTITUTION|PUBLIC INDECENCY|PUBLIC PEACE VIOLATION|RITUALISM|ROBBERY|SEX OFFENSE|STALKING|THEFT|WEAPONS VIOLATION|\n",
            "+--------------------+-----+-------+-------+--------+---------------------------------+-------------------+---------------+-----------------+------------------+--------+--------+-----------------+--------------------------------+------------+----------+--------------------+-------------------+---------+--------------+------------+--------------------------------+---------+--------------------------+------------------------+-------------+------------+----------------+----------------------+---------+-------+-----------+--------+-----+-----------------+\n",
            "|   RAILROAD PROPERTY| null|   null|   null|    null|                             null|               null|           null|             null|              null|    null|       3|             null|                            null|        null|      null|                null|               null|     null|          null|        null|                            null|     null|                      null|                    null|         null|        null|            null|                  null|     null|   null|       null|    null| null|             null|\n",
            "|AIRPORT TERMINAL ...| null|     21|     34|    null|                                1|               null|              7|              207|                20|    null|    null|             null|                            null|        null|      null|                null|               null|        2|          null|        null|                            null|     null|                      null|                    null|            6|        null|            null|                  null|     null|   null|       null|       1|  140|             null|\n",
            "|POLICE FACILITY/V...|    2|    245|    446|      11|                             null|                  3|            424|              492|               141|       1|    null|             null|                             112|          20|        23|                null|                112|     1508|             2|           2|                            null|     null|                       220|                    null|          376|           2|            null|                   141|     null|     19|          9|       5|  308|               23|\n",
            "|               MOTEL| null|   null|   null|    null|                             null|               null|           null|             null|              null|    null|       1|             null|                            null|        null|      null|                null|               null|     null|          null|        null|                            null|     null|                      null|                    null|         null|        null|            null|                  null|     null|   null|       null|    null| null|             null|\n",
            "|            SIDEWALK|   13|  14801|  47655|      50|                               11|                193|           2534|              733|              1429|    2096|       1|                2|                             934|          98|       317|                 852|                256|    56937|          null|           6|                            null|        5|                       304|                       5|         2866|        1671|               4|                  2312|     null|  20362|        633|      72|11941|             3522|\n",
            "|AIRPORT TERMINAL ...| null|      1|   null|    null|                             null|               null|              2|             null|                 3|    null|    null|             null|                            null|        null|      null|                null|               null|     null|          null|        null|                            null|     null|                      null|                    null|         null|        null|            null|                  null|     null|   null|       null|    null|   18|             null|\n",
            "|CTA GARAGE / OTHE...|    1|    108|    171|      21|                             null|                  5|            477|              215|               521|       1|    null|             null|                               4|        null|         2|                   3|                 66|      192|          null|        null|                            null|     null|                         1|                    null|           29|           4|            null|                    12|     null|    106|         10|       2|  673|                5|\n",
            "|            CAR WASH|    1|     58|     76|      84|                             null|                  1|             62|               41|                22|       2|       2|             null|                            null|           1|      null|                   1|                 24|       28|          null|        null|                            null|     null|                      null|                    null|           27|        null|            null|                     2|     null|     64|          3|    null|  200|                2|\n",
            "|    AIRPORT/AIRCRAFT| null|    113|    269|      11|                             null|                  1|            206|              453|               348|    null|    null|             null|                               6|        null|      null|                null|                128|      283|          null|        null|                            null|     null|                         4|                    null|          692|           1|            null|                    55|     null|      4|         11|       1| 1365|               95|\n",
            "|            HOSPITAL| null|   null|   null|    null|                             null|               null|           null|             null|              null|    null|       2|             null|                            null|        null|      null|                null|               null|     null|          null|        null|                            null|     null|                      null|                    null|         null|        null|            null|                  null|     null|   null|       null|    null| null|             null|\n",
            "|MEDICAL/DENTAL OF...|    2|    190|    156|     144|                             null|                  5|            286|               44|               113|       1|    null|             null|                               1|           1|         1|                null|               null|       40|          null|        null|                            null|     null|                        10|                    null|          138|        null|               1|                    17|     null|     10|         21|    null|  600|             null|\n",
            "|    FEDERAL BUILDING|    1|     35|     27|       2|                             null|               null|              9|               22|                25|    null|    null|             null|                               1|           3|      null|                null|               null|       11|          null|        null|                            null|     null|                      null|                    null|           34|        null|            null|                    12|     null|      2|          1|    null|   37|                3|\n",
            "|SCHOOL, PUBLIC, G...|    8|   1019|   2787|      43|                                1|                 18|            723|              516|                28|      26|    null|             null|                               9|           6|        33|                  28|                 91|      361|          null|        null|                            null|        2|                        90|                    null|          148|           2|            null|                   132|        1|    172|         63|       9|  936|              148|\n",
            "|         CTA STATION| null|    120|    211|       1|                             null|                  2|             56|              153|               240|       1|    null|             null|                              12|        null|         1|                null|                  2|       55|          null|        null|                            null|     null|                      null|                    null|            8|        null|            null|                    17|     null|     88|         10|       4|  349|                3|\n",
            "|SPORTS ARENA/STADIUM|    1|     50|    294|       5|                                1|                  1|            120|              207|                54|    null|    null|             null|                               3|        null|      null|                   1|                103|       40|          null|        null|                            null|     null|                         2|                    null|           34|           2|               1|                    14|     null|     14|          3|       1|  385|                4|\n",
            "|                FARM| null|   null|   null|    null|                             null|               null|              2|             null|              null|    null|    null|             null|                            null|        null|      null|                null|               null|     null|          null|        null|                            null|     null|                      null|                    null|         null|        null|            null|                  null|     null|   null|       null|    null| null|             null|\n",
            "|VEHICLE - OTHER R...| null|     11|     27|    null|                             null|                  5|              1|             null|                 9|    null|    null|             null|                            null|        null|      null|                null|                  3|        1|          null|        null|                            null|     null|                      null|                    null|         null|        null|            null|                  null|     null|      5|          8|    null|   46|             null|\n",
            "|            CEMETARY| null|      8|      4|       3|                             null|               null|             33|               13|                 1|    null|    null|             null|                               1|        null|      null|                null|                  1|        1|          null|        null|                            null|     null|                      null|                    null|            2|        null|            null|                     1|     null|      1|       null|    null|   40|             null|\n",
            "|               HOUSE| null|   null|   null|    null|                             null|               null|           null|             null|              null|    null|     150|             null|                            null|        null|      null|                null|               null|     null|          null|        null|                            null|     null|                      null|                    null|         null|        null|            null|                  null|     null|   null|       null|    null| null|             null|\n",
            "|       ROOMING HOUSE| null|   null|   null|    null|                             null|               null|           null|             null|              null|    null|       1|             null|                            null|        null|      null|                null|               null|     null|          null|        null|                            null|     null|                      null|                    null|         null|        null|            null|                  null|     null|   null|       null|    null| null|             null|\n",
            "+--------------------+-----+-------+-------+--------+---------------------------------+-------------------+---------------+-----------------+------------------+--------+--------+-----------------+--------------------------------+------------+----------+--------------------+-------------------+---------+--------------+------------+--------------------------------+---------+--------------------------+------------------------+-------------+------------+----------------+----------------------+---------+-------+-----------+--------+-----+-----------------+\n",
            "only showing top 20 rows\n",
            "\n"
          ],
          "name": "stdout"
        }
      ]
    },
    {
      "cell_type": "code",
      "metadata": {
        "id": "b0V-rsmD0EOm",
        "colab_type": "code",
        "colab": {}
      },
      "source": [
        "nextTransformAndParameter=transformiter()"
      ],
      "execution_count": 0,
      "outputs": []
    },
    {
      "cell_type": "code",
      "metadata": {
        "id": "QvDXKq-30EI_",
        "colab_type": "code",
        "colab": {
          "base_uri": "https://localhost:8080/",
          "height": 69
        },
        "outputId": "bb3d9f16-fe69-43fa-bd9d-791486d34a3c"
      },
      "source": [
        "for i in range(3):\n",
        "  param=None\n",
        "  transform,param=nextTransformAndParameter()\n",
        "  print(param)"
      ],
      "execution_count": 309,
      "outputs": [
        {
          "output_type": "stream",
          "text": [
            "None\n",
            "None\n",
            "None\n"
          ],
          "name": "stdout"
        }
      ]
    },
    {
      "cell_type": "code",
      "metadata": {
        "id": "aJ10GDQ62_p4",
        "colab_type": "code",
        "colab": {}
      },
      "source": [
        ""
      ],
      "execution_count": 0,
      "outputs": []
    },
    {
      "cell_type": "code",
      "metadata": {
        "id": "yGSnEWpY2ALU",
        "colab_type": "code",
        "colab": {}
      },
      "source": [
        ""
      ],
      "execution_count": 0,
      "outputs": []
    },
    {
      "cell_type": "code",
      "metadata": {
        "id": "ACI5IpMS2AN4",
        "colab_type": "code",
        "colab": {}
      },
      "source": [
        "def somefunc():\n",
        "  return 2,None"
      ],
      "execution_count": 0,
      "outputs": []
    },
    {
      "cell_type": "code",
      "metadata": {
        "id": "NAtyqiNJ2AJk",
        "colab_type": "code",
        "colab": {}
      },
      "source": [
        "a,b=somefunc()"
      ],
      "execution_count": 0,
      "outputs": []
    },
    {
      "cell_type": "code",
      "metadata": {
        "id": "iJ6YcXRO2fw6",
        "colab_type": "code",
        "colab": {}
      },
      "source": [
        ""
      ],
      "execution_count": 0,
      "outputs": []
    },
    {
      "cell_type": "code",
      "metadata": {
        "id": "l51r5Hwwq40Y",
        "colab_type": "code",
        "colab": {}
      },
      "source": [
        "nextTransform=transformiter('count')#transformiter is a function that generates an iterator"
      ],
      "execution_count": 0,
      "outputs": []
    },
    {
      "cell_type": "code",
      "metadata": {
        "id": "_5Hz-uias7rE",
        "colab_type": "code",
        "colab": {
          "base_uri": "https://localhost:8080/",
          "height": 35
        },
        "outputId": "0469adb0-fb17-48be-e9c7-12ed2382058a"
      },
      "source": [
        "transformation=nextTransform()#nextTransform is an iterator that return the next transformation function to be applied"
      ],
      "execution_count": 270,
      "outputs": [
        {
          "output_type": "execute_result",
          "data": {
            "text/plain": [
              "<function __main__.transformiter.<locals>.<lambda>.<locals>.<lambda>>"
            ]
          },
          "metadata": {
            "tags": []
          },
          "execution_count": 270
        }
      ]
    },
    {
      "cell_type": "code",
      "metadata": {
        "id": "zX8-5uYis9vZ",
        "colab_type": "code",
        "colab": {}
      },
      "source": [
        "#each transform is a function that takes a dataframe as input and then outputs a processed df"
      ],
      "execution_count": 0,
      "outputs": []
    },
    {
      "cell_type": "code",
      "metadata": {
        "id": "z7jOzZ-emmBV",
        "colab_type": "code",
        "colab": {
          "base_uri": "https://localhost:8080/",
          "height": 35
        },
        "outputId": "a1b7bbfa-6c8c-4019-8181-57da581ee33a"
      },
      "source": [
        "from functools import reduce\n",
        "def applyTransform(acc,curr):\n",
        "  df=acc#here acc would be the df which will keep accumulating transformation results\n",
        "  transform=curr()#here curr would be nextTranform\n",
        "  return \n",
        "somelist=[1,2,3]\n",
        "reduce(get_sum,somelist)"
      ],
      "execution_count": 272,
      "outputs": [
        {
          "output_type": "execute_result",
          "data": {
            "text/plain": [
              "6"
            ]
          },
          "metadata": {
            "tags": []
          },
          "execution_count": 272
        }
      ]
    },
    {
      "cell_type": "code",
      "metadata": {
        "id": "f2d670SMt1Yi",
        "colab_type": "code",
        "colab": {
          "base_uri": "https://localhost:8080/",
          "height": 35
        },
        "outputId": "5aae1f70-52c4-4481-c354-2d6af0d20143"
      },
      "source": [
        "nextTransform()"
      ],
      "execution_count": 276,
      "outputs": [
        {
          "output_type": "execute_result",
          "data": {
            "text/plain": [
              "<function __main__.transformiter.<locals>.<lambda>>"
            ]
          },
          "metadata": {
            "tags": []
          },
          "execution_count": 276
        }
      ]
    },
    {
      "cell_type": "code",
      "metadata": {
        "id": "IokHXfdVutnq",
        "colab_type": "code",
        "colab": {
          "base_uri": "https://localhost:8080/",
          "height": 55
        },
        "outputId": "5836bc20-7ba9-44e8-c4a5-ccbde1ba90fe"
      },
      "source": [
        "crimes=sample.select('id','date','primary_type','description','location_description')\n",
        "#################################################################################################################################################\n",
        "\n",
        "\n",
        "result=transformiter(crimes,group_by='location_description',pivot_by='primary_type',aggfunc='count',internal=False)\n",
        "\n",
        "'''\n",
        "for i in range(3):\n",
        "  param=None\n",
        "  transform=nextTransformAndParameter()\n",
        "  if transform[1]:\n",
        "    crimes=transform[0](crimes,transform[1])\n",
        "  else:\n",
        "    crimes=transform[0](crimes)\n",
        "'''"
      ],
      "execution_count": 340,
      "outputs": [
        {
          "output_type": "execute_result",
          "data": {
            "text/plain": [
              "'\\nfor i in range(3):\\n  param=None\\n  transform=nextTransformAndParameter()\\n  if transform[1]:\\n    crimes=transform[0](crimes,transform[1])\\n  else:\\n    crimes=transform[0](crimes)\\n'"
            ]
          },
          "metadata": {
            "tags": []
          },
          "execution_count": 340
        }
      ]
    },
    {
      "cell_type": "code",
      "metadata": {
        "id": "yLQkroJF8N-7",
        "colab_type": "code",
        "colab": {}
      },
      "source": [
        "s=func1()"
      ],
      "execution_count": 0,
      "outputs": []
    },
    {
      "cell_type": "code",
      "metadata": {
        "id": "mmeiMOMm8QkR",
        "colab_type": "code",
        "colab": {
          "base_uri": "https://localhost:8080/",
          "height": 35
        },
        "outputId": "b444bc27-faca-4a00-be5f-f72347527ee6"
      },
      "source": [
        "s()"
      ],
      "execution_count": 333,
      "outputs": [
        {
          "output_type": "execute_result",
          "data": {
            "text/plain": [
              "2"
            ]
          },
          "metadata": {
            "tags": []
          },
          "execution_count": 333
        }
      ]
    },
    {
      "cell_type": "code",
      "metadata": {
        "id": "T_nniKUu8RPJ",
        "colab_type": "code",
        "colab": {}
      },
      "source": [
        "import time"
      ],
      "execution_count": 0,
      "outputs": []
    },
    {
      "cell_type": "code",
      "metadata": {
        "id": "jdfEsP77_Kf-",
        "colab_type": "code",
        "colab": {
          "base_uri": "https://localhost:8080/",
          "height": 505
        },
        "outputId": "8b531301-cb84-4aa3-9473-be127166c48f"
      },
      "source": [
        "def transformiter(df,group_by=None,pivot_by=None,aggfunc='count',internal=False):\n",
        "  transforms=[lambda x,y:x.groupBy(y),lambda x,y:x.pivot(y)]#transformation pipeline\n",
        "  params=[group_by,pivot_by,0]\n",
        "\n",
        "  aggfuncs={'count':lambda x:x.append(lambda x:x.count())}#appends a transformation based on aggfunc argument\n",
        "  aggfuncs[aggfunc](transforms)#adding new transformation to pipeline\n",
        "  trans_index=0\n",
        "  params_index=0\n",
        "  def nextTransformAndParameter():#this is an iterator for transforms in the transformation pipeline and their paramters if any\n",
        "    nonlocal trans_index,transforms,params,params_index\n",
        "    param=None\n",
        "    if params[trans_index]!=0:\n",
        "      param=params[params_index]      \n",
        "    transform=transforms[params_index]\n",
        "    trans_index+=1\n",
        "    params_index+=1\n",
        "    return [transform,param]\n",
        "  \n",
        "  def applyTransforms(df):\n",
        "    nonlocal transforms\n",
        "    n=len(transforms)\n",
        "    #print(n)\n",
        "    nextTransformAndParameter=transformiter(df=df,group_by=group_by,pivot_by=pivot_by,aggfunc=aggfunc,internal=True)\n",
        "    df2=df\n",
        "    for i in range(n):\n",
        "      param=None\n",
        "      transform=nextTransformAndParameter()\n",
        "      if transform[1]:\n",
        "        df2=transform[0](df2,transform[1])\n",
        "      else:\n",
        "        df2=transform[0](df2)\n",
        "    return df2\n",
        "  return nextTransformAndParameter if internal==True else applyTransforms(df)\n",
        "\n",
        "#Testing Above Function\n",
        "start=time.time()\n",
        "crimes=sample.select('id','date','primary_type','description','location_description')\n",
        "result=transformiter(df=crimes,group_by='location_description',pivot_by='primary_type',aggfunc='count',internal=False)\n",
        "result.show()\n",
        "print(f'Time Taken {time.time()-start}')"
      ],
      "execution_count": 378,
      "outputs": [
        {
          "output_type": "stream",
          "text": [
            "+--------------------+-----+-------+-------+--------+---------------------------------+-------------------+---------------+-----------------+------------------+--------+--------+-----------------+--------------------------------+------------+----------+--------------------+-------------------+---------+--------------+------------+--------------------------------+---------+--------------------------+------------------------+-------------+------------+----------------+----------------------+---------+-------+-----------+--------+-----+-----------------+\n",
            "|location_description|ARSON|ASSAULT|BATTERY|BURGLARY|CONCEALED CARRY LICENSE VIOLATION|CRIM SEXUAL ASSAULT|CRIMINAL DAMAGE|CRIMINAL TRESPASS|DECEPTIVE PRACTICE|GAMBLING|HOMICIDE|HUMAN TRAFFICKING|INTERFERENCE WITH PUBLIC OFFICER|INTIMIDATION|KIDNAPPING|LIQUOR LAW VIOLATION|MOTOR VEHICLE THEFT|NARCOTICS|NON - CRIMINAL|NON-CRIMINAL|NON-CRIMINAL (SUBJECT SPECIFIED)|OBSCENITY|OFFENSE INVOLVING CHILDREN|OTHER NARCOTIC VIOLATION|OTHER OFFENSE|PROSTITUTION|PUBLIC INDECENCY|PUBLIC PEACE VIOLATION|RITUALISM|ROBBERY|SEX OFFENSE|STALKING|THEFT|WEAPONS VIOLATION|\n",
            "+--------------------+-----+-------+-------+--------+---------------------------------+-------------------+---------------+-----------------+------------------+--------+--------+-----------------+--------------------------------+------------+----------+--------------------+-------------------+---------+--------------+------------+--------------------------------+---------+--------------------------+------------------------+-------------+------------+----------------+----------------------+---------+-------+-----------+--------+-----+-----------------+\n",
            "|   RAILROAD PROPERTY| null|   null|   null|    null|                             null|               null|           null|             null|              null|    null|       3|             null|                            null|        null|      null|                null|               null|     null|          null|        null|                            null|     null|                      null|                    null|         null|        null|            null|                  null|     null|   null|       null|    null| null|             null|\n",
            "|AIRPORT TERMINAL ...| null|     21|     34|    null|                                1|               null|              7|              207|                20|    null|    null|             null|                            null|        null|      null|                null|               null|        2|          null|        null|                            null|     null|                      null|                    null|            6|        null|            null|                  null|     null|   null|       null|       1|  140|             null|\n",
            "|POLICE FACILITY/V...|    2|    245|    446|      11|                             null|                  3|            424|              492|               141|       1|    null|             null|                             112|          20|        23|                null|                112|     1508|             2|           2|                            null|     null|                       220|                    null|          376|           2|            null|                   141|     null|     19|          9|       5|  308|               23|\n",
            "|               MOTEL| null|   null|   null|    null|                             null|               null|           null|             null|              null|    null|       1|             null|                            null|        null|      null|                null|               null|     null|          null|        null|                            null|     null|                      null|                    null|         null|        null|            null|                  null|     null|   null|       null|    null| null|             null|\n",
            "|            SIDEWALK|   13|  14801|  47655|      50|                               11|                193|           2534|              733|              1429|    2096|       1|                2|                             934|          98|       317|                 852|                256|    56937|          null|           6|                            null|        5|                       304|                       5|         2866|        1671|               4|                  2312|     null|  20362|        633|      72|11941|             3522|\n",
            "|AIRPORT TERMINAL ...| null|      1|   null|    null|                             null|               null|              2|             null|                 3|    null|    null|             null|                            null|        null|      null|                null|               null|     null|          null|        null|                            null|     null|                      null|                    null|         null|        null|            null|                  null|     null|   null|       null|    null|   18|             null|\n",
            "|CTA GARAGE / OTHE...|    1|    108|    171|      21|                             null|                  5|            477|              215|               521|       1|    null|             null|                               4|        null|         2|                   3|                 66|      192|          null|        null|                            null|     null|                         1|                    null|           29|           4|            null|                    12|     null|    106|         10|       2|  673|                5|\n",
            "|            CAR WASH|    1|     58|     76|      84|                             null|                  1|             62|               41|                22|       2|       2|             null|                            null|           1|      null|                   1|                 24|       28|          null|        null|                            null|     null|                      null|                    null|           27|        null|            null|                     2|     null|     64|          3|    null|  200|                2|\n",
            "|    AIRPORT/AIRCRAFT| null|    113|    269|      11|                             null|                  1|            206|              453|               348|    null|    null|             null|                               6|        null|      null|                null|                128|      283|          null|        null|                            null|     null|                         4|                    null|          692|           1|            null|                    55|     null|      4|         11|       1| 1365|               95|\n",
            "|            HOSPITAL| null|   null|   null|    null|                             null|               null|           null|             null|              null|    null|       2|             null|                            null|        null|      null|                null|               null|     null|          null|        null|                            null|     null|                      null|                    null|         null|        null|            null|                  null|     null|   null|       null|    null| null|             null|\n",
            "|MEDICAL/DENTAL OF...|    2|    190|    156|     144|                             null|                  5|            286|               44|               113|       1|    null|             null|                               1|           1|         1|                null|               null|       40|          null|        null|                            null|     null|                        10|                    null|          138|        null|               1|                    17|     null|     10|         21|    null|  600|             null|\n",
            "|    FEDERAL BUILDING|    1|     35|     27|       2|                             null|               null|              9|               22|                25|    null|    null|             null|                               1|           3|      null|                null|               null|       11|          null|        null|                            null|     null|                      null|                    null|           34|        null|            null|                    12|     null|      2|          1|    null|   37|                3|\n",
            "|SCHOOL, PUBLIC, G...|    8|   1019|   2787|      43|                                1|                 18|            723|              516|                28|      26|    null|             null|                               9|           6|        33|                  28|                 91|      361|          null|        null|                            null|        2|                        90|                    null|          148|           2|            null|                   132|        1|    172|         63|       9|  936|              148|\n",
            "|         CTA STATION| null|    120|    211|       1|                             null|                  2|             56|              153|               240|       1|    null|             null|                              12|        null|         1|                null|                  2|       55|          null|        null|                            null|     null|                      null|                    null|            8|        null|            null|                    17|     null|     88|         10|       4|  349|                3|\n",
            "|SPORTS ARENA/STADIUM|    1|     50|    294|       5|                                1|                  1|            120|              207|                54|    null|    null|             null|                               3|        null|      null|                   1|                103|       40|          null|        null|                            null|     null|                         2|                    null|           34|           2|               1|                    14|     null|     14|          3|       1|  385|                4|\n",
            "|                FARM| null|   null|   null|    null|                             null|               null|              2|             null|              null|    null|    null|             null|                            null|        null|      null|                null|               null|     null|          null|        null|                            null|     null|                      null|                    null|         null|        null|            null|                  null|     null|   null|       null|    null| null|             null|\n",
            "|VEHICLE - OTHER R...| null|     11|     27|    null|                             null|                  5|              1|             null|                 9|    null|    null|             null|                            null|        null|      null|                null|                  3|        1|          null|        null|                            null|     null|                      null|                    null|         null|        null|            null|                  null|     null|      5|          8|    null|   46|             null|\n",
            "|            CEMETARY| null|      8|      4|       3|                             null|               null|             33|               13|                 1|    null|    null|             null|                               1|        null|      null|                null|                  1|        1|          null|        null|                            null|     null|                      null|                    null|            2|        null|            null|                     1|     null|      1|       null|    null|   40|             null|\n",
            "|               HOUSE| null|   null|   null|    null|                             null|               null|           null|             null|              null|    null|     150|             null|                            null|        null|      null|                null|               null|     null|          null|        null|                            null|     null|                      null|                    null|         null|        null|            null|                  null|     null|   null|       null|    null| null|             null|\n",
            "|       ROOMING HOUSE| null|   null|   null|    null|                             null|               null|           null|             null|              null|    null|       1|             null|                            null|        null|      null|                null|               null|     null|          null|        null|                            null|     null|                      null|                    null|         null|        null|            null|                  null|     null|   null|       null|    null| null|             null|\n",
            "+--------------------+-----+-------+-------+--------+---------------------------------+-------------------+---------------+-----------------+------------------+--------+--------+-----------------+--------------------------------+------------+----------+--------------------+-------------------+---------+--------------+------------+--------------------------------+---------+--------------------------+------------------------+-------------+------------+----------------+----------------------+---------+-------+-----------+--------+-----+-----------------+\n",
            "only showing top 20 rows\n",
            "\n",
            "Time Taken 4.717785358428955\n"
          ],
          "name": "stdout"
        }
      ]
    },
    {
      "cell_type": "code",
      "metadata": {
        "id": "3lf-LOFrBpRd",
        "colab_type": "code",
        "colab": {
          "base_uri": "https://localhost:8080/",
          "height": 505
        },
        "outputId": "dddee8f2-e87c-4142-80b8-c267a5345b39"
      },
      "source": [
        "def simplePivot(df,index=None,column=None,aggfunc=None,value=None):\n",
        "  resultant=df.groupBy(index).pivot(column)\n",
        "  functions={\n",
        "      'count':lambda x:x.count(),\n",
        "      'sum':lambda x,y:x.sum(y),\n",
        "      'avg':lambda x,y:x.avg(y),\n",
        "  }\n",
        "  action=functions[aggfunc]\n",
        "  return action(resultant,value) if value else action(resultant)\n",
        "# Testing Function\n",
        "start=time.time()\n",
        "crimes=sample.select('id','date','primary_type','description','location_description')\n",
        "result=simplePivot(df=crimes,index='location_description',column='primary_type',aggfunc='count')\n",
        "result.show()\n",
        "print(f'Time Taken {time.time()-start}')"
      ],
      "execution_count": 377,
      "outputs": [
        {
          "output_type": "stream",
          "text": [
            "+--------------------+-----+-------+-------+--------+---------------------------------+-------------------+---------------+-----------------+------------------+--------+--------+-----------------+--------------------------------+------------+----------+--------------------+-------------------+---------+--------------+------------+--------------------------------+---------+--------------------------+------------------------+-------------+------------+----------------+----------------------+---------+-------+-----------+--------+-----+-----------------+\n",
            "|location_description|ARSON|ASSAULT|BATTERY|BURGLARY|CONCEALED CARRY LICENSE VIOLATION|CRIM SEXUAL ASSAULT|CRIMINAL DAMAGE|CRIMINAL TRESPASS|DECEPTIVE PRACTICE|GAMBLING|HOMICIDE|HUMAN TRAFFICKING|INTERFERENCE WITH PUBLIC OFFICER|INTIMIDATION|KIDNAPPING|LIQUOR LAW VIOLATION|MOTOR VEHICLE THEFT|NARCOTICS|NON - CRIMINAL|NON-CRIMINAL|NON-CRIMINAL (SUBJECT SPECIFIED)|OBSCENITY|OFFENSE INVOLVING CHILDREN|OTHER NARCOTIC VIOLATION|OTHER OFFENSE|PROSTITUTION|PUBLIC INDECENCY|PUBLIC PEACE VIOLATION|RITUALISM|ROBBERY|SEX OFFENSE|STALKING|THEFT|WEAPONS VIOLATION|\n",
            "+--------------------+-----+-------+-------+--------+---------------------------------+-------------------+---------------+-----------------+------------------+--------+--------+-----------------+--------------------------------+------------+----------+--------------------+-------------------+---------+--------------+------------+--------------------------------+---------+--------------------------+------------------------+-------------+------------+----------------+----------------------+---------+-------+-----------+--------+-----+-----------------+\n",
            "|   RAILROAD PROPERTY| null|   null|   null|    null|                             null|               null|           null|             null|              null|    null|       3|             null|                            null|        null|      null|                null|               null|     null|          null|        null|                            null|     null|                      null|                    null|         null|        null|            null|                  null|     null|   null|       null|    null| null|             null|\n",
            "|AIRPORT TERMINAL ...| null|     21|     34|    null|                                1|               null|              7|              207|                20|    null|    null|             null|                            null|        null|      null|                null|               null|        2|          null|        null|                            null|     null|                      null|                    null|            6|        null|            null|                  null|     null|   null|       null|       1|  140|             null|\n",
            "|POLICE FACILITY/V...|    2|    245|    446|      11|                             null|                  3|            424|              492|               141|       1|    null|             null|                             112|          20|        23|                null|                112|     1508|             2|           2|                            null|     null|                       220|                    null|          376|           2|            null|                   141|     null|     19|          9|       5|  308|               23|\n",
            "|               MOTEL| null|   null|   null|    null|                             null|               null|           null|             null|              null|    null|       1|             null|                            null|        null|      null|                null|               null|     null|          null|        null|                            null|     null|                      null|                    null|         null|        null|            null|                  null|     null|   null|       null|    null| null|             null|\n",
            "|            SIDEWALK|   13|  14801|  47655|      50|                               11|                193|           2534|              733|              1429|    2096|       1|                2|                             934|          98|       317|                 852|                256|    56937|          null|           6|                            null|        5|                       304|                       5|         2866|        1671|               4|                  2312|     null|  20362|        633|      72|11941|             3522|\n",
            "|AIRPORT TERMINAL ...| null|      1|   null|    null|                             null|               null|              2|             null|                 3|    null|    null|             null|                            null|        null|      null|                null|               null|     null|          null|        null|                            null|     null|                      null|                    null|         null|        null|            null|                  null|     null|   null|       null|    null|   18|             null|\n",
            "|CTA GARAGE / OTHE...|    1|    108|    171|      21|                             null|                  5|            477|              215|               521|       1|    null|             null|                               4|        null|         2|                   3|                 66|      192|          null|        null|                            null|     null|                         1|                    null|           29|           4|            null|                    12|     null|    106|         10|       2|  673|                5|\n",
            "|            CAR WASH|    1|     58|     76|      84|                             null|                  1|             62|               41|                22|       2|       2|             null|                            null|           1|      null|                   1|                 24|       28|          null|        null|                            null|     null|                      null|                    null|           27|        null|            null|                     2|     null|     64|          3|    null|  200|                2|\n",
            "|    AIRPORT/AIRCRAFT| null|    113|    269|      11|                             null|                  1|            206|              453|               348|    null|    null|             null|                               6|        null|      null|                null|                128|      283|          null|        null|                            null|     null|                         4|                    null|          692|           1|            null|                    55|     null|      4|         11|       1| 1365|               95|\n",
            "|            HOSPITAL| null|   null|   null|    null|                             null|               null|           null|             null|              null|    null|       2|             null|                            null|        null|      null|                null|               null|     null|          null|        null|                            null|     null|                      null|                    null|         null|        null|            null|                  null|     null|   null|       null|    null| null|             null|\n",
            "|MEDICAL/DENTAL OF...|    2|    190|    156|     144|                             null|                  5|            286|               44|               113|       1|    null|             null|                               1|           1|         1|                null|               null|       40|          null|        null|                            null|     null|                        10|                    null|          138|        null|               1|                    17|     null|     10|         21|    null|  600|             null|\n",
            "|    FEDERAL BUILDING|    1|     35|     27|       2|                             null|               null|              9|               22|                25|    null|    null|             null|                               1|           3|      null|                null|               null|       11|          null|        null|                            null|     null|                      null|                    null|           34|        null|            null|                    12|     null|      2|          1|    null|   37|                3|\n",
            "|SCHOOL, PUBLIC, G...|    8|   1019|   2787|      43|                                1|                 18|            723|              516|                28|      26|    null|             null|                               9|           6|        33|                  28|                 91|      361|          null|        null|                            null|        2|                        90|                    null|          148|           2|            null|                   132|        1|    172|         63|       9|  936|              148|\n",
            "|         CTA STATION| null|    120|    211|       1|                             null|                  2|             56|              153|               240|       1|    null|             null|                              12|        null|         1|                null|                  2|       55|          null|        null|                            null|     null|                      null|                    null|            8|        null|            null|                    17|     null|     88|         10|       4|  349|                3|\n",
            "|SPORTS ARENA/STADIUM|    1|     50|    294|       5|                                1|                  1|            120|              207|                54|    null|    null|             null|                               3|        null|      null|                   1|                103|       40|          null|        null|                            null|     null|                         2|                    null|           34|           2|               1|                    14|     null|     14|          3|       1|  385|                4|\n",
            "|                FARM| null|   null|   null|    null|                             null|               null|              2|             null|              null|    null|    null|             null|                            null|        null|      null|                null|               null|     null|          null|        null|                            null|     null|                      null|                    null|         null|        null|            null|                  null|     null|   null|       null|    null| null|             null|\n",
            "|VEHICLE - OTHER R...| null|     11|     27|    null|                             null|                  5|              1|             null|                 9|    null|    null|             null|                            null|        null|      null|                null|                  3|        1|          null|        null|                            null|     null|                      null|                    null|         null|        null|            null|                  null|     null|      5|          8|    null|   46|             null|\n",
            "|            CEMETARY| null|      8|      4|       3|                             null|               null|             33|               13|                 1|    null|    null|             null|                               1|        null|      null|                null|                  1|        1|          null|        null|                            null|     null|                      null|                    null|            2|        null|            null|                     1|     null|      1|       null|    null|   40|             null|\n",
            "|               HOUSE| null|   null|   null|    null|                             null|               null|           null|             null|              null|    null|     150|             null|                            null|        null|      null|                null|               null|     null|          null|        null|                            null|     null|                      null|                    null|         null|        null|            null|                  null|     null|   null|       null|    null| null|             null|\n",
            "|       ROOMING HOUSE| null|   null|   null|    null|                             null|               null|           null|             null|              null|    null|       1|             null|                            null|        null|      null|                null|               null|     null|          null|        null|                            null|     null|                      null|                    null|         null|        null|            null|                  null|     null|   null|       null|    null| null|             null|\n",
            "+--------------------+-----+-------+-------+--------+---------------------------------+-------------------+---------------+-----------------+------------------+--------+--------+-----------------+--------------------------------+------------+----------+--------------------+-------------------+---------+--------------+------------+--------------------------------+---------+--------------------------+------------------------+-------------+------------+----------------+----------------------+---------+-------+-----------+--------+-----+-----------------+\n",
            "only showing top 20 rows\n",
            "\n",
            "Time Taken 4.569090843200684\n"
          ],
          "name": "stdout"
        }
      ]
    },
    {
      "cell_type": "code",
      "metadata": {
        "id": "sgDwulJUCOOy",
        "colab_type": "code",
        "colab": {}
      },
      "source": [
        ""
      ],
      "execution_count": 0,
      "outputs": []
    },
    {
      "cell_type": "code",
      "metadata": {
        "id": "iHZs1JvpBqwo",
        "colab_type": "code",
        "colab": {}
      },
      "source": [
        ""
      ],
      "execution_count": 0,
      "outputs": []
    }
  ]
}
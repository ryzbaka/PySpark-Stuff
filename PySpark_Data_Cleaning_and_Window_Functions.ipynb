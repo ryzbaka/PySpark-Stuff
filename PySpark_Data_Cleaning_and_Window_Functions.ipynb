{
  "nbformat": 4,
  "nbformat_minor": 0,
  "metadata": {
    "colab": {
      "name": "PySpark Data Cleaning and Window Functions ",
      "provenance": [],
      "collapsed_sections": []
    },
    "kernelspec": {
      "name": "python3",
      "display_name": "Python 3"
    }
  },
  "cells": [
    {
      "cell_type": "code",
      "metadata": {
        "id": "m6Zl0Lypvc55",
        "colab_type": "code",
        "outputId": "7a526c1d-e8be-4034-ed12-62cd3f17ddb6",
        "colab": {
          "base_uri": "https://localhost:8080/",
          "height": 607
        }
      },
      "source": [
        "!apt-get update\n",
        "!apt-get install openjdk-8-jdk-headless -qq > /dev/null\n",
        "!wget -q http://archive.apache.org/dist/spark/spark-2.3.1/spark-2.3.1-bin-hadoop2.7.tgz\n",
        "!tar xf spark-2.3.1-bin-hadoop2.7.tgz\n",
        "!pip install -q findspark\n",
        "import os\n",
        "os.environ[\"JAVA_HOME\"] = \"/usr/lib/jvm/java-8-openjdk-amd64\"\n",
        "os.environ[\"SPARK_HOME\"] = \"/content/spark-2.3.1-bin-hadoop2.7\"\n",
        "import findspark\n",
        "findspark.init()\n",
        "from pyspark.sql import SparkSession\n",
        "spark=SparkSession.builder.getOrCreate()\n",
        "!wget https://data.cityofchicago.org/api/views/ijzp-q8t2/rows.csv?accessType=DOWNLOAD\n",
        "!mv rows.csv\\?accessType\\=DOWNLOAD reported_crimes.csv"
      ],
      "execution_count": 0,
      "outputs": [
        {
          "output_type": "stream",
          "text": [
            "\r0% [Working]\r            \rIgn:1 https://developer.download.nvidia.com/compute/cuda/repos/ubuntu1804/x86_64  InRelease\n",
            "Get:2 http://security.ubuntu.com/ubuntu bionic-security InRelease [88.7 kB]\n",
            "Ign:3 https://developer.download.nvidia.com/compute/machine-learning/repos/ubuntu1804/x86_64  InRelease\n",
            "Hit:4 https://developer.download.nvidia.com/compute/cuda/repos/ubuntu1804/x86_64  Release\n",
            "Hit:5 https://developer.download.nvidia.com/compute/machine-learning/repos/ubuntu1804/x86_64  Release\n",
            "Get:6 http://ppa.launchpad.net/graphics-drivers/ppa/ubuntu bionic InRelease [21.3 kB]\n",
            "Hit:7 http://archive.ubuntu.com/ubuntu bionic InRelease\n",
            "Get:9 http://archive.ubuntu.com/ubuntu bionic-updates InRelease [88.7 kB]\n",
            "Get:11 http://ppa.launchpad.net/marutter/c2d4u3.5/ubuntu bionic InRelease [15.4 kB]\n",
            "Get:12 http://security.ubuntu.com/ubuntu bionic-security/main amd64 Packages [812 kB]\n",
            "Get:13 http://ppa.launchpad.net/graphics-drivers/ppa/ubuntu bionic/main amd64 Packages [36.9 kB]\n",
            "Get:14 http://archive.ubuntu.com/ubuntu bionic-backports InRelease [74.6 kB]\n",
            "Get:15 http://archive.ubuntu.com/ubuntu bionic-updates/universe amd64 Packages [1,343 kB]\n",
            "Get:16 http://security.ubuntu.com/ubuntu bionic-security/universe amd64 Packages [817 kB]\n",
            "Get:17 http://ppa.launchpad.net/marutter/c2d4u3.5/ubuntu bionic/main Sources [1,765 kB]\n",
            "Get:18 http://archive.ubuntu.com/ubuntu bionic-updates/main amd64 Packages [1,101 kB]\n",
            "Get:19 http://archive.ubuntu.com/ubuntu bionic-updates/restricted amd64 Packages [40.9 kB]\n",
            "Get:20 http://archive.ubuntu.com/ubuntu bionic-backports/universe amd64 Packages [4,252 B]\n",
            "Get:21 http://ppa.launchpad.net/marutter/c2d4u3.5/ubuntu bionic/main amd64 Packages [852 kB]\n",
            "Get:22 https://cloud.r-project.org/bin/linux/ubuntu bionic-cran35/ InRelease [3,626 B]\n",
            "Get:23 https://cloud.r-project.org/bin/linux/ubuntu bionic-cran35/ Packages [83.1 kB]\n",
            "Fetched 7,147 kB in 7s (1,035 kB/s)\n",
            "Reading package lists... Done\n",
            "--2020-02-10 06:17:56--  https://data.cityofchicago.org/api/views/ijzp-q8t2/rows.csv?accessType=DOWNLOAD\n",
            "Resolving data.cityofchicago.org (data.cityofchicago.org)... 52.206.68.26, 52.206.140.199, 52.206.140.205\n",
            "Connecting to data.cityofchicago.org (data.cityofchicago.org)|52.206.68.26|:443... connected.\n",
            "HTTP request sent, awaiting response... 200 OK\n",
            "Length: unspecified [text/csv]\n",
            "Saving to: ‘rows.csv?accessType=DOWNLOAD’\n",
            "\n",
            "rows.csv?accessType     [   <=>              ]   1.55G  3.11MB/s    in 8m 55s  \n",
            "\n",
            "2020-02-10 06:26:52 (2.97 MB/s) - ‘rows.csv?accessType=DOWNLOAD’ saved [1665966343]\n",
            "\n"
          ],
          "name": "stdout"
        }
      ]
    },
    {
      "cell_type": "code",
      "metadata": {
        "id": "GxgDHpju0eAg",
        "colab_type": "code",
        "colab": {}
      },
      "source": [
        "import os\n",
        "os.environ[\"JAVA_HOME\"] = \"/usr/lib/jvm/java-8-openjdk-amd64\"\n",
        "os.environ[\"SPARK_HOME\"] = \"/content/spark-2.3.1-bin-hadoop2.7\"\n",
        "import findspark\n",
        "findspark.init()"
      ],
      "execution_count": 0,
      "outputs": []
    },
    {
      "cell_type": "markdown",
      "metadata": {
        "id": "raFcta317lOo",
        "colab_type": "text"
      },
      "source": [
        "# Data Cleaning\n"
      ]
    },
    {
      "cell_type": "code",
      "metadata": {
        "id": "TFIVtn340hWi",
        "colab_type": "code",
        "colab": {}
      },
      "source": [
        "from pyspark.sql import SparkSession\n",
        "spark=SparkSession.builder.getOrCreate()"
      ],
      "execution_count": 0,
      "outputs": []
    },
    {
      "cell_type": "code",
      "metadata": {
        "id": "buBHZOAA0pkZ",
        "colab_type": "code",
        "outputId": "24c81b90-236b-4bf6-abf1-b3df3169820c",
        "colab": {
          "base_uri": "https://localhost:8080/",
          "height": 121
        }
      },
      "source": [
        "os.listdir()"
      ],
      "execution_count": 0,
      "outputs": [
        {
          "output_type": "execute_result",
          "data": {
            "text/plain": [
              "['.config',\n",
              " 'spark-warehouse',\n",
              " 'spark-2.3.1-bin-hadoop2.7',\n",
              " 'spark-2.3.1-bin-hadoop2.7.tgz',\n",
              " 'reported_crimes.csv',\n",
              " 'sample_data']"
            ]
          },
          "metadata": {
            "tags": []
          },
          "execution_count": 8
        }
      ]
    },
    {
      "cell_type": "code",
      "metadata": {
        "id": "z8mivTkp00M0",
        "colab_type": "code",
        "colab": {}
      },
      "source": [
        "df=spark.read.csv('reported_crimes.csv',header=True)"
      ],
      "execution_count": 0,
      "outputs": []
    },
    {
      "cell_type": "code",
      "metadata": {
        "id": "5AyCmqBx08Xm",
        "colab_type": "code",
        "colab": {}
      },
      "source": [
        "import pyspark.sql.functions as f"
      ],
      "execution_count": 0,
      "outputs": []
    },
    {
      "cell_type": "code",
      "metadata": {
        "id": "W6ulrYrV1IPn",
        "colab_type": "code",
        "colab": {}
      },
      "source": [
        "df=df.withColumn('Date',f.to_date(f.col('Date'),format='MM/dd/yyyy hh:mm:ss a'))"
      ],
      "execution_count": 0,
      "outputs": []
    },
    {
      "cell_type": "code",
      "metadata": {
        "id": "04WwMZVz1Z_a",
        "colab_type": "code",
        "outputId": "ea83bf72-f91d-484a-c9b1-fe99f2cf31f1",
        "colab": {
          "base_uri": "https://localhost:8080/",
          "height": 35
        }
      },
      "source": [
        "df.count()"
      ],
      "execution_count": 0,
      "outputs": [
        {
          "output_type": "execute_result",
          "data": {
            "text/plain": [
              "7065270"
            ]
          },
          "metadata": {
            "tags": []
          },
          "execution_count": 12
        }
      ]
    },
    {
      "cell_type": "code",
      "metadata": {
        "id": "DiRG2kdA1cIC",
        "colab_type": "code",
        "outputId": "a59cc4ff-493d-41fa-c0ca-9c635ee2d7eb",
        "colab": {
          "base_uri": "https://localhost:8080/",
          "height": 35
        }
      },
      "source": [
        "df.cache().count()"
      ],
      "execution_count": 0,
      "outputs": [
        {
          "output_type": "execute_result",
          "data": {
            "text/plain": [
              "7065270"
            ]
          },
          "metadata": {
            "tags": []
          },
          "execution_count": 13
        }
      ]
    },
    {
      "cell_type": "code",
      "metadata": {
        "id": "N99a1hlh1esJ",
        "colab_type": "code",
        "outputId": "17b95190-3a05-44ff-a33b-5fec6b4753ca",
        "colab": {
          "base_uri": "https://localhost:8080/",
          "height": 176
        }
      },
      "source": [
        "df.show(2)"
      ],
      "execution_count": 0,
      "outputs": [
        {
          "output_type": "stream",
          "text": [
            "+--------+-----------+----------+------------------+----+-------------------+--------------------+--------------------+------+--------+----+--------+----+--------------+--------+------------+------------+----+--------------------+--------+---------+--------+\n",
            "|      ID|Case Number|      Date|             Block|IUCR|       Primary Type|         Description|Location Description|Arrest|Domestic|Beat|District|Ward|Community Area|FBI Code|X Coordinate|Y Coordinate|Year|          Updated On|Latitude|Longitude|Location|\n",
            "+--------+-----------+----------+------------------+----+-------------------+--------------------+--------------------+------+--------+----+--------+----+--------------+--------+------------+------------+----+--------------------+--------+---------+--------+\n",
            "|11034701|   JA366925|2001-01-01|   016XX E 86TH PL|1153| DECEPTIVE PRACTICE|FINANCIAL IDENTIT...|           RESIDENCE| false|   false|0412|     004|   8|            45|      11|        null|        null|2001|08/05/2017 03:50:...|    null|     null|    null|\n",
            "|11227287|   JB147188|2017-10-08|092XX S RACINE AVE|0281|CRIM SEXUAL ASSAULT|      NON-AGGRAVATED|           RESIDENCE| false|   false|2222|     022|  21|            73|      02|        null|        null|2017|02/11/2018 03:57:...|    null|     null|    null|\n",
            "+--------+-----------+----------+------------------+----+-------------------+--------------------+--------------------+------+--------+----+--------+----+--------------+--------+------------+------------+----+--------------------+--------+---------+--------+\n",
            "only showing top 2 rows\n",
            "\n"
          ],
          "name": "stdout"
        }
      ]
    },
    {
      "cell_type": "code",
      "metadata": {
        "id": "B_4Zbutk3XEb",
        "colab_type": "code",
        "colab": {}
      },
      "source": [
        "df=df.orderBy('Date',ascending=True)"
      ],
      "execution_count": 0,
      "outputs": []
    },
    {
      "cell_type": "code",
      "metadata": {
        "id": "mLp9jYJm3b5F",
        "colab_type": "code",
        "outputId": "b6c84d81-f71b-46a4-bcc6-42b4c9aa1818",
        "colab": {
          "base_uri": "https://localhost:8080/",
          "height": 176
        }
      },
      "source": [
        "df.show(2)"
      ],
      "execution_count": 0,
      "outputs": [
        {
          "output_type": "stream",
          "text": [
            "+--------+-----------+----------+--------------------+----+------------------+--------------------+--------------------+------+--------+----+--------+----+--------------+--------+------------+------------+----+--------------------+--------+---------+--------+\n",
            "|      ID|Case Number|      Date|               Block|IUCR|      Primary Type|         Description|Location Description|Arrest|Domestic|Beat|District|Ward|Community Area|FBI Code|X Coordinate|Y Coordinate|Year|          Updated On|Latitude|Longitude|Location|\n",
            "+--------+-----------+----------+--------------------+----+------------------+--------------------+--------------------+------+--------+----+--------+----+--------------+--------+------------+------------+----+--------------------+--------+---------+--------+\n",
            "|10389372|   HZ126025|2001-01-01|074XX N CALIFORNI...|1153|DECEPTIVE PRACTICE|FINANCIAL IDENTIT...|           APARTMENT| false|   false|2411|     024|  50|             2|      11|        null|        null|2001|01/30/2016 03:52:...|    null|     null|    null|\n",
            "| 9755209|   HX403553|2001-01-01|031XX W DOUGLAS BLVD|1562|       SEX OFFENSE|AGG CRIMINAL SEXU...|CHURCH/SYNAGOGUE/...| false|   false|1022|     010|  24|            29|      17|        null|        null|2001|08/17/2015 03:03:...|    null|     null|    null|\n",
            "+--------+-----------+----------+--------------------+----+------------------+--------------------+--------------------+------+--------+----+--------+----+--------------+--------+------------+------------+----+--------------------+--------+---------+--------+\n",
            "only showing top 2 rows\n",
            "\n"
          ],
          "name": "stdout"
        }
      ]
    },
    {
      "cell_type": "code",
      "metadata": {
        "id": "FYUlzCdd3i7M",
        "colab_type": "code",
        "colab": {}
      },
      "source": [
        "sampled_time=df.groupBy('Date').count()"
      ],
      "execution_count": 0,
      "outputs": []
    },
    {
      "cell_type": "code",
      "metadata": {
        "id": "XWR4LJwe3xu3",
        "colab_type": "code",
        "outputId": "1d2aa71f-e3c2-4094-f7a9-0c030b8956f5",
        "colab": {
          "base_uri": "https://localhost:8080/",
          "height": 35
        }
      },
      "source": [
        "sampled_time.cache().count()"
      ],
      "execution_count": 0,
      "outputs": [
        {
          "output_type": "execute_result",
          "data": {
            "text/plain": [
              "6971"
            ]
          },
          "metadata": {
            "tags": []
          },
          "execution_count": 21
        }
      ]
    },
    {
      "cell_type": "code",
      "metadata": {
        "id": "22r8tmNR30uf",
        "colab_type": "code",
        "outputId": "3dda341c-e59c-4755-f0dd-f00bd0c0e27d",
        "colab": {
          "base_uri": "https://localhost:8080/",
          "height": 156
        }
      },
      "source": [
        "sampled_time.show(2)"
      ],
      "execution_count": 0,
      "outputs": [
        {
          "output_type": "stream",
          "text": [
            "+----------+-----+\n",
            "|      Date|count|\n",
            "+----------+-----+\n",
            "|2001-01-01| 1819|\n",
            "|2001-01-02| 1143|\n",
            "+----------+-----+\n",
            "only showing top 2 rows\n",
            "\n"
          ],
          "name": "stdout"
        }
      ]
    },
    {
      "cell_type": "code",
      "metadata": {
        "id": "Z_lEgnC94Z4k",
        "colab_type": "code",
        "colab": {}
      },
      "source": [
        "import pyspark.sql.functions as F"
      ],
      "execution_count": 0,
      "outputs": []
    },
    {
      "cell_type": "code",
      "metadata": {
        "id": "9G9yTdi14DwP",
        "colab_type": "code",
        "colab": {}
      },
      "source": [
        "sampled_time=sampled_time.withColumn('split_date',F.split('Date','-'))"
      ],
      "execution_count": 0,
      "outputs": []
    },
    {
      "cell_type": "code",
      "metadata": {
        "id": "wWfFPBBv4XEN",
        "colab_type": "code",
        "outputId": "d756b3a5-cac1-409d-a547-59e4c0b4a42c",
        "colab": {
          "base_uri": "https://localhost:8080/",
          "height": 156
        }
      },
      "source": [
        "sampled_time.show(2,truncate=False)"
      ],
      "execution_count": 0,
      "outputs": [
        {
          "output_type": "stream",
          "text": [
            "+----------+-----+--------------+\n",
            "|Date      |count|split_date    |\n",
            "+----------+-----+--------------+\n",
            "|2001-01-01|1819 |[2001, 01, 01]|\n",
            "|2001-01-02|1143 |[2001, 01, 02]|\n",
            "+----------+-----+--------------+\n",
            "only showing top 2 rows\n",
            "\n"
          ],
          "name": "stdout"
        }
      ]
    },
    {
      "cell_type": "code",
      "metadata": {
        "id": "xVPDcQG25TnS",
        "colab_type": "code",
        "colab": {}
      },
      "source": [
        "from pyspark.sql.types import IntegerType"
      ],
      "execution_count": 0,
      "outputs": []
    },
    {
      "cell_type": "code",
      "metadata": {
        "id": "QFOvgAl_4kOo",
        "colab_type": "code",
        "colab": {}
      },
      "source": [
        "sampled_time=sampled_time.withColumn('year',f.col('split_date').getItem(0).cast(IntegerType()))\n",
        "sampled_time=sampled_time.withColumn('month',f.col('split_date').getItem(1).cast(IntegerType()))\n",
        "sampled_time=sampled_time.withColumn('day',f.col('split_date').getItem(2).cast(IntegerType()))"
      ],
      "execution_count": 0,
      "outputs": []
    },
    {
      "cell_type": "code",
      "metadata": {
        "id": "yrZMdaS55sW3",
        "colab_type": "code",
        "outputId": "b134ce61-c896-49d5-d72d-e3b4c2fe066a",
        "colab": {
          "base_uri": "https://localhost:8080/",
          "height": 295
        }
      },
      "source": [
        "sampled_time.show(10)"
      ],
      "execution_count": 0,
      "outputs": [
        {
          "output_type": "stream",
          "text": [
            "+----------+-----+--------------+----+-----+---+\n",
            "|      Date|count|    split_date|year|month|day|\n",
            "+----------+-----+--------------+----+-----+---+\n",
            "|2001-01-01| 1819|[2001, 01, 01]|2001|    1|  1|\n",
            "|2001-01-02| 1143|[2001, 01, 02]|2001|    1|  2|\n",
            "|2001-01-03| 1151|[2001, 01, 03]|2001|    1|  3|\n",
            "|2001-01-04| 1166|[2001, 01, 04]|2001|    1|  4|\n",
            "|2001-01-05| 1267|[2001, 01, 05]|2001|    1|  5|\n",
            "|2001-01-06| 1290|[2001, 01, 06]|2001|    1|  6|\n",
            "|2001-01-07| 1104|[2001, 01, 07]|2001|    1|  7|\n",
            "|2001-01-08| 1157|[2001, 01, 08]|2001|    1|  8|\n",
            "|2001-01-09| 1184|[2001, 01, 09]|2001|    1|  9|\n",
            "|2001-01-10| 1237|[2001, 01, 10]|2001|    1| 10|\n",
            "+----------+-----+--------------+----+-----+---+\n",
            "only showing top 10 rows\n",
            "\n"
          ],
          "name": "stdout"
        }
      ]
    },
    {
      "cell_type": "code",
      "metadata": {
        "id": "5f06_rB85xqi",
        "colab_type": "code",
        "colab": {}
      },
      "source": [
        "sampled_time=sampled_time.drop('split_date')"
      ],
      "execution_count": 0,
      "outputs": []
    },
    {
      "cell_type": "code",
      "metadata": {
        "id": "Kj2X9wML57O0",
        "colab_type": "code",
        "outputId": "a0dbb4bb-3c0e-4538-e6a1-0ac4bd169f59",
        "colab": {
          "base_uri": "https://localhost:8080/",
          "height": 173
        }
      },
      "source": [
        "sampled_time.show(3)"
      ],
      "execution_count": 0,
      "outputs": [
        {
          "output_type": "stream",
          "text": [
            "+----------+-----+----+-----+---+\n",
            "|      Date|count|year|month|day|\n",
            "+----------+-----+----+-----+---+\n",
            "|2001-01-01| 1819|2001|    1|  1|\n",
            "|2001-01-02| 1143|2001|    1|  2|\n",
            "|2001-01-03| 1151|2001|    1|  3|\n",
            "+----------+-----+----+-----+---+\n",
            "only showing top 3 rows\n",
            "\n"
          ],
          "name": "stdout"
        }
      ]
    },
    {
      "cell_type": "code",
      "metadata": {
        "id": "O_MYcYni58n8",
        "colab_type": "code",
        "colab": {}
      },
      "source": [
        "sample=sampled_time.withColumnRenamed('count','crimes')"
      ],
      "execution_count": 0,
      "outputs": []
    },
    {
      "cell_type": "code",
      "metadata": {
        "id": "rWrsjfzS6EeM",
        "colab_type": "code",
        "outputId": "3323998b-db27-42e6-e977-f0db6822992b",
        "colab": {
          "base_uri": "https://localhost:8080/",
          "height": 156
        }
      },
      "source": [
        "sample.show(2)"
      ],
      "execution_count": 0,
      "outputs": [
        {
          "output_type": "stream",
          "text": [
            "+----------+------+----+-----+---+\n",
            "|      Date|crimes|year|month|day|\n",
            "+----------+------+----+-----+---+\n",
            "|2001-01-01|  1819|2001|    1|  1|\n",
            "|2001-01-02|  1143|2001|    1|  2|\n",
            "+----------+------+----+-----+---+\n",
            "only showing top 2 rows\n",
            "\n"
          ],
          "name": "stdout"
        }
      ]
    },
    {
      "cell_type": "code",
      "metadata": {
        "id": "BFBRJl7_6GD1",
        "colab_type": "code",
        "colab": {}
      },
      "source": [
        "monthly=sample.groupby('month').sum('crimes')"
      ],
      "execution_count": 0,
      "outputs": []
    },
    {
      "cell_type": "code",
      "metadata": {
        "id": "b-wBfLRV6SFm",
        "colab_type": "code",
        "outputId": "1c660e87-391b-4550-debc-bcbd1d51af8e",
        "colab": {
          "base_uri": "https://localhost:8080/",
          "height": 312
        }
      },
      "source": [
        "monthly.show()"
      ],
      "execution_count": 0,
      "outputs": [
        {
          "output_type": "stream",
          "text": [
            "+-----+-----------+\n",
            "|month|sum(crimes)|\n",
            "+-----+-----------+\n",
            "|   12|     525223|\n",
            "|    1|     567420|\n",
            "|    6|     623852|\n",
            "|    3|     578047|\n",
            "|    5|     626840|\n",
            "|    9|     608055|\n",
            "|    4|     580194|\n",
            "|    8|     648952|\n",
            "|    7|     655551|\n",
            "|   10|     614625|\n",
            "|   11|     553419|\n",
            "|    2|     483092|\n",
            "+-----+-----------+\n",
            "\n"
          ],
          "name": "stdout"
        }
      ]
    },
    {
      "cell_type": "code",
      "metadata": {
        "id": "qto8UIl76Ywx",
        "colab_type": "code",
        "colab": {}
      },
      "source": [
        "monthly=monthly.withColumnRenamed('sum(crimes)','crimes')"
      ],
      "execution_count": 0,
      "outputs": []
    },
    {
      "cell_type": "code",
      "metadata": {
        "id": "4as30zH96nZr",
        "colab_type": "code",
        "outputId": "e1079741-78cd-4170-d86b-eb0477a36adc",
        "colab": {
          "base_uri": "https://localhost:8080/",
          "height": 312
        }
      },
      "source": [
        "monthly.orderBy('crimes',ascending=False).show()# crimes per month"
      ],
      "execution_count": 0,
      "outputs": [
        {
          "output_type": "stream",
          "text": [
            "+-----+------+\n",
            "|month|crimes|\n",
            "+-----+------+\n",
            "|    7|655551|\n",
            "|    8|648952|\n",
            "|    5|626840|\n",
            "|    6|623852|\n",
            "|   10|614625|\n",
            "|    9|608055|\n",
            "|    4|580194|\n",
            "|    3|578047|\n",
            "|    1|567420|\n",
            "|   11|553419|\n",
            "|   12|525223|\n",
            "|    2|483092|\n",
            "+-----+------+\n",
            "\n"
          ],
          "name": "stdout"
        }
      ]
    },
    {
      "cell_type": "code",
      "metadata": {
        "id": "jVsnFjsj6tDy",
        "colab_type": "code",
        "outputId": "245c0443-91ad-4a28-832e-d7502e433b35",
        "colab": {
          "base_uri": "https://localhost:8080/",
          "height": 156
        }
      },
      "source": [
        "sample.show(2)"
      ],
      "execution_count": 0,
      "outputs": [
        {
          "output_type": "stream",
          "text": [
            "+----------+------+----+-----+---+\n",
            "|      Date|crimes|year|month|day|\n",
            "+----------+------+----+-----+---+\n",
            "|2001-01-01|  1819|2001|    1|  1|\n",
            "|2001-01-02|  1143|2001|    1|  2|\n",
            "+----------+------+----+-----+---+\n",
            "only showing top 2 rows\n",
            "\n"
          ],
          "name": "stdout"
        }
      ]
    },
    {
      "cell_type": "code",
      "metadata": {
        "id": "gu-PYrHL6_dM",
        "colab_type": "code",
        "outputId": "00a4861e-cd57-4d1c-fba6-46900792398a",
        "colab": {
          "base_uri": "https://localhost:8080/",
          "height": 139
        }
      },
      "source": [
        "sample.printSchema()"
      ],
      "execution_count": 0,
      "outputs": [
        {
          "output_type": "stream",
          "text": [
            "root\n",
            " |-- Date: date (nullable = true)\n",
            " |-- crimes: long (nullable = false)\n",
            " |-- year: integer (nullable = true)\n",
            " |-- month: integer (nullable = true)\n",
            " |-- day: integer (nullable = true)\n",
            "\n"
          ],
          "name": "stdout"
        }
      ]
    },
    {
      "cell_type": "markdown",
      "metadata": {
        "id": "hZi91_Lr7ht3",
        "colab_type": "text"
      },
      "source": [
        "# Window Functions"
      ]
    },
    {
      "cell_type": "code",
      "metadata": {
        "id": "1Zt-Bt4U7HuP",
        "colab_type": "code",
        "colab": {}
      },
      "source": [
        "sample.createOrReplaceTempView('crime_data')"
      ],
      "execution_count": 0,
      "outputs": []
    },
    {
      "cell_type": "code",
      "metadata": {
        "id": "uySy8nRQC1Ng",
        "colab_type": "code",
        "outputId": "5fc18563-98f0-4a83-8742-c8451a6bbf86",
        "colab": {
          "base_uri": "https://localhost:8080/",
          "height": 468
        }
      },
      "source": [
        "spark.sql('select Date,crimes, sum(crimes) over(order by Date) as running_total from crime_data').show()"
      ],
      "execution_count": 0,
      "outputs": [
        {
          "output_type": "stream",
          "text": [
            "+----------+------+-------------+\n",
            "|      Date|crimes|running_total|\n",
            "+----------+------+-------------+\n",
            "|2001-01-01|  1819|         1819|\n",
            "|2001-01-02|  1143|         2962|\n",
            "|2001-01-03|  1151|         4113|\n",
            "|2001-01-04|  1166|         5279|\n",
            "|2001-01-05|  1267|         6546|\n",
            "|2001-01-06|  1290|         7836|\n",
            "|2001-01-07|  1104|         8940|\n",
            "|2001-01-08|  1157|        10097|\n",
            "|2001-01-09|  1184|        11281|\n",
            "|2001-01-10|  1237|        12518|\n",
            "|2001-01-11|  1228|        13746|\n",
            "|2001-01-12|  1353|        15099|\n",
            "|2001-01-13|  1310|        16409|\n",
            "|2001-01-14|  1118|        17527|\n",
            "|2001-01-15|  1312|        18839|\n",
            "|2001-01-16|  1251|        20090|\n",
            "|2001-01-17|  1288|        21378|\n",
            "|2001-01-18|  1278|        22656|\n",
            "|2001-01-19|  1214|        23870|\n",
            "|2001-01-20|  1256|        25126|\n",
            "+----------+------+-------------+\n",
            "only showing top 20 rows\n",
            "\n"
          ],
          "name": "stdout"
        }
      ]
    },
    {
      "cell_type": "code",
      "metadata": {
        "id": "I51yiEnyDb3N",
        "colab_type": "code",
        "outputId": "5962a5c2-8cba-40d5-ea89-f4f7d42508d8",
        "colab": {
          "base_uri": "https://localhost:8080/",
          "height": 173
        }
      },
      "source": [
        "spark.sql('select month,Date,crimes, sum(crimes) over(partition by month order by date) as running_total from crime_data where month==11').show(3)"
      ],
      "execution_count": 0,
      "outputs": [
        {
          "output_type": "stream",
          "text": [
            "+-----+----------+------+-------------+\n",
            "|month|      Date|crimes|running_total|\n",
            "+-----+----------+------+-------------+\n",
            "|   11|2001-11-01|  1736|         1736|\n",
            "|   11|2001-11-02|  1460|         3196|\n",
            "|   11|2001-11-03|  1354|         4550|\n",
            "+-----+----------+------+-------------+\n",
            "only showing top 3 rows\n",
            "\n"
          ],
          "name": "stdout"
        }
      ]
    },
    {
      "cell_type": "code",
      "metadata": {
        "id": "aO2acwbhCwok",
        "colab_type": "code",
        "outputId": "a024641e-7296-4db1-c037-08343e3aab05",
        "colab": {
          "base_uri": "https://localhost:8080/",
          "height": 173
        }
      },
      "source": [
        "spark.sql('select month,Date,crimes, sum(crimes) over(partition by month order by Date) as running_total from crime_data where month==12').show(3)"
      ],
      "execution_count": 0,
      "outputs": [
        {
          "output_type": "stream",
          "text": [
            "+-----+----------+------+-------------+\n",
            "|month|      Date|crimes|running_total|\n",
            "+-----+----------+------+-------------+\n",
            "|   12|2001-12-01|  1435|         1435|\n",
            "|   12|2001-12-02|  1174|         2609|\n",
            "|   12|2001-12-03|  1280|         3889|\n",
            "+-----+----------+------+-------------+\n",
            "only showing top 3 rows\n",
            "\n"
          ],
          "name": "stdout"
        }
      ]
    },
    {
      "cell_type": "code",
      "metadata": {
        "id": "2Zh13egwJxG7",
        "colab_type": "code",
        "outputId": "90309930-8176-41f7-8fb7-57273a7807ec",
        "colab": {
          "base_uri": "https://localhost:8080/",
          "height": 173
        }
      },
      "source": [
        "spark.sql('select month,Date,crimes, sum(crimes) over(partition by month) as running_total from crime_data where month==12').show(3)"
      ],
      "execution_count": 0,
      "outputs": [
        {
          "output_type": "stream",
          "text": [
            "+-----+----------+------+-------------+\n",
            "|month|      Date|crimes|running_total|\n",
            "+-----+----------+------+-------------+\n",
            "|   12|2001-12-01|  1435|       525223|\n",
            "|   12|2001-12-02|  1174|       525223|\n",
            "|   12|2001-12-03|  1280|       525223|\n",
            "+-----+----------+------+-------------+\n",
            "only showing top 3 rows\n",
            "\n"
          ],
          "name": "stdout"
        }
      ]
    },
    {
      "cell_type": "code",
      "metadata": {
        "id": "K30i5OhQKFw9",
        "colab_type": "code",
        "outputId": "97a004fa-bb51-4b07-cd10-4e40bd1ee80c",
        "colab": {
          "base_uri": "https://localhost:8080/",
          "height": 312
        }
      },
      "source": [
        "sample.groupBy('month').sum('crimes').orderBy('sum(crimes)').show()"
      ],
      "execution_count": 0,
      "outputs": [
        {
          "output_type": "stream",
          "text": [
            "+-----+-----------+\n",
            "|month|sum(crimes)|\n",
            "+-----+-----------+\n",
            "|    2|     483092|\n",
            "|   12|     525223|\n",
            "|   11|     553419|\n",
            "|    1|     567420|\n",
            "|    3|     578047|\n",
            "|    4|     580194|\n",
            "|    9|     608055|\n",
            "|   10|     614625|\n",
            "|    6|     623852|\n",
            "|    5|     626840|\n",
            "|    8|     648952|\n",
            "|    7|     655551|\n",
            "+-----+-----------+\n",
            "\n"
          ],
          "name": "stdout"
        }
      ]
    },
    {
      "cell_type": "markdown",
      "metadata": {
        "id": "UZ0Md6G8KmSL",
        "colab_type": "text"
      },
      "source": [
        "The `PARTITION BY` clause divides the dataset into partitions based on distinct column values and the `ORDER` BY clause then orders values within those partitions.\n",
        "The `OVER` clause will run on each partition independantly.\n",
        "This partition is not the same as partitions in the database made in spark to send to worker nodes in a cluster."
      ]
    },
    {
      "cell_type": "code",
      "metadata": {
        "id": "jeAv1ETNLET3",
        "colab_type": "code",
        "outputId": "8252a3b4-49ad-439d-ec7c-012e26f44578",
        "colab": {
          "base_uri": "https://localhost:8080/",
          "height": 173
        }
      },
      "source": [
        "spark.sql('select month,Date,crimes, avg(crimes) over(partition by month order by Date) as average from crime_data where month==12').show(3)"
      ],
      "execution_count": 0,
      "outputs": [
        {
          "output_type": "stream",
          "text": [
            "+-----+----------+------+------------------+\n",
            "|month|      Date|crimes|           average|\n",
            "+-----+----------+------+------------------+\n",
            "|   12|2001-12-01|  1435|            1435.0|\n",
            "|   12|2001-12-02|  1174|            1304.5|\n",
            "|   12|2001-12-03|  1280|1296.3333333333333|\n",
            "+-----+----------+------+------------------+\n",
            "only showing top 3 rows\n",
            "\n"
          ],
          "name": "stdout"
        }
      ]
    },
    {
      "cell_type": "code",
      "metadata": {
        "id": "c5wPkbJaLjYC",
        "colab_type": "code",
        "outputId": "0977ba3e-9e21-48c0-a4a8-a02a49ccd30f",
        "colab": {
          "base_uri": "https://localhost:8080/",
          "height": 173
        }
      },
      "source": [
        "spark.sql('select month,Date,crimes, avg(crimes) over(partition by month order by Date) as average from crime_data where month==11').show(3)"
      ],
      "execution_count": 0,
      "outputs": [
        {
          "output_type": "stream",
          "text": [
            "+-----+----------+------+------------------+\n",
            "|month|      Date|crimes|           average|\n",
            "+-----+----------+------+------------------+\n",
            "|   11|2001-11-01|  1736|            1736.0|\n",
            "|   11|2001-11-02|  1460|            1598.0|\n",
            "|   11|2001-11-03|  1354|1516.6666666666667|\n",
            "+-----+----------+------+------------------+\n",
            "only showing top 3 rows\n",
            "\n"
          ],
          "name": "stdout"
        }
      ]
    },
    {
      "cell_type": "code",
      "metadata": {
        "id": "oZTRViDVN17G",
        "colab_type": "code",
        "outputId": "507a3667-6443-446b-9a82-15895c9dd978",
        "colab": {
          "base_uri": "https://localhost:8080/",
          "height": 173
        }
      },
      "source": [
        "spark.sql('select month,Date,crimes, count(crimes) over(partition by month order by Date) as count from crime_data where month==12').show(3)"
      ],
      "execution_count": 0,
      "outputs": [
        {
          "output_type": "stream",
          "text": [
            "+-----+----------+------+-----+\n",
            "|month|      Date|crimes|count|\n",
            "+-----+----------+------+-----+\n",
            "|   12|2001-12-01|  1435|    1|\n",
            "|   12|2001-12-02|  1174|    2|\n",
            "|   12|2001-12-03|  1280|    3|\n",
            "+-----+----------+------+-----+\n",
            "only showing top 3 rows\n",
            "\n"
          ],
          "name": "stdout"
        }
      ]
    },
    {
      "cell_type": "code",
      "metadata": {
        "id": "Vjqu2-2ZN2zf",
        "colab_type": "code",
        "outputId": "c8dbdcb2-2ff7-4f0e-9edc-7d3c7e00f6cb",
        "colab": {
          "base_uri": "https://localhost:8080/",
          "height": 173
        }
      },
      "source": [
        "spark.sql('select month,Date,crimes, count(crimes) over(partition by month order by Date) as count from crime_data where month==11').show(3)"
      ],
      "execution_count": 0,
      "outputs": [
        {
          "output_type": "stream",
          "text": [
            "+-----+----------+------+-----+\n",
            "|month|      Date|crimes|count|\n",
            "+-----+----------+------+-----+\n",
            "|   11|2001-11-01|  1736|    1|\n",
            "|   11|2001-11-02|  1460|    2|\n",
            "|   11|2001-11-03|  1354|    3|\n",
            "+-----+----------+------+-----+\n",
            "only showing top 3 rows\n",
            "\n"
          ],
          "name": "stdout"
        }
      ]
    },
    {
      "cell_type": "code",
      "metadata": {
        "id": "kEJVsWI1Pa2y",
        "colab_type": "code",
        "outputId": "6f36a367-19e8-4e10-fd5e-274c1b39ca53",
        "colab": {
          "base_uri": "https://localhost:8080/",
          "height": 208
        }
      },
      "source": [
        "spark.sql('select month,Date,crimes, dense_rank() over(partition by month order by Date) as row from crime_data where (month==12 or month==11) and year==2001 and day<=3').show()"
      ],
      "execution_count": 0,
      "outputs": [
        {
          "output_type": "stream",
          "text": [
            "+-----+----------+------+---+\n",
            "|month|      Date|crimes|row|\n",
            "+-----+----------+------+---+\n",
            "|   12|2001-12-01|  1435|  1|\n",
            "|   12|2001-12-02|  1174|  2|\n",
            "|   12|2001-12-03|  1280|  3|\n",
            "|   11|2001-11-01|  1736|  1|\n",
            "|   11|2001-11-02|  1460|  2|\n",
            "|   11|2001-11-03|  1354|  3|\n",
            "+-----+----------+------+---+\n",
            "\n"
          ],
          "name": "stdout"
        }
      ]
    },
    {
      "cell_type": "code",
      "metadata": {
        "id": "4ZmZde95QmqJ",
        "colab_type": "code",
        "outputId": "ded36fa9-b654-4700-84c3-20ff8e45309c",
        "colab": {
          "base_uri": "https://localhost:8080/",
          "height": 208
        }
      },
      "source": [
        "spark.sql('select month,Date,crimes, ntile(4) over(partition by month order by Date) as row from crime_data where (month==12 or month==11) and year==2001 and day<=3').show()"
      ],
      "execution_count": 0,
      "outputs": [
        {
          "output_type": "stream",
          "text": [
            "+-----+----------+------+---+\n",
            "|month|      Date|crimes|row|\n",
            "+-----+----------+------+---+\n",
            "|   12|2001-12-01|  1435|  1|\n",
            "|   12|2001-12-02|  1174|  2|\n",
            "|   12|2001-12-03|  1280|  3|\n",
            "|   11|2001-11-01|  1736|  1|\n",
            "|   11|2001-11-02|  1460|  2|\n",
            "|   11|2001-11-03|  1354|  3|\n",
            "+-----+----------+------+---+\n",
            "\n"
          ],
          "name": "stdout"
        }
      ]
    },
    {
      "cell_type": "markdown",
      "metadata": {
        "id": "wHkAxirQUcWY",
        "colab_type": "text"
      },
      "source": [
        "Here in ntile(n) n is the number of buckets that the table has been divided into."
      ]
    },
    {
      "cell_type": "code",
      "metadata": {
        "id": "gGFThTqGUaIZ",
        "colab_type": "code",
        "outputId": "f65cdc44-a5e2-473e-82d9-0a6076efe45f",
        "colab": {
          "base_uri": "https://localhost:8080/",
          "height": 208
        }
      },
      "source": [
        "spark.sql('select month,Date,crimes,ntile(2)over(partition by month order by Date) as percentile from crime_data where (month == 12 or month == 11) and year==2001 and day<=3').show()"
      ],
      "execution_count": 0,
      "outputs": [
        {
          "output_type": "stream",
          "text": [
            "+-----+----------+------+----------+\n",
            "|month|      Date|crimes|percentile|\n",
            "+-----+----------+------+----------+\n",
            "|   12|2001-12-01|  1435|         1|\n",
            "|   12|2001-12-02|  1174|         1|\n",
            "|   12|2001-12-03|  1280|         2|\n",
            "|   11|2001-11-01|  1736|         1|\n",
            "|   11|2001-11-02|  1460|         1|\n",
            "|   11|2001-11-03|  1354|         2|\n",
            "+-----+----------+------+----------+\n",
            "\n"
          ],
          "name": "stdout"
        }
      ]
    },
    {
      "cell_type": "code",
      "metadata": {
        "id": "YRkai3x7XsQT",
        "colab_type": "code",
        "colab": {}
      },
      "source": [
        "pct_chg=spark.sql(\"select month,Date,day,crimes,lag(crimes,3)over(partition by month order by Date)as threelag from crime_data where year==2001 and month>=6 and day<=10 order by month asc limit 20\")"
      ],
      "execution_count": 0,
      "outputs": []
    },
    {
      "cell_type": "code",
      "metadata": {
        "id": "d5m51PpUXIQM",
        "colab_type": "code",
        "outputId": "2b43b5b7-0d07-4868-f059-8f691559d881",
        "colab": {
          "base_uri": "https://localhost:8080/",
          "height": 451
        }
      },
      "source": [
        "pct_chg.show(20)"
      ],
      "execution_count": 0,
      "outputs": [
        {
          "output_type": "stream",
          "text": [
            "+-----+----------+---+------+--------+\n",
            "|month|      Date|day|crimes|threelag|\n",
            "+-----+----------+---+------+--------+\n",
            "|    6|2001-06-01|  1|  1662|    null|\n",
            "|    6|2001-06-02|  2|  1398|    null|\n",
            "|    6|2001-06-03|  3|  1184|    null|\n",
            "|    6|2001-06-04|  4|  1371|    1662|\n",
            "|    6|2001-06-05|  5|  1281|    1398|\n",
            "|    6|2001-06-06|  6|  1344|    1184|\n",
            "|    6|2001-06-07|  7|  1326|    1371|\n",
            "|    6|2001-06-08|  8|  1370|    1281|\n",
            "|    6|2001-06-09|  9|  1386|    1344|\n",
            "|    6|2001-06-10| 10|  1413|    1326|\n",
            "|    7|2001-07-01|  1|  1601|    null|\n",
            "|    7|2001-07-02|  2|  1372|    null|\n",
            "|    7|2001-07-03|  3|  1316|    null|\n",
            "|    7|2001-07-04|  4|  1420|    1601|\n",
            "|    7|2001-07-05|  5|  1375|    1372|\n",
            "|    7|2001-07-06|  6|  1455|    1316|\n",
            "|    7|2001-07-07|  7|  1447|    1420|\n",
            "|    7|2001-07-08|  8|  1385|    1375|\n",
            "|    7|2001-07-09|  9|  1431|    1455|\n",
            "|    7|2001-07-10| 10|  1492|    1447|\n",
            "+-----+----------+---+------+--------+\n",
            "\n"
          ],
          "name": "stdout"
        }
      ]
    },
    {
      "cell_type": "code",
      "metadata": {
        "id": "VJ1XRLWobO7s",
        "colab_type": "code",
        "colab": {}
      },
      "source": [
        "pct_chg=pct_chg.fillna({'threelag':0})"
      ],
      "execution_count": 0,
      "outputs": []
    },
    {
      "cell_type": "code",
      "metadata": {
        "id": "IaGXYsQKbzDm",
        "colab_type": "code",
        "outputId": "48ef6412-0e08-4a3d-9560-6578ebe54fcc",
        "colab": {
          "base_uri": "https://localhost:8080/",
          "height": 295
        }
      },
      "source": [
        "pct_chg.show(10)"
      ],
      "execution_count": 0,
      "outputs": [
        {
          "output_type": "stream",
          "text": [
            "+-----+----------+---+------+--------+\n",
            "|month|      Date|day|crimes|threelag|\n",
            "+-----+----------+---+------+--------+\n",
            "|    6|2001-06-01|  1|  1662|       0|\n",
            "|    6|2001-06-02|  2|  1398|       0|\n",
            "|    6|2001-06-03|  3|  1184|       0|\n",
            "|    6|2001-06-04|  4|  1371|    1662|\n",
            "|    6|2001-06-05|  5|  1281|    1398|\n",
            "|    6|2001-06-06|  6|  1344|    1184|\n",
            "|    6|2001-06-07|  7|  1326|    1371|\n",
            "|    6|2001-06-08|  8|  1370|    1281|\n",
            "|    6|2001-06-09|  9|  1386|    1344|\n",
            "|    6|2001-06-10| 10|  1413|    1326|\n",
            "+-----+----------+---+------+--------+\n",
            "only showing top 10 rows\n",
            "\n"
          ],
          "name": "stdout"
        }
      ]
    },
    {
      "cell_type": "code",
      "metadata": {
        "id": "tRQGA-AJb7dp",
        "colab_type": "code",
        "colab": {}
      },
      "source": [
        "pct_chg=pct_chg.withColumn('percentage change',(((pct_chg.crimes-pct_chg.threelag)/pct_chg.threelag)*100))"
      ],
      "execution_count": 0,
      "outputs": []
    },
    {
      "cell_type": "code",
      "metadata": {
        "id": "nlDNLREfcwaj",
        "colab_type": "code",
        "colab": {}
      },
      "source": [
        "pct_chg=pct_chg.na.drop(subset=[col for col in pct_chg.columns])"
      ],
      "execution_count": 0,
      "outputs": []
    },
    {
      "cell_type": "code",
      "metadata": {
        "id": "nKNFg9xvcQx4",
        "colab_type": "code",
        "outputId": "f4a682f3-7a31-4dd5-9450-cf00ed532b3d",
        "colab": {
          "base_uri": "https://localhost:8080/",
          "height": 295
        }
      },
      "source": [
        "pct_chg.show(10)"
      ],
      "execution_count": 0,
      "outputs": [
        {
          "output_type": "stream",
          "text": [
            "+-----+----------+---+------+--------+-------------------+\n",
            "|month|      Date|day|crimes|threelag|  percentage change|\n",
            "+-----+----------+---+------+--------+-------------------+\n",
            "|    6|2001-06-04|  4|  1371|    1662|-17.509025270758123|\n",
            "|    6|2001-06-05|  5|  1281|    1398| -8.369098712446352|\n",
            "|    6|2001-06-06|  6|  1344|    1184| 13.513513513513514|\n",
            "|    6|2001-06-07|  7|  1326|    1371| -3.282275711159737|\n",
            "|    6|2001-06-08|  8|  1370|    1281|  6.947697111631538|\n",
            "|    6|2001-06-09|  9|  1386|    1344|              3.125|\n",
            "|    6|2001-06-10| 10|  1413|    1326|  6.561085972850679|\n",
            "|    7|2001-07-04|  4|  1420|    1601|-11.305434103685197|\n",
            "|    7|2001-07-05|  5|  1375|    1372|0.21865889212827988|\n",
            "|    7|2001-07-06|  6|  1455|    1316| 10.562310030395135|\n",
            "+-----+----------+---+------+--------+-------------------+\n",
            "only showing top 10 rows\n",
            "\n"
          ],
          "name": "stdout"
        }
      ]
    },
    {
      "cell_type": "code",
      "metadata": {
        "id": "Un_5mBldcSrG",
        "colab_type": "code",
        "colab": {}
      },
      "source": [
        "from pyspark.sql.window import Window"
      ],
      "execution_count": 0,
      "outputs": []
    },
    {
      "cell_type": "code",
      "metadata": {
        "id": "MLEgCXDjdztd",
        "colab_type": "code",
        "colab": {}
      },
      "source": [
        "windowSpec=Window.partitionBy(sample.month).orderBy(sample.Date)"
      ],
      "execution_count": 0,
      "outputs": []
    },
    {
      "cell_type": "code",
      "metadata": {
        "id": "lN-hIXKBgLIr",
        "colab_type": "code",
        "colab": {}
      },
      "source": [
        "sampled=sample.select('month','Date','crimes',F.lag('crimes',3).over(windowSpec).alias('threelag'),F.row_number().over(windowSpec).alias('row_number')).where('year=2001').orderBy('month')"
      ],
      "execution_count": 0,
      "outputs": []
    },
    {
      "cell_type": "code",
      "metadata": {
        "id": "SEt0TuNygdHE",
        "colab_type": "code",
        "outputId": "09391501-00a5-4ee7-b904-5943bfb0317e",
        "colab": {
          "base_uri": "https://localhost:8080/",
          "height": 35
        }
      },
      "source": [
        "sampled.cache()"
      ],
      "execution_count": 0,
      "outputs": [
        {
          "output_type": "execute_result",
          "data": {
            "text/plain": [
              "DataFrame[month: int, Date: date, crimes: bigint, threelag: bigint, row_number: int]"
            ]
          },
          "metadata": {
            "tags": []
          },
          "execution_count": 154
        }
      ]
    },
    {
      "cell_type": "code",
      "metadata": {
        "id": "lqEzmy0rhDvD",
        "colab_type": "code",
        "outputId": "cd0a2486-fa72-4d60-bd6e-f55b512c2d84",
        "colab": {
          "base_uri": "https://localhost:8080/",
          "height": 295
        }
      },
      "source": [
        "sampled.show(10)"
      ],
      "execution_count": 0,
      "outputs": [
        {
          "output_type": "stream",
          "text": [
            "+-----+----------+------+--------+----------+\n",
            "|month|      Date|crimes|threelag|row_number|\n",
            "+-----+----------+------+--------+----------+\n",
            "|    1|2001-01-01|  1819|    null|         1|\n",
            "|    1|2001-01-02|  1143|    null|         2|\n",
            "|    1|2001-01-03|  1151|    null|         3|\n",
            "|    1|2001-01-04|  1166|    1819|         4|\n",
            "|    1|2001-01-05|  1267|    1143|         5|\n",
            "|    1|2001-01-06|  1290|    1151|         6|\n",
            "|    1|2001-01-07|  1104|    1166|         7|\n",
            "|    1|2001-01-08|  1157|    1267|         8|\n",
            "|    1|2001-01-09|  1184|    1290|         9|\n",
            "|    1|2001-01-10|  1237|    1104|        10|\n",
            "+-----+----------+------+--------+----------+\n",
            "only showing top 10 rows\n",
            "\n"
          ],
          "name": "stdout"
        }
      ]
    },
    {
      "cell_type": "code",
      "metadata": {
        "id": "hcc1tTzfiu55",
        "colab_type": "code",
        "outputId": "0d1c9cb2-8387-4af6-eac3-db9d75254551",
        "colab": {
          "base_uri": "https://localhost:8080/",
          "height": 468
        }
      },
      "source": [
        "spark.sql('select month,Date,crimes,avg(crimes)over(partition by month order by Date asc rows between 3 preceding and 3 following) as moving,count(crimes)over(partition by month order by Date asc rows 3 preceding) as counting from crime_data').show()"
      ],
      "execution_count": 0,
      "outputs": [
        {
          "output_type": "stream",
          "text": [
            "+-----+----------+------+------------------+--------+\n",
            "|month|      Date|crimes|            moving|counting|\n",
            "+-----+----------+------+------------------+--------+\n",
            "|   12|2001-12-01|  1435|           1316.75|       1|\n",
            "|   12|2001-12-02|  1174|            1320.4|       2|\n",
            "|   12|2001-12-03|  1280|1319.1666666666667|       3|\n",
            "|   12|2001-12-04|  1378|1341.5714285714287|       4|\n",
            "|   12|2001-12-05|  1335|1316.2857142857142|       4|\n",
            "|   12|2001-12-06|  1313| 1305.142857142857|       4|\n",
            "|   12|2001-12-07|  1476|1304.7142857142858|       4|\n",
            "|   12|2001-12-08|  1258|1289.5714285714287|       4|\n",
            "|   12|2001-12-09|  1096|1285.2857142857142|       4|\n",
            "|   12|2001-12-10|  1277|1288.4285714285713|       4|\n",
            "|   12|2001-12-11|  1272|1273.2857142857142|       4|\n",
            "|   12|2001-12-12|  1305| 1277.857142857143|       4|\n",
            "|   12|2001-12-13|  1335|1280.4285714285713|       4|\n",
            "|   12|2001-12-14|  1370|            1277.0|       4|\n",
            "|   12|2001-12-15|  1290|            1274.0|       4|\n",
            "|   12|2001-12-16|  1114| 1263.857142857143|       4|\n",
            "|   12|2001-12-17|  1253| 1240.857142857143|       4|\n",
            "|   12|2001-12-18|  1251|1222.7142857142858|       4|\n",
            "|   12|2001-12-19|  1234|            1208.0|       4|\n",
            "|   12|2001-12-20|  1174|1205.7142857142858|       4|\n",
            "+-----+----------+------+------------------+--------+\n",
            "only showing top 20 rows\n",
            "\n"
          ],
          "name": "stdout"
        }
      ]
    },
    {
      "cell_type": "code",
      "metadata": {
        "id": "0LrPLAxRlmZ6",
        "colab_type": "code",
        "outputId": "649c569a-710d-43b7-c13b-1b62465a83a8",
        "colab": {
          "base_uri": "https://localhost:8080/",
          "height": 468
        }
      },
      "source": [
        "spark.sql('select month,Date,crimes,avg(crimes)over(partition by month order by Date) as moving from crime_data').show()"
      ],
      "execution_count": 0,
      "outputs": [
        {
          "output_type": "stream",
          "text": [
            "+-----+----------+------+------------------+\n",
            "|month|      Date|crimes|            moving|\n",
            "+-----+----------+------+------------------+\n",
            "|   12|2001-12-01|  1435|            1435.0|\n",
            "|   12|2001-12-02|  1174|            1304.5|\n",
            "|   12|2001-12-03|  1280|1296.3333333333333|\n",
            "|   12|2001-12-04|  1378|           1316.75|\n",
            "|   12|2001-12-05|  1335|            1320.4|\n",
            "|   12|2001-12-06|  1313|1319.1666666666667|\n",
            "|   12|2001-12-07|  1476|1341.5714285714287|\n",
            "|   12|2001-12-08|  1258|          1331.125|\n",
            "|   12|2001-12-09|  1096|            1305.0|\n",
            "|   12|2001-12-10|  1277|            1302.2|\n",
            "|   12|2001-12-11|  1272|1299.4545454545455|\n",
            "|   12|2001-12-12|  1305|1299.9166666666667|\n",
            "|   12|2001-12-13|  1335|1302.6153846153845|\n",
            "|   12|2001-12-14|  1370|1307.4285714285713|\n",
            "|   12|2001-12-15|  1290|1306.2666666666667|\n",
            "|   12|2001-12-16|  1114|           1294.25|\n",
            "|   12|2001-12-17|  1253|1291.8235294117646|\n",
            "|   12|2001-12-18|  1251|1289.5555555555557|\n",
            "|   12|2001-12-19|  1234|1286.6315789473683|\n",
            "|   12|2001-12-20|  1174|            1281.0|\n",
            "+-----+----------+------+------------------+\n",
            "only showing top 20 rows\n",
            "\n"
          ],
          "name": "stdout"
        }
      ]
    },
    {
      "cell_type": "code",
      "metadata": {
        "id": "mOKcSUfPtV4n",
        "colab_type": "code",
        "outputId": "7cedb49d-d5a4-49d9-9268-d7a80f9b1509",
        "colab": {
          "base_uri": "https://localhost:8080/",
          "height": 468
        }
      },
      "source": [
        "spark.sql('select month,Date,crimes,avg(crimes)over(partition by month order by Date asc rows between 3 preceding and 3 following) as moving,count(crimes)over(partition by month order by Date asc rows 3 preceding) as counting from crime_data').show()"
      ],
      "execution_count": 0,
      "outputs": [
        {
          "output_type": "stream",
          "text": [
            "+-----+----------+------+------------------+--------+\n",
            "|month|      Date|crimes|            moving|counting|\n",
            "+-----+----------+------+------------------+--------+\n",
            "|   12|2001-12-01|  1435|           1316.75|       1|\n",
            "|   12|2001-12-02|  1174|            1320.4|       2|\n",
            "|   12|2001-12-03|  1280|1319.1666666666667|       3|\n",
            "|   12|2001-12-04|  1378|1341.5714285714287|       4|\n",
            "|   12|2001-12-05|  1335|1316.2857142857142|       4|\n",
            "|   12|2001-12-06|  1313| 1305.142857142857|       4|\n",
            "|   12|2001-12-07|  1476|1304.7142857142858|       4|\n",
            "|   12|2001-12-08|  1258|1289.5714285714287|       4|\n",
            "|   12|2001-12-09|  1096|1285.2857142857142|       4|\n",
            "|   12|2001-12-10|  1277|1288.4285714285713|       4|\n",
            "|   12|2001-12-11|  1272|1273.2857142857142|       4|\n",
            "|   12|2001-12-12|  1305| 1277.857142857143|       4|\n",
            "|   12|2001-12-13|  1335|1280.4285714285713|       4|\n",
            "|   12|2001-12-14|  1370|            1277.0|       4|\n",
            "|   12|2001-12-15|  1290|            1274.0|       4|\n",
            "|   12|2001-12-16|  1114| 1263.857142857143|       4|\n",
            "|   12|2001-12-17|  1253| 1240.857142857143|       4|\n",
            "|   12|2001-12-18|  1251|1222.7142857142858|       4|\n",
            "|   12|2001-12-19|  1234|            1208.0|       4|\n",
            "|   12|2001-12-20|  1174|1205.7142857142858|       4|\n",
            "+-----+----------+------+------------------+--------+\n",
            "only showing top 20 rows\n",
            "\n"
          ],
          "name": "stdout"
        }
      ]
    },
    {
      "cell_type": "code",
      "metadata": {
        "id": "iUdFF17Sugm8",
        "colab_type": "code",
        "colab": {}
      },
      "source": [
        "df=spark.sql(\"select * from crime_data\")"
      ],
      "execution_count": 0,
      "outputs": []
    },
    {
      "cell_type": "code",
      "metadata": {
        "id": "SFzPVEh-u0V2",
        "colab_type": "code",
        "outputId": "9f2f3277-7485-4f1f-a5d0-dc0737014e08",
        "colab": {
          "base_uri": "https://localhost:8080/",
          "height": 173
        }
      },
      "source": [
        "df.show(3)"
      ],
      "execution_count": 0,
      "outputs": [
        {
          "output_type": "stream",
          "text": [
            "+----------+------+----+-----+---+\n",
            "|      Date|crimes|year|month|day|\n",
            "+----------+------+----+-----+---+\n",
            "|2001-01-01|  1819|2001|    1|  1|\n",
            "|2001-01-02|  1143|2001|    1|  2|\n",
            "|2001-01-03|  1151|2001|    1|  3|\n",
            "+----------+------+----+-----+---+\n",
            "only showing top 3 rows\n",
            "\n"
          ],
          "name": "stdout"
        }
      ]
    },
    {
      "cell_type": "code",
      "metadata": {
        "id": "HoAqyjJau1dO",
        "colab_type": "code",
        "colab": {}
      },
      "source": [
        "from pyspark.sql.window import Window"
      ],
      "execution_count": 0,
      "outputs": []
    },
    {
      "cell_type": "code",
      "metadata": {
        "id": "jAaCYtLFu_lu",
        "colab_type": "code",
        "colab": {}
      },
      "source": [
        "window=Window.partitionBy('month').orderBy('Date').rowsBetween(-3,0)"
      ],
      "execution_count": 0,
      "outputs": []
    },
    {
      "cell_type": "code",
      "metadata": {
        "id": "Pqrjs8B2vOUB",
        "colab_type": "code",
        "outputId": "f2cfacd6-be79-49ea-f75f-a00aa23f96aa",
        "colab": {
          "base_uri": "https://localhost:8080/",
          "height": 468
        }
      },
      "source": [
        "df.select(df.month,df.Date,df.crimes,F.avg(df.crimes).over(window).alias('moving'),F.count(df.crimes).over(window).alias('counting')).show()"
      ],
      "execution_count": 0,
      "outputs": [
        {
          "output_type": "stream",
          "text": [
            "+-----+----------+------+------------------+--------+\n",
            "|month|      Date|crimes|            moving|counting|\n",
            "+-----+----------+------+------------------+--------+\n",
            "|   12|2001-12-01|  1435|            1435.0|       1|\n",
            "|   12|2001-12-02|  1174|            1304.5|       2|\n",
            "|   12|2001-12-03|  1280|1296.3333333333333|       3|\n",
            "|   12|2001-12-04|  1378|           1316.75|       4|\n",
            "|   12|2001-12-05|  1335|           1291.75|       4|\n",
            "|   12|2001-12-06|  1313|            1326.5|       4|\n",
            "|   12|2001-12-07|  1476|            1375.5|       4|\n",
            "|   12|2001-12-08|  1258|            1345.5|       4|\n",
            "|   12|2001-12-09|  1096|           1285.75|       4|\n",
            "|   12|2001-12-10|  1277|           1276.75|       4|\n",
            "|   12|2001-12-11|  1272|           1225.75|       4|\n",
            "|   12|2001-12-12|  1305|            1237.5|       4|\n",
            "|   12|2001-12-13|  1335|           1297.25|       4|\n",
            "|   12|2001-12-14|  1370|            1320.5|       4|\n",
            "|   12|2001-12-15|  1290|            1325.0|       4|\n",
            "|   12|2001-12-16|  1114|           1277.25|       4|\n",
            "|   12|2001-12-17|  1253|           1256.75|       4|\n",
            "|   12|2001-12-18|  1251|            1227.0|       4|\n",
            "|   12|2001-12-19|  1234|            1213.0|       4|\n",
            "|   12|2001-12-20|  1174|            1228.0|       4|\n",
            "+-----+----------+------+------------------+--------+\n",
            "only showing top 20 rows\n",
            "\n"
          ],
          "name": "stdout"
        }
      ]
    },
    {
      "cell_type": "code",
      "metadata": {
        "id": "t1ZX8Z_hvQlh",
        "colab_type": "code",
        "outputId": "3837b4a7-d550-4784-9b51-6666df430e7d",
        "colab": {
          "base_uri": "https://localhost:8080/",
          "height": 468
        }
      },
      "source": [
        "spark.sql('select month,Date,crimes,avg(crimes)over(partition by month order by Date asc rows between 3 preceding and current row) as moving,count(crimes)over(partition by month order by Date asc rows 3 preceding) as counting from crime_data').show()"
      ],
      "execution_count": 0,
      "outputs": [
        {
          "output_type": "stream",
          "text": [
            "+-----+----------+------+------------------+--------+\n",
            "|month|      Date|crimes|            moving|counting|\n",
            "+-----+----------+------+------------------+--------+\n",
            "|   12|2001-12-01|  1435|            1435.0|       1|\n",
            "|   12|2001-12-02|  1174|            1304.5|       2|\n",
            "|   12|2001-12-03|  1280|1296.3333333333333|       3|\n",
            "|   12|2001-12-04|  1378|           1316.75|       4|\n",
            "|   12|2001-12-05|  1335|           1291.75|       4|\n",
            "|   12|2001-12-06|  1313|            1326.5|       4|\n",
            "|   12|2001-12-07|  1476|            1375.5|       4|\n",
            "|   12|2001-12-08|  1258|            1345.5|       4|\n",
            "|   12|2001-12-09|  1096|           1285.75|       4|\n",
            "|   12|2001-12-10|  1277|           1276.75|       4|\n",
            "|   12|2001-12-11|  1272|           1225.75|       4|\n",
            "|   12|2001-12-12|  1305|            1237.5|       4|\n",
            "|   12|2001-12-13|  1335|           1297.25|       4|\n",
            "|   12|2001-12-14|  1370|            1320.5|       4|\n",
            "|   12|2001-12-15|  1290|            1325.0|       4|\n",
            "|   12|2001-12-16|  1114|           1277.25|       4|\n",
            "|   12|2001-12-17|  1253|           1256.75|       4|\n",
            "|   12|2001-12-18|  1251|            1227.0|       4|\n",
            "|   12|2001-12-19|  1234|            1213.0|       4|\n",
            "|   12|2001-12-20|  1174|            1228.0|       4|\n",
            "+-----+----------+------+------------------+--------+\n",
            "only showing top 20 rows\n",
            "\n"
          ],
          "name": "stdout"
        }
      ]
    },
    {
      "cell_type": "code",
      "metadata": {
        "id": "x2UxQ14wxFWs",
        "colab_type": "code",
        "colab": {}
      },
      "source": [
        "df=df.select(df.month,df.Date,df.crimes,F.avg(df.crimes).over(window).alias('moving'))"
      ],
      "execution_count": 0,
      "outputs": []
    },
    {
      "cell_type": "code",
      "metadata": {
        "id": "ULcgySXlxGi6",
        "colab_type": "code",
        "outputId": "aadd7cd2-aa35-4097-f671-671d813358dc",
        "colab": {
          "base_uri": "https://localhost:8080/",
          "height": 35
        }
      },
      "source": [
        "df.cache()"
      ],
      "execution_count": 0,
      "outputs": [
        {
          "output_type": "execute_result",
          "data": {
            "text/plain": [
              "DataFrame[month: int, Date: date, crimes: bigint, moving: double, counting: bigint]"
            ]
          },
          "metadata": {
            "tags": []
          },
          "execution_count": 224
        }
      ]
    },
    {
      "cell_type": "code",
      "metadata": {
        "id": "1M5iZrdzxInc",
        "colab_type": "code",
        "outputId": "9837ddfd-e0ef-44cd-b47a-6dc0751eb369",
        "colab": {
          "base_uri": "https://localhost:8080/",
          "height": 208
        }
      },
      "source": [
        "df.show(5)"
      ],
      "execution_count": 0,
      "outputs": [
        {
          "output_type": "stream",
          "text": [
            "+-----+----------+------+------------------+--------+\n",
            "|month|      Date|crimes|            moving|counting|\n",
            "+-----+----------+------+------------------+--------+\n",
            "|   12|2001-12-01|  1435|            1435.0|       1|\n",
            "|   12|2001-12-02|  1174|            1304.5|       2|\n",
            "|   12|2001-12-03|  1280|1296.3333333333333|       3|\n",
            "|   12|2001-12-04|  1378|           1316.75|       4|\n",
            "|   12|2001-12-05|  1335|           1291.75|       4|\n",
            "+-----+----------+------+------------------+--------+\n",
            "only showing top 5 rows\n",
            "\n"
          ],
          "name": "stdout"
        }
      ]
    },
    {
      "cell_type": "code",
      "metadata": {
        "id": "3Bg4SB4CxLZk",
        "colab_type": "code",
        "colab": {}
      },
      "source": [
        "df=df.select(df.month,df.Date,df.crimes,F.avg(df.crimes).over(window).alias('moving'))\n",
        "window=Window.partitionBy('month').orderBy('Date').rowsBetween(-3,0)"
      ],
      "execution_count": 0,
      "outputs": []
    },
    {
      "cell_type": "code",
      "metadata": {
        "id": "6_pQ4Q_91YOW",
        "colab_type": "code",
        "outputId": "98142094-3c53-4a6a-fc9a-16c571627b65",
        "colab": {
          "base_uri": "https://localhost:8080/",
          "height": 156
        }
      },
      "source": [
        "sample.show(2)"
      ],
      "execution_count": 0,
      "outputs": [
        {
          "output_type": "stream",
          "text": [
            "+----------+------+----+-----+---+\n",
            "|      Date|crimes|year|month|day|\n",
            "+----------+------+----+-----+---+\n",
            "|2001-01-01|  1819|2001|    1|  1|\n",
            "|2001-01-02|  1143|2001|    1|  2|\n",
            "+----------+------+----+-----+---+\n",
            "only showing top 2 rows\n",
            "\n"
          ],
          "name": "stdout"
        }
      ]
    },
    {
      "cell_type": "markdown",
      "metadata": {
        "id": "sleumkb33fKs",
        "colab_type": "text"
      },
      "source": [
        "#Simple Window\n"
      ]
    },
    {
      "cell_type": "code",
      "metadata": {
        "id": "pQ3JchfkxhrP",
        "colab_type": "code",
        "colab": {}
      },
      "source": [
        "def simpleWindow(df,alias,apply_to='',partition_by=None,order_by=None,action='count',preceding=0,following=0):\n",
        "  '''\n",
        "  Apply window operations on dataframe and adds to df with a new column.\n",
        "  Returns: PySpark DataFrame\n",
        "  Parameters:\n",
        "  * df : PySpark DataFrame \n",
        "  * alias : Name of new column with results of window operation\n",
        "  * apply_to : Column to which window operation on which window operation has to be applied\n",
        "  * partition_by : Column whose values will be used to partition the dataset\n",
        "  * order_by : Column whose values will be used to order the values of each partition\n",
        "  * action : 'count','average','sum','rank','ntile','rank','dense_rank'\n",
        "  * preceding : rows before current row\n",
        "  * following : rows after current row  \n",
        "  '''\n",
        "  from pyspark.sql.window import Window\n",
        "  import pyspark.sql.functions as F\n",
        "  if partition_by and order_by:\n",
        "    someWindow=Window.partitionBy(partition_by).orderBy(order_by).rowsBetween(preceding,following)\n",
        "  elif partition_by:\n",
        "    someWindow=Window.partitionBy(partition_by).rowsBetween(preceding,following)\n",
        "  elif order_by:\n",
        "    someWindow=Window.orderBy(order_by).rowsBetween(preceding,following)\n",
        "  else:\n",
        "    raise(Exception('Cannot keep both partition_by and order_by undefined.'))\n",
        "  actiondict={\n",
        "      'count':F.count,\n",
        "      'average':F.avg,\n",
        "      'sum':F.sum,\n",
        "      'ntile':F.ntile,\n",
        "      'rank':F.rank,\n",
        "      'dense_rank':F.dense_rank\n",
        "      }\n",
        "  specialfunc=actiondict[action]\n",
        "  return df.withColumn(alias,specialfunc(apply_to).over(someWindow))"
      ],
      "execution_count": 0,
      "outputs": []
    },
    {
      "cell_type": "code",
      "metadata": {
        "id": "alXNJnAE0sD2",
        "colab_type": "code",
        "colab": {}
      },
      "source": [
        "samplex=betterWindow(sample,'counting',apply_to='crimes',partition_by='month',order_by='Date',action='count',preceding=-3,following=0)"
      ],
      "execution_count": 0,
      "outputs": []
    },
    {
      "cell_type": "code",
      "metadata": {
        "id": "8gnsWqkiy_f1",
        "colab_type": "code",
        "outputId": "3b015df1-6008-4c3b-a90c-95a74df3d7fa",
        "colab": {
          "base_uri": "https://localhost:8080/",
          "height": 468
        }
      },
      "source": [
        "samplex.show()"
      ],
      "execution_count": 0,
      "outputs": [
        {
          "output_type": "stream",
          "text": [
            "+----------+------+----+-----+---+--------+\n",
            "|      Date|crimes|year|month|day|counting|\n",
            "+----------+------+----+-----+---+--------+\n",
            "|2001-12-01|  1435|2001|   12|  1|       1|\n",
            "|2001-12-02|  1174|2001|   12|  2|       2|\n",
            "|2001-12-03|  1280|2001|   12|  3|       3|\n",
            "|2001-12-04|  1378|2001|   12|  4|       4|\n",
            "|2001-12-05|  1335|2001|   12|  5|       4|\n",
            "|2001-12-06|  1313|2001|   12|  6|       4|\n",
            "|2001-12-07|  1476|2001|   12|  7|       4|\n",
            "|2001-12-08|  1258|2001|   12|  8|       4|\n",
            "|2001-12-09|  1096|2001|   12|  9|       4|\n",
            "|2001-12-10|  1277|2001|   12| 10|       4|\n",
            "|2001-12-11|  1272|2001|   12| 11|       4|\n",
            "|2001-12-12|  1305|2001|   12| 12|       4|\n",
            "|2001-12-13|  1335|2001|   12| 13|       4|\n",
            "|2001-12-14|  1370|2001|   12| 14|       4|\n",
            "|2001-12-15|  1290|2001|   12| 15|       4|\n",
            "|2001-12-16|  1114|2001|   12| 16|       4|\n",
            "|2001-12-17|  1253|2001|   12| 17|       4|\n",
            "|2001-12-18|  1251|2001|   12| 18|       4|\n",
            "|2001-12-19|  1234|2001|   12| 19|       4|\n",
            "|2001-12-20|  1174|2001|   12| 20|       4|\n",
            "+----------+------+----+-----+---+--------+\n",
            "only showing top 20 rows\n",
            "\n"
          ],
          "name": "stdout"
        }
      ]
    },
    {
      "cell_type": "code",
      "metadata": {
        "id": "yIzcmkEm6uNm",
        "colab_type": "code",
        "outputId": "1312db09-af9f-4a38-b9ef-5762558a88ff",
        "colab": {
          "base_uri": "https://localhost:8080/",
          "height": 277
        }
      },
      "source": [
        "help(simpleWindow)"
      ],
      "execution_count": 0,
      "outputs": [
        {
          "output_type": "stream",
          "text": [
            "Help on function simpleWindow in module __main__:\n",
            "\n",
            "simpleWindow(df, alias, apply_to='', partition_by=None, order_by=None, action='count', preceding=0, following=0)\n",
            "    Apply window operations on dataframe and adds to df with a new column.\n",
            "    Returns: PySpark DataFrame\n",
            "    Parameters:\n",
            "    * df : PySpark DataFrame \n",
            "    * alias : Name of new column with results of window operation\n",
            "    * apply_to : Column to which window operation on which window operation has to be applied\n",
            "    * partition_by : Column whose values will be used to partition the dataset\n",
            "    * order_by : Column whose values will be used to order the values of each partition\n",
            "    * action : 'count','average','sum','rank','ntile','rank','dense_rank'\n",
            "    * preceding : rows before current row\n",
            "    * following : rows after current row\n",
            "\n"
          ],
          "name": "stdout"
        }
      ]
    },
    {
      "cell_type": "code",
      "metadata": {
        "id": "Dgg636fs6wbF",
        "colab_type": "code",
        "colab": {}
      },
      "source": [
        ""
      ],
      "execution_count": 0,
      "outputs": []
    }
  ]
}
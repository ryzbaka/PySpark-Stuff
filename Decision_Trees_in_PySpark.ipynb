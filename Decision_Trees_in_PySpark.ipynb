{
  "nbformat": 4,
  "nbformat_minor": 0,
  "metadata": {
    "colab": {
      "name": "Decision Trees in PySpark",
      "provenance": []
    },
    "kernelspec": {
      "name": "python3",
      "display_name": "Python 3"
    }
  },
  "cells": [
    {
      "cell_type": "code",
      "metadata": {
        "id": "mYVqV1IA0w-G",
        "colab_type": "code",
        "colab": {
          "base_uri": "https://localhost:8080/",
          "height": 34
        },
        "outputId": "7b91a768-9b11-4f55-f6e8-f92a821f88b8"
      },
      "source": [
        "import os\n",
        "print(spark.version)"
      ],
      "execution_count": 44,
      "outputs": [
        {
          "output_type": "stream",
          "text": [
            "2.3.1\n"
          ],
          "name": "stdout"
        }
      ]
    },
    {
      "cell_type": "code",
      "metadata": {
        "id": "RIjgbzTY01b_",
        "colab_type": "code",
        "colab": {
          "base_uri": "https://localhost:8080/",
          "height": 137
        },
        "outputId": "f05f7b17-6b46-48fc-fb21-46961fc5a8c3"
      },
      "source": [
        "os.listdir()"
      ],
      "execution_count": 45,
      "outputs": [
        {
          "output_type": "execute_result",
          "data": {
            "text/plain": [
              "['.config',\n",
              " 'Iris.csv',\n",
              " 'spark-2.3.1-bin-hadoop2.7',\n",
              " 'spark-warehouse',\n",
              " 'spark-2.3.1-bin-hadoop2.7.tgz.1',\n",
              " 'spark-2.3.1-bin-hadoop2.7.tgz',\n",
              " 'sample_data']"
            ]
          },
          "metadata": {
            "tags": []
          },
          "execution_count": 45
        }
      ]
    },
    {
      "cell_type": "code",
      "metadata": {
        "id": "lCkJ8xdM03Ru",
        "colab_type": "code",
        "colab": {}
      },
      "source": [
        "df=spark.read.csv('Iris.csv',header=True,inferSchema=True)"
      ],
      "execution_count": 0,
      "outputs": []
    },
    {
      "cell_type": "code",
      "metadata": {
        "id": "QCmJ1iYq1AAq",
        "colab_type": "code",
        "colab": {
          "base_uri": "https://localhost:8080/",
          "height": 154
        },
        "outputId": "450d47ba-f2a7-40bb-83d7-0cb602ec4dbc"
      },
      "source": [
        "df.show(2)"
      ],
      "execution_count": 47,
      "outputs": [
        {
          "output_type": "stream",
          "text": [
            "+---+-------------+------------+-------------+------------+-----------+\n",
            "| Id|SepalLengthCm|SepalWidthCm|PetalLengthCm|PetalWidthCm|    Species|\n",
            "+---+-------------+------------+-------------+------------+-----------+\n",
            "|  1|          5.1|         3.5|          1.4|         0.2|Iris-setosa|\n",
            "|  2|          4.9|         3.0|          1.4|         0.2|Iris-setosa|\n",
            "+---+-------------+------------+-------------+------------+-----------+\n",
            "only showing top 2 rows\n",
            "\n"
          ],
          "name": "stdout"
        }
      ]
    },
    {
      "cell_type": "code",
      "metadata": {
        "id": "9c3RHKjN1COa",
        "colab_type": "code",
        "colab": {
          "base_uri": "https://localhost:8080/",
          "height": 154
        },
        "outputId": "116b4f00-e313-435b-abed-7b19a7853d1c"
      },
      "source": [
        "df.printSchema()"
      ],
      "execution_count": 49,
      "outputs": [
        {
          "output_type": "stream",
          "text": [
            "root\n",
            " |-- Id: integer (nullable = true)\n",
            " |-- SepalLengthCm: double (nullable = true)\n",
            " |-- SepalWidthCm: double (nullable = true)\n",
            " |-- PetalLengthCm: double (nullable = true)\n",
            " |-- PetalWidthCm: double (nullable = true)\n",
            " |-- Species: string (nullable = true)\n",
            "\n"
          ],
          "name": "stdout"
        }
      ]
    },
    {
      "cell_type": "code",
      "metadata": {
        "id": "zx0Xe0C53ATl",
        "colab_type": "code",
        "colab": {
          "base_uri": "https://localhost:8080/",
          "height": 154
        },
        "outputId": "8063c717-04d6-4010-9d61-90eb6c298390"
      },
      "source": [
        "df.show(2)"
      ],
      "execution_count": 50,
      "outputs": [
        {
          "output_type": "stream",
          "text": [
            "+---+-------------+------------+-------------+------------+-----------+\n",
            "| Id|SepalLengthCm|SepalWidthCm|PetalLengthCm|PetalWidthCm|    Species|\n",
            "+---+-------------+------------+-------------+------------+-----------+\n",
            "|  1|          5.1|         3.5|          1.4|         0.2|Iris-setosa|\n",
            "|  2|          4.9|         3.0|          1.4|         0.2|Iris-setosa|\n",
            "+---+-------------+------------+-------------+------------+-----------+\n",
            "only showing top 2 rows\n",
            "\n"
          ],
          "name": "stdout"
        }
      ]
    },
    {
      "cell_type": "code",
      "metadata": {
        "id": "GcaMO-WM3BA8",
        "colab_type": "code",
        "colab": {}
      },
      "source": [
        "from pyspark.ml.feature import StringIndexer\n",
        "indexer=StringIndexer(inputCol='Species',outputCol='label')\n",
        "indexer=indexer.fit(df)\n",
        "df=indexer.transform(df)"
      ],
      "execution_count": 0,
      "outputs": []
    },
    {
      "cell_type": "code",
      "metadata": {
        "id": "QdRGfe3M3QQO",
        "colab_type": "code",
        "colab": {
          "base_uri": "https://localhost:8080/",
          "height": 154
        },
        "outputId": "2882ddd3-cafb-44ea-f3dc-beb6462df420"
      },
      "source": [
        "df.show(2)"
      ],
      "execution_count": 52,
      "outputs": [
        {
          "output_type": "stream",
          "text": [
            "+---+-------------+------------+-------------+------------+-----------+-----+\n",
            "| Id|SepalLengthCm|SepalWidthCm|PetalLengthCm|PetalWidthCm|    Species|label|\n",
            "+---+-------------+------------+-------------+------------+-----------+-----+\n",
            "|  1|          5.1|         3.5|          1.4|         0.2|Iris-setosa|  0.0|\n",
            "|  2|          4.9|         3.0|          1.4|         0.2|Iris-setosa|  0.0|\n",
            "+---+-------------+------------+-------------+------------+-----------+-----+\n",
            "only showing top 2 rows\n",
            "\n"
          ],
          "name": "stdout"
        }
      ]
    },
    {
      "cell_type": "code",
      "metadata": {
        "id": "5PvFHztZ3Reu",
        "colab_type": "code",
        "colab": {}
      },
      "source": [
        "mapping=df.select('Species','label').distinct()"
      ],
      "execution_count": 0,
      "outputs": []
    },
    {
      "cell_type": "code",
      "metadata": {
        "id": "g1clqZtL3bI9",
        "colab_type": "code",
        "colab": {
          "base_uri": "https://localhost:8080/",
          "height": 154
        },
        "outputId": "06221c7c-973c-49f0-ca9a-3d2d4bfee83a"
      },
      "source": [
        "mapping.show()"
      ],
      "execution_count": 54,
      "outputs": [
        {
          "output_type": "stream",
          "text": [
            "+---------------+-----+\n",
            "|        Species|label|\n",
            "+---------------+-----+\n",
            "|    Iris-setosa|  0.0|\n",
            "| Iris-virginica|  2.0|\n",
            "|Iris-versicolor|  1.0|\n",
            "+---------------+-----+\n",
            "\n"
          ],
          "name": "stdout"
        }
      ]
    },
    {
      "cell_type": "code",
      "metadata": {
        "id": "HtMTeIfa3cq-",
        "colab_type": "code",
        "colab": {
          "base_uri": "https://localhost:8080/",
          "height": 154
        },
        "outputId": "f7cea1ec-a78d-4f74-c45f-a7baefa27c90"
      },
      "source": [
        "df.show(2)"
      ],
      "execution_count": 55,
      "outputs": [
        {
          "output_type": "stream",
          "text": [
            "+---+-------------+------------+-------------+------------+-----------+-----+\n",
            "| Id|SepalLengthCm|SepalWidthCm|PetalLengthCm|PetalWidthCm|    Species|label|\n",
            "+---+-------------+------------+-------------+------------+-----------+-----+\n",
            "|  1|          5.1|         3.5|          1.4|         0.2|Iris-setosa|  0.0|\n",
            "|  2|          4.9|         3.0|          1.4|         0.2|Iris-setosa|  0.0|\n",
            "+---+-------------+------------+-------------+------------+-----------+-----+\n",
            "only showing top 2 rows\n",
            "\n"
          ],
          "name": "stdout"
        }
      ]
    },
    {
      "cell_type": "code",
      "metadata": {
        "id": "1cqtDSda3e3A",
        "colab_type": "code",
        "colab": {}
      },
      "source": [
        "from pyspark.ml.feature import VectorAssembler\n",
        "assembler=VectorAssembler(inputCols=df.columns[1:-2],outputCol='features')\n",
        "df_trans=assembler.transform(df)"
      ],
      "execution_count": 0,
      "outputs": []
    },
    {
      "cell_type": "code",
      "metadata": {
        "id": "OF4TgCRZ36A5",
        "colab_type": "code",
        "colab": {
          "base_uri": "https://localhost:8080/",
          "height": 154
        },
        "outputId": "9fae8f2e-2d3b-4230-aa04-3ed45e45ab96"
      },
      "source": [
        "df_trans.show(2)"
      ],
      "execution_count": 60,
      "outputs": [
        {
          "output_type": "stream",
          "text": [
            "+---+-------------+------------+-------------+------------+-----------+-----+-----------------+\n",
            "| Id|SepalLengthCm|SepalWidthCm|PetalLengthCm|PetalWidthCm|    Species|label|         features|\n",
            "+---+-------------+------------+-------------+------------+-----------+-----+-----------------+\n",
            "|  1|          5.1|         3.5|          1.4|         0.2|Iris-setosa|  0.0|[5.1,3.5,1.4,0.2]|\n",
            "|  2|          4.9|         3.0|          1.4|         0.2|Iris-setosa|  0.0|[4.9,3.0,1.4,0.2]|\n",
            "+---+-------------+------------+-------------+------------+-----------+-----+-----------------+\n",
            "only showing top 2 rows\n",
            "\n"
          ],
          "name": "stdout"
        }
      ]
    },
    {
      "cell_type": "code",
      "metadata": {
        "id": "D03t3gs33__7",
        "colab_type": "code",
        "colab": {}
      },
      "source": [
        "training_data,testing_data=df_trans.randomSplit([0.8,0.2],seed=0.2)"
      ],
      "execution_count": 0,
      "outputs": []
    },
    {
      "cell_type": "code",
      "metadata": {
        "id": "rDBX33sj5C3U",
        "colab_type": "code",
        "colab": {
          "base_uri": "https://localhost:8080/",
          "height": 154
        },
        "outputId": "e8b7ec92-5a22-4702-98c2-0f86ce68bfd8"
      },
      "source": [
        "training_data.show(2)"
      ],
      "execution_count": 76,
      "outputs": [
        {
          "output_type": "stream",
          "text": [
            "+---+-------------+------------+-------------+------------+-----------+-----+-----------------+\n",
            "| Id|SepalLengthCm|SepalWidthCm|PetalLengthCm|PetalWidthCm|    Species|label|         features|\n",
            "+---+-------------+------------+-------------+------------+-----------+-----+-----------------+\n",
            "|  2|          4.9|         3.0|          1.4|         0.2|Iris-setosa|  0.0|[4.9,3.0,1.4,0.2]|\n",
            "|  3|          4.7|         3.2|          1.3|         0.2|Iris-setosa|  0.0|[4.7,3.2,1.3,0.2]|\n",
            "+---+-------------+------------+-------------+------------+-----------+-----+-----------------+\n",
            "only showing top 2 rows\n",
            "\n"
          ],
          "name": "stdout"
        }
      ]
    },
    {
      "cell_type": "code",
      "metadata": {
        "id": "oB5maz8N5EtG",
        "colab_type": "code",
        "colab": {
          "base_uri": "https://localhost:8080/",
          "height": 154
        },
        "outputId": "05833a49-79e3-43af-c7f0-2988d92bc47c"
      },
      "source": [
        "testing_data.show(2)"
      ],
      "execution_count": 77,
      "outputs": [
        {
          "output_type": "stream",
          "text": [
            "+---+-------------+------------+-------------+------------+-----------+-----+-----------------+\n",
            "| Id|SepalLengthCm|SepalWidthCm|PetalLengthCm|PetalWidthCm|    Species|label|         features|\n",
            "+---+-------------+------------+-------------+------------+-----------+-----+-----------------+\n",
            "|  1|          5.1|         3.5|          1.4|         0.2|Iris-setosa|  0.0|[5.1,3.5,1.4,0.2]|\n",
            "|  4|          4.6|         3.1|          1.5|         0.2|Iris-setosa|  0.0|[4.6,3.1,1.5,0.2]|\n",
            "+---+-------------+------------+-------------+------------+-----------+-----+-----------------+\n",
            "only showing top 2 rows\n",
            "\n"
          ],
          "name": "stdout"
        }
      ]
    },
    {
      "cell_type": "code",
      "metadata": {
        "id": "gg1v1bWO5HN3",
        "colab_type": "code",
        "colab": {
          "base_uri": "https://localhost:8080/",
          "height": 34
        },
        "outputId": "d82e1b6b-033a-4131-dfb1-3f46c745057d"
      },
      "source": [
        "training_data.count()"
      ],
      "execution_count": 78,
      "outputs": [
        {
          "output_type": "execute_result",
          "data": {
            "text/plain": [
              "120"
            ]
          },
          "metadata": {
            "tags": []
          },
          "execution_count": 78
        }
      ]
    },
    {
      "cell_type": "code",
      "metadata": {
        "id": "08lDtIZV5I72",
        "colab_type": "code",
        "colab": {
          "base_uri": "https://localhost:8080/",
          "height": 34
        },
        "outputId": "85eb6d95-77ad-4618-d809-73733a608bd3"
      },
      "source": [
        "testing_data.count()"
      ],
      "execution_count": 79,
      "outputs": [
        {
          "output_type": "execute_result",
          "data": {
            "text/plain": [
              "30"
            ]
          },
          "metadata": {
            "tags": []
          },
          "execution_count": 79
        }
      ]
    },
    {
      "cell_type": "code",
      "metadata": {
        "id": "f-85EZB95KC2",
        "colab_type": "code",
        "colab": {}
      },
      "source": [
        "from pyspark.ml.classification import DecisionTreeClassifier\n",
        "model=DecisionTreeClassifier()\n",
        "model=model.fit(training_data)\n",
        "predictions=model.transform(testing_data)"
      ],
      "execution_count": 0,
      "outputs": []
    },
    {
      "cell_type": "code",
      "metadata": {
        "id": "v_Bor3Wj5cMg",
        "colab_type": "code",
        "colab": {
          "base_uri": "https://localhost:8080/",
          "height": 137
        },
        "outputId": "ad39b185-1164-44e3-9c7f-8ad87e069215"
      },
      "source": [
        "predictions=predictions.withColumn('correct',F.when(F.col('label')==F.col('prediction'),'YES').otherwise('NO'))\n",
        "predictions.groupBy('correct').agg(F.count('*')).show()"
      ],
      "execution_count": 91,
      "outputs": [
        {
          "output_type": "stream",
          "text": [
            "+-------+--------+\n",
            "|correct|count(1)|\n",
            "+-------+--------+\n",
            "|    YES|      29|\n",
            "|     NO|       1|\n",
            "+-------+--------+\n",
            "\n"
          ],
          "name": "stdout"
        }
      ]
    }
  ]
}
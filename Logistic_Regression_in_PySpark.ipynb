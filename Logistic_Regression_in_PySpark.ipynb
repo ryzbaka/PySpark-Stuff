{
  "nbformat": 4,
  "nbformat_minor": 0,
  "metadata": {
    "colab": {
      "name": "Logistic Regression in PySpark",
      "provenance": []
    },
    "kernelspec": {
      "name": "python3",
      "display_name": "Python 3"
    }
  },
  "cells": [
    {
      "cell_type": "code",
      "metadata": {
        "id": "ur02mI5GJ-j-",
        "colab_type": "code",
        "colab": {
          "base_uri": "https://localhost:8080/",
          "height": 454
        },
        "outputId": "c44b1342-38f0-40ae-cb49-e6ec801fb41a"
      },
      "source": [
        "!apt-get update\n",
        "!apt-get install openjdk-8-jdk-headless -qq > /dev/null\n",
        "!wget -q http://archive.apache.org/dist/spark/spark-2.3.1/spark-2.3.1-bin-hadoop2.7.tgz\n",
        "!tar xf spark-2.3.1-bin-hadoop2.7.tgz\n",
        "!pip install -q findspark\n",
        "import os\n",
        "os.environ[\"JAVA_HOME\"] = \"/usr/lib/jvm/java-8-openjdk-amd64\"\n",
        "os.environ[\"SPARK_HOME\"] = \"/content/spark-2.3.1-bin-hadoop2.7\"\n",
        "import findspark\n",
        "findspark.init()\n",
        "from pyspark.sql import SparkSession\n",
        "spark=SparkSession.builder.getOrCreate()\n",
        "df=spark.read.csv('Iris.csv',header=True,inferSchema=True)\n",
        "import pyspark.sql.functions as F\n",
        "from pyspark.ml.feature import StringIndexer,VectorAssembler\n",
        "from pyspark.ml.classification import DecisionTreeClassifier"
      ],
      "execution_count": 2,
      "outputs": [
        {
          "output_type": "stream",
          "text": [
            "\r0% [Working]\r            \rGet:1 https://cloud.r-project.org/bin/linux/ubuntu bionic-cran35/ InRelease [3,626 B]\n",
            "\r0% [Connecting to archive.ubuntu.com] [Connecting to security.ubuntu.com (91.18\r0% [Connecting to archive.ubuntu.com] [Connecting to security.ubuntu.com (91.18\r0% [1 InRelease gpgv 3,626 B] [Connecting to archive.ubuntu.com] [Connecting to\r                                                                               \rIgn:2 https://developer.download.nvidia.com/compute/cuda/repos/ubuntu1804/x86_64  InRelease\n",
            "\r0% [1 InRelease gpgv 3,626 B] [Connecting to archive.ubuntu.com (91.189.88.162)\r0% [Connecting to archive.ubuntu.com (91.189.88.162)] [Waiting for headers] [Wa\r                                                                               \rGet:3 https://cloud.r-project.org/bin/linux/ubuntu bionic-cran35/ Packages [83.1 kB]\n",
            "\r0% [Connecting to archive.ubuntu.com (91.189.88.162)] [Waiting for headers] [3 \r0% [Connecting to archive.ubuntu.com (91.189.88.162)] [Waiting for headers] [Wa\r0% [3 Packages store 0 B] [Connecting to archive.ubuntu.com (91.189.88.162)] [W\r0% [Connecting to archive.ubuntu.com (91.189.88.162)] [Waiting for headers] [Wa\r                                                                               \rIgn:4 https://developer.download.nvidia.com/compute/machine-learning/repos/ubuntu1804/x86_64  InRelease\n",
            "Hit:5 https://developer.download.nvidia.com/compute/cuda/repos/ubuntu1804/x86_64  Release\n",
            "Hit:6 https://developer.download.nvidia.com/compute/machine-learning/repos/ubuntu1804/x86_64  Release\n",
            "Get:7 http://security.ubuntu.com/ubuntu bionic-security InRelease [88.7 kB]\n",
            "Hit:10 http://archive.ubuntu.com/ubuntu bionic InRelease\n",
            "Get:11 http://security.ubuntu.com/ubuntu bionic-security/universe amd64 Packages [822 kB]\n",
            "Get:12 http://archive.ubuntu.com/ubuntu bionic-updates InRelease [88.7 kB]\n",
            "Get:13 http://security.ubuntu.com/ubuntu bionic-security/restricted amd64 Packages [30.9 kB]\n",
            "Get:14 http://security.ubuntu.com/ubuntu bionic-security/multiverse amd64 Packages [7,064 B]\n",
            "Get:15 http://security.ubuntu.com/ubuntu bionic-security/main amd64 Packages [834 kB]\n",
            "Get:16 http://archive.ubuntu.com/ubuntu bionic-backports InRelease [74.6 kB]\n",
            "Get:17 http://archive.ubuntu.com/ubuntu bionic-updates/multiverse amd64 Packages [11.1 kB]\n",
            "Get:18 http://archive.ubuntu.com/ubuntu bionic-updates/universe amd64 Packages [1,349 kB]\n",
            "Get:19 http://ppa.launchpad.net/graphics-drivers/ppa/ubuntu bionic InRelease [21.3 kB]\n",
            "Get:20 http://ppa.launchpad.net/marutter/c2d4u3.5/ubuntu bionic InRelease [15.4 kB]\n",
            "Get:21 http://archive.ubuntu.com/ubuntu bionic-updates/restricted amd64 Packages [44.5 kB]\n",
            "Get:22 http://archive.ubuntu.com/ubuntu bionic-updates/main amd64 Packages [1,124 kB]\n",
            "Get:23 http://ppa.launchpad.net/graphics-drivers/ppa/ubuntu bionic/main amd64 Packages [36.9 kB]\n",
            "Get:24 http://ppa.launchpad.net/marutter/c2d4u3.5/ubuntu bionic/main Sources [1,772 kB]\n",
            "Get:25 http://archive.ubuntu.com/ubuntu bionic-backports/universe amd64 Packages [4,252 B]\n",
            "Get:26 http://ppa.launchpad.net/marutter/c2d4u3.5/ubuntu bionic/main amd64 Packages [856 kB]\n",
            "Fetched 7,267 kB in 13s (567 kB/s)\n",
            "Reading package lists... Done\n"
          ],
          "name": "stdout"
        }
      ]
    },
    {
      "cell_type": "code",
      "metadata": {
        "id": "_VvcsBe8KYQW",
        "colab_type": "code",
        "colab": {
          "base_uri": "https://localhost:8080/",
          "height": 151
        },
        "outputId": "4fc4af86-f645-461d-fc0f-1744fcdae0a9"
      },
      "source": [
        "df.show(2)"
      ],
      "execution_count": 3,
      "outputs": [
        {
          "output_type": "stream",
          "text": [
            "+---+-------------+------------+-------------+------------+-----------+\n",
            "| Id|SepalLengthCm|SepalWidthCm|PetalLengthCm|PetalWidthCm|    Species|\n",
            "+---+-------------+------------+-------------+------------+-----------+\n",
            "|  1|          5.1|         3.5|          1.4|         0.2|Iris-setosa|\n",
            "|  2|          4.9|         3.0|          1.4|         0.2|Iris-setosa|\n",
            "+---+-------------+------------+-------------+------------+-----------+\n",
            "only showing top 2 rows\n",
            "\n"
          ],
          "name": "stdout"
        }
      ]
    },
    {
      "cell_type": "code",
      "metadata": {
        "id": "cnPvNgxuZk6K",
        "colab_type": "code",
        "colab": {
          "base_uri": "https://localhost:8080/",
          "height": 151
        },
        "outputId": "1d0152fd-f00e-43f0-aea7-7abd280413c3"
      },
      "source": [
        "df.printSchema()"
      ],
      "execution_count": 4,
      "outputs": [
        {
          "output_type": "stream",
          "text": [
            "root\n",
            " |-- Id: integer (nullable = true)\n",
            " |-- SepalLengthCm: double (nullable = true)\n",
            " |-- SepalWidthCm: double (nullable = true)\n",
            " |-- PetalLengthCm: double (nullable = true)\n",
            " |-- PetalWidthCm: double (nullable = true)\n",
            " |-- Species: string (nullable = true)\n",
            "\n"
          ],
          "name": "stdout"
        }
      ]
    },
    {
      "cell_type": "markdown",
      "metadata": {
        "id": "Zpv6yhQDjO3D",
        "colab_type": "text"
      },
      "source": [
        "# Trial 1: Raw Dataset"
      ]
    },
    {
      "cell_type": "code",
      "metadata": {
        "id": "PcEyO-UtZmnk",
        "colab_type": "code",
        "colab": {}
      },
      "source": [
        "from pyspark.ml.feature import StringIndexer,VectorAssembler"
      ],
      "execution_count": 0,
      "outputs": []
    },
    {
      "cell_type": "code",
      "metadata": {
        "id": "rbNDQcuLZ2xP",
        "colab_type": "code",
        "colab": {}
      },
      "source": [
        "indexer=StringIndexer(inputCol='Species',outputCol='label')\n",
        "assembler=VectorAssembler(inputCols=df.columns[1:-1],outputCol='features')"
      ],
      "execution_count": 0,
      "outputs": []
    },
    {
      "cell_type": "code",
      "metadata": {
        "id": "qW4EmwBuamnb",
        "colab_type": "code",
        "colab": {}
      },
      "source": [
        "indexer=indexer.fit(df)\n",
        "df=indexer.transform(df)"
      ],
      "execution_count": 0,
      "outputs": []
    },
    {
      "cell_type": "code",
      "metadata": {
        "id": "gGVolIPfbDJG",
        "colab_type": "code",
        "colab": {}
      },
      "source": [
        "df=assembler.transform(df)"
      ],
      "execution_count": 0,
      "outputs": []
    },
    {
      "cell_type": "code",
      "metadata": {
        "id": "XmrgTmFmaKGj",
        "colab_type": "code",
        "colab": {}
      },
      "source": [
        "training,testing=df.randomSplit([0.8,0.2],seed=666)"
      ],
      "execution_count": 0,
      "outputs": []
    },
    {
      "cell_type": "code",
      "metadata": {
        "id": "EYXsdRBQbGnV",
        "colab_type": "code",
        "colab": {
          "base_uri": "https://localhost:8080/",
          "height": 151
        },
        "outputId": "973c8201-f780-44f9-af61-cb72f4544f3f"
      },
      "source": [
        "training.show(2)"
      ],
      "execution_count": 15,
      "outputs": [
        {
          "output_type": "stream",
          "text": [
            "+---+-------------+------------+-------------+------------+-----------+-----+-----------------+\n",
            "| Id|SepalLengthCm|SepalWidthCm|PetalLengthCm|PetalWidthCm|    Species|label|         features|\n",
            "+---+-------------+------------+-------------+------------+-----------+-----+-----------------+\n",
            "|  1|          5.1|         3.5|          1.4|         0.2|Iris-setosa|  0.0|[5.1,3.5,1.4,0.2]|\n",
            "|  2|          4.9|         3.0|          1.4|         0.2|Iris-setosa|  0.0|[4.9,3.0,1.4,0.2]|\n",
            "+---+-------------+------------+-------------+------------+-----------+-----+-----------------+\n",
            "only showing top 2 rows\n",
            "\n"
          ],
          "name": "stdout"
        }
      ]
    },
    {
      "cell_type": "code",
      "metadata": {
        "id": "3mK56UmKbICM",
        "colab_type": "code",
        "colab": {
          "base_uri": "https://localhost:8080/",
          "height": 151
        },
        "outputId": "785eb32f-a03c-45ac-c30b-5f9b89d71500"
      },
      "source": [
        "testing.show(2)"
      ],
      "execution_count": 16,
      "outputs": [
        {
          "output_type": "stream",
          "text": [
            "+---+-------------+------------+-------------+------------+-----------+-----+-----------------+\n",
            "| Id|SepalLengthCm|SepalWidthCm|PetalLengthCm|PetalWidthCm|    Species|label|         features|\n",
            "+---+-------------+------------+-------------+------------+-----------+-----+-----------------+\n",
            "|  6|          5.4|         3.9|          1.7|         0.4|Iris-setosa|  0.0|[5.4,3.9,1.7,0.4]|\n",
            "| 18|          5.1|         3.5|          1.4|         0.3|Iris-setosa|  0.0|[5.1,3.5,1.4,0.3]|\n",
            "+---+-------------+------------+-------------+------------+-----------+-----+-----------------+\n",
            "only showing top 2 rows\n",
            "\n"
          ],
          "name": "stdout"
        }
      ]
    },
    {
      "cell_type": "code",
      "metadata": {
        "id": "chQAJ9rmbMus",
        "colab_type": "code",
        "colab": {
          "base_uri": "https://localhost:8080/",
          "height": 34
        },
        "outputId": "8e245770-b850-4ae0-923e-145cfd396590"
      },
      "source": [
        "training.count()"
      ],
      "execution_count": 17,
      "outputs": [
        {
          "output_type": "execute_result",
          "data": {
            "text/plain": [
              "114"
            ]
          },
          "metadata": {
            "tags": []
          },
          "execution_count": 17
        }
      ]
    },
    {
      "cell_type": "code",
      "metadata": {
        "id": "rnghvhwxbOR0",
        "colab_type": "code",
        "colab": {
          "base_uri": "https://localhost:8080/",
          "height": 34
        },
        "outputId": "df1f80a7-a580-4ea8-da2c-c15a86632790"
      },
      "source": [
        "testing.count()"
      ],
      "execution_count": 18,
      "outputs": [
        {
          "output_type": "execute_result",
          "data": {
            "text/plain": [
              "36"
            ]
          },
          "metadata": {
            "tags": []
          },
          "execution_count": 18
        }
      ]
    },
    {
      "cell_type": "code",
      "metadata": {
        "id": "eOHi_ukKbPCr",
        "colab_type": "code",
        "colab": {}
      },
      "source": [
        "from pyspark.ml.classification import LogisticRegression\n",
        "\n",
        "model=LogisticRegression()\n",
        "model=model.fit(training)\n",
        "predictions=model.transform(testing)"
      ],
      "execution_count": 0,
      "outputs": []
    },
    {
      "cell_type": "code",
      "metadata": {
        "id": "cyC8l8YibbxW",
        "colab_type": "code",
        "colab": {
          "base_uri": "https://localhost:8080/",
          "height": 134
        },
        "outputId": "b197c95d-be98-4953-9f85-2fb62fe53dc9"
      },
      "source": [
        "predictions.show(1)"
      ],
      "execution_count": 22,
      "outputs": [
        {
          "output_type": "stream",
          "text": [
            "+---+-------------+------------+-------------+------------+-----------+-----+-----------------+--------------------+-------------+----------+\n",
            "| Id|SepalLengthCm|SepalWidthCm|PetalLengthCm|PetalWidthCm|    Species|label|         features|       rawPrediction|  probability|prediction|\n",
            "+---+-------------+------------+-------------+------------+-----------+-----+-----------------+--------------------+-------------+----------+\n",
            "|  6|          5.4|         3.9|          1.7|         0.4|Iris-setosa|  0.0|[5.4,3.9,1.7,0.4]|[1314.76855309892...|[1.0,0.0,0.0]|       0.0|\n",
            "+---+-------------+------------+-------------+------------+-----------+-----+-----------------+--------------------+-------------+----------+\n",
            "only showing top 1 row\n",
            "\n"
          ],
          "name": "stdout"
        }
      ]
    },
    {
      "cell_type": "code",
      "metadata": {
        "id": "s8ZwpS-pbdzu",
        "colab_type": "code",
        "colab": {
          "base_uri": "https://localhost:8080/",
          "height": 168
        },
        "outputId": "a9e7766b-3a47-4e15-82d4-cf79ab9780bb"
      },
      "source": [
        "#confusion matrix\n",
        "predictions.groupBy('label','prediction').count().show()"
      ],
      "execution_count": 23,
      "outputs": [
        {
          "output_type": "stream",
          "text": [
            "+-----+----------+-----+\n",
            "|label|prediction|count|\n",
            "+-----+----------+-----+\n",
            "|  1.0|       1.0|   12|\n",
            "|  2.0|       2.0|   17|\n",
            "|  1.0|       2.0|    3|\n",
            "|  0.0|       0.0|    4|\n",
            "+-----+----------+-----+\n",
            "\n"
          ],
          "name": "stdout"
        }
      ]
    },
    {
      "cell_type": "code",
      "metadata": {
        "id": "FMQhmKf4bviH",
        "colab_type": "code",
        "colab": {
          "base_uri": "https://localhost:8080/",
          "height": 171
        },
        "outputId": "39b41cf3-5917-4d25-983a-8c5a9166e264"
      },
      "source": [
        "predictions.filter('prediction <> label').show(truncate=False)# misclassified values where label was 1 but it was predicted as 2"
      ],
      "execution_count": 27,
      "outputs": [
        {
          "output_type": "stream",
          "text": [
            "+---+-------------+------------+-------------+------------+---------------+-----+-----------------+----------------------------------------------------------+--------------------------------+----------+\n",
            "|Id |SepalLengthCm|SepalWidthCm|PetalLengthCm|PetalWidthCm|Species        |label|features         |rawPrediction                                             |probability                     |prediction|\n",
            "+---+-------------+------------+-------------+------------+---------------+-----+-----------------+----------------------------------------------------------+--------------------------------+----------+\n",
            "|69 |6.2          |2.2         |4.5          |1.5         |Iris-versicolor|1.0  |[6.2,2.2,4.5,1.5]|[-1053.0479926994533,484.76174985464445,568.2862428448091]|[0.0,5.318309292143582E-37,1.0] |2.0       |\n",
            "|73 |6.3          |2.5         |4.9          |1.5         |Iris-versicolor|1.0  |[6.3,2.5,4.9,1.5]|[-922.4896673258804,430.3846856448255,492.10498168105516] |[0.0,1.5675305368975731E-27,1.0]|2.0       |\n",
            "|84 |6.0          |2.7         |5.1          |1.6         |Iris-versicolor|1.0  |[6.0,2.7,5.1,1.6]|[-787.6734797662874,352.3738638009221,435.29961596536543] |[0.0,9.678396883225082E-37,1.0] |2.0       |\n",
            "+---+-------------+------------+-------------+------------+---------------+-----+-----------------+----------------------------------------------------------+--------------------------------+----------+\n",
            "\n"
          ],
          "name": "stdout"
        }
      ]
    },
    {
      "cell_type": "code",
      "metadata": {
        "id": "0JruKifIcAOi",
        "colab_type": "code",
        "colab": {
          "base_uri": "https://localhost:8080/",
          "height": 34
        },
        "outputId": "67c43124-ea02-4128-fb24-de19cdc5da6c"
      },
      "source": [
        "(predictions.filter('prediction = label').count()/predictions.count())*100 #testing accuracy"
      ],
      "execution_count": 29,
      "outputs": [
        {
          "output_type": "execute_result",
          "data": {
            "text/plain": [
              "91.66666666666666"
            ]
          },
          "metadata": {
            "tags": []
          },
          "execution_count": 29
        }
      ]
    },
    {
      "cell_type": "code",
      "metadata": {
        "id": "PhjA-sP6csPA",
        "colab_type": "code",
        "colab": {
          "base_uri": "https://localhost:8080/",
          "height": 168
        },
        "outputId": "3f20236b-2241-4b85-b0e5-a0e8a3c3a9c7"
      },
      "source": [
        "train_predictions=model.transform(training)\n",
        "train_predictions.groupBy('label','prediction').count().show()\n",
        "print((train_predictions.filter('label = prediction').count()/train_predictions.count())*100) # training accuracy"
      ],
      "execution_count": 30,
      "outputs": [
        {
          "output_type": "stream",
          "text": [
            "+-----+----------+-----+\n",
            "|label|prediction|count|\n",
            "+-----+----------+-----+\n",
            "|  1.0|       1.0|   35|\n",
            "|  2.0|       2.0|   33|\n",
            "|  0.0|       0.0|   46|\n",
            "+-----+----------+-----+\n",
            "\n",
            "100.0\n"
          ],
          "name": "stdout"
        }
      ]
    },
    {
      "cell_type": "markdown",
      "metadata": {
        "id": "KyERnNhajdwH",
        "colab_type": "text"
      },
      "source": [
        "# Trial 2 : With Min Max Scaling and Feature Engineering"
      ]
    },
    {
      "cell_type": "code",
      "metadata": {
        "id": "ODbEcfyadKpn",
        "colab_type": "code",
        "colab": {
          "base_uri": "https://localhost:8080/",
          "height": 151
        },
        "outputId": "dfb6b222-a000-4f1e-e4c9-45fb389a2afd"
      },
      "source": [
        "# lets try feature engineering some columns\n",
        "df.columns"
      ],
      "execution_count": 31,
      "outputs": [
        {
          "output_type": "execute_result",
          "data": {
            "text/plain": [
              "['Id',\n",
              " 'SepalLengthCm',\n",
              " 'SepalWidthCm',\n",
              " 'PetalLengthCm',\n",
              " 'PetalWidthCm',\n",
              " 'Species',\n",
              " 'label',\n",
              " 'features']"
            ]
          },
          "metadata": {
            "tags": []
          },
          "execution_count": 31
        }
      ]
    },
    {
      "cell_type": "code",
      "metadata": {
        "id": "v0exfetudV_o",
        "colab_type": "code",
        "colab": {}
      },
      "source": [
        "import pyspark.sql.functions as F\n",
        "df=df.withColumn('SepalArea',F.round(F.col('SepalLengthCm')*F.col('SepalWidthCm'),3))\n",
        "df=df.withColumn('PetalArea',F.round(F.col('PetalLengthCm')*F.col('PetalWidthCm'),3))"
      ],
      "execution_count": 0,
      "outputs": []
    },
    {
      "cell_type": "code",
      "metadata": {
        "id": "adjYxU5adqDb",
        "colab_type": "code",
        "colab": {
          "base_uri": "https://localhost:8080/",
          "height": 151
        },
        "outputId": "3e838d08-3206-414b-975d-a25f68b123ef"
      },
      "source": [
        "df.show(2)"
      ],
      "execution_count": 37,
      "outputs": [
        {
          "output_type": "stream",
          "text": [
            "+---+-------------+------------+-------------+------------+-----------+-----+-----------------+---------+---------+\n",
            "| Id|SepalLengthCm|SepalWidthCm|PetalLengthCm|PetalWidthCm|    Species|label|         features|SepalArea|PetalArea|\n",
            "+---+-------------+------------+-------------+------------+-----------+-----+-----------------+---------+---------+\n",
            "|  1|          5.1|         3.5|          1.4|         0.2|Iris-setosa|  0.0|[5.1,3.5,1.4,0.2]|    17.85|     0.28|\n",
            "|  2|          4.9|         3.0|          1.4|         0.2|Iris-setosa|  0.0|[4.9,3.0,1.4,0.2]|     14.7|     0.28|\n",
            "+---+-------------+------------+-------------+------------+-----------+-----+-----------------+---------+---------+\n",
            "only showing top 2 rows\n",
            "\n"
          ],
          "name": "stdout"
        }
      ]
    },
    {
      "cell_type": "code",
      "metadata": {
        "id": "q5lQq9bZdqxz",
        "colab_type": "code",
        "colab": {
          "base_uri": "https://localhost:8080/",
          "height": 151
        },
        "outputId": "8a2cba54-934a-4d6c-d03d-c9261020697a"
      },
      "source": [
        "#dropping unwanted columns\n",
        "df=df.drop('Id','features')\n",
        "df.show(2)"
      ],
      "execution_count": 39,
      "outputs": [
        {
          "output_type": "stream",
          "text": [
            "+-------------+------------+-------------+------------+-----------+-----+---------+---------+\n",
            "|SepalLengthCm|SepalWidthCm|PetalLengthCm|PetalWidthCm|    Species|label|SepalArea|PetalArea|\n",
            "+-------------+------------+-------------+------------+-----------+-----+---------+---------+\n",
            "|          5.1|         3.5|          1.4|         0.2|Iris-setosa|  0.0|    17.85|     0.28|\n",
            "|          4.9|         3.0|          1.4|         0.2|Iris-setosa|  0.0|     14.7|     0.28|\n",
            "+-------------+------------+-------------+------------+-----------+-----+---------+---------+\n",
            "only showing top 2 rows\n",
            "\n"
          ],
          "name": "stdout"
        }
      ]
    },
    {
      "cell_type": "code",
      "metadata": {
        "id": "PJVZXa1veO9f",
        "colab_type": "code",
        "colab": {
          "base_uri": "https://localhost:8080/",
          "height": 151
        },
        "outputId": "c94b8266-191f-4e1d-e321-52548f27172f"
      },
      "source": [
        "df.select('Species','label').distinct().show()"
      ],
      "execution_count": 40,
      "outputs": [
        {
          "output_type": "stream",
          "text": [
            "+---------------+-----+\n",
            "|        Species|label|\n",
            "+---------------+-----+\n",
            "|    Iris-setosa|  0.0|\n",
            "| Iris-virginica|  2.0|\n",
            "|Iris-versicolor|  1.0|\n",
            "+---------------+-----+\n",
            "\n"
          ],
          "name": "stdout"
        }
      ]
    },
    {
      "cell_type": "code",
      "metadata": {
        "id": "ZdstzSLneecS",
        "colab_type": "code",
        "colab": {
          "base_uri": "https://localhost:8080/",
          "height": 151
        },
        "outputId": "1d320a42-30b8-46d5-9070-433f452e40bd"
      },
      "source": [
        "df=df.drop('Species')\n",
        "df.show(2)"
      ],
      "execution_count": 41,
      "outputs": [
        {
          "output_type": "stream",
          "text": [
            "+-------------+------------+-------------+------------+-----+---------+---------+\n",
            "|SepalLengthCm|SepalWidthCm|PetalLengthCm|PetalWidthCm|label|SepalArea|PetalArea|\n",
            "+-------------+------------+-------------+------------+-----+---------+---------+\n",
            "|          5.1|         3.5|          1.4|         0.2|  0.0|    17.85|     0.28|\n",
            "|          4.9|         3.0|          1.4|         0.2|  0.0|     14.7|     0.28|\n",
            "+-------------+------------+-------------+------------+-----+---------+---------+\n",
            "only showing top 2 rows\n",
            "\n"
          ],
          "name": "stdout"
        }
      ]
    },
    {
      "cell_type": "code",
      "metadata": {
        "id": "yOaxV-Zpe2T2",
        "colab_type": "code",
        "colab": {}
      },
      "source": [
        "assembler=VectorAssembler(inputCols=['SepalArea','PetalArea'],outputCol='features')\n",
        "df=assembler.transform(df)"
      ],
      "execution_count": 0,
      "outputs": []
    },
    {
      "cell_type": "code",
      "metadata": {
        "id": "_CO1E_TofT26",
        "colab_type": "code",
        "colab": {
          "base_uri": "https://localhost:8080/",
          "height": 151
        },
        "outputId": "a3cb9646-4999-45bb-df88-90341ff143af"
      },
      "source": [
        "df.show(2)"
      ],
      "execution_count": 43,
      "outputs": [
        {
          "output_type": "stream",
          "text": [
            "+-------------+------------+-------------+------------+-----+---------+---------+------------+\n",
            "|SepalLengthCm|SepalWidthCm|PetalLengthCm|PetalWidthCm|label|SepalArea|PetalArea|    features|\n",
            "+-------------+------------+-------------+------------+-----+---------+---------+------------+\n",
            "|          5.1|         3.5|          1.4|         0.2|  0.0|    17.85|     0.28|[17.85,0.28]|\n",
            "|          4.9|         3.0|          1.4|         0.2|  0.0|     14.7|     0.28| [14.7,0.28]|\n",
            "+-------------+------------+-------------+------------+-----+---------+---------+------------+\n",
            "only showing top 2 rows\n",
            "\n"
          ],
          "name": "stdout"
        }
      ]
    },
    {
      "cell_type": "code",
      "metadata": {
        "id": "8cNsBsNrgFaA",
        "colab_type": "code",
        "colab": {}
      },
      "source": [
        "minval=df.agg({'SepalArea':'min'}).collect()[0][0]\n",
        "maxval=df.agg({'SepalArea':'max'}).collect()[0][0]"
      ],
      "execution_count": 0,
      "outputs": []
    },
    {
      "cell_type": "code",
      "metadata": {
        "id": "PWfZzyHIgM8b",
        "colab_type": "code",
        "colab": {}
      },
      "source": [
        "diff=maxval-minval\n",
        "df=df.withColumn('SepalArea',(F.col('SepalArea')-minval)/diff)"
      ],
      "execution_count": 0,
      "outputs": []
    },
    {
      "cell_type": "code",
      "metadata": {
        "id": "OfzQcoUpguSP",
        "colab_type": "code",
        "colab": {}
      },
      "source": [
        "minval=df.agg({'PetalArea':'min'}).collect()[0][0]\n",
        "maxval=df.agg({'PetalArea':'max'}).collect()[0][0]\n",
        "diff=maxval-minval\n",
        "df=df.withColumn('PetalArea',(F.col('PetalArea')-minval)/diff)"
      ],
      "execution_count": 0,
      "outputs": []
    },
    {
      "cell_type": "code",
      "metadata": {
        "id": "Wr4cduRfg56y",
        "colab_type": "code",
        "colab": {
          "base_uri": "https://localhost:8080/",
          "height": 151
        },
        "outputId": "5fc6c586-5453-4c95-b191-148a3b88d318"
      },
      "source": [
        "df.show(2)"
      ],
      "execution_count": 53,
      "outputs": [
        {
          "output_type": "stream",
          "text": [
            "+-------------+------------+-------------+------------+-----+-------------------+--------------------+------------+\n",
            "|SepalLengthCm|SepalWidthCm|PetalLengthCm|PetalWidthCm|label|          SepalArea|           PetalArea|    features|\n",
            "+-------------+------------+-------------+------------+-----+-------------------+--------------------+------------+\n",
            "|          5.1|         3.5|          1.4|         0.2|  0.0| 0.3921078921078922|0.010786802030456856|[17.85,0.28]|\n",
            "|          4.9|         3.0|          1.4|         0.2|  0.0|0.23476523476523473|0.010786802030456856| [14.7,0.28]|\n",
            "+-------------+------------+-------------+------------+-----+-------------------+--------------------+------------+\n",
            "only showing top 2 rows\n",
            "\n"
          ],
          "name": "stdout"
        }
      ]
    },
    {
      "cell_type": "code",
      "metadata": {
        "id": "qZ-mfPGDg7AK",
        "colab_type": "code",
        "colab": {}
      },
      "source": [
        "df=df.drop('features')\n",
        "assembler=VectorAssembler(inputCols=['SepalArea','PetalArea'],outputCol='features')\n",
        "df=assembler.transform(df)"
      ],
      "execution_count": 0,
      "outputs": []
    },
    {
      "cell_type": "code",
      "metadata": {
        "id": "Lf0G7bq2hE0A",
        "colab_type": "code",
        "colab": {
          "base_uri": "https://localhost:8080/",
          "height": 151
        },
        "outputId": "4a0409a7-5430-4008-85a8-32159949965d"
      },
      "source": [
        "df.show(2)"
      ],
      "execution_count": 56,
      "outputs": [
        {
          "output_type": "stream",
          "text": [
            "+-------------+------------+-------------+------------+-----+-------------------+--------------------+--------------------+\n",
            "|SepalLengthCm|SepalWidthCm|PetalLengthCm|PetalWidthCm|label|          SepalArea|           PetalArea|            features|\n",
            "+-------------+------------+-------------+------------+-----+-------------------+--------------------+--------------------+\n",
            "|          5.1|         3.5|          1.4|         0.2|  0.0| 0.3921078921078922|0.010786802030456856|[0.39210789210789...|\n",
            "|          4.9|         3.0|          1.4|         0.2|  0.0|0.23476523476523473|0.010786802030456856|[0.23476523476523...|\n",
            "+-------------+------------+-------------+------------+-----+-------------------+--------------------+--------------------+\n",
            "only showing top 2 rows\n",
            "\n"
          ],
          "name": "stdout"
        }
      ]
    },
    {
      "cell_type": "code",
      "metadata": {
        "id": "cKiLS5VYhJ-h",
        "colab_type": "code",
        "colab": {
          "base_uri": "https://localhost:8080/",
          "height": 504
        },
        "outputId": "f2d85ae7-1f28-433b-a771-39adffcbaa30"
      },
      "source": [
        "training,testing=df.randomSplit([0.8,0.2],seed=666)\n",
        "model=LogisticRegression()\n",
        "model=model.fit(training)\n",
        "test_preds=model.transform(testing)\n",
        "print('*'*10)\n",
        "print('Testing Summary')\n",
        "print('*'*10)\n",
        "test_preds.groupBy('label','prediction').count().show()\n",
        "accuracy=(test_preds.filter('label = prediction').count())/(test_preds.count())\n",
        "print(f' Accuracy : {round(accuracy,2)*100}%')\n",
        "print('\\n')\n",
        "train_preds=model.transform(training)\n",
        "print('*'*10)\n",
        "print('Training Summary')\n",
        "print('*'*10)\n",
        "train_preds.groupBy('label','prediction').count().show()\n",
        "accuracy=(train_preds.filter('label = prediction').count())/(train_preds.count())\n",
        "print(f' Accuracy : {round(accuracy*100,2)}%')# result after min max scaling and feature engineering"
      ],
      "execution_count": 64,
      "outputs": [
        {
          "output_type": "stream",
          "text": [
            "**********\n",
            "Testing Summary\n",
            "**********\n",
            "+-----+----------+-----+\n",
            "|label|prediction|count|\n",
            "+-----+----------+-----+\n",
            "|  1.0|       1.0|   14|\n",
            "|  2.0|       2.0|   17|\n",
            "|  1.0|       2.0|    1|\n",
            "|  0.0|       0.0|    4|\n",
            "+-----+----------+-----+\n",
            "\n",
            " Accuracy : 97.0%\n",
            "\n",
            "\n",
            "**********\n",
            "Training Summary\n",
            "**********\n",
            "+-----+----------+-----+\n",
            "|label|prediction|count|\n",
            "+-----+----------+-----+\n",
            "|  1.0|       1.0|   33|\n",
            "|  2.0|       2.0|   32|\n",
            "|  2.0|       1.0|    1|\n",
            "|  1.0|       2.0|    2|\n",
            "|  0.0|       0.0|   46|\n",
            "+-----+----------+-----+\n",
            "\n",
            " Accuracy : 97.37%\n"
          ],
          "name": "stdout"
        }
      ]
    }
  ]
}
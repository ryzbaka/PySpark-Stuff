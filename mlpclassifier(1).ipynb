{
  "nbformat": 4,
  "nbformat_minor": 0,
  "metadata": {
    "colab": {
      "name": "mlpclassifier.ipynb",
      "provenance": []
    },
    "kernelspec": {
      "name": "python3",
      "display_name": "Python 3"
    }
  },
  "cells": [
    {
      "cell_type": "code",
      "metadata": {
        "id": "ajpyZRO5DOTa",
        "colab_type": "code",
        "outputId": "60cbf46b-21ea-4ad3-c24a-d93c3dc0eaca",
        "colab": {
          "base_uri": "https://localhost:8080/",
          "height": 700
        }
      },
      "source": [
        "!apt-get update\n",
        "!apt-get install openjdk-8-jdk-headless -qq > /dev/null\n",
        "!wget -q http://archive.apache.org/dist/spark/spark-2.3.1/spark-2.3.1-bin-hadoop2.7.tgz\n",
        "!tar xf spark-2.3.1-bin-hadoop2.7.tgz\n",
        "!pip install -q findspark\n",
        "import os\n",
        "os.environ[\"JAVA_HOME\"] = \"/usr/lib/jvm/java-8-openjdk-amd64\"\n",
        "os.environ[\"SPARK_HOME\"] = \"/content/spark-2.3.1-bin-hadoop2.7\"\n",
        "import findspark\n",
        "findspark.init()\n",
        "from pyspark.sql import SparkSession\n",
        "spark=SparkSession.builder.getOrCreate()\n",
        "!wget https://data.cityofchicago.org/api/views/ijzp-q8t2/rows.csv?accessType=DOWNLOAD\n",
        "!mv rows.csv\\?accessType\\=DOWNLOAD reported_crimes.csv\n",
        "import os\n",
        "os.environ[\"JAVA_HOME\"] = \"/usr/lib/jvm/java-8-openjdk-amd64\"\n",
        "os.environ[\"SPARK_HOME\"] = \"/content/spark-2.3.1-bin-hadoop2.7\"\n",
        "import findspark\n",
        "findspark.init()"
      ],
      "execution_count": 1,
      "outputs": [
        {
          "output_type": "stream",
          "text": [
            "\r0% [Working]\r            \rGet:1 http://security.ubuntu.com/ubuntu bionic-security InRelease [88.7 kB]\n",
            "\r0% [Connecting to archive.ubuntu.com (91.189.88.152)] [1 InRelease 2,589 B/88.7\r0% [Waiting for headers] [Waiting for headers] [Waiting for headers] [Waiting f\r                                                                               \rGet:2 https://cloud.r-project.org/bin/linux/ubuntu bionic-cran35/ InRelease [3,626 B]\n",
            "\r                                                                               \r0% [Waiting for headers] [Waiting for headers] [Waiting for headers]\r0% [1 InRelease gpgv 88.7 kB] [Waiting for headers] [Waiting for headers] [Wait\r                                                                               \rIgn:3 https://developer.download.nvidia.com/compute/cuda/repos/ubuntu1804/x86_64  InRelease\n",
            "\r0% [1 InRelease gpgv 88.7 kB] [Waiting for headers] [Waiting for headers] [Wait\r                                                                               \rHit:4 http://archive.ubuntu.com/ubuntu bionic InRelease\n",
            "\r0% [1 InRelease gpgv 88.7 kB] [Waiting for headers] [Waiting for headers] [Wait\r                                                                               \rHit:5 http://ppa.launchpad.net/graphics-drivers/ppa/ubuntu bionic InRelease\n",
            "\r0% [1 InRelease gpgv 88.7 kB] [Waiting for headers] [Waiting for headers] [Conn\r                                                                               \rIgn:6 https://developer.download.nvidia.com/compute/machine-learning/repos/ubuntu1804/x86_64  InRelease\n",
            "\r0% [1 InRelease gpgv 88.7 kB] [Waiting for headers] [Connecting to ppa.launchpa\r                                                                               \rHit:7 https://developer.download.nvidia.com/compute/cuda/repos/ubuntu1804/x86_64  Release\n",
            "\r0% [1 InRelease gpgv 88.7 kB] [Waiting for headers] [Connecting to ppa.launchpa\r                                                                               \rGet:8 https://developer.download.nvidia.com/compute/machine-learning/repos/ubuntu1804/x86_64  Release [564 B]\n",
            "\r0% [1 InRelease gpgv 88.7 kB] [Waiting for headers] [8 Release 564 B/564 B 100%\r0% [1 InRelease gpgv 88.7 kB] [Waiting for headers] [Connecting to ppa.launchpa\r                                                                               \rGet:9 http://archive.ubuntu.com/ubuntu bionic-updates InRelease [88.7 kB]\n",
            "\r0% [1 InRelease gpgv 88.7 kB] [9 InRelease 2,604 B/88.7 kB 3%] [Waiting for hea\r                                                                               \rGet:10 https://developer.download.nvidia.com/compute/machine-learning/repos/ubuntu1804/x86_64  Release.gpg [833 B]\n",
            "Get:11 http://ppa.launchpad.net/marutter/c2d4u3.5/ubuntu bionic InRelease [15.4 kB]\n",
            "Get:12 http://security.ubuntu.com/ubuntu bionic-security/restricted amd64 Packages [37.0 kB]\n",
            "Get:13 http://security.ubuntu.com/ubuntu bionic-security/main amd64 Packages [870 kB]\n",
            "Get:14 http://security.ubuntu.com/ubuntu bionic-security/universe amd64 Packages [835 kB]\n",
            "Get:15 http://archive.ubuntu.com/ubuntu bionic-backports InRelease [74.6 kB]\n",
            "Get:16 https://cloud.r-project.org/bin/linux/ubuntu bionic-cran35/ Packages [87.7 kB]\n",
            "Get:18 https://developer.download.nvidia.com/compute/machine-learning/repos/ubuntu1804/x86_64  Packages [31.7 kB]\n",
            "Get:19 http://ppa.launchpad.net/marutter/c2d4u3.5/ubuntu bionic/main Sources [1,789 kB]\n",
            "Get:20 http://archive.ubuntu.com/ubuntu bionic-updates/restricted amd64 Packages [50.4 kB]\n",
            "Get:21 http://archive.ubuntu.com/ubuntu bionic-updates/main amd64 Packages [1,161 kB]\n",
            "Get:22 http://archive.ubuntu.com/ubuntu bionic-updates/multiverse amd64 Packages [12.2 kB]\n",
            "Get:23 http://archive.ubuntu.com/ubuntu bionic-updates/universe amd64 Packages [1,367 kB]\n",
            "Get:24 http://archive.ubuntu.com/ubuntu bionic-backports/universe amd64 Packages [4,247 B]\n",
            "Get:25 http://ppa.launchpad.net/marutter/c2d4u3.5/ubuntu bionic/main amd64 Packages [863 kB]\n",
            "Fetched 7,382 kB in 3s (2,234 kB/s)\n",
            "Reading package lists... Done\n",
            "--2020-04-01 16:01:38--  https://data.cityofchicago.org/api/views/ijzp-q8t2/rows.csv?accessType=DOWNLOAD\n",
            "Resolving data.cityofchicago.org (data.cityofchicago.org)... 52.206.140.199, 52.206.140.205, 52.206.68.26\n",
            "Connecting to data.cityofchicago.org (data.cityofchicago.org)|52.206.140.199|:443... connected.\n",
            "HTTP request sent, awaiting response... 200 OK\n",
            "Length: unspecified [text/csv]\n",
            "Saving to: ‘rows.csv?accessType=DOWNLOAD’\n",
            "\n",
            "rows.csv?accessType     [          <=>       ]   1.56G  3.04MB/s    in 8m 6s   \n",
            "\n",
            "2020-04-01 16:09:44 (3.29 MB/s) - ‘rows.csv?accessType=DOWNLOAD’ saved [1673514810]\n",
            "\n"
          ],
          "name": "stdout"
        }
      ]
    },
    {
      "cell_type": "code",
      "metadata": {
        "id": "vtG7n_39DQFd",
        "colab_type": "code",
        "outputId": "64b5679f-0b7d-4743-bb76-4174fd692899",
        "colab": {
          "base_uri": "https://localhost:8080/",
          "height": 223
        }
      },
      "source": [
        "spark"
      ],
      "execution_count": 3,
      "outputs": [
        {
          "output_type": "execute_result",
          "data": {
            "text/html": [
              "\n",
              "            <div>\n",
              "                <p><b>SparkSession - in-memory</b></p>\n",
              "                \n",
              "        <div>\n",
              "            <p><b>SparkContext</b></p>\n",
              "\n",
              "            <p><a href=\"http://14b23f0a04ef:4040\">Spark UI</a></p>\n",
              "\n",
              "            <dl>\n",
              "              <dt>Version</dt>\n",
              "                <dd><code>v2.3.1</code></dd>\n",
              "              <dt>Master</dt>\n",
              "                <dd><code>local[*]</code></dd>\n",
              "              <dt>AppName</dt>\n",
              "                <dd><code>pyspark-shell</code></dd>\n",
              "            </dl>\n",
              "        </div>\n",
              "        \n",
              "            </div>\n",
              "        "
            ],
            "text/plain": [
              "<pyspark.sql.session.SparkSession at 0x7f5ccdb15588>"
            ]
          },
          "metadata": {
            "tags": []
          },
          "execution_count": 3
        }
      ]
    },
    {
      "cell_type": "code",
      "metadata": {
        "id": "4AKAdzChIuU1",
        "colab_type": "code",
        "colab": {}
      },
      "source": [
        "df=spark.read.csv('multilabel_train.csv',header=True)"
      ],
      "execution_count": 0,
      "outputs": []
    },
    {
      "cell_type": "code",
      "metadata": {
        "id": "24iO15ZwI5UO",
        "colab_type": "code",
        "outputId": "c09c1d5d-8500-46d9-fb78-d6a63a694b8e",
        "colab": {
          "base_uri": "https://localhost:8080/",
          "height": 220
        }
      },
      "source": [
        "df.show(5)"
      ],
      "execution_count": 57,
      "outputs": [
        {
          "output_type": "stream",
          "text": [
            "+--------------------+--------------------+-----+------------+-------+------+------+-------------+\n",
            "|                  id|        comment_text|toxic|severe_toxic|obscene|threat|insult|identity_hate|\n",
            "+--------------------+--------------------+-----+------------+-------+------+------+-------------+\n",
            "|    0000997932d777bf|         Explanation| null|        null|   null|  null|  null|         null|\n",
            "|Why the edits mad...| just closure on ...|    0|           0|      0|     0|     0|            0|\n",
            "|    000103f0d9cfb60f|D'aww! He matches...|    0|           0|      0|     0|     0|            0|\n",
            "|    000113f07ec002fd|Hey man, I'm real...|    0|           0|      0|     0|     0|            0|\n",
            "|    0001b41b1c6bb37e|                   \"| null|        null|   null|  null|  null|         null|\n",
            "+--------------------+--------------------+-----+------------+-------+------+------+-------------+\n",
            "only showing top 5 rows\n",
            "\n"
          ],
          "name": "stdout"
        }
      ]
    },
    {
      "cell_type": "code",
      "metadata": {
        "id": "NzxBnyQ1I-f7",
        "colab_type": "code",
        "outputId": "7dd04a98-fc90-4e3d-9864-7de1aa423f37",
        "colab": {
          "base_uri": "https://localhost:8080/",
          "height": 220
        }
      },
      "source": [
        "import pyspark.sql.functions as F\n",
        "df=df.withColumn('idlength',F.length(F.col('id')))\n",
        "df=df.na.drop()\n",
        "df.show(5)"
      ],
      "execution_count": 58,
      "outputs": [
        {
          "output_type": "stream",
          "text": [
            "+--------------------+--------------------+-----+------------+-------+------+------+-------------+--------+\n",
            "|                  id|        comment_text|toxic|severe_toxic|obscene|threat|insult|identity_hate|idlength|\n",
            "+--------------------+--------------------+-----+------------+-------+------+------+-------------+--------+\n",
            "|Why the edits mad...| just closure on ...|    0|           0|      0|     0|     0|            0|      98|\n",
            "|    000103f0d9cfb60f|D'aww! He matches...|    0|           0|      0|     0|     0|            0|      16|\n",
            "|    000113f07ec002fd|Hey man, I'm real...|    0|           0|      0|     0|     0|            0|      16|\n",
            "|    0001d958c54c6e35|You, sir, are my ...|    0|           0|      0|     0|     0|            0|      16|\n",
            "|Congratulations f...| use the tools we...|    0|           0|      0|     0|     0|            0|      31|\n",
            "+--------------------+--------------------+-----+------------+-------+------+------+-------------+--------+\n",
            "only showing top 5 rows\n",
            "\n"
          ],
          "name": "stdout"
        }
      ]
    },
    {
      "cell_type": "code",
      "metadata": {
        "id": "0kExSUjnJvUF",
        "colab_type": "code",
        "colab": {}
      },
      "source": [
        "df=df.where(F.col('idlength')==16)"
      ],
      "execution_count": 0,
      "outputs": []
    },
    {
      "cell_type": "code",
      "metadata": {
        "id": "Rp6PUPkPJ1RN",
        "colab_type": "code",
        "outputId": "0084e484-027b-4008-d0c0-0d73ff7a59c6",
        "colab": {
          "base_uri": "https://localhost:8080/",
          "height": 312
        }
      },
      "source": [
        "df.show(10)"
      ],
      "execution_count": 60,
      "outputs": [
        {
          "output_type": "stream",
          "text": [
            "+----------------+--------------------+-----+------------+-------+------+------+-------------+--------+\n",
            "|              id|        comment_text|toxic|severe_toxic|obscene|threat|insult|identity_hate|idlength|\n",
            "+----------------+--------------------+-----+------------+-------+------+------+-------------+--------+\n",
            "|000103f0d9cfb60f|D'aww! He matches...|    0|           0|      0|     0|     0|            0|      16|\n",
            "|000113f07ec002fd|Hey man, I'm real...|    0|           0|      0|     0|     0|            0|      16|\n",
            "|0001d958c54c6e35|You, sir, are my ...|    0|           0|      0|     0|     0|            0|      16|\n",
            "|0002bcb3da6cb337|COCKSUCKER BEFORE...|    1|           1|      1|     0|     1|            0|      16|\n",
            "|00031b1e95af7921|Your vandalism to...|    0|           0|      0|     0|     0|            0|      16|\n",
            "|00037261f536c51d|Sorry if the word...|    0|           0|      0|     0|     0|            0|      16|\n",
            "|00040093b2687caa|alignment on this...|    0|           0|      0|     0|     0|            0|      16|\n",
            "|00070ef96486d6f9|Oh, and the girl ...|    0|           0|      0|     0|     0|            0|      16|\n",
            "|000897889268bc93|REDIRECT Talk:Voy...|    0|           0|      0|     0|     0|            0|      16|\n",
            "|0009801bd85e5806|The Mitsurugi poi...|    0|           0|      0|     0|     0|            0|      16|\n",
            "+----------------+--------------------+-----+------------+-------+------+------+-------------+--------+\n",
            "only showing top 10 rows\n",
            "\n"
          ],
          "name": "stdout"
        }
      ]
    },
    {
      "cell_type": "code",
      "metadata": {
        "id": "jV-exmZPSNDc",
        "colab_type": "code",
        "colab": {}
      },
      "source": [
        "df=df.drop('words')"
      ],
      "execution_count": 0,
      "outputs": []
    },
    {
      "cell_type": "code",
      "metadata": {
        "id": "PiSch4nuSOv0",
        "colab_type": "code",
        "outputId": "f3b44d78-71fc-4441-bd18-82341f294a28",
        "colab": {
          "base_uri": "https://localhost:8080/",
          "height": 312
        }
      },
      "source": [
        "df.show(10)"
      ],
      "execution_count": 62,
      "outputs": [
        {
          "output_type": "stream",
          "text": [
            "+----------------+--------------------+-----+------------+-------+------+------+-------------+--------+\n",
            "|              id|        comment_text|toxic|severe_toxic|obscene|threat|insult|identity_hate|idlength|\n",
            "+----------------+--------------------+-----+------------+-------+------+------+-------------+--------+\n",
            "|000103f0d9cfb60f|D'aww! He matches...|    0|           0|      0|     0|     0|            0|      16|\n",
            "|000113f07ec002fd|Hey man, I'm real...|    0|           0|      0|     0|     0|            0|      16|\n",
            "|0001d958c54c6e35|You, sir, are my ...|    0|           0|      0|     0|     0|            0|      16|\n",
            "|0002bcb3da6cb337|COCKSUCKER BEFORE...|    1|           1|      1|     0|     1|            0|      16|\n",
            "|00031b1e95af7921|Your vandalism to...|    0|           0|      0|     0|     0|            0|      16|\n",
            "|00037261f536c51d|Sorry if the word...|    0|           0|      0|     0|     0|            0|      16|\n",
            "|00040093b2687caa|alignment on this...|    0|           0|      0|     0|     0|            0|      16|\n",
            "|00070ef96486d6f9|Oh, and the girl ...|    0|           0|      0|     0|     0|            0|      16|\n",
            "|000897889268bc93|REDIRECT Talk:Voy...|    0|           0|      0|     0|     0|            0|      16|\n",
            "|0009801bd85e5806|The Mitsurugi poi...|    0|           0|      0|     0|     0|            0|      16|\n",
            "+----------------+--------------------+-----+------------+-------+------+------+-------------+--------+\n",
            "only showing top 10 rows\n",
            "\n"
          ],
          "name": "stdout"
        }
      ]
    },
    {
      "cell_type": "code",
      "metadata": {
        "id": "ctdnodvqSPox",
        "colab_type": "code",
        "colab": {}
      },
      "source": [
        "df=df.drop('idlength')"
      ],
      "execution_count": 0,
      "outputs": []
    },
    {
      "cell_type": "code",
      "metadata": {
        "id": "F_Nj-UdJSoHH",
        "colab_type": "code",
        "colab": {}
      },
      "source": [
        "df=df.withColumn(\"lowered_text\",F.lower(F.col(\"comment_text\")))"
      ],
      "execution_count": 0,
      "outputs": []
    },
    {
      "cell_type": "code",
      "metadata": {
        "id": "JmhpG7whSZGJ",
        "colab_type": "code",
        "outputId": "439cba9d-c893-462b-bfc3-e94c096c161f",
        "colab": {
          "base_uri": "https://localhost:8080/",
          "height": 220
        }
      },
      "source": [
        "df.show(5)"
      ],
      "execution_count": 65,
      "outputs": [
        {
          "output_type": "stream",
          "text": [
            "+----------------+--------------------+-----+------------+-------+------+------+-------------+--------------------+\n",
            "|              id|        comment_text|toxic|severe_toxic|obscene|threat|insult|identity_hate|        lowered_text|\n",
            "+----------------+--------------------+-----+------------+-------+------+------+-------------+--------------------+\n",
            "|000103f0d9cfb60f|D'aww! He matches...|    0|           0|      0|     0|     0|            0|d'aww! he matches...|\n",
            "|000113f07ec002fd|Hey man, I'm real...|    0|           0|      0|     0|     0|            0|hey man, i'm real...|\n",
            "|0001d958c54c6e35|You, sir, are my ...|    0|           0|      0|     0|     0|            0|you, sir, are my ...|\n",
            "|0002bcb3da6cb337|COCKSUCKER BEFORE...|    1|           1|      1|     0|     1|            0|cocksucker before...|\n",
            "|00031b1e95af7921|Your vandalism to...|    0|           0|      0|     0|     0|            0|your vandalism to...|\n",
            "+----------------+--------------------+-----+------------+-------+------+------+-------------+--------------------+\n",
            "only showing top 5 rows\n",
            "\n"
          ],
          "name": "stdout"
        }
      ]
    },
    {
      "cell_type": "code",
      "metadata": {
        "id": "GW9CTaMtiK_a",
        "colab_type": "code",
        "colab": {}
      },
      "source": [
        "df=df.cache()"
      ],
      "execution_count": 0,
      "outputs": []
    },
    {
      "cell_type": "code",
      "metadata": {
        "id": "VlitFNlhiQPd",
        "colab_type": "code",
        "colab": {
          "base_uri": "https://localhost:8080/",
          "height": 220
        },
        "outputId": "b45abc7e-33fd-414b-adf4-8bfcc8e82a83"
      },
      "source": [
        "df.show(5)"
      ],
      "execution_count": 16,
      "outputs": [
        {
          "output_type": "stream",
          "text": [
            "+----------------+--------------------+-----+------------+-------+------+------+-------------+--------------------+\n",
            "|              id|        comment_text|toxic|severe_toxic|obscene|threat|insult|identity_hate|        lowered_text|\n",
            "+----------------+--------------------+-----+------------+-------+------+------+-------------+--------------------+\n",
            "|000103f0d9cfb60f|D'aww! He matches...|    0|           0|      0|     0|     0|            0|d'aww! he matches...|\n",
            "|000113f07ec002fd|Hey man, I'm real...|    0|           0|      0|     0|     0|            0|hey man, i'm real...|\n",
            "|0001d958c54c6e35|You, sir, are my ...|    0|           0|      0|     0|     0|            0|you, sir, are my ...|\n",
            "|0002bcb3da6cb337|COCKSUCKER BEFORE...|    1|           1|      1|     0|     1|            0|cocksucker before...|\n",
            "|00031b1e95af7921|Your vandalism to...|    0|           0|      0|     0|     0|            0|your vandalism to...|\n",
            "+----------------+--------------------+-----+------------+-------+------+------+-------------+--------------------+\n",
            "only showing top 5 rows\n",
            "\n"
          ],
          "name": "stdout"
        }
      ]
    },
    {
      "cell_type": "code",
      "metadata": {
        "id": "HQJwPrhZVZF5",
        "colab_type": "code",
        "colab": {}
      },
      "source": [
        "from pyspark.ml.feature import RegexTokenizer\n",
        "tokenizer=RegexTokenizer(inputCol='lowered_text',outputCol=\"tokens\",pattern=\"\\W+\")"
      ],
      "execution_count": 0,
      "outputs": []
    },
    {
      "cell_type": "code",
      "metadata": {
        "id": "LA6Oq1xAVs0q",
        "colab_type": "code",
        "colab": {}
      },
      "source": [
        "df=tokenizer.transform(df)"
      ],
      "execution_count": 0,
      "outputs": []
    },
    {
      "cell_type": "code",
      "metadata": {
        "id": "E8-s4AIkWMya",
        "colab_type": "code",
        "outputId": "1729f377-ebf3-4224-cf7f-1848f5264220",
        "colab": {
          "base_uri": "https://localhost:8080/",
          "height": 312
        }
      },
      "source": [
        "df.show(10)"
      ],
      "execution_count": 69,
      "outputs": [
        {
          "output_type": "stream",
          "text": [
            "+----------------+--------------------+-----+------------+-------+------+------+-------------+--------------------+--------------------+\n",
            "|              id|        comment_text|toxic|severe_toxic|obscene|threat|insult|identity_hate|        lowered_text|              tokens|\n",
            "+----------------+--------------------+-----+------------+-------+------+------+-------------+--------------------+--------------------+\n",
            "|000103f0d9cfb60f|D'aww! He matches...|    0|           0|      0|     0|     0|            0|d'aww! he matches...|[d, aww, he, matc...|\n",
            "|000113f07ec002fd|Hey man, I'm real...|    0|           0|      0|     0|     0|            0|hey man, i'm real...|[hey, man, i, m, ...|\n",
            "|0001d958c54c6e35|You, sir, are my ...|    0|           0|      0|     0|     0|            0|you, sir, are my ...|[you, sir, are, m...|\n",
            "|0002bcb3da6cb337|COCKSUCKER BEFORE...|    1|           1|      1|     0|     1|            0|cocksucker before...|[cocksucker, befo...|\n",
            "|00031b1e95af7921|Your vandalism to...|    0|           0|      0|     0|     0|            0|your vandalism to...|[your, vandalism,...|\n",
            "|00037261f536c51d|Sorry if the word...|    0|           0|      0|     0|     0|            0|sorry if the word...|[sorry, if, the, ...|\n",
            "|00040093b2687caa|alignment on this...|    0|           0|      0|     0|     0|            0|alignment on this...|[alignment, on, t...|\n",
            "|00070ef96486d6f9|Oh, and the girl ...|    0|           0|      0|     0|     0|            0|oh, and the girl ...|[oh, and, the, gi...|\n",
            "|000897889268bc93|REDIRECT Talk:Voy...|    0|           0|      0|     0|     0|            0|redirect talk:voy...|[redirect, talk, ...|\n",
            "|0009801bd85e5806|The Mitsurugi poi...|    0|           0|      0|     0|     0|            0|the mitsurugi poi...|[the, mitsurugi, ...|\n",
            "+----------------+--------------------+-----+------------+-------+------+------+-------------+--------------------+--------------------+\n",
            "only showing top 10 rows\n",
            "\n"
          ],
          "name": "stdout"
        }
      ]
    },
    {
      "cell_type": "code",
      "metadata": {
        "id": "_nbXDHCrv6iL",
        "colab_type": "code",
        "outputId": "89b3f6eb-8cd6-408a-d512-2cca9f17a8cd",
        "colab": {
          "base_uri": "https://localhost:8080/",
          "height": 257
        }
      },
      "source": [
        "df.printSchema()"
      ],
      "execution_count": 70,
      "outputs": [
        {
          "output_type": "stream",
          "text": [
            "root\n",
            " |-- id: string (nullable = true)\n",
            " |-- comment_text: string (nullable = true)\n",
            " |-- toxic: string (nullable = true)\n",
            " |-- severe_toxic: string (nullable = true)\n",
            " |-- obscene: string (nullable = true)\n",
            " |-- threat: string (nullable = true)\n",
            " |-- insult: string (nullable = true)\n",
            " |-- identity_hate: string (nullable = true)\n",
            " |-- lowered_text: string (nullable = true)\n",
            " |-- tokens: array (nullable = true)\n",
            " |    |-- element: string (containsNull = true)\n",
            "\n"
          ],
          "name": "stdout"
        }
      ]
    },
    {
      "cell_type": "code",
      "metadata": {
        "id": "s7sTFnpeWOBL",
        "colab_type": "code",
        "colab": {}
      },
      "source": [
        "from pyspark.ml.feature import CountVectorizer\n",
        "vectorizer=CountVectorizer(inputCol=\"tokens\",outputCol=\"countvectorized\")"
      ],
      "execution_count": 0,
      "outputs": []
    },
    {
      "cell_type": "code",
      "metadata": {
        "id": "mOjmq24vwNAq",
        "colab_type": "code",
        "colab": {}
      },
      "source": [
        "df=df.na.drop()"
      ],
      "execution_count": 0,
      "outputs": []
    },
    {
      "cell_type": "code",
      "metadata": {
        "id": "O-N5uyt3js8S",
        "colab_type": "code",
        "colab": {
          "base_uri": "https://localhost:8080/",
          "height": 165
        },
        "outputId": "0691cd95-c024-4f0c-8ad0-55348a91c1f0"
      },
      "source": [
        "df.show(2)"
      ],
      "execution_count": 74,
      "outputs": [
        {
          "output_type": "stream",
          "text": [
            "+----------------+--------------------+-----+------------+-------+------+------+-------------+--------------------+--------------------+\n",
            "|              id|        comment_text|toxic|severe_toxic|obscene|threat|insult|identity_hate|        lowered_text|              tokens|\n",
            "+----------------+--------------------+-----+------------+-------+------+------+-------------+--------------------+--------------------+\n",
            "|000103f0d9cfb60f|D'aww! He matches...|    0|           0|      0|     0|     0|            0|d'aww! he matches...|[d, aww, he, matc...|\n",
            "|000113f07ec002fd|Hey man, I'm real...|    0|           0|      0|     0|     0|            0|hey man, i'm real...|[hey, man, i, m, ...|\n",
            "+----------------+--------------------+-----+------------+-------+------+------+-------------+--------------------+--------------------+\n",
            "only showing top 2 rows\n",
            "\n"
          ],
          "name": "stdout"
        }
      ]
    },
    {
      "cell_type": "code",
      "metadata": {
        "id": "zc2wxHO8mzyX",
        "colab_type": "code",
        "colab": {}
      },
      "source": [
        "df=vectorizer.fit(df).transform(df)"
      ],
      "execution_count": 0,
      "outputs": []
    },
    {
      "cell_type": "code",
      "metadata": {
        "id": "__izg1bukCUx",
        "colab_type": "code",
        "colab": {
          "base_uri": "https://localhost:8080/",
          "height": 185
        },
        "outputId": "7f315c78-71c4-45d7-9a59-1c3de6dcb89b"
      },
      "source": [
        "df.show(2)"
      ],
      "execution_count": 76,
      "outputs": [
        {
          "output_type": "stream",
          "text": [
            "+----------------+--------------------+-----+------------+-------+------+------+-------------+--------------------+--------------------+--------------------+\n",
            "|              id|        comment_text|toxic|severe_toxic|obscene|threat|insult|identity_hate|        lowered_text|              tokens|     countvectorized|\n",
            "+----------------+--------------------+-----+------------+-------+------+------+-------------+--------------------+--------------------+--------------------+\n",
            "|000103f0d9cfb60f|D'aww! He matches...|    0|           0|      0|     0|     0|            0|d'aww! he matches...|[d, aww, he, matc...|(69147,[1,12,22,4...|\n",
            "|000113f07ec002fd|Hey man, I'm real...|    0|           0|      0|     0|     0|            0|hey man, i'm real...|[hey, man, i, m, ...|(69147,[0,1,2,5,6...|\n",
            "+----------------+--------------------+-----+------------+-------+------+------+-------------+--------------------+--------------------+--------------------+\n",
            "only showing top 2 rows\n",
            "\n"
          ],
          "name": "stdout"
        }
      ]
    },
    {
      "cell_type": "code",
      "metadata": {
        "id": "ooosNpZCnBBu",
        "colab_type": "code",
        "colab": {}
      },
      "source": [
        "df=df.withColumn('con',F.concat(F.col('toxic'),F.col('severe_toxic'),F.col('obscene'),F.col('threat'),F.col('insult'),F.col('identity_hate')))"
      ],
      "execution_count": 0,
      "outputs": []
    },
    {
      "cell_type": "code",
      "metadata": {
        "id": "xYpzllglnzG7",
        "colab_type": "code",
        "colab": {
          "base_uri": "https://localhost:8080/",
          "height": 240
        },
        "outputId": "790f3547-1fc4-460f-8271-64b0aece11d2"
      },
      "source": [
        "df.show(5)"
      ],
      "execution_count": 84,
      "outputs": [
        {
          "output_type": "stream",
          "text": [
            "+----------------+--------------------+-----+------------+-------+------+------+-------------+--------------------+--------------------+--------------------+------+\n",
            "|              id|        comment_text|toxic|severe_toxic|obscene|threat|insult|identity_hate|        lowered_text|              tokens|     countvectorized|   con|\n",
            "+----------------+--------------------+-----+------------+-------+------+------+-------------+--------------------+--------------------+--------------------+------+\n",
            "|000103f0d9cfb60f|D'aww! He matches...|    0|           0|      0|     0|     0|            0|d'aww! he matches...|[d, aww, he, matc...|(69147,[1,12,22,4...|000000|\n",
            "|000113f07ec002fd|Hey man, I'm real...|    0|           0|      0|     0|     0|            0|hey man, i'm real...|[hey, man, i, m, ...|(69147,[0,1,2,5,6...|000000|\n",
            "|0001d958c54c6e35|You, sir, are my ...|    0|           0|      0|     0|     0|            0|you, sir, are my ...|[you, sir, are, m...|(69147,[3,9,15,16...|000000|\n",
            "|0002bcb3da6cb337|COCKSUCKER BEFORE...|    1|           1|      1|     0|     1|            0|cocksucker before...|[cocksucker, befo...|(69147,[3,15,25,1...|111010|\n",
            "|00031b1e95af7921|Your vandalism to...|    0|           0|      0|     0|     0|            0|your vandalism to...|[your, vandalism,...|(69147,[0,2,3,8,1...|000000|\n",
            "+----------------+--------------------+-----+------------+-------+------+------+-------------+--------------------+--------------------+--------------------+------+\n",
            "only showing top 5 rows\n",
            "\n"
          ],
          "name": "stdout"
        }
      ]
    },
    {
      "cell_type": "code",
      "metadata": {
        "id": "kQi4Aa_upd_h",
        "colab_type": "code",
        "colab": {}
      },
      "source": [
        "df=df.where(F.length('id')==16)"
      ],
      "execution_count": 0,
      "outputs": []
    },
    {
      "cell_type": "code",
      "metadata": {
        "id": "Gxgl4ZOXptJN",
        "colab_type": "code",
        "colab": {
          "base_uri": "https://localhost:8080/",
          "height": 517
        },
        "outputId": "5e6a3520-4b1b-4940-a41b-38faefe7f22f"
      },
      "source": [
        "df.show()"
      ],
      "execution_count": 103,
      "outputs": [
        {
          "output_type": "stream",
          "text": [
            "+----------------+--------------------+-----+------------+-------+------+------+-------------+--------------------+--------------------+--------------------+------+\n",
            "|              id|        comment_text|toxic|severe_toxic|obscene|threat|insult|identity_hate|        lowered_text|              tokens|     countvectorized|   con|\n",
            "+----------------+--------------------+-----+------------+-------+------+------+-------------+--------------------+--------------------+--------------------+------+\n",
            "|000103f0d9cfb60f|D'aww! He matches...|    0|           0|      0|     0|     0|            0|d'aww! he matches...|[d, aww, he, matc...|(69147,[1,12,22,4...|000000|\n",
            "|000113f07ec002fd|Hey man, I'm real...|    0|           0|      0|     0|     0|            0|hey man, i'm real...|[hey, man, i, m, ...|(69147,[0,1,2,5,6...|000000|\n",
            "|0001d958c54c6e35|You, sir, are my ...|    0|           0|      0|     0|     0|            0|you, sir, are my ...|[you, sir, are, m...|(69147,[3,9,15,16...|000000|\n",
            "|0002bcb3da6cb337|COCKSUCKER BEFORE...|    1|           1|      1|     0|     1|            0|cocksucker before...|[cocksucker, befo...|(69147,[3,15,25,1...|111010|\n",
            "|00031b1e95af7921|Your vandalism to...|    0|           0|      0|     0|     0|            0|your vandalism to...|[your, vandalism,...|(69147,[0,2,3,8,1...|000000|\n",
            "|00037261f536c51d|Sorry if the word...|    0|           0|      0|     0|     0|            0|sorry if the word...|[sorry, if, the, ...|(69147,[0,1,2,3,4...|000000|\n",
            "|00040093b2687caa|alignment on this...|    0|           0|      0|     0|     0|            0|alignment on this...|[alignment, on, t...|(69147,[2,5,6,12,...|000000|\n",
            "|00070ef96486d6f9|Oh, and the girl ...|    0|           0|      0|     0|     0|            0|oh, and the girl ...|[oh, and, the, gi...|(69147,[0,1,5,8,1...|000000|\n",
            "|000897889268bc93|REDIRECT Talk:Voy...|    0|           0|      0|     0|     0|            0|redirect talk:voy...|[redirect, talk, ...|(69147,[40,173,16...|000000|\n",
            "|0009801bd85e5806|The Mitsurugi poi...|    0|           0|      0|     0|     0|            0|the mitsurugi poi...|[the, mitsurugi, ...|(69147,[0,2,11,15...|000000|\n",
            "|000f35deef84dc4a|There's no need t...|    0|           0|      0|     0|     0|            0|there's no need t...|[there, s, no, ne...|(69147,[0,1,2,3,4...|000000|\n",
            "|000ffab30195c5e1|Yes, because the ...|    0|           0|      0|     0|     0|            0|yes, because the ...|[yes, because, th...|(69147,[0,1,2,5,6...|000000|\n",
            "|0011cc71398479c4|How could I post ...|    0|           0|      0|     0|     0|            0|how could i post ...|[how, could, i, p...|(69147,[0,1,3,7,5...|000000|\n",
            "|00128363e367d703|Not sure about a ...|    0|           0|      0|     0|     0|            0|not sure about a ...|[not, sure, about...|(69147,[4,6,8,11,...|000000|\n",
            "|0015f4aa35ebe9b5|pretty much every...|    0|           0|      0|     0|     0|            0|pretty much every...|[pretty, much, ev...|(69147,[0,1,4,6,7...|000000|\n",
            "|00169857adbc989b|Hi Explicit, can ...|    0|           0|      0|     0|     0|            0|hi explicit, can ...|[hi, explicit, ca...|(69147,[0,3,13,14...|000000|\n",
            "|00190820581d90ce|FUCK YOUR FILTHY ...|    1|           0|      1|     0|     1|            0|fuck your filthy ...|[fuck, your, filt...|(69147,[0,10,21,6...|101010|\n",
            "|001c419c445b5a59|You had a point, ...|    0|           0|      0|     0|     0|            0|you had a point, ...|[you, had, a, poi...|(69147,[3,4,5,8,1...|000000|\n",
            "|001c557175094f10|In other words, y...|    0|           0|      0|     0|     0|            0|in other words, y...|[in, other, words...|(69147,[0,2,3,9,1...|000000|\n",
            "|001dc38a83d420cf|GET FUCKED UP. GE...|    1|           0|      1|     0|     0|            0|get fucked up. ge...|[get, fucked, up,...|(69147,[1,3,4,9,6...|101000|\n",
            "+----------------+--------------------+-----+------------+-------+------+------+-------------+--------------------+--------------------+--------------------+------+\n",
            "only showing top 20 rows\n",
            "\n"
          ],
          "name": "stdout"
        }
      ]
    },
    {
      "cell_type": "code",
      "metadata": {
        "id": "ITZ3Ps9rqDXU",
        "colab_type": "code",
        "colab": {}
      },
      "source": [
        "df=df.where(F.length('comment_text')>5)"
      ],
      "execution_count": 0,
      "outputs": []
    },
    {
      "cell_type": "code",
      "metadata": {
        "id": "u5oaIe28qQuo",
        "colab_type": "code",
        "colab": {}
      },
      "source": [
        "df=df.filter(~df.id.contains(' '))"
      ],
      "execution_count": 0,
      "outputs": []
    },
    {
      "cell_type": "code",
      "metadata": {
        "id": "sx2RVqekqyeJ",
        "colab_type": "code",
        "colab": {}
      },
      "source": [
        "df=df.where(F.length('con')==6)"
      ],
      "execution_count": 0,
      "outputs": []
    },
    {
      "cell_type": "code",
      "metadata": {
        "id": "sXok7t9jo5tG",
        "colab_type": "code",
        "colab": {}
      },
      "source": [
        "not_okay=df.where(F.col('con')!='000000')"
      ],
      "execution_count": 0,
      "outputs": []
    },
    {
      "cell_type": "code",
      "metadata": {
        "id": "j_bopLJPpD3J",
        "colab_type": "code",
        "colab": {}
      },
      "source": [
        "okay=df.where(F.col('con')=='000000')"
      ],
      "execution_count": 0,
      "outputs": []
    },
    {
      "cell_type": "code",
      "metadata": {
        "id": "09SRm41ArYfc",
        "colab_type": "code",
        "colab": {
          "base_uri": "https://localhost:8080/",
          "height": 35
        },
        "outputId": "68e4e4bc-2f90-4f64-803a-6a52dd26ac7f"
      },
      "source": [
        "not_okay.count()"
      ],
      "execution_count": 119,
      "outputs": [
        {
          "output_type": "execute_result",
          "data": {
            "text/plain": [
              "7518"
            ]
          },
          "metadata": {
            "tags": []
          },
          "execution_count": 119
        }
      ]
    },
    {
      "cell_type": "code",
      "metadata": {
        "id": "kndGA1pFraUs",
        "colab_type": "code",
        "colab": {
          "base_uri": "https://localhost:8080/",
          "height": 35
        },
        "outputId": "a45aa2fc-50d0-42df-ae9c-5633d7154622"
      },
      "source": [
        "okay.count()"
      ],
      "execution_count": 120,
      "outputs": [
        {
          "output_type": "execute_result",
          "data": {
            "text/plain": [
              "56518"
            ]
          },
          "metadata": {
            "tags": []
          },
          "execution_count": 120
        }
      ]
    },
    {
      "cell_type": "code",
      "metadata": {
        "id": "eAm0aXg8rgDA",
        "colab_type": "code",
        "colab": {}
      },
      "source": [
        "df=not_okay.union(okay.limit(7518))"
      ],
      "execution_count": 0,
      "outputs": []
    },
    {
      "cell_type": "code",
      "metadata": {
        "id": "jWtgcrQXrtBU",
        "colab_type": "code",
        "colab": {
          "base_uri": "https://localhost:8080/",
          "height": 240
        },
        "outputId": "70799fda-8a0b-48d2-e142-212ffff1670f"
      },
      "source": [
        "df.show(5)"
      ],
      "execution_count": 125,
      "outputs": [
        {
          "output_type": "stream",
          "text": [
            "+----------------+--------------------+-----+------------+-------+------+------+-------------+--------------------+--------------------+--------------------+------+\n",
            "|              id|        comment_text|toxic|severe_toxic|obscene|threat|insult|identity_hate|        lowered_text|              tokens|     countvectorized|   con|\n",
            "+----------------+--------------------+-----+------------+-------+------+------+-------------+--------------------+--------------------+--------------------+------+\n",
            "|0002bcb3da6cb337|COCKSUCKER BEFORE...|    1|           1|      1|     0|     1|            0|cocksucker before...|[cocksucker, befo...|(69147,[3,15,25,1...|111010|\n",
            "|00190820581d90ce|FUCK YOUR FILTHY ...|    1|           0|      1|     0|     1|            0|fuck your filthy ...|[fuck, your, filt...|(69147,[0,10,21,6...|101010|\n",
            "|001dc38a83d420cf|GET FUCKED UP. GE...|    1|           0|      1|     0|     0|            0|get fucked up. ge...|[get, fucked, up,...|(69147,[1,3,4,9,6...|101000|\n",
            "|0020e7119b96eeeb|Stupid peace of s...|    1|           1|      1|     0|     1|            0|stupid peace of s...|[stupid, peace, o...|(69147,[2,4,5,6,1...|111010|\n",
            "|0020fd96ed3b8c8b|=Tony Sidaway is ...|    1|           0|      1|     0|     1|            0|=tony sidaway is ...|[tony, sidaway, i...|(69147,[4,7,33,50...|101010|\n",
            "+----------------+--------------------+-----+------------+-------+------+------+-------------+--------------------+--------------------+--------------------+------+\n",
            "only showing top 5 rows\n",
            "\n"
          ],
          "name": "stdout"
        }
      ]
    },
    {
      "cell_type": "code",
      "metadata": {
        "id": "o2JXAFMTrwHT",
        "colab_type": "code",
        "colab": {
          "base_uri": "https://localhost:8080/",
          "height": 497
        },
        "outputId": "d55f7274-18b6-45fe-f261-8f15cf841c6c"
      },
      "source": [
        "df.groupBy('con').count().show()"
      ],
      "execution_count": 126,
      "outputs": [
        {
          "output_type": "stream",
          "text": [
            "+------+-----+\n",
            "|   con|count|\n",
            "+------+-----+\n",
            "|100010|  616|\n",
            "|110000|   15|\n",
            "|000000| 7518|\n",
            "|101100|    6|\n",
            "|110100|    3|\n",
            "|110011|    5|\n",
            "|001000|  111|\n",
            "|111110|   22|\n",
            "|111000|   82|\n",
            "|100110|    4|\n",
            "|100000| 2522|\n",
            "|100101|    4|\n",
            "|111001|    2|\n",
            "|110001|    1|\n",
            "|000011|   11|\n",
            "|000100|   10|\n",
            "|101010| 1777|\n",
            "|100011|   64|\n",
            "|\"00000|    1|\n",
            "|001010|   72|\n",
            "+------+-----+\n",
            "only showing top 20 rows\n",
            "\n"
          ],
          "name": "stdout"
        }
      ]
    },
    {
      "cell_type": "code",
      "metadata": {
        "id": "BNPiy9ZErzoa",
        "colab_type": "code",
        "colab": {}
      },
      "source": [
        "df=df.where(~F.col('con').contains('\\\"'))"
      ],
      "execution_count": 0,
      "outputs": []
    },
    {
      "cell_type": "code",
      "metadata": {
        "id": "-Z2cJOObsLU_",
        "colab_type": "code",
        "colab": {
          "base_uri": "https://localhost:8080/",
          "height": 497
        },
        "outputId": "f1323cda-196d-4f09-dcf4-737151740878"
      },
      "source": [
        "df.groupBy('con').count().show()"
      ],
      "execution_count": 130,
      "outputs": [
        {
          "output_type": "stream",
          "text": [
            "+------+-----+\n",
            "|   con|count|\n",
            "+------+-----+\n",
            "|100010|  616|\n",
            "|110000|   15|\n",
            "|000000| 7518|\n",
            "|101100|    6|\n",
            "|110100|    3|\n",
            "|110011|    5|\n",
            "|001000|  111|\n",
            "|111110|   22|\n",
            "|111000|   82|\n",
            "|100110|    4|\n",
            "|100000| 2522|\n",
            "|100101|    4|\n",
            "|111001|    2|\n",
            "|110001|    1|\n",
            "|000011|   11|\n",
            "|000100|   10|\n",
            "|101010| 1777|\n",
            "|100011|   64|\n",
            "|001010|   72|\n",
            "|110010|    6|\n",
            "+------+-----+\n",
            "only showing top 20 rows\n",
            "\n"
          ],
          "name": "stdout"
        }
      ]
    },
    {
      "cell_type": "code",
      "metadata": {
        "id": "sq0DBgJmsude",
        "colab_type": "code",
        "colab": {}
      },
      "source": [
        "from pyspark.ml.feature import StringIndexer"
      ],
      "execution_count": 0,
      "outputs": []
    },
    {
      "cell_type": "code",
      "metadata": {
        "id": "6DpgGiyKsyGT",
        "colab_type": "code",
        "colab": {}
      },
      "source": [
        "indexer=StringIndexer(inputCol='con',outputCol='label')"
      ],
      "execution_count": 0,
      "outputs": []
    },
    {
      "cell_type": "code",
      "metadata": {
        "id": "0Ekgvd8qs50Q",
        "colab_type": "code",
        "colab": {}
      },
      "source": [
        "indexer=indexer.fit(df)"
      ],
      "execution_count": 0,
      "outputs": []
    },
    {
      "cell_type": "code",
      "metadata": {
        "id": "AlU9kypfs7uU",
        "colab_type": "code",
        "colab": {}
      },
      "source": [
        "df=indexer.transform(df)"
      ],
      "execution_count": 0,
      "outputs": []
    },
    {
      "cell_type": "code",
      "metadata": {
        "id": "-eKtsOjptMTT",
        "colab_type": "code",
        "colab": {
          "base_uri": "https://localhost:8080/",
          "height": 35
        },
        "outputId": "72156219-e0cc-4796-eaaf-d94f4c5ba2b5"
      },
      "source": [
        "df.count()"
      ],
      "execution_count": 141,
      "outputs": [
        {
          "output_type": "execute_result",
          "data": {
            "text/plain": [
              "15035"
            ]
          },
          "metadata": {
            "tags": []
          },
          "execution_count": 141
        }
      ]
    },
    {
      "cell_type": "code",
      "metadata": {
        "id": "jTavTLM-tPtQ",
        "colab_type": "code",
        "colab": {}
      },
      "source": [
        "from pyspark.ml.classification import NaiveBayes\n",
        "model=NaiveBayes(featuresCol='countvectorized',labelCol='label')"
      ],
      "execution_count": 0,
      "outputs": []
    },
    {
      "cell_type": "code",
      "metadata": {
        "id": "1uXru2yhtoHt",
        "colab_type": "code",
        "colab": {}
      },
      "source": [
        "train,test=df.randomSplit([0.8,0.2],666)"
      ],
      "execution_count": 0,
      "outputs": []
    },
    {
      "cell_type": "code",
      "metadata": {
        "id": "C9YZhHJyuDJM",
        "colab_type": "code",
        "colab": {
          "base_uri": "https://localhost:8080/",
          "height": 35
        },
        "outputId": "250577fc-4706-4421-f865-891c68aeaf0a"
      },
      "source": [
        "train.count()"
      ],
      "execution_count": 146,
      "outputs": [
        {
          "output_type": "execute_result",
          "data": {
            "text/plain": [
              "11963"
            ]
          },
          "metadata": {
            "tags": []
          },
          "execution_count": 146
        }
      ]
    },
    {
      "cell_type": "code",
      "metadata": {
        "id": "rHsLcRLeuD_e",
        "colab_type": "code",
        "colab": {
          "base_uri": "https://localhost:8080/",
          "height": 35
        },
        "outputId": "cfe7f2ef-bdda-4f10-b80d-a5f5af947b77"
      },
      "source": [
        "test.count()"
      ],
      "execution_count": 147,
      "outputs": [
        {
          "output_type": "execute_result",
          "data": {
            "text/plain": [
              "3072"
            ]
          },
          "metadata": {
            "tags": []
          },
          "execution_count": 147
        }
      ]
    },
    {
      "cell_type": "code",
      "metadata": {
        "id": "ddFYLml1thZq",
        "colab_type": "code",
        "colab": {}
      },
      "source": [
        "model=model.fit(train)"
      ],
      "execution_count": 0,
      "outputs": []
    },
    {
      "cell_type": "code",
      "metadata": {
        "id": "yZeKoNHAti2y",
        "colab_type": "code",
        "colab": {
          "base_uri": "https://localhost:8080/",
          "height": 517
        },
        "outputId": "21adbc91-14d0-43cc-f223-a9cad8d3e4fb"
      },
      "source": [
        "model.transform(test).show()"
      ],
      "execution_count": 152,
      "outputs": [
        {
          "output_type": "stream",
          "text": [
            "+----------------+--------------------+-----+------------+-------+------+------+-------------+--------------------+--------------------+--------------------+------+-----+--------------------+--------------------+----------+\n",
            "|              id|        comment_text|toxic|severe_toxic|obscene|threat|insult|identity_hate|        lowered_text|              tokens|     countvectorized|   con|label|       rawPrediction|         probability|prediction|\n",
            "+----------------+--------------------+-----+------------+-------+------+------+-------------+--------------------+--------------------+--------------------+------+-----+--------------------+--------------------+----------+\n",
            "|0028d62e8a5629aa|All of my edits a...|    1|           0|      1|     0|     1|            0|all of my edits a...|[all, of, my, edi...|(69147,[0,2,3,4,5...|101010|  2.0|[-428.60569620718...|[0.99981675278207...|       0.0|\n",
            "|00cce3996a16c116|Keep your eye on ...|    1|           0|      0|     0|     1|            0|keep your eye on ...|[keep, your, eye,...|(69147,[3,5,8,15,...|100010|  4.0|[-246.64448226392...|[0.99011085479785...|       0.0|\n",
            "|00d7a73eb033ee5e|Have you seen the...|    1|           0|      0|     0|     0|            0|have you seen the...|[have, you, seen,...|(69147,[0,1,2,3,4...|100000|  1.0|[-683.93715236530...|[0.99999999969265...|       0.0|\n",
            "|01c7c962932560ee|Wikipedia adminis...|    1|           0|      0|     0|     0|            0|wikipedia adminis...|[wikipedia, admin...|(69147,[4,16,31,9...|100000|  1.0|[-70.503723654392...|[0.17853491494737...|       1.0|\n",
            "|02bbfc50f48fb9bd|Take care not to ...|    1|           0|      1|     0|     0|            0|take care not to ...|[take, care, not,...|(69147,[2,11,15,2...|101000|  3.0|[-122.86967352837...|[0.39273849602907...|       0.0|\n",
            "|0349653f81b942ba|What a joker you ...|    1|           0|      0|     0|     0|            0|what a joker you ...|[what, a, joker, ...|(69147,[0,2,3,4,5...|100000|  1.0|[-588.59186881128...|[1.0,1.1477032534...|       0.0|\n",
            "|0355b79cb7deea97|is a common prost...|    1|           0|      0|     0|     1|            0|is a common prost...|[is, a, common, p...|(69147,[0,1,4,6,7...|100010|  4.0|[-372.87982200739...|[0.93354299886184...|       0.0|\n",
            "|03687823a14a8454|Fuck you people. ...|    1|           1|      1|     0|     1|            0|fuck you people. ...|[fuck, you, peopl...|(69147,[0,3,6,9,1...|111010|  5.0|[-67.699098822734...|[0.98215136020189...|       0.0|\n",
            "|039296aa294ee10b|SHUT UP, YOU FAT ...|    1|           1|      1|     1|     1|            1|shut up, you fat ...|[shut, up, you, f...|(69147,[1,3,21,30...|111111| 18.0|[-88.779571206303...|[2.61979350473600...|       2.0|\n",
            "|03defcf604c604cf|It doesn't matter...|    1|           0|      0|     0|     0|            0|it doesn't matter...|[it, doesn, t, ma...|(69147,[0,1,3,4,5...|100000|  1.0|[-461.27038678437...|[0.99999999968525...|       0.0|\n",
            "|0416eaa1ca33af54|Poor editing? The...|    1|           0|      0|     0|     0|            0|poor editing? the...|[poor, editing, t...|(69147,[0,3,7,22,...|100000|  1.0|[-82.386160970172...|[0.99634094282036...|       0.0|\n",
            "|044cc0666946070e|. When the funera...|    1|           0|      0|     0|     1|            0|. when the funera...|[when, the, funer...|(69147,[0,1,2,5,1...|100010|  4.0|[-141.19198306883...|[0.99963130830137...|       0.0|\n",
            "|045a7cdcbe340e8d|You know what? Do...|    0|           0|      0|     0|     1|            0|you know what? do...|[you, know, what,...|(69147,[1,2,3,4,8...|000010|  7.0|[-217.29451601012...|[0.53061580213002...|       0.0|\n",
            "|0478a92d92a5ad98|You won't find an...|    1|           0|      0|     0|     0|            0|you won't find an...|[you, won, t, fin...|(69147,[3,4,6,7,1...|100000|  1.0|[-130.74146705710...|[0.83130219108926...|       0.0|\n",
            "|047a7b94bbbdb090|No silly it isnt ...|    1|           0|      0|     0|     0|            0|no silly it isnt ...|[no, silly, it, i...|(69147,[0,1,4,5,8...|100000|  1.0|[-291.24546775756...|[0.91545523050694...|       0.0|\n",
            "|0481f0959adb034a|Whos the douche t...|    1|           0|      1|     0|     1|            0|whos the douche t...|[whos, the, douch...|(69147,[0,1,2,5,6...|101010|  2.0|[-143.43018657240...|[0.97827722734319...|       0.0|\n",
            "|0487903955e2e742|Mine dispeared, s...|    1|           0|      1|     0|     0|            0|mine dispeared, s...|[mine, dispeared,...|(69147,[25,266,10...|101000|  3.0|[-61.534592486423...|[0.02399504905761...|       2.0|\n",
            "|04a2576b8653d081|Oh GWH, you truly...|    1|           0|      0|     0|     0|            0|oh gwh, you truly...|[oh, gwh, you, tr...|(69147,[0,3,15,16...|100000|  1.0|[-170.39973842606...|[0.43307690664577...|       1.0|\n",
            "|050ab8da16e75307|Once again.... I'...|    1|           0|      0|     0|     1|            1|once again.... i'...|[once, again, i, ...|(69147,[1,7,9,11,...|100011| 13.0|[-114.28479368244...|[0.91570726576452...|       0.0|\n",
            "|0527d9c4ff997a3e|Why the hell did ...|    1|           0|      1|     0|     1|            0|why the hell did ...|[why, the, hell, ...|(69147,[0,1,3,9,2...|101010|  2.0|[-102.70014721549...|[0.35905952373805...|       1.0|\n",
            "+----------------+--------------------+-----+------------+-------+------+------+-------------+--------------------+--------------------+--------------------+------+-----+--------------------+--------------------+----------+\n",
            "only showing top 20 rows\n",
            "\n"
          ],
          "name": "stdout"
        }
      ]
    },
    {
      "cell_type": "code",
      "metadata": {
        "id": "frd6FLQ6uRgp",
        "colab_type": "code",
        "colab": {}
      },
      "source": [
        "train_pred=model.transform(train)"
      ],
      "execution_count": 0,
      "outputs": []
    },
    {
      "cell_type": "code",
      "metadata": {
        "id": "g0wVUXo4tCln",
        "colab_type": "code",
        "colab": {
          "base_uri": "https://localhost:8080/",
          "height": 386
        },
        "outputId": "db93af68-a9a0-4a37-90dc-c42626b8c5e0"
      },
      "source": [
        "train_pred.groupBy('label','prediction').count().where(F.col('label')==F.col('prediction')).show"
      ],
      "execution_count": 156,
      "outputs": [
        {
          "output_type": "stream",
          "text": [
            "+-----+----------+-----+\n",
            "|label|prediction|count|\n",
            "+-----+----------+-----+\n",
            "|  1.0|       1.0|  634|\n",
            "| 10.0|      10.0|    8|\n",
            "| 27.0|      27.0|    1|\n",
            "|  2.0|       2.0|  742|\n",
            "|  6.0|       6.0|    4|\n",
            "| 25.0|      25.0|    1|\n",
            "|  4.0|       4.0|   17|\n",
            "| 20.0|      20.0|    2|\n",
            "|  8.0|       8.0|    7|\n",
            "| 13.0|      13.0|    1|\n",
            "|  5.0|       5.0|  150|\n",
            "| 33.0|      33.0|    1|\n",
            "|  0.0|       0.0| 5949|\n",
            "| 30.0|      30.0|    1|\n",
            "|  3.0|       3.0|   27|\n",
            "+-----+----------+-----+\n",
            "\n"
          ],
          "name": "stdout"
        }
      ]
    },
    {
      "cell_type": "code",
      "metadata": {
        "id": "W3nmEJ4_uuK2",
        "colab_type": "code",
        "colab": {
          "base_uri": "https://localhost:8080/",
          "height": 497
        },
        "outputId": "10175224-32a6-484e-87fe-ae6e735771d9"
      },
      "source": [
        "train_pred.groupBy('label','prediction').count().where(F.col('label')!=F.col('prediction')).show()"
      ],
      "execution_count": 158,
      "outputs": [
        {
          "output_type": "stream",
          "text": [
            "+-----+----------+-----+\n",
            "|label|prediction|count|\n",
            "+-----+----------+-----+\n",
            "| 19.0|       5.0|    1|\n",
            "| 10.0|       1.0|   10|\n",
            "|  2.0|       0.0|  414|\n",
            "|  6.0|       1.0|   88|\n",
            "|  3.0|       5.0|   23|\n",
            "| 23.0|       0.0|    6|\n",
            "|  8.0|       5.0|   19|\n",
            "| 10.0|       2.0|   35|\n",
            "| 20.0|       5.0|    1|\n",
            "| 14.0|       0.0|   23|\n",
            "| 19.0|       0.0|    4|\n",
            "| 11.0|       1.0|   27|\n",
            "| 23.0|       1.0|    1|\n",
            "| 22.0|       1.0|    4|\n",
            "| 12.0|       4.0|    1|\n",
            "| 32.0|       0.0|    1|\n",
            "|  5.0|       1.0|   59|\n",
            "| 10.0|       0.0|    8|\n",
            "|  5.0|       2.0|  149|\n",
            "| 21.0|       0.0|    2|\n",
            "+-----+----------+-----+\n",
            "only showing top 20 rows\n",
            "\n"
          ],
          "name": "stdout"
        }
      ]
    },
    {
      "cell_type": "code",
      "metadata": {
        "id": "85DwCUX1vOdM",
        "colab_type": "code",
        "colab": {}
      },
      "source": [
        "test_pred=model.transform(test)"
      ],
      "execution_count": 0,
      "outputs": []
    },
    {
      "cell_type": "code",
      "metadata": {
        "id": "ujpZkot7vZXg",
        "colab_type": "code",
        "colab": {
          "base_uri": "https://localhost:8080/",
          "height": 220
        },
        "outputId": "2629b517-65b9-45ee-b45b-e040bbc02ab0"
      },
      "source": [
        "test_pred.groupBy('label','prediction').count().where(F.col('label')==F.col('prediction')).show()"
      ],
      "execution_count": 161,
      "outputs": [
        {
          "output_type": "stream",
          "text": [
            "+-----+----------+-----+\n",
            "|label|prediction|count|\n",
            "+-----+----------+-----+\n",
            "|  1.0|       1.0|   92|\n",
            "|  2.0|       2.0|  123|\n",
            "|  4.0|       4.0|    1|\n",
            "|  5.0|       5.0|   22|\n",
            "|  0.0|       0.0| 1504|\n",
            "|  3.0|       3.0|    2|\n",
            "+-----+----------+-----+\n",
            "\n"
          ],
          "name": "stdout"
        }
      ]
    },
    {
      "cell_type": "code",
      "metadata": {
        "id": "wB3zd2OWvdLL",
        "colab_type": "code",
        "colab": {
          "base_uri": "https://localhost:8080/",
          "height": 497
        },
        "outputId": "c9510af3-facb-4622-d1f2-4ce1076d5ff7"
      },
      "source": [
        "test_pred.groupBy('label','prediction').count().where(F.col('label')!=F.col('prediction')).show()"
      ],
      "execution_count": 162,
      "outputs": [
        {
          "output_type": "stream",
          "text": [
            "+-----+----------+-----+\n",
            "|label|prediction|count|\n",
            "+-----+----------+-----+\n",
            "| 10.0|       1.0|    1|\n",
            "|  2.0|       0.0|  128|\n",
            "|  6.0|       1.0|   22|\n",
            "|  3.0|       5.0|    1|\n",
            "| 23.0|       0.0|    3|\n",
            "|  8.0|       5.0|    7|\n",
            "|  5.0|       8.0|    1|\n",
            "| 10.0|       2.0|    4|\n",
            "| 14.0|       0.0|   12|\n",
            "| 19.0|       0.0|    4|\n",
            "| 11.0|       1.0|    8|\n",
            "| 14.0|       2.0|    1|\n",
            "|  5.0|       1.0|   12|\n",
            "| 10.0|       0.0|    1|\n",
            "|  5.0|       2.0|   56|\n",
            "| 13.0|       0.0|    7|\n",
            "| 16.0|       2.0|    3|\n",
            "|  9.0|       0.0|   20|\n",
            "| 26.0|       1.0|    1|\n",
            "|  7.0|       1.0|    5|\n",
            "+-----+----------+-----+\n",
            "only showing top 20 rows\n",
            "\n"
          ],
          "name": "stdout"
        }
      ]
    }
  ]
}
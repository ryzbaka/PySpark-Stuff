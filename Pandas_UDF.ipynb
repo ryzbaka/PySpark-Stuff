{
  "nbformat": 4,
  "nbformat_minor": 0,
  "metadata": {
    "colab": {
      "name": "Pandas UDF",
      "provenance": [],
      "collapsed_sections": []
    },
    "kernelspec": {
      "name": "python3",
      "display_name": "Python 3"
    }
  },
  "cells": [
    {
      "cell_type": "code",
      "metadata": {
        "id": "ONTCVX8eYY2Y",
        "colab_type": "code",
        "outputId": "893056be-4b9d-4580-a1d1-e5c120546620",
        "colab": {
          "base_uri": "https://localhost:8080/",
          "height": 454
        }
      },
      "source": [
        "!apt-get update\n",
        "!apt-get install openjdk-8-jdk-headless -qq > /dev/null\n",
        "!wget -q http://archive.apache.org/dist/spark/spark-2.3.1/spark-2.3.1-bin-hadoop2.7.tgz\n",
        "!tar xf spark-2.3.1-bin-hadoop2.7.tgz\n",
        "!pip install -q findspark\n",
        "import os\n",
        "os.environ[\"JAVA_HOME\"] = \"/usr/lib/jvm/java-8-openjdk-amd64\"\n",
        "os.environ[\"SPARK_HOME\"] = \"/content/spark-2.3.1-bin-hadoop2.7\"\n",
        "import findspark\n",
        "findspark.init()\n",
        "from pyspark.sql import SparkSession\n",
        "spark=SparkSession.builder.getOrCreate()"
      ],
      "execution_count": 0,
      "outputs": [
        {
          "output_type": "stream",
          "text": [
            "\r0% [Working]\r            \rIgn:1 https://developer.download.nvidia.com/compute/cuda/repos/ubuntu1804/x86_64  InRelease\n",
            "\r0% [Waiting for headers] [Waiting for headers] [Connecting to cloud.r-project.o\r                                                                               \rGet:2 http://security.ubuntu.com/ubuntu bionic-security InRelease [88.7 kB]\n",
            "\r0% [Waiting for headers] [2 InRelease 14.2 kB/88.7 kB 16%] [Connecting to cloud\r                                                                               \rGet:3 http://ppa.launchpad.net/graphics-drivers/ppa/ubuntu bionic InRelease [21.3 kB]\n",
            "\r0% [Waiting for headers] [2 InRelease 14.2 kB/88.7 kB 16%] [Connecting to cloud\r                                                                               \rHit:4 http://archive.ubuntu.com/ubuntu bionic InRelease\n",
            "\r0% [2 InRelease 14.2 kB/88.7 kB 16%] [Connecting to cloud.r-project.org] [Waiti\r0% [4 InRelease gpgv 242 kB] [Waiting for headers] [2 InRelease 14.2 kB/88.7 kB\r                                                                               \rIgn:5 https://developer.download.nvidia.com/compute/machine-learning/repos/ubuntu1804/x86_64  InRelease\n",
            "\r0% [4 InRelease gpgv 242 kB] [Waiting for headers] [2 InRelease 14.2 kB/88.7 kB\r                                                                               \rHit:6 https://developer.download.nvidia.com/compute/cuda/repos/ubuntu1804/x86_64  Release\n",
            "\r0% [4 InRelease gpgv 242 kB] [Waiting for headers] [2 InRelease 14.2 kB/88.7 kB\r                                                                               \rHit:7 https://developer.download.nvidia.com/compute/machine-learning/repos/ubuntu1804/x86_64  Release\n",
            "\r0% [4 InRelease gpgv 242 kB] [Waiting for headers] [2 InRelease 31.5 kB/88.7 kB\r0% [4 InRelease gpgv 242 kB] [Waiting for headers] [2 InRelease 37.3 kB/88.7 kB\r                                                                               \rGet:8 http://archive.ubuntu.com/ubuntu bionic-updates InRelease [88.7 kB]\n",
            "\r0% [4 InRelease gpgv 242 kB] [8 InRelease 14.2 kB/88.7 kB 16%] [2 InRelease 43.\r0% [4 InRelease gpgv 242 kB] [8 InRelease 31.6 kB/88.7 kB 36%] [Connecting to c\r                                                                               \rGet:9 http://ppa.launchpad.net/marutter/c2d4u3.5/ubuntu bionic InRelease [15.4 kB]\n",
            "\r0% [4 InRelease gpgv 242 kB] [8 InRelease 47.5 kB/88.7 kB 54%] [Connected to cl\r0% [4 InRelease gpgv 242 kB] [8 InRelease 47.5 kB/88.7 kB 54%] [Connected to cl\r                                                                               \r0% [4 InRelease gpgv 242 kB] [Waiting for headers] [Waiting for headers]\r                                                                        \rGet:10 https://cloud.r-project.org/bin/linux/ubuntu bionic-cran35/ InRelease [3,626 B]\n",
            "Get:11 http://archive.ubuntu.com/ubuntu bionic-backports InRelease [74.6 kB]\n",
            "Get:14 http://ppa.launchpad.net/graphics-drivers/ppa/ubuntu bionic/main amd64 Packages [36.9 kB]\n",
            "Get:15 http://security.ubuntu.com/ubuntu bionic-security/restricted amd64 Packages [27.5 kB]\n",
            "Get:16 http://security.ubuntu.com/ubuntu bionic-security/multiverse amd64 Packages [7,064 B]\n",
            "Get:17 http://security.ubuntu.com/ubuntu bionic-security/main amd64 Packages [817 kB]\n",
            "Get:18 http://ppa.launchpad.net/marutter/c2d4u3.5/ubuntu bionic/main Sources [1,772 kB]\n",
            "Get:19 http://archive.ubuntu.com/ubuntu bionic-updates/universe amd64 Packages [1,345 kB]\n",
            "Get:20 http://security.ubuntu.com/ubuntu bionic-security/universe amd64 Packages [818 kB]\n",
            "Get:21 https://cloud.r-project.org/bin/linux/ubuntu bionic-cran35/ Packages [83.1 kB]\n",
            "Get:22 http://archive.ubuntu.com/ubuntu bionic-updates/restricted amd64 Packages [41.2 kB]\n",
            "Get:23 http://archive.ubuntu.com/ubuntu bionic-updates/main amd64 Packages [1,104 kB]\n",
            "Get:24 http://archive.ubuntu.com/ubuntu bionic-updates/multiverse amd64 Packages [11.1 kB]\n",
            "Get:25 http://archive.ubuntu.com/ubuntu bionic-backports/universe amd64 Packages [4,252 B]\n",
            "Get:26 http://ppa.launchpad.net/marutter/c2d4u3.5/ubuntu bionic/main amd64 Packages [856 kB]\n",
            "Fetched 7,215 kB in 3s (2,284 kB/s)\n",
            "Reading package lists... Done\n"
          ],
          "name": "stdout"
        }
      ]
    },
    {
      "cell_type": "code",
      "metadata": {
        "id": "z1qn9k7iYrDC",
        "colab_type": "code",
        "colab": {}
      },
      "source": [
        "import pyspark.sql.functions as F\n",
        "from pyspark.sql.types import *\n",
        "from pyspark.sql.functions import udf,pandas_udf,PandasUDFType "
      ],
      "execution_count": 0,
      "outputs": []
    },
    {
      "cell_type": "code",
      "metadata": {
        "id": "K0OOGrN5ZonR",
        "colab_type": "code",
        "colab": {}
      },
      "source": [
        "df=spark.read.csv('zoo.csv',header=True)"
      ],
      "execution_count": 0,
      "outputs": []
    },
    {
      "cell_type": "code",
      "metadata": {
        "id": "_z4wqBGgbikn",
        "colab_type": "code",
        "colab": {}
      },
      "source": [
        "spark_df=df"
      ],
      "execution_count": 0,
      "outputs": []
    },
    {
      "cell_type": "code",
      "metadata": {
        "id": "2yl-II08blGT",
        "colab_type": "code",
        "outputId": "908c0b8a-ef01-4034-f065-a6342efc300b",
        "colab": {
          "base_uri": "https://localhost:8080/",
          "height": 168
        }
      },
      "source": [
        "spark_df.show(3)"
      ],
      "execution_count": 0,
      "outputs": [
        {
          "output_type": "stream",
          "text": [
            "+-----------+----+--------+----+----+--------+-------+--------+-------+--------+--------+--------+----+----+----+--------+-------+----------+\n",
            "|animal_name|hair|feathers|eggs|milk|airborne|aquatic|predator|toothed|backbone|breathes|venomous|fins|legs|tail|domestic|catsize|class_type|\n",
            "+-----------+----+--------+----+----+--------+-------+--------+-------+--------+--------+--------+----+----+----+--------+-------+----------+\n",
            "|   aardvark|   1|       0|   0|   1|       0|      0|       1|      1|       1|       1|       0|   0|   4|   0|       0|      1|         1|\n",
            "|   antelope|   1|       0|   0|   1|       0|      0|       0|      1|       1|       1|       0|   0|   4|   1|       0|      1|         1|\n",
            "|       bass|   0|       0|   1|   0|       0|      1|       1|      1|       1|       0|       0|   1|   0|   1|       0|      0|         4|\n",
            "+-----------+----+--------+----+----+--------+-------+--------+-------+--------+--------+--------+----+----+----+--------+-------+----------+\n",
            "only showing top 3 rows\n",
            "\n"
          ],
          "name": "stdout"
        }
      ]
    },
    {
      "cell_type": "code",
      "metadata": {
        "id": "MDcDAvodbmjC",
        "colab_type": "code",
        "colab": {}
      },
      "source": [
        "import pandas as pd\n",
        "import numpy as np"
      ],
      "execution_count": 0,
      "outputs": []
    },
    {
      "cell_type": "code",
      "metadata": {
        "id": "mXxnh6apcWZQ",
        "colab_type": "code",
        "colab": {}
      },
      "source": [
        "from sklearn.model_selection import train_test_split"
      ],
      "execution_count": 0,
      "outputs": []
    },
    {
      "cell_type": "code",
      "metadata": {
        "id": "8zdqWKExcfri",
        "colab_type": "code",
        "colab": {}
      },
      "source": [
        "from sklearn.tree import DecisionTreeClassifier"
      ],
      "execution_count": 0,
      "outputs": []
    },
    {
      "cell_type": "code",
      "metadata": {
        "id": "DP-X-hd8jeUV",
        "colab_type": "code",
        "outputId": "9b373f5e-4c28-4888-90f2-f96b46d968d2",
        "colab": {
          "base_uri": "https://localhost:8080/",
          "height": 168
        }
      },
      "source": [
        "spark_df.show(3)"
      ],
      "execution_count": 0,
      "outputs": [
        {
          "output_type": "stream",
          "text": [
            "+-----------+----+--------+----+----+--------+-------+--------+-------+--------+--------+--------+----+----+----+--------+-------+----------+\n",
            "|animal_name|hair|feathers|eggs|milk|airborne|aquatic|predator|toothed|backbone|breathes|venomous|fins|legs|tail|domestic|catsize|class_type|\n",
            "+-----------+----+--------+----+----+--------+-------+--------+-------+--------+--------+--------+----+----+----+--------+-------+----------+\n",
            "|   aardvark|   1|       0|   0|   1|       0|      0|       1|      1|       1|       1|       0|   0|   4|   0|       0|      1|         1|\n",
            "|   antelope|   1|       0|   0|   1|       0|      0|       0|      1|       1|       1|       0|   0|   4|   1|       0|      1|         1|\n",
            "|       bass|   0|       0|   1|   0|       0|      1|       1|      1|       1|       0|       0|   1|   0|   1|       0|      0|         4|\n",
            "+-----------+----+--------+----+----+--------+-------+--------+-------+--------+--------+--------+----+----+----+--------+-------+----------+\n",
            "only showing top 3 rows\n",
            "\n"
          ],
          "name": "stdout"
        }
      ]
    },
    {
      "cell_type": "code",
      "metadata": {
        "id": "30sSNVDjji45",
        "colab_type": "code",
        "colab": {}
      },
      "source": [
        "schema=spark_df.schema"
      ],
      "execution_count": 0,
      "outputs": []
    },
    {
      "cell_type": "code",
      "metadata": {
        "id": "FI0jtWBdjo5P",
        "colab_type": "code",
        "outputId": "cf774ad5-cbdd-40bd-d32a-9d0f35727500",
        "colab": {
          "base_uri": "https://localhost:8080/",
          "height": 54
        }
      },
      "source": [
        "schema"
      ],
      "execution_count": 0,
      "outputs": [
        {
          "output_type": "execute_result",
          "data": {
            "text/plain": [
              "StructType(List(StructField(animal_name,StringType,true),StructField(hair,StringType,true),StructField(feathers,StringType,true),StructField(eggs,StringType,true),StructField(milk,StringType,true),StructField(airborne,StringType,true),StructField(aquatic,StringType,true),StructField(predator,StringType,true),StructField(toothed,StringType,true),StructField(backbone,StringType,true),StructField(breathes,StringType,true),StructField(venomous,StringType,true),StructField(fins,StringType,true),StructField(legs,StringType,true),StructField(tail,StringType,true),StructField(domestic,StringType,true),StructField(catsize,StringType,true),StructField(class_type,StringType,true)))"
            ]
          },
          "metadata": {
            "tags": []
          },
          "execution_count": 77
        }
      ]
    },
    {
      "cell_type": "code",
      "metadata": {
        "id": "ieMUHU6tjpmh",
        "colab_type": "code",
        "colab": {}
      },
      "source": [
        "import numpy as np\n",
        "@pandas_udf(schema,PandasUDFType.GROUPED_MAP)\n",
        "def applyModel(df):\n",
        "  model=DecisionTreeClassifier()\n",
        "  y=df['class_type']\n",
        "  x=df.drop(['id','animal_name','class_type'],axis=1)\n",
        "  print('~~~~~~X~~~~~~~')\n",
        "  #print(x.head())\n",
        "  print('~~~~~~Y~~~~~~~')\n",
        "  #print(y.head())\n",
        "  model.fit(x,y)\n",
        "  preds=model.predict(testx)\n",
        "  datadict={\n",
        "      'actual':list(testx),\n",
        "      'predicted':list(preds)\n",
        "  }\n",
        "  return pd.DataFrame(datadict)\n",
        "  "
      ],
      "execution_count": 0,
      "outputs": []
    },
    {
      "cell_type": "code",
      "metadata": {
        "id": "chkTgCGwlX_V",
        "colab_type": "code",
        "outputId": "2203a6f8-1afd-49ff-b41b-a36e36d8e724",
        "colab": {
          "base_uri": "https://localhost:8080/",
          "height": 151
        }
      },
      "source": [
        "spark_df.show(2)"
      ],
      "execution_count": 0,
      "outputs": [
        {
          "output_type": "stream",
          "text": [
            "+-----------+----+--------+----+----+--------+-------+--------+-------+--------+--------+--------+----+----+----+--------+-------+----------+\n",
            "|animal_name|hair|feathers|eggs|milk|airborne|aquatic|predator|toothed|backbone|breathes|venomous|fins|legs|tail|domestic|catsize|class_type|\n",
            "+-----------+----+--------+----+----+--------+-------+--------+-------+--------+--------+--------+----+----+----+--------+-------+----------+\n",
            "|   aardvark|   1|       0|   0|   1|       0|      0|       1|      1|       1|       1|       0|   0|   4|   0|       0|      1|         1|\n",
            "|   antelope|   1|       0|   0|   1|       0|      0|       0|      1|       1|       1|       0|   0|   4|   1|       0|      1|         1|\n",
            "+-----------+----+--------+----+----+--------+-------+--------+-------+--------+--------+--------+----+----+----+--------+-------+----------+\n",
            "only showing top 2 rows\n",
            "\n"
          ],
          "name": "stdout"
        }
      ]
    },
    {
      "cell_type": "code",
      "metadata": {
        "id": "mM0ykDFwlgG_",
        "colab_type": "code",
        "colab": {}
      },
      "source": [
        "sample_df=spark_df.select('hair','toothed','class_type')"
      ],
      "execution_count": 0,
      "outputs": []
    },
    {
      "cell_type": "code",
      "metadata": {
        "id": "kQkQZHDNpJw4",
        "colab_type": "code",
        "outputId": "cc6267ed-001e-4a3c-ca07-9780ac26606f",
        "colab": {
          "base_uri": "https://localhost:8080/",
          "height": 34
        }
      },
      "source": [
        "sample_df.count()"
      ],
      "execution_count": 0,
      "outputs": [
        {
          "output_type": "execute_result",
          "data": {
            "text/plain": [
              "101"
            ]
          },
          "metadata": {
            "tags": []
          },
          "execution_count": 97
        }
      ]
    },
    {
      "cell_type": "code",
      "metadata": {
        "id": "1TFd3jwUpMPh",
        "colab_type": "code",
        "outputId": "ca557953-dd30-424e-944c-2966a225cf0f",
        "colab": {
          "base_uri": "https://localhost:8080/",
          "height": 101
        }
      },
      "source": [
        "sample_df.printSchema()"
      ],
      "execution_count": 0,
      "outputs": [
        {
          "output_type": "stream",
          "text": [
            "root\n",
            " |-- hair: string (nullable = true)\n",
            " |-- toothed: string (nullable = true)\n",
            " |-- class_type: string (nullable = true)\n",
            "\n"
          ],
          "name": "stdout"
        }
      ]
    },
    {
      "cell_type": "code",
      "metadata": {
        "id": "ENaGk6xFpP60",
        "colab_type": "code",
        "colab": {}
      },
      "source": [
        "sample_df=sample_df.withColumn('hair',sample_df.hair.cast('integer'))\n",
        "sample_df=sample_df.withColumn('toothed',sample_df.toothed.cast('integer'))\n",
        "sample_df=sample_df.withColumn('class_type',sample_df.class_type.cast('integer'))\n",
        "sample_df=sample_df.withColumn('id',F.monotonically_increasing_id())\n",
        "sample_df=sample_df.withColumn('id',sample_df.id.cast('integer'))"
      ],
      "execution_count": 0,
      "outputs": []
    },
    {
      "cell_type": "code",
      "metadata": {
        "id": "4nXamyL1sQTl",
        "colab_type": "code",
        "outputId": "97d728ca-eedb-47b5-b6b3-175e33483d24",
        "colab": {
          "base_uri": "https://localhost:8080/",
          "height": 454
        }
      },
      "source": [
        "sample_df.show(20)"
      ],
      "execution_count": 0,
      "outputs": [
        {
          "output_type": "stream",
          "text": [
            "+----+-------+----------+---+\n",
            "|hair|toothed|class_type| id|\n",
            "+----+-------+----------+---+\n",
            "|   1|      1|         1|  0|\n",
            "|   1|      1|         1|  1|\n",
            "|   0|      1|         4|  2|\n",
            "|   1|      1|         1|  3|\n",
            "|   1|      1|         1|  4|\n",
            "|   1|      1|         1|  5|\n",
            "|   1|      1|         1|  6|\n",
            "|   0|      1|         4|  7|\n",
            "|   0|      1|         4|  8|\n",
            "|   1|      1|         1|  9|\n",
            "|   1|      1|         1| 10|\n",
            "|   0|      0|         2| 11|\n",
            "|   0|      1|         4| 12|\n",
            "|   0|      0|         7| 13|\n",
            "|   0|      0|         7| 14|\n",
            "|   0|      0|         7| 15|\n",
            "|   0|      0|         2| 16|\n",
            "|   1|      1|         1| 17|\n",
            "|   0|      1|         4| 18|\n",
            "|   0|      1|         1| 19|\n",
            "+----+-------+----------+---+\n",
            "only showing top 20 rows\n",
            "\n"
          ],
          "name": "stdout"
        }
      ]
    },
    {
      "cell_type": "code",
      "metadata": {
        "id": "vBw38oaisVP-",
        "colab_type": "code",
        "outputId": "66d16e0e-a204-44d9-bf1b-e5b07c31c432",
        "colab": {
          "base_uri": "https://localhost:8080/",
          "height": 118
        }
      },
      "source": [
        "sample_df.printSchema()"
      ],
      "execution_count": 0,
      "outputs": [
        {
          "output_type": "stream",
          "text": [
            "root\n",
            " |-- hair: integer (nullable = true)\n",
            " |-- toothed: integer (nullable = true)\n",
            " |-- class_type: integer (nullable = true)\n",
            " |-- id: integer (nullable = false)\n",
            "\n"
          ],
          "name": "stdout"
        }
      ]
    },
    {
      "cell_type": "code",
      "metadata": {
        "id": "Wads5jcdsXYF",
        "colab_type": "code",
        "colab": {}
      },
      "source": [
        "schema=sample_df.schema"
      ],
      "execution_count": 0,
      "outputs": []
    },
    {
      "cell_type": "code",
      "metadata": {
        "id": "1vdgR7QKsdDl",
        "colab_type": "code",
        "colab": {}
      },
      "source": [
        "from sklearn.linear_model import LogisticRegression\n",
        "model=LogisticRegression()"
      ],
      "execution_count": 0,
      "outputs": []
    },
    {
      "cell_type": "code",
      "metadata": {
        "id": "Vwbc5Z5ouLyW",
        "colab_type": "code",
        "outputId": "9073845e-df77-41bd-a0e6-4b158ad9ae37",
        "colab": {
          "base_uri": "https://localhost:8080/",
          "height": 991
        }
      },
      "source": [
        "dir(model)"
      ],
      "execution_count": 0,
      "outputs": [
        {
          "output_type": "execute_result",
          "data": {
            "text/plain": [
              "['C',\n",
              " '__class__',\n",
              " '__delattr__',\n",
              " '__dict__',\n",
              " '__dir__',\n",
              " '__doc__',\n",
              " '__eq__',\n",
              " '__format__',\n",
              " '__ge__',\n",
              " '__getattribute__',\n",
              " '__getstate__',\n",
              " '__gt__',\n",
              " '__hash__',\n",
              " '__init__',\n",
              " '__init_subclass__',\n",
              " '__le__',\n",
              " '__lt__',\n",
              " '__module__',\n",
              " '__ne__',\n",
              " '__new__',\n",
              " '__reduce__',\n",
              " '__reduce_ex__',\n",
              " '__repr__',\n",
              " '__setattr__',\n",
              " '__setstate__',\n",
              " '__sizeof__',\n",
              " '__str__',\n",
              " '__subclasshook__',\n",
              " '__weakref__',\n",
              " '_estimator_type',\n",
              " '_get_param_names',\n",
              " '_get_tags',\n",
              " '_more_tags',\n",
              " '_predict_proba_lr',\n",
              " 'class_weight',\n",
              " 'decision_function',\n",
              " 'densify',\n",
              " 'dual',\n",
              " 'fit',\n",
              " 'fit_intercept',\n",
              " 'get_params',\n",
              " 'intercept_scaling',\n",
              " 'l1_ratio',\n",
              " 'max_iter',\n",
              " 'multi_class',\n",
              " 'n_jobs',\n",
              " 'penalty',\n",
              " 'predict',\n",
              " 'predict_log_proba',\n",
              " 'predict_proba',\n",
              " 'random_state',\n",
              " 'score',\n",
              " 'set_params',\n",
              " 'solver',\n",
              " 'sparsify',\n",
              " 'tol',\n",
              " 'verbose',\n",
              " 'warm_start']"
            ]
          },
          "metadata": {
            "tags": []
          },
          "execution_count": 112
        }
      ]
    },
    {
      "cell_type": "code",
      "metadata": {
        "id": "biU00RIpvXxh",
        "colab_type": "code",
        "colab": {}
      },
      "source": [
        "import pickle\n",
        "stringrep=pickle.dumps(model)"
      ],
      "execution_count": 0,
      "outputs": []
    },
    {
      "cell_type": "code",
      "metadata": {
        "id": "i8CIf-38skmn",
        "colab_type": "code",
        "colab": {}
      },
      "source": [
        "@pandas_udf(schema,PandasUDFType.GROUPED_MAP)\n",
        "def applyLogit(df):\n",
        "  id=df.id.iloc[0]\n",
        "  num_instances=df.shape()\n",
        "  x=df[['hair','toothed']]\n",
        "  y=df[['class_type']]\n",
        "  model.fit(x,y)\n",
        "  params=pickle.dumps(modes)\n",
        "  return pd.DataFrame({'num_instances':num_instances,'x':x,'y':y,'params':params})"
      ],
      "execution_count": 0,
      "outputs": []
    },
    {
      "cell_type": "code",
      "metadata": {
        "id": "RpAFqtL4vk7T",
        "colab_type": "code",
        "outputId": "e615a3c1-a2b5-4399-f452-7ae26323bc68",
        "colab": {
          "base_uri": "https://localhost:8080/",
          "height": 118
        }
      },
      "source": [
        "sample_df.printSchema()"
      ],
      "execution_count": 0,
      "outputs": [
        {
          "output_type": "stream",
          "text": [
            "root\n",
            " |-- hair: integer (nullable = true)\n",
            " |-- toothed: integer (nullable = true)\n",
            " |-- class_type: integer (nullable = true)\n",
            " |-- id: integer (nullable = false)\n",
            "\n"
          ],
          "name": "stdout"
        }
      ]
    },
    {
      "cell_type": "code",
      "metadata": {
        "id": "rQve8JSCvp7q",
        "colab_type": "code",
        "colab": {}
      },
      "source": [
        "result=sample_df.groupby('id').apply(applyLogit)"
      ],
      "execution_count": 0,
      "outputs": []
    },
    {
      "cell_type": "code",
      "metadata": {
        "id": "Fot0HN3Hvw8G",
        "colab_type": "code",
        "outputId": "4e227ae7-ef19-48a3-89ec-c2422afea2af",
        "colab": {
          "base_uri": "https://localhost:8080/",
          "height": 151
        }
      },
      "source": [
        "sample_df.show(2)"
      ],
      "execution_count": 0,
      "outputs": [
        {
          "output_type": "stream",
          "text": [
            "+----+-------+----------+---+\n",
            "|hair|toothed|class_type| id|\n",
            "+----+-------+----------+---+\n",
            "|   1|      1|         1|  0|\n",
            "|   1|      1|         1|  1|\n",
            "+----+-------+----------+---+\n",
            "only showing top 2 rows\n",
            "\n"
          ],
          "name": "stdout"
        }
      ]
    },
    {
      "cell_type": "code",
      "metadata": {
        "id": "tGMBfhW-z532",
        "colab_type": "code",
        "outputId": "81a93c9f-dd2f-4844-e568-62801f658439",
        "colab": {
          "base_uri": "https://localhost:8080/",
          "height": 34
        }
      },
      "source": [
        "schema"
      ],
      "execution_count": 0,
      "outputs": [
        {
          "output_type": "execute_result",
          "data": {
            "text/plain": [
              "StructType(List(StructField(hair,IntegerType,true),StructField(toothed,IntegerType,true),StructField(class_type,IntegerType,true),StructField(id,IntegerType,false)))"
            ]
          },
          "metadata": {
            "tags": []
          },
          "execution_count": 122
        }
      ]
    },
    {
      "cell_type": "code",
      "metadata": {
        "id": "dYZtY1sJ0L5h",
        "colab_type": "code",
        "colab": {}
      },
      "source": [
        "@pandas_udf(schema,PandasUDFType.GROUPED_MAP)\n",
        "def dropCol(pdf):\n",
        "  return pdf.assign(toothed=pdf.hair*2+pdf.toothed)\n",
        "result=sample_df.groupby('id').apply(dropCol)"
      ],
      "execution_count": 0,
      "outputs": []
    },
    {
      "cell_type": "code",
      "metadata": {
        "id": "LD4b-Lqr0WY2",
        "colab_type": "code",
        "outputId": "742d3cf8-511e-476e-9a57-1ee7321a9028",
        "colab": {
          "base_uri": "https://localhost:8080/",
          "height": 34
        }
      },
      "source": [
        "result.count()"
      ],
      "execution_count": 0,
      "outputs": [
        {
          "output_type": "execute_result",
          "data": {
            "text/plain": [
              "101"
            ]
          },
          "metadata": {
            "tags": []
          },
          "execution_count": 128
        }
      ]
    },
    {
      "cell_type": "code",
      "metadata": {
        "id": "TuQhFQna0d1-",
        "colab_type": "code",
        "outputId": "9535cb2f-abab-45da-c772-1c642ded2f6f",
        "colab": {
          "base_uri": "https://localhost:8080/",
          "height": 118
        }
      },
      "source": [
        "result.where(result.id==0).show()"
      ],
      "execution_count": 0,
      "outputs": [
        {
          "output_type": "stream",
          "text": [
            "+----+-------+----------+---+\n",
            "|hair|toothed|class_type| id|\n",
            "+----+-------+----------+---+\n",
            "|   1|      3|         1|  0|\n",
            "+----+-------+----------+---+\n",
            "\n"
          ],
          "name": "stdout"
        }
      ]
    },
    {
      "cell_type": "code",
      "metadata": {
        "id": "ag3ovBzU0gd2",
        "colab_type": "code",
        "outputId": "777ee0ea-dbf4-46e0-fda7-4d26adeafea0",
        "colab": {
          "base_uri": "https://localhost:8080/",
          "height": 286
        }
      },
      "source": [
        "sample_df.show(10)"
      ],
      "execution_count": 0,
      "outputs": [
        {
          "output_type": "stream",
          "text": [
            "+----+-------+----------+---+\n",
            "|hair|toothed|class_type| id|\n",
            "+----+-------+----------+---+\n",
            "|   1|      1|         1|  0|\n",
            "|   1|      1|         1|  1|\n",
            "|   0|      1|         4|  2|\n",
            "|   1|      1|         1|  3|\n",
            "|   1|      1|         1|  4|\n",
            "|   1|      1|         1|  5|\n",
            "|   1|      1|         1|  6|\n",
            "|   0|      1|         4|  7|\n",
            "|   0|      1|         4|  8|\n",
            "|   1|      1|         1|  9|\n",
            "+----+-------+----------+---+\n",
            "only showing top 10 rows\n",
            "\n"
          ],
          "name": "stdout"
        }
      ]
    },
    {
      "cell_type": "code",
      "metadata": {
        "id": "aWxuln6G6xis",
        "colab_type": "code",
        "colab": {}
      },
      "source": [
        "schema=StructType([\n",
        "                   StructField('id',IntegerType(),False),\n",
        "                   \n",
        "])\n",
        "@pandas_udf(schema,PandasUDFType.GROUPED_MAP)\n",
        "def train(pdf):\n",
        "  ids=pdf.id.iloc[0]\n",
        "  df=pd.DataFrame({'id':[ids]})\n",
        "  return df"
      ],
      "execution_count": 0,
      "outputs": []
    },
    {
      "cell_type": "code",
      "metadata": {
        "id": "Ilxnb-rB7fIX",
        "colab_type": "code",
        "colab": {}
      },
      "source": [
        "result=sample_df.groupby('id').apply(train)"
      ],
      "execution_count": 0,
      "outputs": []
    },
    {
      "cell_type": "code",
      "metadata": {
        "id": "kLlVqCbs7_Az",
        "colab_type": "code",
        "outputId": "cf77b2c6-f3b6-48bf-a689-fc7fee4869f0",
        "colab": {
          "base_uri": "https://localhost:8080/",
          "height": 34
        }
      },
      "source": [
        "result.count()"
      ],
      "execution_count": 0,
      "outputs": [
        {
          "output_type": "execute_result",
          "data": {
            "text/plain": [
              "101"
            ]
          },
          "metadata": {
            "tags": []
          },
          "execution_count": 150
        }
      ]
    },
    {
      "cell_type": "code",
      "metadata": {
        "id": "1zQowHFf8AMk",
        "colab_type": "code",
        "outputId": "5e205249-b33e-445a-f29f-6e2f953dafda",
        "colab": {
          "base_uri": "https://localhost:8080/",
          "height": 454
        }
      },
      "source": [
        "result.show()"
      ],
      "execution_count": 0,
      "outputs": [
        {
          "output_type": "stream",
          "text": [
            "+---+\n",
            "| id|\n",
            "+---+\n",
            "| 31|\n",
            "| 85|\n",
            "| 65|\n",
            "| 53|\n",
            "| 78|\n",
            "| 34|\n",
            "| 81|\n",
            "| 28|\n",
            "| 76|\n",
            "| 26|\n",
            "| 27|\n",
            "| 44|\n",
            "| 12|\n",
            "| 91|\n",
            "| 22|\n",
            "| 93|\n",
            "| 47|\n",
            "|  1|\n",
            "| 52|\n",
            "| 13|\n",
            "+---+\n",
            "only showing top 20 rows\n",
            "\n"
          ],
          "name": "stdout"
        }
      ]
    },
    {
      "cell_type": "code",
      "metadata": {
        "id": "0GH7TZFp8EgG",
        "colab_type": "code",
        "outputId": "334e1985-2ee9-4d98-96f7-02d80f2845a3",
        "colab": {
          "base_uri": "https://localhost:8080/",
          "height": 34
        }
      },
      "source": [
        "sample_df.count()"
      ],
      "execution_count": 0,
      "outputs": [
        {
          "output_type": "execute_result",
          "data": {
            "text/plain": [
              "101"
            ]
          },
          "metadata": {
            "tags": []
          },
          "execution_count": 152
        }
      ]
    },
    {
      "cell_type": "code",
      "metadata": {
        "id": "YMWhhnvj8IIe",
        "colab_type": "code",
        "outputId": "f9b30adc-0f8e-4ad3-b1e1-cce7e36ee352",
        "colab": {
          "base_uri": "https://localhost:8080/",
          "height": 195
        }
      },
      "source": [
        "df.head()"
      ],
      "execution_count": 0,
      "outputs": [
        {
          "output_type": "execute_result",
          "data": {
            "text/html": [
              "<div>\n",
              "<style scoped>\n",
              "    .dataframe tbody tr th:only-of-type {\n",
              "        vertical-align: middle;\n",
              "    }\n",
              "\n",
              "    .dataframe tbody tr th {\n",
              "        vertical-align: top;\n",
              "    }\n",
              "\n",
              "    .dataframe thead th {\n",
              "        text-align: right;\n",
              "    }\n",
              "</style>\n",
              "<table border=\"1\" class=\"dataframe\">\n",
              "  <thead>\n",
              "    <tr style=\"text-align: right;\">\n",
              "      <th></th>\n",
              "      <th>hair</th>\n",
              "      <th>toothed</th>\n",
              "      <th>class_type</th>\n",
              "      <th>id</th>\n",
              "    </tr>\n",
              "  </thead>\n",
              "  <tbody>\n",
              "    <tr>\n",
              "      <th>0</th>\n",
              "      <td>1</td>\n",
              "      <td>1</td>\n",
              "      <td>1</td>\n",
              "      <td>0</td>\n",
              "    </tr>\n",
              "    <tr>\n",
              "      <th>1</th>\n",
              "      <td>1</td>\n",
              "      <td>1</td>\n",
              "      <td>1</td>\n",
              "      <td>1</td>\n",
              "    </tr>\n",
              "    <tr>\n",
              "      <th>2</th>\n",
              "      <td>0</td>\n",
              "      <td>1</td>\n",
              "      <td>4</td>\n",
              "      <td>2</td>\n",
              "    </tr>\n",
              "    <tr>\n",
              "      <th>3</th>\n",
              "      <td>1</td>\n",
              "      <td>1</td>\n",
              "      <td>1</td>\n",
              "      <td>3</td>\n",
              "    </tr>\n",
              "    <tr>\n",
              "      <th>4</th>\n",
              "      <td>1</td>\n",
              "      <td>1</td>\n",
              "      <td>1</td>\n",
              "      <td>4</td>\n",
              "    </tr>\n",
              "  </tbody>\n",
              "</table>\n",
              "</div>"
            ],
            "text/plain": [
              "   hair  toothed  class_type  id\n",
              "0     1        1           1   0\n",
              "1     1        1           1   1\n",
              "2     0        1           4   2\n",
              "3     1        1           1   3\n",
              "4     1        1           1   4"
            ]
          },
          "metadata": {
            "tags": []
          },
          "execution_count": 153
        }
      ]
    },
    {
      "cell_type": "code",
      "metadata": {
        "id": "QELA4EfO9KLm",
        "colab_type": "code",
        "colab": {}
      },
      "source": [
        ""
      ],
      "execution_count": 0,
      "outputs": []
    }
  ]
}
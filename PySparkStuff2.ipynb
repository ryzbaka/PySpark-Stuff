{
  "nbformat": 4,
  "nbformat_minor": 0,
  "metadata": {
    "colab": {
      "name": "PySparkStuff2.ipynb",
      "provenance": []
    },
    "kernelspec": {
      "name": "python3",
      "display_name": "Python 3"
    }
  },
  "cells": [
    {
      "cell_type": "code",
      "metadata": {
        "id": "w-nJ6tT0raXJ",
        "colab_type": "code",
        "outputId": "7a9d1de4-1682-43db-f48d-c885f4656405",
        "colab": {
          "base_uri": "https://localhost:8080/",
          "height": 449
        }
      },
      "source": [
        "!apt-get update\n",
        "!apt-get install openjdk-8-jdk-headless -qq > /dev/null\n",
        "!wget -q http://archive.apache.org/dist/spark/spark-2.3.1/spark-2.3.1-bin-hadoop2.7.tgz\n",
        "!tar xf spark-2.3.1-bin-hadoop2.7.tgz\n",
        "!pip install -q findspark\n",
        "import os\n",
        "os.environ[\"JAVA_HOME\"] = \"/usr/lib/jvm/java-8-openjdk-amd64\"\n",
        "os.environ[\"SPARK_HOME\"] = \"/content/spark-2.3.1-bin-hadoop2.7\"\n",
        "import findspark\n",
        "findspark.init()\n",
        "from pyspark.sql import SparkSession\n",
        "spark=SparkSession.builder.getOrCreate()"
      ],
      "execution_count": 0,
      "outputs": [
        {
          "output_type": "stream",
          "text": [
            "\r0% [Working]\r            \rIgn:1 https://developer.download.nvidia.com/compute/cuda/repos/ubuntu1804/x86_64  InRelease\n",
            "\r0% [Connecting to archive.ubuntu.com (91.189.88.162)] [Waiting for headers] [Co\r                                                                               \rIgn:2 https://developer.download.nvidia.com/compute/machine-learning/repos/ubuntu1804/x86_64  InRelease\n",
            "\r0% [Connecting to archive.ubuntu.com (91.189.88.162)] [Waiting for headers] [Co\r                                                                               \rHit:3 https://developer.download.nvidia.com/compute/cuda/repos/ubuntu1804/x86_64  Release\n",
            "\r0% [Connecting to archive.ubuntu.com (91.189.88.162)] [Waiting for headers] [Co\r                                                                               \rGet:4 http://security.ubuntu.com/ubuntu bionic-security InRelease [88.7 kB]\n",
            "\r0% [Connecting to archive.ubuntu.com (91.189.88.174)] [4 InRelease 14.2 kB/88.7\r0% [Release.gpg gpgv 564 B] [Connecting to archive.ubuntu.com (91.189.88.174)] \r                                                                               \rGet:5 http://ppa.launchpad.net/graphics-drivers/ppa/ubuntu bionic InRelease [21.3 kB]\n",
            "\r0% [Release.gpg gpgv 564 B] [Waiting for headers] [4 InRelease 14.2 kB/88.7 kB \r                                                                               \rHit:6 https://developer.download.nvidia.com/compute/machine-learning/repos/ubuntu1804/x86_64  Release\n",
            "Hit:7 http://archive.ubuntu.com/ubuntu bionic InRelease\n",
            "Get:9 http://archive.ubuntu.com/ubuntu bionic-updates InRelease [88.7 kB]\n",
            "Get:11 http://ppa.launchpad.net/marutter/c2d4u3.5/ubuntu bionic InRelease [15.4 kB]\n",
            "Get:12 http://archive.ubuntu.com/ubuntu bionic-backports InRelease [74.6 kB]\n",
            "Get:13 http://security.ubuntu.com/ubuntu bionic-security/universe amd64 Packages [817 kB]\n",
            "Get:14 http://ppa.launchpad.net/graphics-drivers/ppa/ubuntu bionic/main amd64 Packages [36.9 kB]\n",
            "Get:15 http://archive.ubuntu.com/ubuntu bionic-updates/restricted amd64 Packages [40.9 kB]\n",
            "Get:16 http://archive.ubuntu.com/ubuntu bionic-updates/universe amd64 Packages [1,343 kB]\n",
            "Get:17 http://ppa.launchpad.net/marutter/c2d4u3.5/ubuntu bionic/main Sources [1,765 kB]\n",
            "Get:18 http://security.ubuntu.com/ubuntu bionic-security/main amd64 Packages [812 kB]\n",
            "Get:19 http://archive.ubuntu.com/ubuntu bionic-updates/main amd64 Packages [1,101 kB]\n",
            "Get:20 http://archive.ubuntu.com/ubuntu bionic-backports/universe amd64 Packages [4,252 B]\n",
            "Get:21 https://cloud.r-project.org/bin/linux/ubuntu bionic-cran35/ InRelease [3,626 B]\n",
            "Get:22 https://cloud.r-project.org/bin/linux/ubuntu bionic-cran35/ Packages [83.1 kB]\n",
            "Get:23 http://ppa.launchpad.net/marutter/c2d4u3.5/ubuntu bionic/main amd64 Packages [852 kB]\n",
            "Fetched 7,147 kB in 7s (1,011 kB/s)\n",
            "Reading package lists... Done\n"
          ],
          "name": "stdout"
        }
      ]
    },
    {
      "cell_type": "code",
      "metadata": {
        "id": "-ScEjdg9riX8",
        "colab_type": "code",
        "outputId": "6b06b741-25aa-4af6-94e8-e8faf3c11c9d",
        "colab": {
          "base_uri": "https://localhost:8080/",
          "height": 224
        }
      },
      "source": [
        "!wget https://data.cityofchicago.org/api/views/ijzp-q8t2/rows.csv?accessType=DOWNLOAD"
      ],
      "execution_count": 0,
      "outputs": [
        {
          "output_type": "stream",
          "text": [
            "--2020-02-09 11:22:12--  https://data.cityofchicago.org/api/views/ijzp-q8t2/rows.csv?accessType=DOWNLOAD\n",
            "Resolving data.cityofchicago.org (data.cityofchicago.org)... 52.206.68.26, 52.206.140.199, 52.206.140.205\n",
            "Connecting to data.cityofchicago.org (data.cityofchicago.org)|52.206.68.26|:443... connected.\n",
            "HTTP request sent, awaiting response... 200 OK\n",
            "Length: unspecified [text/csv]\n",
            "Saving to: ‘rows.csv?accessType=DOWNLOAD’\n",
            "\n",
            "rows.csv?accessType     [               <=>  ]   1.55G  3.20MB/s    in 8m 29s  \n",
            "\n",
            "2020-02-09 11:30:43 (3.12 MB/s) - ‘rows.csv?accessType=DOWNLOAD’ saved [1665791877]\n",
            "\n"
          ],
          "name": "stdout"
        }
      ]
    },
    {
      "cell_type": "code",
      "metadata": {
        "id": "DW2UrKFQrqj9",
        "colab_type": "code",
        "colab": {}
      },
      "source": [
        "!mv rows.csv\\?accessType\\=DOWNLOAD reported_crimes.csv"
      ],
      "execution_count": 0,
      "outputs": []
    },
    {
      "cell_type": "code",
      "metadata": {
        "id": "HlTwWnxo48T9",
        "colab_type": "code",
        "colab": {}
      },
      "source": [
        "df=spark.read.csv('reported_crimes.csv',header=True)"
      ],
      "execution_count": 0,
      "outputs": []
    },
    {
      "cell_type": "code",
      "metadata": {
        "id": "yEH8RtUR5E0U",
        "colab_type": "code",
        "colab": {}
      },
      "source": [
        "df.createOrReplaceTempView(name='reported_crimes')"
      ],
      "execution_count": 0,
      "outputs": []
    },
    {
      "cell_type": "code",
      "metadata": {
        "id": "u0QhcbS95KcE",
        "colab_type": "code",
        "colab": {}
      },
      "source": [
        "sample=df.limit(50)"
      ],
      "execution_count": 0,
      "outputs": []
    },
    {
      "cell_type": "code",
      "metadata": {
        "id": "efCjwTO75M4M",
        "colab_type": "code",
        "outputId": "35bb5415-4a31-474c-c7e9-2a349a9403db",
        "colab": {
          "base_uri": "https://localhost:8080/",
          "height": 36
        }
      },
      "source": [
        "sample.cache()\n",
        "sample.count()"
      ],
      "execution_count": 0,
      "outputs": [
        {
          "output_type": "execute_result",
          "data": {
            "text/plain": [
              "50"
            ]
          },
          "metadata": {
            "tags": []
          },
          "execution_count": 8
        }
      ]
    },
    {
      "cell_type": "code",
      "metadata": {
        "id": "5pjrLzLm5QCe",
        "colab_type": "code",
        "outputId": "45d30934-dbef-4020-9bed-4d0c1fc08eba",
        "colab": {
          "base_uri": "https://localhost:8080/",
          "height": 169
        }
      },
      "source": [
        "sample.show(1)"
      ],
      "execution_count": 0,
      "outputs": [
        {
          "output_type": "stream",
          "text": [
            "+--------+-----------+--------------------+---------------+----+------------------+--------------------+--------------------+------+--------+----+--------+----+--------------+--------+------------+------------+----+--------------------+--------+---------+--------+\n",
            "|      ID|Case Number|                Date|          Block|IUCR|      Primary Type|         Description|Location Description|Arrest|Domestic|Beat|District|Ward|Community Area|FBI Code|X Coordinate|Y Coordinate|Year|          Updated On|Latitude|Longitude|Location|\n",
            "+--------+-----------+--------------------+---------------+----+------------------+--------------------+--------------------+------+--------+----+--------+----+--------------+--------+------------+------------+----+--------------------+--------+---------+--------+\n",
            "|11034701|   JA366925|01/01/2001 11:00:...|016XX E 86TH PL|1153|DECEPTIVE PRACTICE|FINANCIAL IDENTIT...|           RESIDENCE| false|   false|0412|     004|   8|            45|      11|        null|        null|2001|08/05/2017 03:50:...|    null|     null|    null|\n",
            "+--------+-----------+--------------------+---------------+----+------------------+--------------------+--------------------+------+--------+----+--------+----+--------------+--------+------------+------------+----+--------------------+--------+---------+--------+\n",
            "only showing top 1 row\n",
            "\n"
          ],
          "name": "stdout"
        }
      ]
    },
    {
      "cell_type": "code",
      "metadata": {
        "id": "9RLTPy0C5WTt",
        "colab_type": "code",
        "colab": {}
      },
      "source": [
        "import pyspark.sql.functions as F\n",
        "sample=sample.withColumn('Arrested',F.when(sample.Arrest=='false',\"No\"))"
      ],
      "execution_count": 0,
      "outputs": []
    },
    {
      "cell_type": "code",
      "metadata": {
        "id": "vAXXFe4p5wDu",
        "colab_type": "code",
        "outputId": "54b779f1-03e6-4494-979c-01d33fa86083",
        "colab": {
          "base_uri": "https://localhost:8080/",
          "height": 187
        }
      },
      "source": [
        "sample.show(2)"
      ],
      "execution_count": 0,
      "outputs": [
        {
          "output_type": "stream",
          "text": [
            "+--------+-----------+--------------------+------------------+----+-------------------+--------------------+--------------------+------+--------+----+--------+----+--------------+--------+------------+------------+----+--------------------+--------+---------+--------+--------+\n",
            "|      ID|Case Number|                Date|             Block|IUCR|       Primary Type|         Description|Location Description|Arrest|Domestic|Beat|District|Ward|Community Area|FBI Code|X Coordinate|Y Coordinate|Year|          Updated On|Latitude|Longitude|Location|Arrested|\n",
            "+--------+-----------+--------------------+------------------+----+-------------------+--------------------+--------------------+------+--------+----+--------+----+--------------+--------+------------+------------+----+--------------------+--------+---------+--------+--------+\n",
            "|11034701|   JA366925|01/01/2001 11:00:...|   016XX E 86TH PL|1153| DECEPTIVE PRACTICE|FINANCIAL IDENTIT...|           RESIDENCE| false|   false|0412|     004|   8|            45|      11|        null|        null|2001|08/05/2017 03:50:...|    null|     null|    null|      No|\n",
            "|11227287|   JB147188|10/08/2017 03:00:...|092XX S RACINE AVE|0281|CRIM SEXUAL ASSAULT|      NON-AGGRAVATED|           RESIDENCE| false|   false|2222|     022|  21|            73|      02|        null|        null|2017|02/11/2018 03:57:...|    null|     null|    null|      No|\n",
            "+--------+-----------+--------------------+------------------+----+-------------------+--------------------+--------------------+------+--------+----+--------+----+--------------+--------+------------+------------+----+--------------------+--------+---------+--------+--------+\n",
            "only showing top 2 rows\n",
            "\n"
          ],
          "name": "stdout"
        }
      ]
    },
    {
      "cell_type": "code",
      "metadata": {
        "id": "yZ1RdZjD5xB1",
        "colab_type": "code",
        "colab": {}
      },
      "source": [
        "sample=df.limit(20)"
      ],
      "execution_count": 0,
      "outputs": []
    },
    {
      "cell_type": "code",
      "metadata": {
        "id": "V92Xa-Zz6OyY",
        "colab_type": "code",
        "outputId": "2c258447-5027-4a52-d5ff-2f54729c66af",
        "colab": {
          "base_uri": "https://localhost:8080/",
          "height": 36
        }
      },
      "source": [
        "sample.cache()\n",
        "sample.count()"
      ],
      "execution_count": 0,
      "outputs": [
        {
          "output_type": "execute_result",
          "data": {
            "text/plain": [
              "20"
            ]
          },
          "metadata": {
            "tags": []
          },
          "execution_count": 13
        }
      ]
    },
    {
      "cell_type": "code",
      "metadata": {
        "id": "3K5Rwjoj6gSD",
        "colab_type": "code",
        "outputId": "6066f485-3c92-4e56-b084-0f02dfa3d0ba",
        "colab": {
          "base_uri": "https://localhost:8080/",
          "height": 261
        }
      },
      "source": [
        "sample.select('Location Description').distinct().show()"
      ],
      "execution_count": 0,
      "outputs": [
        {
          "output_type": "stream",
          "text": [
            "+--------------------+\n",
            "|Location Description|\n",
            "+--------------------+\n",
            "|           RESIDENCE|\n",
            "|               OTHER|\n",
            "|         HOTEL/MOTEL|\n",
            "|                null|\n",
            "|           APARTMENT|\n",
            "|            SIDEWALK|\n",
            "|PARKING LOT/GARAG...|\n",
            "|    RESIDENCE-GARAGE|\n",
            "+--------------------+\n",
            "\n"
          ],
          "name": "stdout"
        }
      ]
    },
    {
      "cell_type": "code",
      "metadata": {
        "id": "CiPG5TKu7uc7",
        "colab_type": "code",
        "colab": {}
      },
      "source": [
        "from pyspark.sql.functions import col"
      ],
      "execution_count": 0,
      "outputs": []
    },
    {
      "cell_type": "code",
      "metadata": {
        "id": "mbKxXK5K69zf",
        "colab_type": "code",
        "colab": {}
      },
      "source": [
        "sample=sample.withColumn('something',F.when(col('Location Description')=='OTHER','Someplace').when(col('Location Description')!='OTHER','I know'))"
      ],
      "execution_count": 0,
      "outputs": []
    },
    {
      "cell_type": "code",
      "metadata": {
        "id": "qScyHOxd7sx6",
        "colab_type": "code",
        "outputId": "6608fbd2-fc24-4648-8ce9-0dc62d04b59d",
        "colab": {
          "base_uri": "https://localhost:8080/",
          "height": 487
        }
      },
      "source": [
        "sample.select(col('Location Description'),col('something')).show()"
      ],
      "execution_count": 0,
      "outputs": [
        {
          "output_type": "stream",
          "text": [
            "+--------------------+---------+\n",
            "|Location Description|something|\n",
            "+--------------------+---------+\n",
            "|           RESIDENCE|   I know|\n",
            "|           RESIDENCE|   I know|\n",
            "|               OTHER|Someplace|\n",
            "|           RESIDENCE|   I know|\n",
            "|         HOTEL/MOTEL|   I know|\n",
            "|           RESIDENCE|   I know|\n",
            "|           RESIDENCE|   I know|\n",
            "|           RESIDENCE|   I know|\n",
            "|           RESIDENCE|   I know|\n",
            "|                null|     null|\n",
            "|           APARTMENT|   I know|\n",
            "|           APARTMENT|   I know|\n",
            "|           RESIDENCE|   I know|\n",
            "|            SIDEWALK|   I know|\n",
            "|           APARTMENT|   I know|\n",
            "|               OTHER|Someplace|\n",
            "|PARKING LOT/GARAG...|   I know|\n",
            "|           RESIDENCE|   I know|\n",
            "|           RESIDENCE|   I know|\n",
            "|    RESIDENCE-GARAGE|   I know|\n",
            "+--------------------+---------+\n",
            "\n"
          ],
          "name": "stdout"
        }
      ]
    },
    {
      "cell_type": "code",
      "metadata": {
        "id": "8Wmm3b9J76qx",
        "colab_type": "code",
        "outputId": "03a94e1f-83f6-494a-e5ff-187921c35cd6",
        "colab": {
          "base_uri": "https://localhost:8080/",
          "height": 150
        }
      },
      "source": [
        "sample.select('*').where(col('Location Description').isNull()).show()"
      ],
      "execution_count": 0,
      "outputs": [
        {
          "output_type": "stream",
          "text": [
            "+--------+-----------+--------------------+--------------------+----+------------------+--------------------+--------------------+------+--------+----+--------+----+--------------+--------+------------+------------+----+--------------------+--------+---------+--------+---------+\n",
            "|      ID|Case Number|                Date|               Block|IUCR|      Primary Type|         Description|Location Description|Arrest|Domestic|Beat|District|Ward|Community Area|FBI Code|X Coordinate|Y Coordinate|Year|          Updated On|Latitude|Longitude|Location|something|\n",
            "+--------+-----------+--------------------+--------------------+----+------------------+--------------------+--------------------+------+--------+----+--------+----+--------------+--------+------------+------------+----+--------------------+--------+---------+--------+---------+\n",
            "|11227633|   JB147500|12/28/2017 03:55:...|011XX S MICHIGAN AVE|1153|DECEPTIVE PRACTICE|FINANCIAL IDENTIT...|                null| false|   false|0123|     001|   2|            32|      11|        null|        null|2017|02/11/2018 03:57:...|    null|     null|    null|     null|\n",
            "+--------+-----------+--------------------+--------------------+----+------------------+--------------------+--------------------+------+--------+----+--------+----+--------------+--------+------------+------------+----+--------------------+--------+---------+--------+---------+\n",
            "\n"
          ],
          "name": "stdout"
        }
      ]
    },
    {
      "cell_type": "code",
      "metadata": {
        "id": "4Lg4b6pj8R5q",
        "colab_type": "code",
        "colab": {}
      },
      "source": [
        "from pyspark.sql.functions import monotonically_increasing_id\n",
        "\n",
        "sample=sample.withColumn('ID',monotonically_increasing_id())"
      ],
      "execution_count": 0,
      "outputs": []
    },
    {
      "cell_type": "code",
      "metadata": {
        "id": "u-_U6tkVErKN",
        "colab_type": "code",
        "outputId": "ae85eddd-a93e-4967-bc41-5ed044b32768",
        "colab": {
          "base_uri": "https://localhost:8080/",
          "height": 338
        }
      },
      "source": [
        "sample.orderBy(sample.ID.desc()).show(10)"
      ],
      "execution_count": 0,
      "outputs": [
        {
          "output_type": "stream",
          "text": [
            "+---+-----------+--------------------+--------------------+----+--------------------+--------------------+--------------------+------+--------+----+--------+----+--------------+--------+------------+------------+----+--------------------+--------+---------+--------+---------+\n",
            "| ID|Case Number|                Date|               Block|IUCR|        Primary Type|         Description|Location Description|Arrest|Domestic|Beat|District|Ward|Community Area|FBI Code|X Coordinate|Y Coordinate|Year|          Updated On|Latitude|Longitude|Location|something|\n",
            "+---+-----------+--------------------+--------------------+----+--------------------+--------------------+--------------------+------+--------+----+--------+----+--------------+--------+------------+------------+----+--------------------+--------+---------+--------+---------+\n",
            "| 19|   JA375398|07/29/2017 10:00:...|022XX W WINNEMAC AVE|0810|               THEFT|           OVER $500|    RESIDENCE-GARAGE| false|   false|2031|     020|  47|             4|      06|        null|        null|2017|08/05/2017 03:50:...|    null|     null|    null|   I know|\n",
            "| 18|   JA360134|05/30/2015 12:00:...| 074XX S HARVARD AVE|1753|OFFENSE INVOLVING...|SEX ASSLT OF CHIL...|           RESIDENCE| false|    true|0731|     007|  17|            69|      02|        null|        null|2015|05/22/2018 04:05:...|    null|     null|    null|   I know|\n",
            "| 17|   JA360073|05/30/2015 12:00:...| 074XX S HARVARD AVE|1753|OFFENSE INVOLVING...|SEX ASSLT OF CHIL...|           RESIDENCE| false|    true|0731|     007|  17|            69|      02|        null|        null|2015|05/15/2018 03:52:...|    null|     null|    null|   I know|\n",
            "| 16|   JA359834|10/15/2014 03:00:...|  047XX S PULASKI RD|1153|  DECEPTIVE PRACTICE|FINANCIAL IDENTIT...|PARKING LOT/GARAG...| false|   false|0821|     008|  14|            57|      11|        null|        null|2014|07/24/2017 03:54:...|    null|     null|    null|   I know|\n",
            "| 15|   JB147329|10/14/2017 12:01:...|037XX N SOUTHPORT...|1150|  DECEPTIVE PRACTICE|   CREDIT CARD FRAUD|               OTHER| false|   false|1922|     019|  44|             6|      11|        null|        null|2017|02/22/2018 03:56:...|    null|     null|    null|Someplace|\n",
            "| 14|   JB146413|01/22/2017 12:01:...|079XX S JEFFERY BLVD|1752|OFFENSE INVOLVING...|AGG CRIM SEX ABUS...|           APARTMENT| false|   false|0414|     004|   8|            46|      20|        null|        null|2017|02/11/2018 03:57:...|    null|     null|    null|   I know|\n",
            "| 13|   JA370282|07/29/2017 03:40:...|   014XX W Devon Ave|0820|               THEFT|      $500 AND UNDER|            SIDEWALK| false|   false|2432|     024|  40|             1|      06|        null|        null|2017|08/05/2017 03:50:...|    null|     null|    null|   I know|\n",
            "| 12|   JB147078|01/01/2012 09:00:...|105XX S INDIANAPO...|1153|  DECEPTIVE PRACTICE|FINANCIAL IDENTIT...|           RESIDENCE| false|   false|0432|     004|  10|            52|      11|        null|        null|2012|02/11/2018 03:57:...|    null|     null|    null|   I know|\n",
            "| 11|   JB147314|11/22/2017 02:42:...|056XX N CHRISTIAN...|2826|       OTHER OFFENSE|HARASSMENT BY ELE...|           APARTMENT| false|    true|1711|     017|  39|            13|      26|        null|        null|2017|02/11/2018 03:57:...|    null|     null|    null|   I know|\n",
            "| 10|   JB147613|02/10/2017 12:00:...|089XX S COTTAGE G...|1310|     CRIMINAL DAMAGE|         TO PROPERTY|           APARTMENT| false|   false|0633|     006|   8|            44|      14|        null|        null|2017|02/11/2018 03:57:...|    null|     null|    null|   I know|\n",
            "+---+-----------+--------------------+--------------------+----+--------------------+--------------------+--------------------+------+--------+----+--------+----+--------------+--------+------------+------------+----+--------------------+--------+---------+--------+---------+\n",
            "only showing top 10 rows\n",
            "\n"
          ],
          "name": "stdout"
        }
      ]
    },
    {
      "cell_type": "code",
      "metadata": {
        "id": "_dKvldWkEzjU",
        "colab_type": "code",
        "outputId": "304a2b95-3eb1-4863-9593-bbbfbda31658",
        "colab": {
          "base_uri": "https://localhost:8080/",
          "height": 338
        }
      },
      "source": [
        "sample.orderBy(sample.ID,ascending=False).show(10)"
      ],
      "execution_count": 0,
      "outputs": [
        {
          "output_type": "stream",
          "text": [
            "+---+-----------+--------------------+--------------------+----+--------------------+--------------------+--------------------+------+--------+----+--------+----+--------------+--------+------------+------------+----+--------------------+--------+---------+--------+---------+\n",
            "| ID|Case Number|                Date|               Block|IUCR|        Primary Type|         Description|Location Description|Arrest|Domestic|Beat|District|Ward|Community Area|FBI Code|X Coordinate|Y Coordinate|Year|          Updated On|Latitude|Longitude|Location|something|\n",
            "+---+-----------+--------------------+--------------------+----+--------------------+--------------------+--------------------+------+--------+----+--------+----+--------------+--------+------------+------------+----+--------------------+--------+---------+--------+---------+\n",
            "| 19|   JA375398|07/29/2017 10:00:...|022XX W WINNEMAC AVE|0810|               THEFT|           OVER $500|    RESIDENCE-GARAGE| false|   false|2031|     020|  47|             4|      06|        null|        null|2017|08/05/2017 03:50:...|    null|     null|    null|   I know|\n",
            "| 18|   JA360134|05/30/2015 12:00:...| 074XX S HARVARD AVE|1753|OFFENSE INVOLVING...|SEX ASSLT OF CHIL...|           RESIDENCE| false|    true|0731|     007|  17|            69|      02|        null|        null|2015|05/22/2018 04:05:...|    null|     null|    null|   I know|\n",
            "| 17|   JA360073|05/30/2015 12:00:...| 074XX S HARVARD AVE|1753|OFFENSE INVOLVING...|SEX ASSLT OF CHIL...|           RESIDENCE| false|    true|0731|     007|  17|            69|      02|        null|        null|2015|05/15/2018 03:52:...|    null|     null|    null|   I know|\n",
            "| 16|   JA359834|10/15/2014 03:00:...|  047XX S PULASKI RD|1153|  DECEPTIVE PRACTICE|FINANCIAL IDENTIT...|PARKING LOT/GARAG...| false|   false|0821|     008|  14|            57|      11|        null|        null|2014|07/24/2017 03:54:...|    null|     null|    null|   I know|\n",
            "| 15|   JB147329|10/14/2017 12:01:...|037XX N SOUTHPORT...|1150|  DECEPTIVE PRACTICE|   CREDIT CARD FRAUD|               OTHER| false|   false|1922|     019|  44|             6|      11|        null|        null|2017|02/22/2018 03:56:...|    null|     null|    null|Someplace|\n",
            "| 14|   JB146413|01/22/2017 12:01:...|079XX S JEFFERY BLVD|1752|OFFENSE INVOLVING...|AGG CRIM SEX ABUS...|           APARTMENT| false|   false|0414|     004|   8|            46|      20|        null|        null|2017|02/11/2018 03:57:...|    null|     null|    null|   I know|\n",
            "| 13|   JA370282|07/29/2017 03:40:...|   014XX W Devon Ave|0820|               THEFT|      $500 AND UNDER|            SIDEWALK| false|   false|2432|     024|  40|             1|      06|        null|        null|2017|08/05/2017 03:50:...|    null|     null|    null|   I know|\n",
            "| 12|   JB147078|01/01/2012 09:00:...|105XX S INDIANAPO...|1153|  DECEPTIVE PRACTICE|FINANCIAL IDENTIT...|           RESIDENCE| false|   false|0432|     004|  10|            52|      11|        null|        null|2012|02/11/2018 03:57:...|    null|     null|    null|   I know|\n",
            "| 11|   JB147314|11/22/2017 02:42:...|056XX N CHRISTIAN...|2826|       OTHER OFFENSE|HARASSMENT BY ELE...|           APARTMENT| false|    true|1711|     017|  39|            13|      26|        null|        null|2017|02/11/2018 03:57:...|    null|     null|    null|   I know|\n",
            "| 10|   JB147613|02/10/2017 12:00:...|089XX S COTTAGE G...|1310|     CRIMINAL DAMAGE|         TO PROPERTY|           APARTMENT| false|   false|0633|     006|   8|            44|      14|        null|        null|2017|02/11/2018 03:57:...|    null|     null|    null|   I know|\n",
            "+---+-----------+--------------------+--------------------+----+--------------------+--------------------+--------------------+------+--------+----+--------+----+--------------+--------+------------+------------+----+--------------------+--------+---------+--------+---------+\n",
            "only showing top 10 rows\n",
            "\n"
          ],
          "name": "stdout"
        }
      ]
    },
    {
      "cell_type": "code",
      "metadata": {
        "id": "2XGv80QME5TD",
        "colab_type": "code",
        "colab": {}
      },
      "source": [
        ""
      ],
      "execution_count": 0,
      "outputs": []
    },
    {
      "cell_type": "code",
      "metadata": {
        "id": "0fGnq0RfE1vT",
        "colab_type": "code",
        "colab": {}
      },
      "source": [
        ""
      ],
      "execution_count": 0,
      "outputs": []
    }
  ]
}
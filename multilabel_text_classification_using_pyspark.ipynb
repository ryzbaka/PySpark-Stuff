{
  "nbformat": 4,
  "nbformat_minor": 0,
  "metadata": {
    "colab": {
      "name": "multilabel_text_classification_using_pyspark.ipynb",
      "provenance": []
    },
    "kernelspec": {
      "name": "python3",
      "display_name": "Python 3"
    }
  },
  "cells": [
    {
      "cell_type": "code",
      "metadata": {
        "id": "ajpyZRO5DOTa",
        "colab_type": "code",
        "outputId": "76a67c93-db8f-46d8-8116-556c3dd95557",
        "colab": {
          "base_uri": "https://localhost:8080/",
          "height": 704
        }
      },
      "source": [
        "!apt-get update\n",
        "!apt-get install openjdk-8-jdk-headless -qq > /dev/null\n",
        "!wget -q http://archive.apache.org/dist/spark/spark-2.3.1/spark-2.3.1-bin-hadoop2.7.tgz\n",
        "!tar xf spark-2.3.1-bin-hadoop2.7.tgz\n",
        "!pip install -q findspark\n",
        "import os\n",
        "os.environ[\"JAVA_HOME\"] = \"/usr/lib/jvm/java-8-openjdk-amd64\"\n",
        "os.environ[\"SPARK_HOME\"] = \"/content/spark-2.3.1-bin-hadoop2.7\"\n",
        "import findspark\n",
        "findspark.init()\n",
        "from pyspark.sql import SparkSession\n",
        "spark=SparkSession.builder.getOrCreate()\n",
        "!wget https://data.cityofchicago.org/api/views/ijzp-q8t2/rows.csv?accessType=DOWNLOAD\n",
        "!mv rows.csv\\?accessType\\=DOWNLOAD reported_crimes.csv\n",
        "import os\n",
        "os.environ[\"JAVA_HOME\"] = \"/usr/lib/jvm/java-8-openjdk-amd64\"\n",
        "os.environ[\"SPARK_HOME\"] = \"/content/spark-2.3.1-bin-hadoop2.7\"\n",
        "import findspark\n",
        "findspark.init()"
      ],
      "execution_count": 1,
      "outputs": [
        {
          "output_type": "stream",
          "text": [
            "\r0% [Working]\r            \rGet:1 https://cloud.r-project.org/bin/linux/ubuntu bionic-cran35/ InRelease [3,626 B]\n",
            "\r0% [Connecting to archive.ubuntu.com (91.189.88.142)] [Waiting for headers] [1 \r0% [Connecting to archive.ubuntu.com (91.189.88.142)] [Waiting for headers] [Wa\r0% [1 InRelease gpgv 3,626 B] [Connecting to archive.ubuntu.com (91.189.88.142)\r                                                                               \rIgn:2 https://developer.download.nvidia.com/compute/cuda/repos/ubuntu1804/x86_64  InRelease\n",
            "\r0% [1 InRelease gpgv 3,626 B] [Connecting to archive.ubuntu.com (91.189.88.142)\r                                                                               \rIgn:3 https://developer.download.nvidia.com/compute/machine-learning/repos/ubuntu1804/x86_64  InRelease\n",
            "\r0% [1 InRelease gpgv 3,626 B] [Connecting to archive.ubuntu.com (91.189.88.142)\r                                                                               \rGet:4 http://security.ubuntu.com/ubuntu bionic-security InRelease [88.7 kB]\n",
            "\r0% [1 InRelease gpgv 3,626 B] [Waiting for headers] [4 InRelease 2,586 B/88.7 k\r                                                                               \rHit:5 https://developer.download.nvidia.com/compute/cuda/repos/ubuntu1804/x86_64  Release\n",
            "\r0% [1 InRelease gpgv 3,626 B] [Waiting for headers] [4 InRelease 2,586 B/88.7 k\r                                                                               \rGet:6 https://developer.download.nvidia.com/compute/machine-learning/repos/ubuntu1804/x86_64  Release [564 B]\n",
            "\r0% [1 InRelease gpgv 3,626 B] [Waiting for headers] [4 InRelease 5,482 B/88.7 k\r0% [1 InRelease gpgv 3,626 B] [Waiting for headers] [4 InRelease 5,482 B/88.7 k\r                                                                               \rGet:7 https://developer.download.nvidia.com/compute/machine-learning/repos/ubuntu1804/x86_64  Release.gpg [833 B]\n",
            "\r0% [1 InRelease gpgv 3,626 B] [Waiting for headers] [4 InRelease 11.3 kB/88.7 k\r                                                                               \rHit:8 http://archive.ubuntu.com/ubuntu bionic InRelease\n",
            "\r0% [1 InRelease gpgv 3,626 B] [Waiting for headers] [4 InRelease 40.2 kB/88.7 k\r                                                                               \rHit:9 http://ppa.launchpad.net/graphics-drivers/ppa/ubuntu bionic InRelease\n",
            "\r0% [1 InRelease gpgv 3,626 B] [Waiting for headers] [4 InRelease 43.1 kB/88.7 k\r0% [Waiting for headers] [4 InRelease 72.1 kB/88.7 kB 81%] [Connecting to ppa.l\r0% [Release.gpg gpgv 564 B] [Waiting for headers] [4 InRelease 72.1 kB/88.7 kB \r0% [Release.gpg gpgv 564 B] [Waiting for headers] [Waiting for headers] [Connec\r                                                                               \rGet:10 https://cloud.r-project.org/bin/linux/ubuntu bionic-cran35/ Packages [87.7 kB]\n",
            "\r0% [Release.gpg gpgv 564 B] [Waiting for headers] [10 Packages 15.9 kB/87.7 kB \r0% [Release.gpg gpgv 564 B] [Waiting for headers] [Connecting to ppa.launchpad.\r0% [10 Packages store 0 B] [Release.gpg gpgv 564 B] [Waiting for headers] [Conn\r                                                                               \rGet:11 http://archive.ubuntu.com/ubuntu bionic-updates InRelease [88.7 kB]\n",
            "\r0% [10 Packages store 0 B] [Release.gpg gpgv 564 B] [11 InRelease 2,602 B/88.7 \r0% [Release.gpg gpgv 564 B] [11 InRelease 2,602 B/88.7 kB 3%] [Waiting for head\r                                                                               \r0% [11 InRelease 15.6 kB/88.7 kB 18%] [Waiting for headers]\r0% [7 Release.gpg gpgv 564 B] [11 InRelease 15.6 kB/88.7 kB 18%] [Waiting for h\r                                                                               \rGet:13 http://ppa.launchpad.net/marutter/c2d4u3.5/ubuntu bionic InRelease [15.4 kB]\n",
            "\r0% [7 Release.gpg gpgv 564 B] [11 InRelease 18.5 kB/88.7 kB 21%] [13 InRelease \r                                                                               \r0% [7 Release.gpg gpgv 564 B] [11 InRelease 21.4 kB/88.7 kB 24%]\r                                                                \r0% [11 InRelease 46.0 kB/88.7 kB 52%]\r0% [8 InRelease gpgv 242 kB] [11 InRelease 46.0 kB/88.7 kB 52%] [Waiting for he\r                                                                               \rGet:14 https://developer.download.nvidia.com/compute/machine-learning/repos/ubuntu1804/x86_64  Packages [31.7 kB]\n",
            "\r0% [8 InRelease gpgv 242 kB] [11 InRelease 50.4 kB/88.7 kB 57%] [14 Packages 0 \r                                                                               \r0% [8 InRelease gpgv 242 kB] [11 InRelease 50.4 kB/88.7 kB 57%]\r0% [14 Packages store 0 B] [8 InRelease gpgv 242 kB] [11 InRelease 50.4 kB/88.7\r                                                                               \r0% [8 InRelease gpgv 242 kB] [11 InRelease 50.4 kB/88.7 kB 57%]\r                                                               \r0% [8 InRelease gpgv 242 kB]\r                            \r0% [Waiting for headers]\r0% [9 InRelease gpgv 21.3 kB] [Waiting for headers]\r                                                   \rGet:15 http://archive.ubuntu.com/ubuntu bionic-backports InRelease [74.6 kB]\n",
            "\r0% [9 InRelease gpgv 21.3 kB] [15 InRelease 2,602 B/74.6 kB 3%]\r                                                               \r0% [9 InRelease gpgv 21.3 kB]\r                             \r0% [Working]\r0% [4 InRelease gpgv 88.7 kB]\r                             \r0% [Working]\r0% [13 InRelease gpgv 15.4 kB] [Waiting for headers]\r                                                    \rGet:16 http://security.ubuntu.com/ubuntu bionic-security/main amd64 Packages [870 kB]\n",
            "\r0% [13 InRelease gpgv 15.4 kB] [16 Packages 2,687 B/870 kB 0%]\r                                                              \r0% [16 Packages 165 kB/870 kB 19%]\r0% [11 InRelease gpgv 88.7 kB] [16 Packages 165 kB/870 kB 19%] [Connecting to p\r                                                                               \r0% [11 InRelease gpgv 88.7 kB] [Waiting for headers]\r0% [16 Packages store 0 B] [11 InRelease gpgv 88.7 kB] [Waiting for headers]\r                                                                            \r0% [16 Packages store 0 B] [Waiting for headers] [Waiting for headers]\r                                                                      \rGet:17 http://security.ubuntu.com/ubuntu bionic-security/restricted amd64 Packages [37.0 kB]\n",
            "Get:18 http://security.ubuntu.com/ubuntu bionic-security/universe amd64 Packages [835 kB]\n",
            "Get:19 http://ppa.launchpad.net/marutter/c2d4u3.5/ubuntu bionic/main Sources [1,793 kB]\n",
            "Get:20 http://archive.ubuntu.com/ubuntu bionic-updates/multiverse amd64 Packages [12.2 kB]\n",
            "Get:21 http://archive.ubuntu.com/ubuntu bionic-updates/restricted amd64 Packages [50.4 kB]\n",
            "Get:22 http://archive.ubuntu.com/ubuntu bionic-updates/main amd64 Packages [1,161 kB]\n",
            "Get:23 http://archive.ubuntu.com/ubuntu bionic-updates/universe amd64 Packages [1,367 kB]\n",
            "Get:24 http://archive.ubuntu.com/ubuntu bionic-backports/universe amd64 Packages [4,247 B]\n",
            "Get:25 http://ppa.launchpad.net/marutter/c2d4u3.5/ubuntu bionic/main amd64 Packages [865 kB]\n",
            "Fetched 7,386 kB in 4s (1,900 kB/s)\n",
            "Reading package lists... Done\n",
            "--2020-04-03 21:08:58--  https://data.cityofchicago.org/api/views/ijzp-q8t2/rows.csv?accessType=DOWNLOAD\n",
            "Resolving data.cityofchicago.org (data.cityofchicago.org)... 52.206.140.205, 52.206.140.199, 52.206.68.26\n",
            "Connecting to data.cityofchicago.org (data.cityofchicago.org)|52.206.140.205|:443... connected.\n",
            "HTTP request sent, awaiting response... 200 OK\n",
            "Length: unspecified [text/csv]\n",
            "Saving to: ‘rows.csv?accessType=DOWNLOAD’\n",
            "\n",
            "rows.csv?accessType     [                <=> ]   1.56G  3.07MB/s    in 8m 9s   \n",
            "\n",
            "2020-04-03 21:17:07 (3.26 MB/s) - ‘rows.csv?accessType=DOWNLOAD’ saved [1673728306]\n",
            "\n"
          ],
          "name": "stdout"
        }
      ]
    },
    {
      "cell_type": "code",
      "metadata": {
        "id": "vtG7n_39DQFd",
        "colab_type": "code",
        "outputId": "b5254234-609a-4129-97c6-39240f8bcc28",
        "colab": {
          "base_uri": "https://localhost:8080/",
          "height": 223
        }
      },
      "source": [
        "spark"
      ],
      "execution_count": 2,
      "outputs": [
        {
          "output_type": "execute_result",
          "data": {
            "text/html": [
              "\n",
              "            <div>\n",
              "                <p><b>SparkSession - in-memory</b></p>\n",
              "                \n",
              "        <div>\n",
              "            <p><b>SparkContext</b></p>\n",
              "\n",
              "            <p><a href=\"http://0007a7114d88:4040\">Spark UI</a></p>\n",
              "\n",
              "            <dl>\n",
              "              <dt>Version</dt>\n",
              "                <dd><code>v2.3.1</code></dd>\n",
              "              <dt>Master</dt>\n",
              "                <dd><code>local[*]</code></dd>\n",
              "              <dt>AppName</dt>\n",
              "                <dd><code>pyspark-shell</code></dd>\n",
              "            </dl>\n",
              "        </div>\n",
              "        \n",
              "            </div>\n",
              "        "
            ],
            "text/plain": [
              "<pyspark.sql.session.SparkSession at 0x7f52f11586a0>"
            ]
          },
          "metadata": {
            "tags": []
          },
          "execution_count": 2
        }
      ]
    },
    {
      "cell_type": "code",
      "metadata": {
        "id": "4AKAdzChIuU1",
        "colab_type": "code",
        "colab": {}
      },
      "source": [
        "df=spark.read.csv('multilabel_train.csv',inferSchema=True,header=True)"
      ],
      "execution_count": 0,
      "outputs": []
    },
    {
      "cell_type": "code",
      "metadata": {
        "id": "24iO15ZwI5UO",
        "colab_type": "code",
        "outputId": "c91ec16d-c1ba-40fa-b330-1b054f210342",
        "colab": {
          "base_uri": "https://localhost:8080/",
          "height": 221
        }
      },
      "source": [
        "df.show(5)"
      ],
      "execution_count": 5,
      "outputs": [
        {
          "output_type": "stream",
          "text": [
            "+--------------------+--------------------+-----+------------+-------+------+------+-------------+\n",
            "|                  id|        comment_text|toxic|severe_toxic|obscene|threat|insult|identity_hate|\n",
            "+--------------------+--------------------+-----+------------+-------+------+------+-------------+\n",
            "|    0000997932d777bf|         Explanation| null|        null|   null|  null|  null|         null|\n",
            "|Why the edits mad...| just closure on ...|    0|           0|      0|     0|     0|            0|\n",
            "|    000103f0d9cfb60f|D'aww! He matches...|    0|           0|      0|     0|     0|            0|\n",
            "|    000113f07ec002fd|Hey man, I'm real...|    0|           0|      0|     0|     0|            0|\n",
            "|    0001b41b1c6bb37e|                   \"| null|        null|   null|  null|  null|         null|\n",
            "+--------------------+--------------------+-----+------------+-------+------+------+-------------+\n",
            "only showing top 5 rows\n",
            "\n"
          ],
          "name": "stdout"
        }
      ]
    },
    {
      "cell_type": "code",
      "metadata": {
        "id": "NzxBnyQ1I-f7",
        "colab_type": "code",
        "outputId": "31d47618-bd80-47a9-ee1b-34c9672a84cd",
        "colab": {
          "base_uri": "https://localhost:8080/",
          "height": 221
        }
      },
      "source": [
        "import pyspark.sql.functions as F\n",
        "df=df.withColumn('idlength',F.length(F.col('id')))\n",
        "df=df.na.drop()\n",
        "df.show(5)"
      ],
      "execution_count": 7,
      "outputs": [
        {
          "output_type": "stream",
          "text": [
            "+--------------------+--------------------+-----+------------+-------+------+------+-------------+--------+\n",
            "|                  id|        comment_text|toxic|severe_toxic|obscene|threat|insult|identity_hate|idlength|\n",
            "+--------------------+--------------------+-----+------------+-------+------+------+-------------+--------+\n",
            "|Why the edits mad...| just closure on ...|    0|           0|      0|     0|     0|            0|      98|\n",
            "|    000103f0d9cfb60f|D'aww! He matches...|    0|           0|      0|     0|     0|            0|      16|\n",
            "|    000113f07ec002fd|Hey man, I'm real...|    0|           0|      0|     0|     0|            0|      16|\n",
            "|    0001d958c54c6e35|You, sir, are my ...|    0|           0|      0|     0|     0|            0|      16|\n",
            "|Congratulations f...| use the tools we...|    0|           0|      0|     0|     0|            0|      31|\n",
            "+--------------------+--------------------+-----+------------+-------+------+------+-------------+--------+\n",
            "only showing top 5 rows\n",
            "\n"
          ],
          "name": "stdout"
        }
      ]
    },
    {
      "cell_type": "code",
      "metadata": {
        "id": "0kExSUjnJvUF",
        "colab_type": "code",
        "colab": {}
      },
      "source": [
        "df=df.where(F.col('idlength')==16)"
      ],
      "execution_count": 0,
      "outputs": []
    },
    {
      "cell_type": "code",
      "metadata": {
        "id": "Rp6PUPkPJ1RN",
        "colab_type": "code",
        "outputId": "eb3700fc-f665-4771-969d-209b37d57d52",
        "colab": {
          "base_uri": "https://localhost:8080/",
          "height": 314
        }
      },
      "source": [
        "df.show(10)"
      ],
      "execution_count": 9,
      "outputs": [
        {
          "output_type": "stream",
          "text": [
            "+----------------+--------------------+-----+------------+-------+------+------+-------------+--------+\n",
            "|              id|        comment_text|toxic|severe_toxic|obscene|threat|insult|identity_hate|idlength|\n",
            "+----------------+--------------------+-----+------------+-------+------+------+-------------+--------+\n",
            "|000103f0d9cfb60f|D'aww! He matches...|    0|           0|      0|     0|     0|            0|      16|\n",
            "|000113f07ec002fd|Hey man, I'm real...|    0|           0|      0|     0|     0|            0|      16|\n",
            "|0001d958c54c6e35|You, sir, are my ...|    0|           0|      0|     0|     0|            0|      16|\n",
            "|0002bcb3da6cb337|COCKSUCKER BEFORE...|    1|           1|      1|     0|     1|            0|      16|\n",
            "|00031b1e95af7921|Your vandalism to...|    0|           0|      0|     0|     0|            0|      16|\n",
            "|00037261f536c51d|Sorry if the word...|    0|           0|      0|     0|     0|            0|      16|\n",
            "|00040093b2687caa|alignment on this...|    0|           0|      0|     0|     0|            0|      16|\n",
            "|00070ef96486d6f9|Oh, and the girl ...|    0|           0|      0|     0|     0|            0|      16|\n",
            "|000897889268bc93|REDIRECT Talk:Voy...|    0|           0|      0|     0|     0|            0|      16|\n",
            "|0009801bd85e5806|The Mitsurugi poi...|    0|           0|      0|     0|     0|            0|      16|\n",
            "+----------------+--------------------+-----+------------+-------+------+------+-------------+--------+\n",
            "only showing top 10 rows\n",
            "\n"
          ],
          "name": "stdout"
        }
      ]
    },
    {
      "cell_type": "code",
      "metadata": {
        "id": "jV-exmZPSNDc",
        "colab_type": "code",
        "colab": {}
      },
      "source": [
        "df=df.drop('words')"
      ],
      "execution_count": 0,
      "outputs": []
    },
    {
      "cell_type": "code",
      "metadata": {
        "id": "PiSch4nuSOv0",
        "colab_type": "code",
        "outputId": "f7d39721-3a07-4c09-d9d3-7d947ad96fc0",
        "colab": {
          "base_uri": "https://localhost:8080/",
          "height": 314
        }
      },
      "source": [
        "df.show(10)"
      ],
      "execution_count": 11,
      "outputs": [
        {
          "output_type": "stream",
          "text": [
            "+----------------+--------------------+-----+------------+-------+------+------+-------------+--------+\n",
            "|              id|        comment_text|toxic|severe_toxic|obscene|threat|insult|identity_hate|idlength|\n",
            "+----------------+--------------------+-----+------------+-------+------+------+-------------+--------+\n",
            "|000103f0d9cfb60f|D'aww! He matches...|    0|           0|      0|     0|     0|            0|      16|\n",
            "|000113f07ec002fd|Hey man, I'm real...|    0|           0|      0|     0|     0|            0|      16|\n",
            "|0001d958c54c6e35|You, sir, are my ...|    0|           0|      0|     0|     0|            0|      16|\n",
            "|0002bcb3da6cb337|COCKSUCKER BEFORE...|    1|           1|      1|     0|     1|            0|      16|\n",
            "|00031b1e95af7921|Your vandalism to...|    0|           0|      0|     0|     0|            0|      16|\n",
            "|00037261f536c51d|Sorry if the word...|    0|           0|      0|     0|     0|            0|      16|\n",
            "|00040093b2687caa|alignment on this...|    0|           0|      0|     0|     0|            0|      16|\n",
            "|00070ef96486d6f9|Oh, and the girl ...|    0|           0|      0|     0|     0|            0|      16|\n",
            "|000897889268bc93|REDIRECT Talk:Voy...|    0|           0|      0|     0|     0|            0|      16|\n",
            "|0009801bd85e5806|The Mitsurugi poi...|    0|           0|      0|     0|     0|            0|      16|\n",
            "+----------------+--------------------+-----+------------+-------+------+------+-------------+--------+\n",
            "only showing top 10 rows\n",
            "\n"
          ],
          "name": "stdout"
        }
      ]
    },
    {
      "cell_type": "code",
      "metadata": {
        "id": "ctdnodvqSPox",
        "colab_type": "code",
        "colab": {}
      },
      "source": [
        "df=df.drop('idlength')\n",
        "import pyspark.sql.functions as F\n",
        "df=df.where(F.length('comment_text')>5)"
      ],
      "execution_count": 0,
      "outputs": []
    },
    {
      "cell_type": "code",
      "metadata": {
        "id": "F_Nj-UdJSoHH",
        "colab_type": "code",
        "colab": {}
      },
      "source": [
        "df=df.withColumn(\"lowered_text\",F.lower(F.col(\"comment_text\")))"
      ],
      "execution_count": 0,
      "outputs": []
    },
    {
      "cell_type": "code",
      "metadata": {
        "id": "JmhpG7whSZGJ",
        "colab_type": "code",
        "outputId": "e5ea6f8a-589d-42d4-babf-6b6c1bec93d1",
        "colab": {
          "base_uri": "https://localhost:8080/",
          "height": 500
        }
      },
      "source": [
        "df.show(20)"
      ],
      "execution_count": 15,
      "outputs": [
        {
          "output_type": "stream",
          "text": [
            "+----------------+--------------------+-----+------------+-------+------+------+-------------+--------------------+\n",
            "|              id|        comment_text|toxic|severe_toxic|obscene|threat|insult|identity_hate|        lowered_text|\n",
            "+----------------+--------------------+-----+------------+-------+------+------+-------------+--------------------+\n",
            "|000103f0d9cfb60f|D'aww! He matches...|    0|           0|      0|     0|     0|            0|d'aww! he matches...|\n",
            "|000113f07ec002fd|Hey man, I'm real...|    0|           0|      0|     0|     0|            0|hey man, i'm real...|\n",
            "|0001d958c54c6e35|You, sir, are my ...|    0|           0|      0|     0|     0|            0|you, sir, are my ...|\n",
            "|0002bcb3da6cb337|COCKSUCKER BEFORE...|    1|           1|      1|     0|     1|            0|cocksucker before...|\n",
            "|00031b1e95af7921|Your vandalism to...|    0|           0|      0|     0|     0|            0|your vandalism to...|\n",
            "|00037261f536c51d|Sorry if the word...|    0|           0|      0|     0|     0|            0|sorry if the word...|\n",
            "|00040093b2687caa|alignment on this...|    0|           0|      0|     0|     0|            0|alignment on this...|\n",
            "|00070ef96486d6f9|Oh, and the girl ...|    0|           0|      0|     0|     0|            0|oh, and the girl ...|\n",
            "|000897889268bc93|REDIRECT Talk:Voy...|    0|           0|      0|     0|     0|            0|redirect talk:voy...|\n",
            "|0009801bd85e5806|The Mitsurugi poi...|    0|           0|      0|     0|     0|            0|the mitsurugi poi...|\n",
            "|000f35deef84dc4a|There's no need t...|    0|           0|      0|     0|     0|            0|there's no need t...|\n",
            "|000ffab30195c5e1|Yes, because the ...|    0|           0|      0|     0|     0|            0|yes, because the ...|\n",
            "|0011cc71398479c4|How could I post ...|    0|           0|      0|     0|     0|            0|how could i post ...|\n",
            "|00128363e367d703|Not sure about a ...|    0|           0|      0|     0|     0|            0|not sure about a ...|\n",
            "|0015f4aa35ebe9b5|pretty much every...|    0|           0|      0|     0|     0|            0|pretty much every...|\n",
            "|00169857adbc989b|Hi Explicit, can ...|    0|           0|      0|     0|     0|            0|hi explicit, can ...|\n",
            "|00190820581d90ce|FUCK YOUR FILTHY ...|    1|           0|      1|     0|     1|            0|fuck your filthy ...|\n",
            "|001c419c445b5a59|You had a point, ...|    0|           0|      0|     0|     0|            0|you had a point, ...|\n",
            "|001c557175094f10|In other words, y...|    0|           0|      0|     0|     0|            0|in other words, y...|\n",
            "|001dc38a83d420cf|GET FUCKED UP. GE...|    1|           0|      1|     0|     0|            0|get fucked up. ge...|\n",
            "+----------------+--------------------+-----+------------+-------+------+------+-------------+--------------------+\n",
            "only showing top 20 rows\n",
            "\n"
          ],
          "name": "stdout"
        }
      ]
    },
    {
      "cell_type": "code",
      "metadata": {
        "id": "GW9CTaMtiK_a",
        "colab_type": "code",
        "colab": {}
      },
      "source": [
        "df=df.cache()"
      ],
      "execution_count": 0,
      "outputs": []
    },
    {
      "cell_type": "code",
      "metadata": {
        "id": "VlitFNlhiQPd",
        "colab_type": "code",
        "outputId": "0c8b77a2-f658-45c6-aa54-b185f251acd6",
        "colab": {
          "base_uri": "https://localhost:8080/",
          "height": 221
        }
      },
      "source": [
        "df.show(5)"
      ],
      "execution_count": 17,
      "outputs": [
        {
          "output_type": "stream",
          "text": [
            "+----------------+--------------------+-----+------------+-------+------+------+-------------+--------------------+\n",
            "|              id|        comment_text|toxic|severe_toxic|obscene|threat|insult|identity_hate|        lowered_text|\n",
            "+----------------+--------------------+-----+------------+-------+------+------+-------------+--------------------+\n",
            "|000103f0d9cfb60f|D'aww! He matches...|    0|           0|      0|     0|     0|            0|d'aww! he matches...|\n",
            "|000113f07ec002fd|Hey man, I'm real...|    0|           0|      0|     0|     0|            0|hey man, i'm real...|\n",
            "|0001d958c54c6e35|You, sir, are my ...|    0|           0|      0|     0|     0|            0|you, sir, are my ...|\n",
            "|0002bcb3da6cb337|COCKSUCKER BEFORE...|    1|           1|      1|     0|     1|            0|cocksucker before...|\n",
            "|00031b1e95af7921|Your vandalism to...|    0|           0|      0|     0|     0|            0|your vandalism to...|\n",
            "+----------------+--------------------+-----+------------+-------+------+------+-------------+--------------------+\n",
            "only showing top 5 rows\n",
            "\n"
          ],
          "name": "stdout"
        }
      ]
    },
    {
      "cell_type": "code",
      "metadata": {
        "id": "HQJwPrhZVZF5",
        "colab_type": "code",
        "colab": {}
      },
      "source": [
        "from pyspark.ml.feature import RegexTokenizer\n",
        "tokenizer=RegexTokenizer(inputCol='lowered_text',outputCol=\"tokens\",pattern=\"\\W+\")"
      ],
      "execution_count": 0,
      "outputs": []
    },
    {
      "cell_type": "code",
      "metadata": {
        "id": "LA6Oq1xAVs0q",
        "colab_type": "code",
        "colab": {}
      },
      "source": [
        "df=tokenizer.transform(df)"
      ],
      "execution_count": 0,
      "outputs": []
    },
    {
      "cell_type": "code",
      "metadata": {
        "id": "E8-s4AIkWMya",
        "colab_type": "code",
        "outputId": "22d41eac-540c-42bc-caed-c604e387b9a4",
        "colab": {
          "base_uri": "https://localhost:8080/",
          "height": 334
        }
      },
      "source": [
        "df.show(10)"
      ],
      "execution_count": 20,
      "outputs": [
        {
          "output_type": "stream",
          "text": [
            "+----------------+--------------------+-----+------------+-------+------+------+-------------+--------------------+--------------------+\n",
            "|              id|        comment_text|toxic|severe_toxic|obscene|threat|insult|identity_hate|        lowered_text|              tokens|\n",
            "+----------------+--------------------+-----+------------+-------+------+------+-------------+--------------------+--------------------+\n",
            "|000103f0d9cfb60f|D'aww! He matches...|    0|           0|      0|     0|     0|            0|d'aww! he matches...|[d, aww, he, matc...|\n",
            "|000113f07ec002fd|Hey man, I'm real...|    0|           0|      0|     0|     0|            0|hey man, i'm real...|[hey, man, i, m, ...|\n",
            "|0001d958c54c6e35|You, sir, are my ...|    0|           0|      0|     0|     0|            0|you, sir, are my ...|[you, sir, are, m...|\n",
            "|0002bcb3da6cb337|COCKSUCKER BEFORE...|    1|           1|      1|     0|     1|            0|cocksucker before...|[cocksucker, befo...|\n",
            "|00031b1e95af7921|Your vandalism to...|    0|           0|      0|     0|     0|            0|your vandalism to...|[your, vandalism,...|\n",
            "|00037261f536c51d|Sorry if the word...|    0|           0|      0|     0|     0|            0|sorry if the word...|[sorry, if, the, ...|\n",
            "|00040093b2687caa|alignment on this...|    0|           0|      0|     0|     0|            0|alignment on this...|[alignment, on, t...|\n",
            "|00070ef96486d6f9|Oh, and the girl ...|    0|           0|      0|     0|     0|            0|oh, and the girl ...|[oh, and, the, gi...|\n",
            "|000897889268bc93|REDIRECT Talk:Voy...|    0|           0|      0|     0|     0|            0|redirect talk:voy...|[redirect, talk, ...|\n",
            "|0009801bd85e5806|The Mitsurugi poi...|    0|           0|      0|     0|     0|            0|the mitsurugi poi...|[the, mitsurugi, ...|\n",
            "+----------------+--------------------+-----+------------+-------+------+------+-------------+--------------------+--------------------+\n",
            "only showing top 10 rows\n",
            "\n"
          ],
          "name": "stdout"
        }
      ]
    },
    {
      "cell_type": "code",
      "metadata": {
        "id": "_nbXDHCrv6iL",
        "colab_type": "code",
        "outputId": "6289227c-4f34-4393-9f2b-ac8ddc6bf74a",
        "colab": {
          "base_uri": "https://localhost:8080/",
          "height": 258
        }
      },
      "source": [
        "df.printSchema()"
      ],
      "execution_count": 21,
      "outputs": [
        {
          "output_type": "stream",
          "text": [
            "root\n",
            " |-- id: string (nullable = true)\n",
            " |-- comment_text: string (nullable = true)\n",
            " |-- toxic: string (nullable = true)\n",
            " |-- severe_toxic: string (nullable = true)\n",
            " |-- obscene: string (nullable = true)\n",
            " |-- threat: string (nullable = true)\n",
            " |-- insult: string (nullable = true)\n",
            " |-- identity_hate: string (nullable = true)\n",
            " |-- lowered_text: string (nullable = true)\n",
            " |-- tokens: array (nullable = true)\n",
            " |    |-- element: string (containsNull = true)\n",
            "\n"
          ],
          "name": "stdout"
        }
      ]
    },
    {
      "cell_type": "code",
      "metadata": {
        "id": "s7sTFnpeWOBL",
        "colab_type": "code",
        "colab": {}
      },
      "source": [
        "from pyspark.ml.feature import CountVectorizer\n",
        "vectorizer=CountVectorizer(inputCol=\"tokens\",outputCol=\"countvectorized\")"
      ],
      "execution_count": 0,
      "outputs": []
    },
    {
      "cell_type": "code",
      "metadata": {
        "id": "mOjmq24vwNAq",
        "colab_type": "code",
        "colab": {}
      },
      "source": [
        "df=df.na.drop()"
      ],
      "execution_count": 0,
      "outputs": []
    },
    {
      "cell_type": "code",
      "metadata": {
        "id": "O-N5uyt3js8S",
        "colab_type": "code",
        "outputId": "796220c7-3032-436d-c4cc-444f8bd2d681",
        "colab": {
          "base_uri": "https://localhost:8080/",
          "height": 705
        }
      },
      "source": [
        "df.show(30)"
      ],
      "execution_count": 24,
      "outputs": [
        {
          "output_type": "stream",
          "text": [
            "+----------------+--------------------+-----+------------+-------+------+------+-------------+--------------------+--------------------+\n",
            "|              id|        comment_text|toxic|severe_toxic|obscene|threat|insult|identity_hate|        lowered_text|              tokens|\n",
            "+----------------+--------------------+-----+------------+-------+------+------+-------------+--------------------+--------------------+\n",
            "|000103f0d9cfb60f|D'aww! He matches...|    0|           0|      0|     0|     0|            0|d'aww! he matches...|[d, aww, he, matc...|\n",
            "|000113f07ec002fd|Hey man, I'm real...|    0|           0|      0|     0|     0|            0|hey man, i'm real...|[hey, man, i, m, ...|\n",
            "|0001d958c54c6e35|You, sir, are my ...|    0|           0|      0|     0|     0|            0|you, sir, are my ...|[you, sir, are, m...|\n",
            "|0002bcb3da6cb337|COCKSUCKER BEFORE...|    1|           1|      1|     0|     1|            0|cocksucker before...|[cocksucker, befo...|\n",
            "|00031b1e95af7921|Your vandalism to...|    0|           0|      0|     0|     0|            0|your vandalism to...|[your, vandalism,...|\n",
            "|00037261f536c51d|Sorry if the word...|    0|           0|      0|     0|     0|            0|sorry if the word...|[sorry, if, the, ...|\n",
            "|00040093b2687caa|alignment on this...|    0|           0|      0|     0|     0|            0|alignment on this...|[alignment, on, t...|\n",
            "|00070ef96486d6f9|Oh, and the girl ...|    0|           0|      0|     0|     0|            0|oh, and the girl ...|[oh, and, the, gi...|\n",
            "|000897889268bc93|REDIRECT Talk:Voy...|    0|           0|      0|     0|     0|            0|redirect talk:voy...|[redirect, talk, ...|\n",
            "|0009801bd85e5806|The Mitsurugi poi...|    0|           0|      0|     0|     0|            0|the mitsurugi poi...|[the, mitsurugi, ...|\n",
            "|000f35deef84dc4a|There's no need t...|    0|           0|      0|     0|     0|            0|there's no need t...|[there, s, no, ne...|\n",
            "|000ffab30195c5e1|Yes, because the ...|    0|           0|      0|     0|     0|            0|yes, because the ...|[yes, because, th...|\n",
            "|0011cc71398479c4|How could I post ...|    0|           0|      0|     0|     0|            0|how could i post ...|[how, could, i, p...|\n",
            "|00128363e367d703|Not sure about a ...|    0|           0|      0|     0|     0|            0|not sure about a ...|[not, sure, about...|\n",
            "|0015f4aa35ebe9b5|pretty much every...|    0|           0|      0|     0|     0|            0|pretty much every...|[pretty, much, ev...|\n",
            "|00169857adbc989b|Hi Explicit, can ...|    0|           0|      0|     0|     0|            0|hi explicit, can ...|[hi, explicit, ca...|\n",
            "|00190820581d90ce|FUCK YOUR FILTHY ...|    1|           0|      1|     0|     1|            0|fuck your filthy ...|[fuck, your, filt...|\n",
            "|001c419c445b5a59|You had a point, ...|    0|           0|      0|     0|     0|            0|you had a point, ...|[you, had, a, poi...|\n",
            "|001c557175094f10|In other words, y...|    0|           0|      0|     0|     0|            0|in other words, y...|[in, other, words...|\n",
            "|001dc38a83d420cf|GET FUCKED UP. GE...|    1|           0|      1|     0|     0|            0|get fucked up. ge...|[get, fucked, up,...|\n",
            "|001e89eb3f0b0915|Are you threateni...|    0|           0|      0|     0|     0|            0|are you threateni...|[are, you, threat...|\n",
            "|001ee16c46a99262|Thanks! Undeletio...|    0|           0|      0|     0|     0|            0|thanks! undeletio...|[thanks, undeleti...|\n",
            "|001ffdcc3e7fb49c|Awesome! Then I'l...|    0|           0|      0|     0|     0|            0|awesome! then i'l...|[awesome, then, i...|\n",
            "|0020e7119b96eeeb|Stupid peace of s...|    1|           1|      1|     0|     1|            0|stupid peace of s...|[stupid, peace, o...|\n",
            "|0020fd96ed3b8c8b|=Tony Sidaway is ...|    1|           0|      1|     0|     1|            0|=tony sidaway is ...|[tony, sidaway, i...|\n",
            "|00229d44f41f3acb|Locking this page...|    0|           0|      0|     0|     0|            0|locking this page...|[locking, this, p...|\n",
            "|0022cf8467ebc9fd|A Bisexual, like ...|    0|           0|      0|     0|     0|            0|a bisexual, like ...|[a, bisexual, lik...|\n",
            "|0023daf96917e0d0|REDIRECT Talk:Fra...|    0|           0|      0|     0|     0|            0|redirect talk:fra...|[redirect, talk, ...|\n",
            "|0028d62e8a5629aa|All of my edits a...|    1|           0|      1|     0|     1|            0|all of my edits a...|[all, of, my, edi...|\n",
            "|002918ae66cc4bc2|I went there arou...|    0|           0|      0|     0|     0|            0|i went there arou...|[i, went, there, ...|\n",
            "+----------------+--------------------+-----+------------+-------+------+------+-------------+--------------------+--------------------+\n",
            "only showing top 30 rows\n",
            "\n"
          ],
          "name": "stdout"
        }
      ]
    },
    {
      "cell_type": "code",
      "metadata": {
        "id": "zc2wxHO8mzyX",
        "colab_type": "code",
        "colab": {}
      },
      "source": [
        "df=vectorizer.fit(df).transform(df)"
      ],
      "execution_count": 0,
      "outputs": []
    },
    {
      "cell_type": "code",
      "metadata": {
        "id": "__izg1bukCUx",
        "colab_type": "code",
        "outputId": "03aa6357-b721-4fba-936e-2e71c3124f01",
        "colab": {
          "base_uri": "https://localhost:8080/",
          "height": 613
        }
      },
      "source": [
        "df.show(25)"
      ],
      "execution_count": 26,
      "outputs": [
        {
          "output_type": "stream",
          "text": [
            "+----------------+--------------------+-----+------------+-------+------+------+-------------+--------------------+--------------------+--------------------+\n",
            "|              id|        comment_text|toxic|severe_toxic|obscene|threat|insult|identity_hate|        lowered_text|              tokens|     countvectorized|\n",
            "+----------------+--------------------+-----+------------+-------+------+------+-------------+--------------------+--------------------+--------------------+\n",
            "|000103f0d9cfb60f|D'aww! He matches...|    0|           0|      0|     0|     0|            0|d'aww! he matches...|[d, aww, he, matc...|(44404,[1,11,22,4...|\n",
            "|000113f07ec002fd|Hey man, I'm real...|    0|           0|      0|     0|     0|            0|hey man, i'm real...|[hey, man, i, m, ...|(44404,[0,1,2,5,6...|\n",
            "|0001d958c54c6e35|You, sir, are my ...|    0|           0|      0|     0|     0|            0|you, sir, are my ...|[you, sir, are, m...|(44404,[3,9,15,16...|\n",
            "|0002bcb3da6cb337|COCKSUCKER BEFORE...|    1|           1|      1|     0|     1|            0|cocksucker before...|[cocksucker, befo...|(44404,[3,15,26,1...|\n",
            "|00031b1e95af7921|Your vandalism to...|    0|           0|      0|     0|     0|            0|your vandalism to...|[your, vandalism,...|(44404,[0,2,3,8,1...|\n",
            "|00037261f536c51d|Sorry if the word...|    0|           0|      0|     0|     0|            0|sorry if the word...|[sorry, if, the, ...|(44404,[0,1,2,3,4...|\n",
            "|00040093b2687caa|alignment on this...|    0|           0|      0|     0|     0|            0|alignment on this...|[alignment, on, t...|(44404,[2,5,6,11,...|\n",
            "|00070ef96486d6f9|Oh, and the girl ...|    0|           0|      0|     0|     0|            0|oh, and the girl ...|[oh, and, the, gi...|(44404,[0,1,5,8,1...|\n",
            "|000897889268bc93|REDIRECT Talk:Voy...|    0|           0|      0|     0|     0|            0|redirect talk:voy...|[redirect, talk, ...|(44404,[42,177,15...|\n",
            "|0009801bd85e5806|The Mitsurugi poi...|    0|           0|      0|     0|     0|            0|the mitsurugi poi...|[the, mitsurugi, ...|(44404,[0,2,12,15...|\n",
            "|000f35deef84dc4a|There's no need t...|    0|           0|      0|     0|     0|            0|there's no need t...|[there, s, no, ne...|(44404,[0,1,2,3,4...|\n",
            "|000ffab30195c5e1|Yes, because the ...|    0|           0|      0|     0|     0|            0|yes, because the ...|[yes, because, th...|(44404,[0,1,2,5,6...|\n",
            "|0011cc71398479c4|How could I post ...|    0|           0|      0|     0|     0|            0|how could i post ...|[how, could, i, p...|(44404,[0,1,3,7,6...|\n",
            "|00128363e367d703|Not sure about a ...|    0|           0|      0|     0|     0|            0|not sure about a ...|[not, sure, about...|(44404,[4,6,8,12,...|\n",
            "|0015f4aa35ebe9b5|pretty much every...|    0|           0|      0|     0|     0|            0|pretty much every...|[pretty, much, ev...|(44404,[0,1,4,6,7...|\n",
            "|00169857adbc989b|Hi Explicit, can ...|    0|           0|      0|     0|     0|            0|hi explicit, can ...|[hi, explicit, ca...|(44404,[0,3,13,14...|\n",
            "|00190820581d90ce|FUCK YOUR FILTHY ...|    1|           0|      1|     0|     1|            0|fuck your filthy ...|[fuck, your, filt...|(44404,[0,10,21,4...|\n",
            "|001c419c445b5a59|You had a point, ...|    0|           0|      0|     0|     0|            0|you had a point, ...|[you, had, a, poi...|(44404,[3,4,5,8,1...|\n",
            "|001c557175094f10|In other words, y...|    0|           0|      0|     0|     0|            0|in other words, y...|[in, other, words...|(44404,[0,2,3,9,1...|\n",
            "|001dc38a83d420cf|GET FUCKED UP. GE...|    1|           0|      1|     0|     0|            0|get fucked up. ge...|[get, fucked, up,...|(44404,[1,3,4,9,4...|\n",
            "|001e89eb3f0b0915|Are you threateni...|    0|           0|      0|     0|     0|            0|are you threateni...|[are, you, threat...|(44404,[1,2,3,4,5...|\n",
            "|001ee16c46a99262|Thanks! Undeletio...|    0|           0|      0|     0|     0|            0|thanks! undeletio...|[thanks, undeleti...|(44404,[0,1,2,3,4...|\n",
            "|001ffdcc3e7fb49c|Awesome! Then I'l...|    0|           0|      0|     0|     0|            0|awesome! then i'l...|[awesome, then, i...|(44404,[1,21,85,8...|\n",
            "|0020e7119b96eeeb|Stupid peace of s...|    1|           1|      1|     0|     1|            0|stupid peace of s...|[stupid, peace, o...|(44404,[2,4,5,6,1...|\n",
            "|0020fd96ed3b8c8b|=Tony Sidaway is ...|    1|           0|      1|     0|     1|            0|=tony sidaway is ...|[tony, sidaway, i...|(44404,[4,7,36,52...|\n",
            "+----------------+--------------------+-----+------------+-------+------+------+-------------+--------------------+--------------------+--------------------+\n",
            "only showing top 25 rows\n",
            "\n"
          ],
          "name": "stdout"
        }
      ]
    },
    {
      "cell_type": "code",
      "metadata": {
        "id": "xYpzllglnzG7",
        "colab_type": "code",
        "outputId": "f40c07d1-0f8c-4d02-c47d-eb53333fefdd",
        "colab": {
          "base_uri": "https://localhost:8080/",
          "height": 277
        }
      },
      "source": [
        "df.printSchema()"
      ],
      "execution_count": 27,
      "outputs": [
        {
          "output_type": "stream",
          "text": [
            "root\n",
            " |-- id: string (nullable = true)\n",
            " |-- comment_text: string (nullable = true)\n",
            " |-- toxic: string (nullable = true)\n",
            " |-- severe_toxic: string (nullable = true)\n",
            " |-- obscene: string (nullable = true)\n",
            " |-- threat: string (nullable = true)\n",
            " |-- insult: string (nullable = true)\n",
            " |-- identity_hate: string (nullable = true)\n",
            " |-- lowered_text: string (nullable = true)\n",
            " |-- tokens: array (nullable = true)\n",
            " |    |-- element: string (containsNull = true)\n",
            " |-- countvectorized: vector (nullable = true)\n",
            "\n"
          ],
          "name": "stdout"
        }
      ]
    },
    {
      "cell_type": "code",
      "metadata": {
        "id": "kQi4Aa_upd_h",
        "colab_type": "code",
        "colab": {}
      },
      "source": [
        "from pyspark.sql.types import IntegerType\n",
        "for col in df.columns[2:8]:\n",
        "  df=df.withColumn(col,df[col].cast(IntegerType()))"
      ],
      "execution_count": 0,
      "outputs": []
    },
    {
      "cell_type": "code",
      "metadata": {
        "id": "igc7Z8QwJff3",
        "colab_type": "code",
        "colab": {
          "base_uri": "https://localhost:8080/",
          "height": 277
        },
        "outputId": "c457d7a9-3190-4486-d06b-ac9ced4f7d11"
      },
      "source": [
        "df.printSchema()"
      ],
      "execution_count": 31,
      "outputs": [
        {
          "output_type": "stream",
          "text": [
            "root\n",
            " |-- id: string (nullable = true)\n",
            " |-- comment_text: string (nullable = true)\n",
            " |-- toxic: integer (nullable = true)\n",
            " |-- severe_toxic: integer (nullable = true)\n",
            " |-- obscene: integer (nullable = true)\n",
            " |-- threat: integer (nullable = true)\n",
            " |-- insult: integer (nullable = true)\n",
            " |-- identity_hate: integer (nullable = true)\n",
            " |-- lowered_text: string (nullable = true)\n",
            " |-- tokens: array (nullable = true)\n",
            " |    |-- element: string (containsNull = true)\n",
            " |-- countvectorized: vector (nullable = true)\n",
            "\n"
          ],
          "name": "stdout"
        }
      ]
    },
    {
      "cell_type": "code",
      "metadata": {
        "id": "Gxgl4ZOXptJN",
        "colab_type": "code",
        "outputId": "25cdb0c4-a382-4476-da7b-efdc090a9013",
        "colab": {
          "base_uri": "https://localhost:8080/",
          "height": 520
        }
      },
      "source": [
        "df.show()"
      ],
      "execution_count": 32,
      "outputs": [
        {
          "output_type": "stream",
          "text": [
            "+----------------+--------------------+-----+------------+-------+------+------+-------------+--------------------+--------------------+--------------------+\n",
            "|              id|        comment_text|toxic|severe_toxic|obscene|threat|insult|identity_hate|        lowered_text|              tokens|     countvectorized|\n",
            "+----------------+--------------------+-----+------------+-------+------+------+-------------+--------------------+--------------------+--------------------+\n",
            "|000103f0d9cfb60f|D'aww! He matches...|    0|           0|      0|     0|     0|            0|d'aww! he matches...|[d, aww, he, matc...|(44404,[1,11,22,4...|\n",
            "|000113f07ec002fd|Hey man, I'm real...|    0|           0|      0|     0|     0|            0|hey man, i'm real...|[hey, man, i, m, ...|(44404,[0,1,2,5,6...|\n",
            "|0001d958c54c6e35|You, sir, are my ...|    0|           0|      0|     0|     0|            0|you, sir, are my ...|[you, sir, are, m...|(44404,[3,9,15,16...|\n",
            "|0002bcb3da6cb337|COCKSUCKER BEFORE...|    1|           1|      1|     0|     1|            0|cocksucker before...|[cocksucker, befo...|(44404,[3,15,26,1...|\n",
            "|00031b1e95af7921|Your vandalism to...|    0|           0|      0|     0|     0|            0|your vandalism to...|[your, vandalism,...|(44404,[0,2,3,8,1...|\n",
            "|00037261f536c51d|Sorry if the word...|    0|           0|      0|     0|     0|            0|sorry if the word...|[sorry, if, the, ...|(44404,[0,1,2,3,4...|\n",
            "|00040093b2687caa|alignment on this...|    0|           0|      0|     0|     0|            0|alignment on this...|[alignment, on, t...|(44404,[2,5,6,11,...|\n",
            "|00070ef96486d6f9|Oh, and the girl ...|    0|           0|      0|     0|     0|            0|oh, and the girl ...|[oh, and, the, gi...|(44404,[0,1,5,8,1...|\n",
            "|000897889268bc93|REDIRECT Talk:Voy...|    0|           0|      0|     0|     0|            0|redirect talk:voy...|[redirect, talk, ...|(44404,[42,177,15...|\n",
            "|0009801bd85e5806|The Mitsurugi poi...|    0|           0|      0|     0|     0|            0|the mitsurugi poi...|[the, mitsurugi, ...|(44404,[0,2,12,15...|\n",
            "|000f35deef84dc4a|There's no need t...|    0|           0|      0|     0|     0|            0|there's no need t...|[there, s, no, ne...|(44404,[0,1,2,3,4...|\n",
            "|000ffab30195c5e1|Yes, because the ...|    0|           0|      0|     0|     0|            0|yes, because the ...|[yes, because, th...|(44404,[0,1,2,5,6...|\n",
            "|0011cc71398479c4|How could I post ...|    0|           0|      0|     0|     0|            0|how could i post ...|[how, could, i, p...|(44404,[0,1,3,7,6...|\n",
            "|00128363e367d703|Not sure about a ...|    0|           0|      0|     0|     0|            0|not sure about a ...|[not, sure, about...|(44404,[4,6,8,12,...|\n",
            "|0015f4aa35ebe9b5|pretty much every...|    0|           0|      0|     0|     0|            0|pretty much every...|[pretty, much, ev...|(44404,[0,1,4,6,7...|\n",
            "|00169857adbc989b|Hi Explicit, can ...|    0|           0|      0|     0|     0|            0|hi explicit, can ...|[hi, explicit, ca...|(44404,[0,3,13,14...|\n",
            "|00190820581d90ce|FUCK YOUR FILTHY ...|    1|           0|      1|     0|     1|            0|fuck your filthy ...|[fuck, your, filt...|(44404,[0,10,21,4...|\n",
            "|001c419c445b5a59|You had a point, ...|    0|           0|      0|     0|     0|            0|you had a point, ...|[you, had, a, poi...|(44404,[3,4,5,8,1...|\n",
            "|001c557175094f10|In other words, y...|    0|           0|      0|     0|     0|            0|in other words, y...|[in, other, words...|(44404,[0,2,3,9,1...|\n",
            "|001dc38a83d420cf|GET FUCKED UP. GE...|    1|           0|      1|     0|     0|            0|get fucked up. ge...|[get, fucked, up,...|(44404,[1,3,4,9,4...|\n",
            "+----------------+--------------------+-----+------------+-------+------+------+-------------+--------------------+--------------------+--------------------+\n",
            "only showing top 20 rows\n",
            "\n"
          ],
          "name": "stdout"
        }
      ]
    },
    {
      "cell_type": "code",
      "metadata": {
        "id": "u5oaIe28qQuo",
        "colab_type": "code",
        "colab": {}
      },
      "source": [
        "df=df.filter(~df.id.contains(' '))"
      ],
      "execution_count": 0,
      "outputs": []
    },
    {
      "cell_type": "code",
      "metadata": {
        "id": "--k3iWNXKqCL",
        "colab_type": "code",
        "colab": {
          "base_uri": "https://localhost:8080/",
          "height": 520
        },
        "outputId": "60ed74f5-ddce-47c1-9c10-9c026b51003b"
      },
      "source": [
        "df.show(20)"
      ],
      "execution_count": 34,
      "outputs": [
        {
          "output_type": "stream",
          "text": [
            "+----------------+--------------------+-----+------------+-------+------+------+-------------+--------------------+--------------------+--------------------+\n",
            "|              id|        comment_text|toxic|severe_toxic|obscene|threat|insult|identity_hate|        lowered_text|              tokens|     countvectorized|\n",
            "+----------------+--------------------+-----+------------+-------+------+------+-------------+--------------------+--------------------+--------------------+\n",
            "|000103f0d9cfb60f|D'aww! He matches...|    0|           0|      0|     0|     0|            0|d'aww! he matches...|[d, aww, he, matc...|(44404,[1,11,22,4...|\n",
            "|000113f07ec002fd|Hey man, I'm real...|    0|           0|      0|     0|     0|            0|hey man, i'm real...|[hey, man, i, m, ...|(44404,[0,1,2,5,6...|\n",
            "|0001d958c54c6e35|You, sir, are my ...|    0|           0|      0|     0|     0|            0|you, sir, are my ...|[you, sir, are, m...|(44404,[3,9,15,16...|\n",
            "|0002bcb3da6cb337|COCKSUCKER BEFORE...|    1|           1|      1|     0|     1|            0|cocksucker before...|[cocksucker, befo...|(44404,[3,15,26,1...|\n",
            "|00031b1e95af7921|Your vandalism to...|    0|           0|      0|     0|     0|            0|your vandalism to...|[your, vandalism,...|(44404,[0,2,3,8,1...|\n",
            "|00037261f536c51d|Sorry if the word...|    0|           0|      0|     0|     0|            0|sorry if the word...|[sorry, if, the, ...|(44404,[0,1,2,3,4...|\n",
            "|00040093b2687caa|alignment on this...|    0|           0|      0|     0|     0|            0|alignment on this...|[alignment, on, t...|(44404,[2,5,6,11,...|\n",
            "|00070ef96486d6f9|Oh, and the girl ...|    0|           0|      0|     0|     0|            0|oh, and the girl ...|[oh, and, the, gi...|(44404,[0,1,5,8,1...|\n",
            "|000897889268bc93|REDIRECT Talk:Voy...|    0|           0|      0|     0|     0|            0|redirect talk:voy...|[redirect, talk, ...|(44404,[42,177,15...|\n",
            "|0009801bd85e5806|The Mitsurugi poi...|    0|           0|      0|     0|     0|            0|the mitsurugi poi...|[the, mitsurugi, ...|(44404,[0,2,12,15...|\n",
            "|000f35deef84dc4a|There's no need t...|    0|           0|      0|     0|     0|            0|there's no need t...|[there, s, no, ne...|(44404,[0,1,2,3,4...|\n",
            "|000ffab30195c5e1|Yes, because the ...|    0|           0|      0|     0|     0|            0|yes, because the ...|[yes, because, th...|(44404,[0,1,2,5,6...|\n",
            "|0011cc71398479c4|How could I post ...|    0|           0|      0|     0|     0|            0|how could i post ...|[how, could, i, p...|(44404,[0,1,3,7,6...|\n",
            "|00128363e367d703|Not sure about a ...|    0|           0|      0|     0|     0|            0|not sure about a ...|[not, sure, about...|(44404,[4,6,8,12,...|\n",
            "|0015f4aa35ebe9b5|pretty much every...|    0|           0|      0|     0|     0|            0|pretty much every...|[pretty, much, ev...|(44404,[0,1,4,6,7...|\n",
            "|00169857adbc989b|Hi Explicit, can ...|    0|           0|      0|     0|     0|            0|hi explicit, can ...|[hi, explicit, ca...|(44404,[0,3,13,14...|\n",
            "|00190820581d90ce|FUCK YOUR FILTHY ...|    1|           0|      1|     0|     1|            0|fuck your filthy ...|[fuck, your, filt...|(44404,[0,10,21,4...|\n",
            "|001c419c445b5a59|You had a point, ...|    0|           0|      0|     0|     0|            0|you had a point, ...|[you, had, a, poi...|(44404,[3,4,5,8,1...|\n",
            "|001c557175094f10|In other words, y...|    0|           0|      0|     0|     0|            0|in other words, y...|[in, other, words...|(44404,[0,2,3,9,1...|\n",
            "|001dc38a83d420cf|GET FUCKED UP. GE...|    1|           0|      1|     0|     0|            0|get fucked up. ge...|[get, fucked, up,...|(44404,[1,3,4,9,4...|\n",
            "+----------------+--------------------+-----+------------+-------+------+------+-------------+--------------------+--------------------+--------------------+\n",
            "only showing top 20 rows\n",
            "\n"
          ],
          "name": "stdout"
        }
      ]
    },
    {
      "cell_type": "code",
      "metadata": {
        "id": "v_LzOLufNcUH",
        "colab_type": "code",
        "colab": {
          "base_uri": "https://localhost:8080/",
          "height": 36
        },
        "outputId": "27e10718-1342-4631-fce8-8af2e98f568e"
      },
      "source": [
        "df.columns[2:8]"
      ],
      "execution_count": 35,
      "outputs": [
        {
          "output_type": "execute_result",
          "data": {
            "text/plain": [
              "['toxic', 'severe_toxic', 'obscene', 'threat', 'insult', 'identity_hate']"
            ]
          },
          "metadata": {
            "tags": []
          },
          "execution_count": 35
        }
      ]
    },
    {
      "cell_type": "code",
      "metadata": {
        "id": "rvq_lcehOGOv",
        "colab_type": "code",
        "colab": {}
      },
      "source": [
        "train,test=df.randomSplit([0.8,0.2],22)"
      ],
      "execution_count": 0,
      "outputs": []
    },
    {
      "cell_type": "code",
      "metadata": {
        "id": "P8Hb3-ylKrVc",
        "colab_type": "code",
        "colab": {}
      },
      "source": [
        "from pyspark.ml.classification import LinearSVC\n",
        "from pyspark.ml.tuning import ParamGridBuilder,CrossValidator\n",
        "from pyspark.ml.evaluation import BinaryClassificationEvaluator\n",
        "from pyspark.ml import Pipeline"
      ],
      "execution_count": 0,
      "outputs": []
    },
    {
      "cell_type": "code",
      "metadata": {
        "id": "WFqMo7AvPved",
        "colab_type": "code",
        "colab": {}
      },
      "source": [
        "modelEvaluator=BinaryClassificationEvaluator()\n",
        "toxic_classifier=LinearSVC(featuresCol='countvectorized',labelCol='toxic',predictionCol='is_toxic',rawPredictionCol='raw_is_toxic')\n",
        "severe_toxic_classifier=LinearSVC(featuresCol='countvectorized',labelCol='severe_toxic',predictionCol='is_severe_toxic',rawPredictionCol='raw_is_severe_toxic')\n",
        "obscene_classifier=LinearSVC(featuresCol='countvectorized',labelCol='obscene',predictionCol='is_obscene',rawPredictionCol='raw_is_obscene')\n",
        "threat_classifier=LinearSVC(featuresCol='countvectorized',labelCol='threat',predictionCol='is_threat',rawPredictionCol='raw_is_threat')\n",
        "insult_classifier=LinearSVC(featuresCol='countvectorized',labelCol='insult',predictionCol='is_insult',rawPredictionCol='raw_is_insult')\n",
        "identity_hate_classifier=LinearSVC(featuresCol='countvectorized',labelCol='identity_hate',predictionCol='is_identity_hate',rawPredictionCol='raw_is_identity_hate')"
      ],
      "execution_count": 0,
      "outputs": []
    },
    {
      "cell_type": "code",
      "metadata": {
        "id": "VSQRY6i1Soqw",
        "colab_type": "code",
        "colab": {}
      },
      "source": [
        "pipeline=Pipeline(stages=[toxic_classifier,severe_toxic_classifier,obscene_classifier,threat_classifier,insult_classifier,identity_hate_classifier])"
      ],
      "execution_count": 0,
      "outputs": []
    },
    {
      "cell_type": "code",
      "metadata": {
        "id": "Qb-Hp10SS6qU",
        "colab_type": "code",
        "colab": {
          "base_uri": "https://localhost:8080/",
          "height": 36
        },
        "outputId": "3dd8e63b-965b-4fd2-b702-bf54dc26b91e"
      },
      "source": [
        "pipeline"
      ],
      "execution_count": 63,
      "outputs": [
        {
          "output_type": "execute_result",
          "data": {
            "text/plain": [
              "Pipeline_4e52a1815e5cd1f9c09e"
            ]
          },
          "metadata": {
            "tags": []
          },
          "execution_count": 63
        }
      ]
    },
    {
      "cell_type": "code",
      "metadata": {
        "id": "QU074jkxS7nQ",
        "colab_type": "code",
        "colab": {
          "base_uri": "https://localhost:8080/",
          "height": 36
        },
        "outputId": "63fcca53-3ea2-49ad-be74-363bcf3293da"
      },
      "source": [
        "train.count()"
      ],
      "execution_count": 46,
      "outputs": [
        {
          "output_type": "execute_result",
          "data": {
            "text/plain": [
              "24593"
            ]
          },
          "metadata": {
            "tags": []
          },
          "execution_count": 46
        }
      ]
    },
    {
      "cell_type": "code",
      "metadata": {
        "id": "XFEoquOBS-D1",
        "colab_type": "code",
        "colab": {
          "base_uri": "https://localhost:8080/",
          "height": 36
        },
        "outputId": "ea2a2d88-1fc0-4a2f-c662-aa809780e40c"
      },
      "source": [
        "test.count()"
      ],
      "execution_count": 47,
      "outputs": [
        {
          "output_type": "execute_result",
          "data": {
            "text/plain": [
              "6132"
            ]
          },
          "metadata": {
            "tags": []
          },
          "execution_count": 47
        }
      ]
    },
    {
      "cell_type": "code",
      "metadata": {
        "id": "eeSz-wMtTM5C",
        "colab_type": "code",
        "colab": {}
      },
      "source": [
        "train=train.na.drop()"
      ],
      "execution_count": 0,
      "outputs": []
    },
    {
      "cell_type": "code",
      "metadata": {
        "id": "VgUppVj1Tl-U",
        "colab_type": "code",
        "colab": {
          "base_uri": "https://localhost:8080/",
          "height": 1000
        },
        "outputId": "6813d8c4-1e24-41d4-d0ce-1691ff49bdd3"
      },
      "source": [
        "train.show(50)"
      ],
      "execution_count": 51,
      "outputs": [
        {
          "output_type": "stream",
          "text": [
            "+----------------+--------------------+-----+------------+-------+------+------+-------------+--------------------+--------------------+--------------------+\n",
            "|              id|        comment_text|toxic|severe_toxic|obscene|threat|insult|identity_hate|        lowered_text|              tokens|     countvectorized|\n",
            "+----------------+--------------------+-----+------------+-------+------+------+-------------+--------------------+--------------------+--------------------+\n",
            "|000113f07ec002fd|Hey man, I'm real...|    0|           0|      0|     0|     0|            0|hey man, i'm real...|[hey, man, i, m, ...|(44404,[0,1,2,5,6...|\n",
            "|0001d958c54c6e35|You, sir, are my ...|    0|           0|      0|     0|     0|            0|you, sir, are my ...|[you, sir, are, m...|(44404,[3,9,15,16...|\n",
            "|0002bcb3da6cb337|COCKSUCKER BEFORE...|    1|           1|      1|     0|     1|            0|cocksucker before...|[cocksucker, befo...|(44404,[3,15,26,1...|\n",
            "|00031b1e95af7921|Your vandalism to...|    0|           0|      0|     0|     0|            0|your vandalism to...|[your, vandalism,...|(44404,[0,2,3,8,1...|\n",
            "|00037261f536c51d|Sorry if the word...|    0|           0|      0|     0|     0|            0|sorry if the word...|[sorry, if, the, ...|(44404,[0,1,2,3,4...|\n",
            "|00040093b2687caa|alignment on this...|    0|           0|      0|     0|     0|            0|alignment on this...|[alignment, on, t...|(44404,[2,5,6,11,...|\n",
            "|00070ef96486d6f9|Oh, and the girl ...|    0|           0|      0|     0|     0|            0|oh, and the girl ...|[oh, and, the, gi...|(44404,[0,1,5,8,1...|\n",
            "|000897889268bc93|REDIRECT Talk:Voy...|    0|           0|      0|     0|     0|            0|redirect talk:voy...|[redirect, talk, ...|(44404,[42,177,15...|\n",
            "|000f35deef84dc4a|There's no need t...|    0|           0|      0|     0|     0|            0|there's no need t...|[there, s, no, ne...|(44404,[0,1,2,3,4...|\n",
            "|000ffab30195c5e1|Yes, because the ...|    0|           0|      0|     0|     0|            0|yes, because the ...|[yes, because, th...|(44404,[0,1,2,5,6...|\n",
            "|0011cc71398479c4|How could I post ...|    0|           0|      0|     0|     0|            0|how could i post ...|[how, could, i, p...|(44404,[0,1,3,7,6...|\n",
            "|00128363e367d703|Not sure about a ...|    0|           0|      0|     0|     0|            0|not sure about a ...|[not, sure, about...|(44404,[4,6,8,12,...|\n",
            "|0015f4aa35ebe9b5|pretty much every...|    0|           0|      0|     0|     0|            0|pretty much every...|[pretty, much, ev...|(44404,[0,1,4,6,7...|\n",
            "|00169857adbc989b|Hi Explicit, can ...|    0|           0|      0|     0|     0|            0|hi explicit, can ...|[hi, explicit, ca...|(44404,[0,3,13,14...|\n",
            "|00190820581d90ce|FUCK YOUR FILTHY ...|    1|           0|      1|     0|     1|            0|fuck your filthy ...|[fuck, your, filt...|(44404,[0,10,21,4...|\n",
            "|001c419c445b5a59|You had a point, ...|    0|           0|      0|     0|     0|            0|you had a point, ...|[you, had, a, poi...|(44404,[3,4,5,8,1...|\n",
            "|001c557175094f10|In other words, y...|    0|           0|      0|     0|     0|            0|in other words, y...|[in, other, words...|(44404,[0,2,3,9,1...|\n",
            "|001dc38a83d420cf|GET FUCKED UP. GE...|    1|           0|      1|     0|     0|            0|get fucked up. ge...|[get, fucked, up,...|(44404,[1,3,4,9,4...|\n",
            "|001e89eb3f0b0915|Are you threateni...|    0|           0|      0|     0|     0|            0|are you threateni...|[are, you, threat...|(44404,[1,2,3,4,5...|\n",
            "|001ee16c46a99262|Thanks! Undeletio...|    0|           0|      0|     0|     0|            0|thanks! undeletio...|[thanks, undeleti...|(44404,[0,1,2,3,4...|\n",
            "|0020fd96ed3b8c8b|=Tony Sidaway is ...|    1|           0|      1|     0|     1|            0|=tony sidaway is ...|[tony, sidaway, i...|(44404,[4,7,36,52...|\n",
            "|00229d44f41f3acb|Locking this page...|    0|           0|      0|     0|     0|            0|locking this page...|[locking, this, p...|(44404,[3,8,11,12...|\n",
            "|0022cf8467ebc9fd|A Bisexual, like ...|    0|           0|      0|     0|     0|            0|a bisexual, like ...|[a, bisexual, lik...|(44404,[0,2,4,7,1...|\n",
            "|0023daf96917e0d0|REDIRECT Talk:Fra...|    0|           0|      0|     0|     0|            0|redirect talk:fra...|[redirect, talk, ...|(44404,[42,177,37...|\n",
            "|0028d62e8a5629aa|All of my edits a...|    1|           0|      1|     0|     1|            0|all of my edits a...|[all, of, my, edi...|(44404,[0,2,3,4,5...|\n",
            "|002918ae66cc4bc2|I went there arou...|    0|           0|      0|     0|     0|            0|i went there arou...|[i, went, there, ...|(44404,[0,1,4,5,9...|\n",
            "|0029541a38c523a0|There must be som...|    0|           0|      0|     0|     0|            0|there must be som...|[there, must, be,...|(44404,[0,2,3,10,...|\n",
            "|002b90cc8a94c76b|They are NOT orig...|    0|           0|      0|     0|     0|            0|they are not orig...|[they, are, not, ...|(44404,[0,10,12,1...|\n",
            "|002e2d3db2b597c4|Take your belated...|    0|           0|      0|     0|     0|            0|take your belated...|[take, your, bela...|(44404,[5,13,21,5...|\n",
            "|002f0e29c60807b1|That's what I'm l...|    0|           0|      0|     0|     0|            0|that's what i'm l...|[that, s, what, i...|(44404,[1,2,3,8,9...|\n",
            "|0035d638ba684122|Can you prove it ...|    0|           0|      0|     0|     0|            0|can you prove it ...|[can, you, prove,...|(44404,[0,2,3,4,6...|\n",
            "|0036621e4c7e10b5|Would you both sh...|    1|           0|      0|     0|     1|            0|would you both sh...|[would, you, both...|(44404,[3,4,18,31...|\n",
            "|0036e50f42d0b679|Oh, it's me vanda...|    0|           0|      0|     0|     0|            0|oh, it's me vanda...|[oh, it, s, me, v...|(44404,[8,19,28,5...|\n",
            "|00397b264deba890|How can one defam...|    0|           0|      0|     0|     0|            0|how can one defam...|[how, can, one, d...|(44404,[0,7,19,32...|\n",
            "|003d77a20601cec1|Thanks much - how...|    0|           0|      0|     0|     0|            0|thanks much - how...|[thanks, much, ho...|(44404,[1,7,8,9,1...|\n",
            "|003dbd1b9b354c1f|You can do all yo...|    0|           0|      0|     0|     0|            0|you can do all yo...|[you, can, do, al...|(44404,[1,2,3,4,5...|\n",
            "|003f698d06c9b180|However, the Moon...|    0|           0|      0|     0|     0|            0|however, the moon...|[however, the, mo...|(44404,[0,15,24,2...|\n",
            "|0040017ef6277334|i can't believe n...|    0|           0|      0|     0|     0|            0|i can't believe n...|[i, can, t, belie...|(44404,[1,11,18,1...|\n",
            "|00480b6e1f19601b|I tend to think t...|    0|           0|      0|     0|     0|            0|i tend to think t...|[i, tend, to, thi...|(44404,[0,1,2,3,4...|\n",
            "|004a789c03eda830|Including some ap...|    0|           0|      0|     0|     0|            0|including some ap...|[including, some,...|(44404,[0,6,7,12,...|\n",
            "|004b103182fb1eab|Thanks, Josette. ...|    0|           0|      0|     0|     0|            0|thanks, josette. ...|[thanks, josette,...|(44404,[0,1,2,3,4...|\n",
            "|004b97c80705a548|Also I think Vege...|    0|           0|      0|     0|     0|            0|also i think vege...|[also, i, think, ...|(44404,[1,8,19,29...|\n",
            "|004f981460421bdf|Hi, I am new to w...|    0|           0|      0|     0|     0|            0|hi, i am new to w...|[hi, i, am, new, ...|(44404,[0,1,2,3,5...|\n",
            "|0050cb3bc226f94e|heh, it's a bit o...|    0|           0|      0|     0|     0|            0|heh, it's a bit o...|[heh, it, s, a, b...|(44404,[1,4,5,6,8...|\n",
            "|00537730daf8c5f1|Sorry about that....|    0|           0|      0|     0|     0|            0|sorry about that....|[sorry, about, th...|(44404,[0,1,6,8,9...|\n",
            "|0053bab79133c0fc|Well, it still ne...|    0|           0|      0|     0|     0|            0|well, it still ne...|[well, it, still,...|(44404,[0,1,2,4,5...|\n",
            "|00548d029d7f4783|A redirect somewh...|    0|           0|      0|     0|     0|            0|a redirect somewh...|[a, redirect, som...|(44404,[0,1,2,4,7...|\n",
            "|00582dcd527c8d7d|LMAO, what a n00b...|    0|           0|      0|     0|     0|            0|lmao, what a n00b...|[lmao, what, a, n...|(44404,[2,4,5,35,...|\n",
            "|005eb6d31a8d821e|From what I've se...|    0|           0|      0|     0|     0|            0|from what i've se...|[from, what, i, v...|(44404,[0,1,2,3,5...|\n",
            "|005fb1983ff191e9|The Alpha version...|    0|           0|      0|     0|     0|            0|the alpha version...|[the, alpha, vers...|(44404,[0,12,89,1...|\n",
            "+----------------+--------------------+-----+------------+-------+------+------+-------------+--------------------+--------------------+--------------------+\n",
            "only showing top 50 rows\n",
            "\n"
          ],
          "name": "stdout"
        }
      ]
    },
    {
      "cell_type": "code",
      "metadata": {
        "id": "7bTnVCrzToF4",
        "colab_type": "code",
        "colab": {}
      },
      "source": [
        "train=train.cache()\n",
        "test=test.cache()"
      ],
      "execution_count": 0,
      "outputs": []
    },
    {
      "cell_type": "code",
      "metadata": {
        "id": "JkK7rKclU7Zq",
        "colab_type": "code",
        "colab": {
          "base_uri": "https://localhost:8080/",
          "height": 91
        },
        "outputId": "72ecd47a-aa6d-4055-f6a4-ee3c90b7e01d"
      },
      "source": [
        "print('Training...')\n",
        "pipeline_fitted=pipeline.fit(train)\n",
        "print('Done training.')\n",
        "print('Generating predictions...')\n",
        "prediction=pipeline_fitted.transform(test)\n",
        "print('Predictions made.')"
      ],
      "execution_count": 64,
      "outputs": [
        {
          "output_type": "stream",
          "text": [
            "Training...\n",
            "Done training.\n",
            "Generating predictions...\n",
            "Predictions made.\n"
          ],
          "name": "stdout"
        }
      ]
    },
    {
      "cell_type": "code",
      "metadata": {
        "id": "6LQoceDJVZLe",
        "colab_type": "code",
        "colab": {
          "base_uri": "https://localhost:8080/",
          "height": 705
        },
        "outputId": "a8e1925c-b26a-4bd4-8ad5-7951c25956c6"
      },
      "source": [
        "prediction.show(30)"
      ],
      "execution_count": 66,
      "outputs": [
        {
          "output_type": "stream",
          "text": [
            "+----------------+--------------------+-----+------------+-------+------+------+-------------+--------------------+--------------------+--------------------+--------------------+--------+--------------------+---------------+--------------------+----------+--------------------+---------+--------------------+---------+--------------------+----------------+\n",
            "|              id|        comment_text|toxic|severe_toxic|obscene|threat|insult|identity_hate|        lowered_text|              tokens|     countvectorized|        raw_is_toxic|is_toxic| raw_is_severe_toxic|is_severe_toxic|      raw_is_obscene|is_obscene|       raw_is_threat|is_threat|       raw_is_insult|is_insult|raw_is_identity_hate|is_identity_hate|\n",
            "+----------------+--------------------+-----+------------+-------+------+------+-------------+--------------------+--------------------+--------------------+--------------------+--------+--------------------+---------------+--------------------+----------+--------------------+---------+--------------------+---------+--------------------+----------------+\n",
            "|000103f0d9cfb60f|D'aww! He matches...|    0|           0|      0|     0|     0|            0|d'aww! he matches...|[d, aww, he, matc...|(44404,[1,11,22,4...|[3.69120563414259...|     0.0|[3.30016614241606...|            0.0|[3.09612527304433...|       0.0|[3.96601232656103...|      0.0|[3.27743825229347...|      0.0|[3.66744786572410...|             0.0|\n",
            "|0009801bd85e5806|The Mitsurugi poi...|    0|           0|      0|     0|     0|            0|the mitsurugi poi...|[the, mitsurugi, ...|(44404,[0,2,12,15...|[2.58445073805317...|     0.0|[2.55074707891429...|            0.0|[2.45328048847875...|       0.0|[2.77921323628208...|      0.0|[3.53092105936356...|      0.0|[2.29024995979033...|             0.0|\n",
            "|001ffdcc3e7fb49c|Awesome! Then I'l...|    0|           0|      0|     0|     0|            0|awesome! then i'l...|[awesome, then, i...|(44404,[1,21,85,8...|[2.37501315506545...|     0.0|[2.82176094118600...|            0.0|[1.85600036256587...|       0.0|[2.38203592150777...|      0.0|[5.08458041162543...|      0.0|[2.63278595027322...|             0.0|\n",
            "|0020e7119b96eeeb|Stupid peace of s...|    1|           1|      1|     0|     1|            0|stupid peace of s...|[stupid, peace, o...|(44404,[2,4,5,6,1...|[-11.123031515055...|     1.0|[-0.1274749956517...|            1.0|[-4.7086043390444...|       1.0|[1.85470062687961...|      0.0|[-5.6938012444472...|      1.0|[1.46932129792567...|             0.0|\n",
            "|0030614cfd96d9d1|In the same direc...|    0|           0|      0|     0|     0|            0|in the same direc...|[in, the, same, d...|(44404,[0,1,2,6,7...|[5.91330276392798...|     0.0|[4.88938821413113...|            0.0|[5.95069855392827...|       0.0|[6.71819684518302...|      0.0|[6.77038993382040...|      0.0|[4.69819352360583...|             0.0|\n",
            "|0037fe4f8f5cdcfb|Thanks reading th...|    0|           0|      0|     0|     0|            0|thanks reading th...|[thanks, reading,...|(44404,[38,75,85,...|[2.10230979411197...|     0.0|[1.78554962077693...|            0.0|[1.68991152712672...|       0.0|[1.97474793217898...|      0.0|[1.55803810706171...|      0.0|[1.73663076511788...|             0.0|\n",
            "|00472b8e2d38d1ea|A pair of jew-hat...|    1|           0|      1|     0|     1|            1|a pair of jew-hat...|[a, pair, of, jew...|(44404,[4,6,941,1...|[-3.1248718736425...|     1.0|[0.60306219472617...|            0.0|[0.76210591603366...|       0.0|[2.14163316590708...|      0.0|[1.05769175551528...|      0.0|[-0.0845795748588...|             1.0|\n",
            "|00562e78e0b34102|Yeah, let's merge...|    0|           0|      0|     0|     0|            0|yeah, let's merge...|[yeah, let, s, me...|(44404,[0,6,7,12,...|[3.27923524846678...|     0.0|[3.33394616522320...|            0.0|[3.59562155758603...|       0.0|[3.71948213616520...|      0.0|[3.65527070066897...|      0.0|[3.17278622036451...|             0.0|\n",
            "|00686325bcc16080|You should be fir...|    1|           0|      0|     0|     1|            0|you should be fir...|[you, should, be,...|(44404,[2,3,4,7,8...|[-5.8981049166091...|     1.0|[2.29809180410176...|            0.0|[0.55246617613231...|       0.0|[3.85670491423550...|      0.0|[-0.1320671644763...|      1.0|[4.22318495790206...|             0.0|\n",
            "|006a263a08b593c5|Note that the San...|    0|           0|      0|     0|     0|            0|note that the san...|[note, that, the,...|(44404,[0,2,7,9,8...|[2.11260246041933...|     0.0|[2.22492767947089...|            0.0|[1.63551650492213...|       0.0|[2.30903760921211...|      0.0|[2.92382461191830...|      0.0|[1.84993361805053...|             0.0|\n",
            "|006a4e493b506d1e|Oh, I didn't know...|    0|           0|      0|     0|     0|            0|oh, i didn't know...|[oh, i, didn, t, ...|(44404,[1,18,69,8...|[1.97497447859869...|     0.0|[1.65848932425972...|            0.0|[1.7687673502468,...|       0.0|[2.31022936306112...|      0.0|[1.95942135825279...|      0.0|[1.76498459219245...|             0.0|\n",
            "|006eaaaca322e12d|\"\"\") (ETA: John D...|    0|           0|      0|     0|     0|            0|\"\"\") (eta: john d...|[eta, john, d, ha...|(44404,[42,165,74...|[1.37430418877370...|     0.0|[0.32908302482232...|            0.0|[0.61624878772771...|       0.0|[1.09244556108898...|      0.0|[1.28740791633841...|      0.0|[1.87166824378031...|             0.0|\n",
            "|008198c5a9d85a8e|I did research th...|    0|           0|      0|     0|     0|            0|i did research th...|[i, did, research...|(44404,[0,1,2,3,5...|[7.55744858202541...|     0.0|[5.50356650958247...|            0.0|[6.55580761040803...|       0.0|[5.91974249602185...|      0.0|[6.40523158444669...|      0.0|[5.87898509991233...|             0.0|\n",
            "|0082b5a7b4a67da2|Give me a permana...|    1|           0|      0|     0|     0|            0|give me a permana...|[give, me, a, per...|(44404,[0,1,2,3,4...|[1.02321117370257...|     0.0|[11.4610038444247...|            0.0|[6.97597784561472...|       0.0|[9.22391424331565...|      0.0|[9.2706531886756,...|      0.0|[8.42439268099890...|             0.0|\n",
            "|008faa76dd3eb890|i only deleted pe...|    0|           0|      0|     0|     0|            0|i only deleted pe...|[i, only, deleted...|(44404,[1,76,192,...|[1.66959994952657...|     0.0|[1.37139804947964...|            0.0|[1.07306731751223...|       0.0|[1.73665664017484...|      0.0|[1.03995083235715...|      0.0|[2.15582513999190...|             0.0|\n",
            "|008fdd0ca51cdadc|Please, please, c...|    0|           0|      0|     0|     0|            0|please, please, c...|[please, please, ...|(44404,[3,28,35,5...|[1.83655200656052...|     0.0|[2.62196905732647...|            0.0|[2.27424521305505...|       0.0|[2.80651844825910...|      0.0|[2.03765087876556...|      0.0|[2.11809822690080...|             0.0|\n",
            "|00961bcaadd6a278|Well I will use m...|    0|           0|      0|     0|     0|            0|well i will use m...|[well, i, will, u...|(44404,[1,2,3,4,5...|[2.07963916859710...|     0.0|[6.07169391675237...|            0.0|[2.10866480918732...|       0.0|[6.03576434845253...|      0.0|[1.64586965576416...|      0.0|[7.82063657903122...|             0.0|\n",
            "|009820fe28cd24dc|Its also expressl...|    0|           0|      0|     0|     0|            0|its also expressl...|[its, also, expre...|(44404,[0,2,3,4,5...|[9.11140945021654...|     0.0|[6.72838826014338...|            0.0|[6.84341050868849...|       0.0|[9.24257467060551...|      0.0|[8.10048142488198...|      0.0|[8.75475046822788...|             0.0|\n",
            "|009cb63b1bd5daf9|It is interesting...|    0|           0|      0|     0|     0|            0|it is interesting...|[it, is, interest...|(44404,[0,2,7,8,9...|[3.13132593136400...|     0.0|[2.53588956783140...|            0.0|[2.61478446592029...|       0.0|[2.76757647531651...|      0.0|[2.68451385529700...|      0.0|[2.17883451291181...|             0.0|\n",
            "|009ce66bcd5de288|Thanks for fixing...|    0|           0|      0|     0|     0|            0|thanks for fixing...|[thanks, for, fix...|(44404,[9,13,36,8...|[2.08648480792579...|     0.0|[2.39774383842227...|            0.0|[2.22845101346715...|       0.0|[2.29470029060030...|      0.0|[2.11368562888971...|      0.0|[1.98231620099057...|             0.0|\n",
            "|009df88828f523c4|, and man has als...|    0|           0|      0|     0|     0|            0|, and man has als...|[and, man, has, a...|(44404,[5,17,54,6...|[2.46871658979533...|     0.0|[2.28284192504578...|            0.0|[2.93048728851315...|       0.0|[2.69452044537346...|      0.0|[1.14706894617981...|      0.0|[2.51537858313038...|             0.0|\n",
            "|00a00eb46f78b1d2|some type and are...|    0|           0|      0|     0|     0|            0|some type and are...|[some, type, and,...|(44404,[4,5,15,16...|[0.63420797808316...|     0.0|[1.96851100306592...|            0.0|[1.88099714801139...|       0.0|[2.11012139731313...|      0.0|[2.18904687538405...|      0.0|[1.86690337625479...|             0.0|\n",
            "|00a3073791a5feaa|Pls give a reply,...|    0|           0|      0|     0|     0|            0|pls give a reply,...|[pls, give, a, re...|(44404,[4,30,43,2...|[1.92699549067080...|     0.0|[2.96106831745376...|            0.0|[1.33080752847056...|       0.0|[2.53529497720077...|      0.0|[4.16239086859551...|      0.0|[2.27413375629958...|             0.0|\n",
            "|00a656a81c6f0903|Y r we doing this...|    0|           0|      0|     0|     0|            0|y r we doing this...|[y, r, we, doing,...|(44404,[11,56,269...|[1.72548619400508...|     0.0|[3.09249991966053...|            0.0|[1.61922033825119...|       0.0|[2.11800497224720...|      0.0|[1.15147479689772...|      0.0|[1.17455841538837...|             0.0|\n",
            "|00a98913b0b8ba34|. Until you find ...|    0|           0|      0|     0|     0|            0|. until you find ...|[until, you, find...|(44404,[0,1,2,3,9...|[1.29112856859014...|     0.0|[2.39887076929306...|            0.0|[2.88032877042402...|       0.0|[1.59911591551440...|      0.0|[2.52813964151850...|      0.0|[2.74550708002943...|             0.0|\n",
            "|00bef5aca1e725ca|It's an unsourced...|    0|           0|      0|     0|     0|            0|it's an unsourced...|[it, s, an, unsou...|(44404,[5,8,19,30...|[2.42753234878923...|     0.0|[3.13015646380855...|            0.0|[3.15140648795704...|       0.0|[2.63604444560622...|      0.0|[3.66409315499244...|      0.0|[2.45462344117074...|             0.0|\n",
            "|00c4333dc9f6b997|Thanks, and I apo...|    0|           0|      0|     0|     0|            0|thanks, and i apo...|[thanks, and, i, ...|(44404,[1,2,3,5,9...|[4.93409858860882...|     0.0|[2.72183490580907...|            0.0|[2.67639936864930...|       0.0|[3.68367844601645...|      0.0|[3.05502865838517...|      0.0|[3.09710084352561...|             0.0|\n",
            "|00cbb1984f9059f8|I don't even know...|    0|           0|      0|     0|     0|            0|i don't even know...|[i, don, t, even,...|(44404,[1,2,15,18...|[2.25672162566216...|     0.0|[1.94194055397853...|            0.0|[1.49611782467157...|       0.0|[2.59505586461056...|      0.0|[1.91171996214025...|      0.0|[1.95370381602621...|             0.0|\n",
            "|00d08f350398a2b9|to a convicted felon|    0|           0|      0|     0|     0|            0|to a convicted felon|[to, a, convicted...|(44404,[2,4,4117,...|[1.34433941286247...|     0.0|[1.34872700705099...|            0.0|[1.13870572859003...|       0.0|[1.56669874341663...|      0.0|[1.20052112125460...|      0.0|[1.19646255327444...|             0.0|\n",
            "|00d8def7111797e6|THIS WIIL BE MY L...|    0|           0|      0|     0|     0|            0|this wiil be my l...|[this, wiil, be, ...|(44404,[6,8,11,14...|[1.20487399611470...|     0.0|[2.28191245675223...|            0.0|[0.38329804054522...|       0.0|[2.45109946976115...|      0.0|[-0.1415467701825...|      1.0|[2.17100977788273...|             0.0|\n",
            "+----------------+--------------------+-----+------------+-------+------+------+-------------+--------------------+--------------------+--------------------+--------------------+--------+--------------------+---------------+--------------------+----------+--------------------+---------+--------------------+---------+--------------------+----------------+\n",
            "only showing top 30 rows\n",
            "\n"
          ],
          "name": "stdout"
        }
      ]
    }
  ]
}